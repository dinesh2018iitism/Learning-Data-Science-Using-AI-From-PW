{
  "nbformat": 4,
  "nbformat_minor": 0,
  "metadata": {
    "colab": {
      "provenance": [],
      "authorship_tag": "ABX9TyPuCPi+iq0qaFe+UwvYsSqb",
      "include_colab_link": true
    },
    "kernelspec": {
      "name": "python3",
      "display_name": "Python 3"
    },
    "language_info": {
      "name": "python"
    }
  },
  "cells": [
    {
      "cell_type": "markdown",
      "metadata": {
        "id": "view-in-github",
        "colab_type": "text"
      },
      "source": [
        "<a href=\"https://colab.research.google.com/github/dinesh2018iitism/Learning-Python-From-PW/blob/main/Data_Structure_Assignment.ipynb\" target=\"_parent\"><img src=\"https://colab.research.google.com/assets/colab-badge.svg\" alt=\"Open In Colab\"/></a>"
      ]
    },
    {
      "cell_type": "markdown",
      "source": [
        "1. Discuss string slicing and provide examples"
      ],
      "metadata": {
        "id": "7dWhD_SrU0ik"
      }
    },
    {
      "cell_type": "code",
      "execution_count": null,
      "metadata": {
        "id": "s-YFyvWjUheZ"
      },
      "outputs": [],
      "source": [
        "##By using string slicing we can access substring in string.\n",
        "##Syntax: string [start: end: step]\n",
        "##Start: Starting index of the sub string\n",
        "## End: The ending index of the substring.\n",
        "##Step: Determine Increment between each index. Bydefault step will be one."
      ]
    },
    {
      "cell_type": "code",
      "source": [
        "s1 = \"I am a good Physics Teacher\"\n"
      ],
      "metadata": {
        "id": "5rV1Y6A6ockl"
      },
      "execution_count": 15,
      "outputs": []
    },
    {
      "cell_type": "code",
      "source": [
        "s1 [0:4] ##I will give upto 3. 4 will excluded"
      ],
      "metadata": {
        "colab": {
          "base_uri": "https://localhost:8080/",
          "height": 35
        },
        "id": "sWDmRi31pEJX",
        "outputId": "a1b76bbd-0ad9-4701-db80-a98eca2884c6"
      },
      "execution_count": 16,
      "outputs": [
        {
          "output_type": "execute_result",
          "data": {
            "text/plain": [
              "'I am'"
            ],
            "application/vnd.google.colaboratory.intrinsic+json": {
              "type": "string"
            }
          },
          "metadata": {},
          "execution_count": 16
        }
      ]
    },
    {
      "cell_type": "code",
      "source": [
        "s1 [0:-3] ## It will give upto -4. -3 will be excluded."
      ],
      "metadata": {
        "colab": {
          "base_uri": "https://localhost:8080/",
          "height": 35
        },
        "id": "9uqD5dRTpYZ-",
        "outputId": "630af46b-73ea-4e75-d59b-4992d32d6515"
      },
      "execution_count": 17,
      "outputs": [
        {
          "output_type": "execute_result",
          "data": {
            "text/plain": [
              "'I am a good Physics Teac'"
            ],
            "application/vnd.google.colaboratory.intrinsic+json": {
              "type": "string"
            }
          },
          "metadata": {},
          "execution_count": 17
        }
      ]
    },
    {
      "cell_type": "code",
      "source": [
        "s1 [0:10:2] #Index zero to 9th and step 2"
      ],
      "metadata": {
        "colab": {
          "base_uri": "https://localhost:8080/",
          "height": 35
        },
        "id": "CWtBWyKrpfmk",
        "outputId": "dc86d8e4-e2fb-40f8-a079-11b0eba63430"
      },
      "execution_count": 19,
      "outputs": [
        {
          "output_type": "execute_result",
          "data": {
            "text/plain": [
              "'Ia  o'"
            ],
            "application/vnd.google.colaboratory.intrinsic+json": {
              "type": "string"
            }
          },
          "metadata": {},
          "execution_count": 19
        }
      ]
    },
    {
      "cell_type": "code",
      "source": [
        "s1 [::2] ##Whole string but step will be 2"
      ],
      "metadata": {
        "colab": {
          "base_uri": "https://localhost:8080/",
          "height": 35
        },
        "id": "gd9P1GQNpoYv",
        "outputId": "19504c46-2c80-48bf-ecfb-69446ea610cf"
      },
      "execution_count": 21,
      "outputs": [
        {
          "output_type": "execute_result",
          "data": {
            "text/plain": [
              "'Ia  odPyisTahr'"
            ],
            "application/vnd.google.colaboratory.intrinsic+json": {
              "type": "string"
            }
          },
          "metadata": {},
          "execution_count": 21
        }
      ]
    },
    {
      "cell_type": "markdown",
      "source": [
        "###########################################################################"
      ],
      "metadata": {
        "id": "hHSxk-y1qL1o"
      }
    },
    {
      "cell_type": "markdown",
      "source": [
        "2. Explain the key features of lists in Python."
      ],
      "metadata": {
        "id": "czYzzxpOVFqK"
      }
    },
    {
      "cell_type": "code",
      "source": [
        "##List is ordered collection of element. It will always maintain the order\n",
        "##List is Mutable. Element can be changed after the list is created.\n",
        "## It has dynamic size.\n",
        "##List can contains element of different data type. like int, float, string.\n",
        "## Element can be accessed inn list by indexing.\n",
        "## There are many inbuilt function to manipulate the element is list. like list.remove, list.pop, list.insert etc.\n",
        "##List can be easily iterated by using loops.\n",
        "##List can contains list ie nested list."
      ],
      "metadata": {
        "id": "6SynCZEbVQdS"
      },
      "execution_count": null,
      "outputs": []
    },
    {
      "cell_type": "markdown",
      "source": [
        "##############################################################"
      ],
      "metadata": {
        "id": "VWL8nS0mqUQD"
      }
    },
    {
      "cell_type": "markdown",
      "source": [
        "3. Describe how to access, modify, and delete elements in a list with example"
      ],
      "metadata": {
        "id": "uWjKuSc1Vbeg"
      }
    },
    {
      "cell_type": "code",
      "source": [
        "##List can any data type. It is a ordered collection of items,\n",
        "##If I am going to define a list after that I will explain one by one\n",
        "\n",
        "\n",
        "grocery_list = [\"Apple\", \"Banana\", \"Orange\", \"Potato\", \"Tomato\", \"Bringal\", \"Milk\"]"
      ],
      "metadata": {
        "id": "iMho7TbtViZg"
      },
      "execution_count": 2,
      "outputs": []
    },
    {
      "cell_type": "code",
      "source": [
        "type (grocery_list)  ##Checking type"
      ],
      "metadata": {
        "colab": {
          "base_uri": "https://localhost:8080/"
        },
        "id": "CoCucajVjLn_",
        "outputId": "ff83cb1c-d461-4bc7-8289-f0e1f5ce2958"
      },
      "execution_count": 3,
      "outputs": [
        {
          "output_type": "execute_result",
          "data": {
            "text/plain": [
              "list"
            ]
          },
          "metadata": {},
          "execution_count": 3
        }
      ]
    },
    {
      "cell_type": "code",
      "source": [
        "grocery_list [0]  ##To access element in list"
      ],
      "metadata": {
        "colab": {
          "base_uri": "https://localhost:8080/",
          "height": 35
        },
        "id": "bftfz2XbjXi-",
        "outputId": "4a80bbbd-3386-4ccf-d6f2-5e70ad461415"
      },
      "execution_count": 6,
      "outputs": [
        {
          "output_type": "execute_result",
          "data": {
            "text/plain": [
              "'Apple'"
            ],
            "application/vnd.google.colaboratory.intrinsic+json": {
              "type": "string"
            }
          },
          "metadata": {},
          "execution_count": 6
        }
      ]
    },
    {
      "cell_type": "code",
      "source": [
        "grocery_list.append(\"Butter\") ##To add element in list"
      ],
      "metadata": {
        "id": "vWIuqC-gjqF-"
      },
      "execution_count": 7,
      "outputs": []
    },
    {
      "cell_type": "code",
      "source": [
        "grocery_list"
      ],
      "metadata": {
        "colab": {
          "base_uri": "https://localhost:8080/"
        },
        "id": "SIhSle5zkUfU",
        "outputId": "ae58ac98-dcad-4601-fe2e-2113cb7cd52a"
      },
      "execution_count": 8,
      "outputs": [
        {
          "output_type": "execute_result",
          "data": {
            "text/plain": [
              "['Apple', 'Banana', 'Orange', 'Potato', 'Tomato', 'Bringal', 'Milk', 'Butter']"
            ]
          },
          "metadata": {},
          "execution_count": 8
        }
      ]
    },
    {
      "cell_type": "code",
      "source": [
        "grocery_list.insert (1, \"Mango\") ##To insert element in particular location"
      ],
      "metadata": {
        "id": "WJbcmUk7kcDz"
      },
      "execution_count": 9,
      "outputs": []
    },
    {
      "cell_type": "code",
      "source": [
        "grocery_list"
      ],
      "metadata": {
        "colab": {
          "base_uri": "https://localhost:8080/"
        },
        "id": "kVCdQ7UekvG4",
        "outputId": "9a999ac2-a8ab-4733-f9b1-d06e7801ed9a"
      },
      "execution_count": 10,
      "outputs": [
        {
          "output_type": "execute_result",
          "data": {
            "text/plain": [
              "['Apple',\n",
              " 'Mango',\n",
              " 'Banana',\n",
              " 'Orange',\n",
              " 'Potato',\n",
              " 'Tomato',\n",
              " 'Bringal',\n",
              " 'Milk',\n",
              " 'Butter']"
            ]
          },
          "metadata": {},
          "execution_count": 10
        }
      ]
    },
    {
      "cell_type": "code",
      "source": [
        "grocery_list.remove (\"Tomato\") ##To remove element from list"
      ],
      "metadata": {
        "id": "fFRkXZZckugy"
      },
      "execution_count": 11,
      "outputs": []
    },
    {
      "cell_type": "code",
      "source": [
        "grocery_list"
      ],
      "metadata": {
        "colab": {
          "base_uri": "https://localhost:8080/"
        },
        "id": "HRk8bd9klKkw",
        "outputId": "591cc2a9-6d15-4a6e-b662-9612641e517a"
      },
      "execution_count": 12,
      "outputs": [
        {
          "output_type": "execute_result",
          "data": {
            "text/plain": [
              "['Apple', 'Mango', 'Banana', 'Orange', 'Potato', 'Bringal', 'Milk', 'Butter']"
            ]
          },
          "metadata": {},
          "execution_count": 12
        }
      ]
    },
    {
      "cell_type": "code",
      "source": [
        "grocery_list.pop () ##To remove the last element by default"
      ],
      "metadata": {
        "colab": {
          "base_uri": "https://localhost:8080/",
          "height": 35
        },
        "id": "2oyaMDTllM0t",
        "outputId": "25cecfe3-e272-407a-c79a-6656a179f815"
      },
      "execution_count": 13,
      "outputs": [
        {
          "output_type": "execute_result",
          "data": {
            "text/plain": [
              "'Butter'"
            ],
            "application/vnd.google.colaboratory.intrinsic+json": {
              "type": "string"
            }
          },
          "metadata": {},
          "execution_count": 13
        }
      ]
    },
    {
      "cell_type": "code",
      "source": [
        "grocery_list"
      ],
      "metadata": {
        "colab": {
          "base_uri": "https://localhost:8080/"
        },
        "id": "u6V2DPupla0n",
        "outputId": "7733725b-20c4-43e8-fd20-10784dedab3f"
      },
      "execution_count": 14,
      "outputs": [
        {
          "output_type": "execute_result",
          "data": {
            "text/plain": [
              "['Apple', 'Mango', 'Banana', 'Orange', 'Potato', 'Bringal', 'Milk']"
            ]
          },
          "metadata": {},
          "execution_count": 14
        }
      ]
    },
    {
      "cell_type": "markdown",
      "source": [
        "#######################################################################"
      ],
      "metadata": {
        "id": "F4Jt_uVlqQl3"
      }
    },
    {
      "cell_type": "markdown",
      "source": [
        "4. Commpare and contrast tuples and lists with examples"
      ],
      "metadata": {
        "id": "TsPTW6y0VlW1"
      }
    },
    {
      "cell_type": "code",
      "source": [
        "## Tuples are immutable. Once they created we can't change later.\n",
        "## But List are mutable here we can update element after creation.\n",
        "\n",
        "my_tuple = (1,2,3,4)\n",
        "#my_tuple [0] = 5 ## This will throw and error. so here wa can not update element.\n",
        "my_list= [1,2,3,4]\n",
        "my_list [0]=5 ## Here we can update the first index element by 5\n",
        "my_list\n"
      ],
      "metadata": {
        "id": "0SHu0JecVrs6",
        "colab": {
          "base_uri": "https://localhost:8080/"
        },
        "outputId": "9e747ce7-6ff2-41bb-e6bc-ed6208b6f323"
      },
      "execution_count": null,
      "outputs": [
        {
          "output_type": "execute_result",
          "data": {
            "text/plain": [
              "[5, 2, 3, 4]"
            ]
          },
          "metadata": {},
          "execution_count": 32
        }
      ]
    },
    {
      "cell_type": "code",
      "source": [
        "## Tuple are defined using paranthesis () BUT list defined by using square bracket []."
      ],
      "metadata": {
        "id": "oX9qTxx06Mhb"
      },
      "execution_count": null,
      "outputs": []
    },
    {
      "cell_type": "code",
      "source": [
        "\n",
        "\n",
        "## Performance wise tuples are faster than list."
      ],
      "metadata": {
        "id": "SGXylSQCz-dq"
      },
      "execution_count": null,
      "outputs": []
    },
    {
      "cell_type": "markdown",
      "source": [
        "##########################################################################"
      ],
      "metadata": {
        "id": "C2smwt870BsM"
      }
    },
    {
      "cell_type": "markdown",
      "source": [
        "5. Describe the key features of sets and provide examples of their use."
      ],
      "metadata": {
        "id": "6Raeq3u9VtSX"
      }
    },
    {
      "cell_type": "code",
      "source": [
        "##Here I will describe point by point\n",
        "##1. Uniqueness of elements\n",
        "s1 = { 1,2,3,4,4, 6, \"Diensh\", \"Halder\", \"Trichy\", \"Trichy\"} ##here having some duplicate data but in the output all will be unique.\n",
        "s1"
      ],
      "metadata": {
        "id": "IJUdfXE7V0by",
        "colab": {
          "base_uri": "https://localhost:8080/"
        },
        "outputId": "3b1d848e-c30f-42d7-ef15-e61aae64471d"
      },
      "execution_count": null,
      "outputs": [
        {
          "output_type": "execute_result",
          "data": {
            "text/plain": [
              "{1, 2, 3, 4, 6, 'Diensh', 'Halder', 'Trichy'}"
            ]
          },
          "metadata": {},
          "execution_count": 25
        }
      ]
    },
    {
      "cell_type": "code",
      "source": [
        "##2. Unordered Collection: Elements in set are not stored in any particular order.\n",
        "##Set does not support indexing or slicing.\n",
        "\n",
        "s2 = {1,8,3,4}\n",
        "s2"
      ],
      "metadata": {
        "colab": {
          "base_uri": "https://localhost:8080/"
        },
        "id": "p2f5b7u501vV",
        "outputId": "7a575822-6ca1-4049-861d-724084b62ae9"
      },
      "execution_count": null,
      "outputs": [
        {
          "output_type": "execute_result",
          "data": {
            "text/plain": [
              "{1, 3, 4, 8}"
            ]
          },
          "metadata": {},
          "execution_count": 26
        }
      ]
    },
    {
      "cell_type": "code",
      "source": [
        "##3. Sets are mutable. Here we can add and delete element after creating set.\n",
        "s2. add (6) ## 6 will be added in S2\n",
        "s2"
      ],
      "metadata": {
        "colab": {
          "base_uri": "https://localhost:8080/"
        },
        "id": "GWFEo3891eQN",
        "outputId": "478df6d9-c6f2-49fb-f52b-474dcd6a1951"
      },
      "execution_count": null,
      "outputs": [
        {
          "output_type": "execute_result",
          "data": {
            "text/plain": [
              "{1, 3, 4, 6, 8}"
            ]
          },
          "metadata": {},
          "execution_count": 27
        }
      ]
    },
    {
      "cell_type": "code",
      "source": [
        "## 4. In set we can perform operation like Union, Intersection etc.\n",
        "s3 = {1, 2, 3, 4, 6, 'Diensh', 'Halder', 'Trichy'}\n",
        "s4 = {1, 2, 7, 5, 6, 'Bengali', 'Tamil, ' 'Halder', 'Trichy'}\n",
        "Union= s3 | s4\n",
        "Intersection= s3 & s4"
      ],
      "metadata": {
        "id": "sglvqbuN18eB"
      },
      "execution_count": null,
      "outputs": []
    },
    {
      "cell_type": "code",
      "source": [
        "Union"
      ],
      "metadata": {
        "colab": {
          "base_uri": "https://localhost:8080/"
        },
        "id": "AgbkPRnA263K",
        "outputId": "65b3c19e-19b6-49f6-ae0b-950af2e3db47"
      },
      "execution_count": null,
      "outputs": [
        {
          "output_type": "execute_result",
          "data": {
            "text/plain": [
              "{1, 2, 3, 4, 5, 6, 7, 'Bengali', 'Diensh', 'Halder', 'Tamil, Halder', 'Trichy'}"
            ]
          },
          "metadata": {},
          "execution_count": 30
        }
      ]
    },
    {
      "cell_type": "code",
      "source": [
        "Intersection"
      ],
      "metadata": {
        "colab": {
          "base_uri": "https://localhost:8080/"
        },
        "id": "fAtcsqMZ3AAK",
        "outputId": "3a68629c-da40-404b-97a1-53f0d028595d"
      },
      "execution_count": null,
      "outputs": [
        {
          "output_type": "execute_result",
          "data": {
            "text/plain": [
              "{1, 2, 6, 'Trichy'}"
            ]
          },
          "metadata": {},
          "execution_count": 31
        }
      ]
    },
    {
      "cell_type": "code",
      "source": [],
      "metadata": {
        "id": "mA8Rdw442_qK"
      },
      "execution_count": null,
      "outputs": []
    },
    {
      "cell_type": "markdown",
      "source": [
        "###########################################################################"
      ],
      "metadata": {
        "id": "396_bh3swYnh"
      }
    },
    {
      "cell_type": "markdown",
      "source": [
        "6. Discuss the use cases of tuples and sets in Python programmimg."
      ],
      "metadata": {
        "id": "mUXXWSQXV2UX"
      }
    },
    {
      "cell_type": "code",
      "source": [
        "##Use cases of tuples:\n",
        "#Tuples are ordered collection of heterogenious elements.\n",
        "##Tuples are immutable.\n",
        "##Tuples are faster than list.\n",
        "##Tuples can be used as key in dictionary.\n",
        "##Basically we used tuple where we do not want to change or modify the data.\n",
        "##Like Name, AGE, DOB in Adhaar Card.\n",
        "\n",
        "tuple = ( \"dinesh\", \"Physics\", \"mathematics\")\n",
        "## tuple [0] = \"Halder\" ## This will throw an error."
      ],
      "metadata": {
        "id": "rauTIhGiV-Rp"
      },
      "execution_count": null,
      "outputs": []
    },
    {
      "cell_type": "code",
      "source": [
        "##Use cases of sets\n",
        "##Set is actually unordered collection of unique elements.\n",
        "##Use use sets uniqueness and membership testing because it does not duplicate element.\n",
        "##Set provide convenient and efficient way to collection of data where uniqueness are essential.\n",
        "set = { 1,2,3,4,4, 6, \"Diensh\", \"Halder\", \"Trichy\", \"Trichy\"} ##Some elements are repeated\n",
        "##In the output there will no duplicate data."
      ],
      "metadata": {
        "colab": {
          "base_uri": "https://localhost:8080/"
        },
        "id": "rZw90U-Lyao9",
        "outputId": "3808fb74-35c0-451c-dfe8-15df6e535a36"
      },
      "execution_count": null,
      "outputs": [
        {
          "output_type": "execute_result",
          "data": {
            "text/plain": [
              "{1, 2, 3, 4, 6, 'Diensh', 'Halder', 'Trichy'}"
            ]
          },
          "metadata": {},
          "execution_count": 23
        }
      ]
    },
    {
      "cell_type": "markdown",
      "source": [
        "#############################################################################"
      ],
      "metadata": {
        "id": "AlVOwi3LwRAT"
      }
    },
    {
      "cell_type": "markdown",
      "source": [
        "7. Describe how to add, modify, and delete items in a dictionary with examples."
      ],
      "metadata": {
        "id": "gD-PUJeWWCae"
      }
    },
    {
      "cell_type": "code",
      "source": [
        "## Here we will see one by one with examples"
      ],
      "metadata": {
        "id": "AS6NGMwbWFaF"
      },
      "execution_count": null,
      "outputs": []
    },
    {
      "cell_type": "code",
      "source": [
        "d = { \"name\": \"Dinesh\", \"age\": 29, \"gender\": \"Male\", \"city\": \"Trichy\", \"state\": \"TamilNadu\"}"
      ],
      "metadata": {
        "id": "eNyFsyX4tOAu"
      },
      "execution_count": null,
      "outputs": []
    },
    {
      "cell_type": "code",
      "source": [
        "type (d) # for checking type"
      ],
      "metadata": {
        "colab": {
          "base_uri": "https://localhost:8080/"
        },
        "id": "PkzsWPHsu3ak",
        "outputId": "bbe44bd4-739a-44a9-d8cc-36edfe2d660e"
      },
      "execution_count": null,
      "outputs": [
        {
          "output_type": "execute_result",
          "data": {
            "text/plain": [
              "dict"
            ]
          },
          "metadata": {},
          "execution_count": 12
        }
      ]
    },
    {
      "cell_type": "code",
      "source": [
        "d [\"city\"]=\"Salem\" #It will update the city"
      ],
      "metadata": {
        "id": "NmQCQopnu7FF"
      },
      "execution_count": null,
      "outputs": []
    },
    {
      "cell_type": "code",
      "source": [
        "d"
      ],
      "metadata": {
        "colab": {
          "base_uri": "https://localhost:8080/"
        },
        "id": "KHgs4mOgu9QB",
        "outputId": "695b976c-23b8-4f1f-f4dc-3399bb81f4e0"
      },
      "execution_count": null,
      "outputs": [
        {
          "output_type": "execute_result",
          "data": {
            "text/plain": [
              "{'name': 'Dinesh',\n",
              " 'age': 29,\n",
              " 'gender': 'Male',\n",
              " 'city': 'Salem',\n",
              " 'state': 'TamilNadu'}"
            ]
          },
          "metadata": {},
          "execution_count": 14
        }
      ]
    },
    {
      "cell_type": "code",
      "source": [
        "len (d) #for cheking length"
      ],
      "metadata": {
        "colab": {
          "base_uri": "https://localhost:8080/"
        },
        "id": "L5TizX-su_Wy",
        "outputId": "2cc08073-5d42-4775-9f7a-06592951e37d"
      },
      "execution_count": null,
      "outputs": [
        {
          "output_type": "execute_result",
          "data": {
            "text/plain": [
              "5"
            ]
          },
          "metadata": {},
          "execution_count": 15
        }
      ]
    },
    {
      "cell_type": "code",
      "source": [
        "d1 = {\"course\": \"ds\"}\n",
        "d.update (d1) ##for updating the dictionary"
      ],
      "metadata": {
        "id": "FJYCRnY_vGYf"
      },
      "execution_count": null,
      "outputs": []
    },
    {
      "cell_type": "code",
      "source": [
        "d"
      ],
      "metadata": {
        "colab": {
          "base_uri": "https://localhost:8080/"
        },
        "id": "0wSStsg1vbxm",
        "outputId": "243a69d7-d5b2-42a3-d60e-a402c61213ac"
      },
      "execution_count": null,
      "outputs": [
        {
          "output_type": "execute_result",
          "data": {
            "text/plain": [
              "{'name': 'Dinesh',\n",
              " 'age': 29,\n",
              " 'gender': 'Male',\n",
              " 'city': 'Salem',\n",
              " 'state': 'TamilNadu',\n",
              " 'course': 'ds'}"
            ]
          },
          "metadata": {},
          "execution_count": 17
        }
      ]
    },
    {
      "cell_type": "code",
      "source": [
        "del d [\"age\"] ##for deleting the age\n",
        "d"
      ],
      "metadata": {
        "colab": {
          "base_uri": "https://localhost:8080/"
        },
        "id": "k2SK-99sv7j7",
        "outputId": "34864f69-780a-4d1e-b149-5d745dda7837"
      },
      "execution_count": null,
      "outputs": [
        {
          "output_type": "execute_result",
          "data": {
            "text/plain": [
              "{'name': 'Dinesh',\n",
              " 'gender': 'Male',\n",
              " 'city': 'Salem',\n",
              " 'state': 'TamilNadu',\n",
              " 'course': 'ds'}"
            ]
          },
          "metadata": {},
          "execution_count": 18
        }
      ]
    },
    {
      "cell_type": "markdown",
      "source": [
        "#############################################################################"
      ],
      "metadata": {
        "id": "q_SlyecxwLeh"
      }
    },
    {
      "cell_type": "markdown",
      "source": [
        "8. Discuss the importance of dictionary keys being immutable and provide examples."
      ],
      "metadata": {
        "id": "9p9J0yIqWKm5"
      }
    },
    {
      "cell_type": "code",
      "source": [
        "##Dictionary is data type or data strcuture that store data in key value pair.\n",
        "##Dictionary keys must be immutable. we can not change or update the dictionary key. The immutability is crucial for several reason like Hashbility, performance and data integrity.\n",
        "##Integer, float and boolean value can be used as key.\n",
        "##Here I am going to give some example:"
      ],
      "metadata": {
        "id": "338Xtfs1WM5c"
      },
      "execution_count": null,
      "outputs": []
    },
    {
      "cell_type": "code",
      "source": [
        "d1={1:\"Dinesh\", 2: \"Halder\"} ##Integer float and boolean value can be used as key\n",
        "d1"
      ],
      "metadata": {
        "colab": {
          "base_uri": "https://localhost:8080/"
        },
        "id": "8eB03HAbpprN",
        "outputId": "6f39e661-b28d-4524-93a6-c36cb883eb2d"
      },
      "execution_count": null,
      "outputs": [
        {
          "output_type": "execute_result",
          "data": {
            "text/plain": [
              "{1: 'Dinesh', 2: 'Halder'}"
            ]
          },
          "metadata": {},
          "execution_count": 1
        }
      ]
    },
    {
      "cell_type": "code",
      "source": [
        "type (d1)"
      ],
      "metadata": {
        "colab": {
          "base_uri": "https://localhost:8080/"
        },
        "id": "segw01E2qD-N",
        "outputId": "3acaf4b8-7140-41f4-a80a-3320559ab41c"
      },
      "execution_count": null,
      "outputs": [
        {
          "output_type": "execute_result",
          "data": {
            "text/plain": [
              "dict"
            ]
          },
          "metadata": {},
          "execution_count": 2
        }
      ]
    },
    {
      "cell_type": "code",
      "source": [
        "## @, #, and list can not be used as key is dictionary.\n",
        "\n",
        "##d2 = {@:\"Dinesh\" }\n",
        "## d3 = {#: \"Halder\"}\n",
        "## d4 = { [1,2,3]: \"Dinesh\"}\n",
        "##This all above will throw error."
      ],
      "metadata": {
        "id": "kliemXsCqHHz"
      },
      "execution_count": null,
      "outputs": []
    },
    {
      "cell_type": "code",
      "source": [
        "## But tuple can be used as key in dictionary\n",
        "dist = { (1,2,3): \"Physics\"}"
      ],
      "metadata": {
        "id": "XxUpO9cprmw1"
      },
      "execution_count": null,
      "outputs": []
    },
    {
      "cell_type": "code",
      "source": [
        "type (dist)"
      ],
      "metadata": {
        "colab": {
          "base_uri": "https://localhost:8080/"
        },
        "id": "dMXlT5Nfs1ZS",
        "outputId": "ed163d22-3a26-46ad-f450-e675456edc65"
      },
      "execution_count": null,
      "outputs": [
        {
          "output_type": "execute_result",
          "data": {
            "text/plain": [
              "dict"
            ]
          },
          "metadata": {},
          "execution_count": 6
        }
      ]
    },
    {
      "cell_type": "code",
      "source": [],
      "metadata": {
        "id": "paR1yltHs3V8"
      },
      "execution_count": null,
      "outputs": []
    }
  ]
}
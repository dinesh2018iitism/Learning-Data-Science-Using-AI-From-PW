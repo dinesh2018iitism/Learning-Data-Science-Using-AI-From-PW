{
  "nbformat": 4,
  "nbformat_minor": 0,
  "metadata": {
    "colab": {
      "provenance": [],
      "authorship_tag": "ABX9TyPJa94ZajsSM9GDCOIwIvw8",
      "include_colab_link": true
    },
    "kernelspec": {
      "name": "python3",
      "display_name": "Python 3"
    },
    "language_info": {
      "name": "python"
    }
  },
  "cells": [
    {
      "cell_type": "markdown",
      "metadata": {
        "id": "view-in-github",
        "colab_type": "text"
      },
      "source": [
        "<a href=\"https://colab.research.google.com/github/dinesh2018iitism/Learning-Python-From-PW/blob/main/Data_Structure_in_Python.ipynb\" target=\"_parent\"><img src=\"https://colab.research.google.com/assets/colab-badge.svg\" alt=\"Open In Colab\"/></a>"
      ]
    },
    {
      "cell_type": "markdown",
      "source": [
        "1. Write a code to reverse a string."
      ],
      "metadata": {
        "id": "XWwHVumztGRJ"
      }
    },
    {
      "cell_type": "code",
      "execution_count": null,
      "metadata": {
        "id": "hPcJF5oxtCOZ",
        "colab": {
          "base_uri": "https://localhost:8080/"
        },
        "outputId": "b1a43415-9ed9-4229-fdbc-69070c6bac8a"
      },
      "outputs": [
        {
          "output_type": "stream",
          "name": "stdout",
          "text": [
            "ecneicSataD\n"
          ]
        }
      ],
      "source": [
        "String1= \"DataScience\"\n",
        "reverse_string= String1[::-1]\n",
        "print (reverse_string)"
      ]
    },
    {
      "cell_type": "markdown",
      "source": [
        "2. Write a code to count the number of vowels in a string"
      ],
      "metadata": {
        "id": "4DHZNLgatPPX"
      }
    },
    {
      "cell_type": "code",
      "source": [
        "name =\"DINESHalder\"\n",
        "for i in name:\n",
        "  if i in \"aeiouAEIOU\":\n",
        "     print (i)\n"
      ],
      "metadata": {
        "id": "aKF9mGx7tVAP",
        "colab": {
          "base_uri": "https://localhost:8080/"
        },
        "outputId": "b4b12e1a-aa85-4b4a-f381-67ee3ee0ce50"
      },
      "execution_count": null,
      "outputs": [
        {
          "output_type": "stream",
          "name": "stdout",
          "text": [
            "I\n",
            "E\n",
            "a\n",
            "e\n"
          ]
        }
      ]
    },
    {
      "cell_type": "markdown",
      "source": [
        "3.\tWrite a code to check if a given string is a palindrome or not."
      ],
      "metadata": {
        "id": "J7bwruxEtWJy"
      }
    },
    {
      "cell_type": "code",
      "source": [
        "string2 = \"malayalam\"\n",
        "reverse_string2= string2 [::-1]\n",
        "if string2 == reverse_string2:\n",
        "  print (\"String is Palindrome\")\n",
        "else:\n",
        "    print (\"String is not Palindrome\")"
      ],
      "metadata": {
        "colab": {
          "base_uri": "https://localhost:8080/"
        },
        "id": "GFxCu_WihKGp",
        "outputId": "179127e1-7111-48d9-d6b2-c667aa2cda93"
      },
      "execution_count": null,
      "outputs": [
        {
          "output_type": "stream",
          "name": "stdout",
          "text": [
            "String is Palindrome\n"
          ]
        }
      ]
    },
    {
      "cell_type": "code",
      "source": [
        "string2 = \"dinesh\"\n",
        "reverse_string2= string2 [::-1]\n",
        "if string2 == reverse_string2:\n",
        "  print (\"String is Palindrome\")\n",
        "else:\n",
        "    print (\"String is not Palindrome\")"
      ],
      "metadata": {
        "colab": {
          "base_uri": "https://localhost:8080/"
        },
        "id": "iau6u_6QjW--",
        "outputId": "5cf95888-ab7a-476c-c5c8-b29846a5768f"
      },
      "execution_count": null,
      "outputs": [
        {
          "output_type": "stream",
          "name": "stdout",
          "text": [
            "String is not Palindrome\n"
          ]
        }
      ]
    },
    {
      "cell_type": "markdown",
      "source": [
        "4.\tWrite a code to check if two given strings are anagrams of each other."
      ],
      "metadata": {
        "id": "cPErzjmAEAtU"
      }
    },
    {
      "cell_type": "code",
      "source": [
        "String3= \"listen\"\n",
        "String4= \"silent\"\n",
        "if sorted(String3)==sorted(String4):\n",
        "  print (\"Both Strings are Anagrams\")\n",
        "else:\n",
        "  print(\"Strings are not anagrams\")"
      ],
      "metadata": {
        "id": "xe1nMCKOEBlJ",
        "colab": {
          "base_uri": "https://localhost:8080/"
        },
        "outputId": "55cd1be3-86b6-416c-de17-4474ff72ac83"
      },
      "execution_count": null,
      "outputs": [
        {
          "output_type": "stream",
          "name": "stdout",
          "text": [
            "Both Strings are Anagrams\n"
          ]
        }
      ]
    },
    {
      "cell_type": "code",
      "source": [
        "String3= \"DINESH\"\n",
        "String4= \"NESDHI\"\n",
        "if sorted(String3)==sorted(String4):\n",
        "  print (\"Both Strings are Anagrams\")\n",
        "else:\n",
        "  print(\"Strings are not anagrams\")"
      ],
      "metadata": {
        "colab": {
          "base_uri": "https://localhost:8080/"
        },
        "id": "dbd-cVC119My",
        "outputId": "aecf77a7-0624-4dbe-986a-2aaa5493750f"
      },
      "execution_count": null,
      "outputs": [
        {
          "output_type": "stream",
          "name": "stdout",
          "text": [
            "Both Strings are Anagrams\n"
          ]
        }
      ]
    },
    {
      "cell_type": "markdown",
      "source": [
        "5. Write a code to find all occurrences of a given substring within another string."
      ],
      "metadata": {
        "id": "-RuIzYvqEHxk"
      }
    },
    {
      "cell_type": "code",
      "source": [
        "string5 = \"I am learning Data Science from PWSkills\"\n",
        "sub_string= ['l','s', 'c']\n",
        "for i in sub_string:\n",
        "  if i in string5:\n",
        "    print (\"I Found\",i)\n",
        "  else:\n",
        "    print (\"NOT FOUND\")\n"
      ],
      "metadata": {
        "id": "Do6AwCd5nHBJ",
        "colab": {
          "base_uri": "https://localhost:8080/"
        },
        "outputId": "36c7b232-ae33-4974-c58c-4cb9cca025de"
      },
      "execution_count": null,
      "outputs": [
        {
          "output_type": "stream",
          "name": "stdout",
          "text": [
            "I Found l\n",
            "I Found s\n",
            "I Found c\n"
          ]
        }
      ]
    },
    {
      "cell_type": "code",
      "source": [
        "string5 = \"I am learning Data Science from PWSkills\"\n",
        "sub_string= ['z','x', 'o']\n",
        "for i in sub_string:\n",
        "  if i in string5:\n",
        "    print (\"I Found\",i)\n",
        "  else:\n",
        "    print (\"NOT FOUND\",i)"
      ],
      "metadata": {
        "colab": {
          "base_uri": "https://localhost:8080/"
        },
        "id": "ap9lHUNe5Xyo",
        "outputId": "380cbb4b-6419-41a0-f06b-ece59dfce813"
      },
      "execution_count": null,
      "outputs": [
        {
          "output_type": "stream",
          "name": "stdout",
          "text": [
            "NOT FOUND z\n",
            "NOT FOUND x\n",
            "I Found o\n"
          ]
        }
      ]
    },
    {
      "cell_type": "markdown",
      "source": [
        "6.\tWrite a code to perform basic string compression using the counts of repeated characters."
      ],
      "metadata": {
        "id": "aV4uV3LtEQfX"
      }
    },
    {
      "cell_type": "code",
      "source": [
        "s = \"aabcccccaaa\"\n",
        "compressed_string = \"\"\n",
        "count = 1\n",
        "for i in range(1, len(s)):\n",
        "    if s[i] == s[i - 1]:\n",
        "        count+=1\n",
        "    else:\n",
        "        compressed_string += s[i - 1] + str(count)\n",
        "        count = 1\n",
        "compressed_string += s[-1] + str(count)\n",
        "print(f\"Original string: {s}\")\n",
        "print(f\"Compressed string: {compressed_string}\")\n",
        "if len(compressed_string) >= len(s):\n",
        "    compressed_string = s\n",
        "print(f\"Final string: {compressed_string}\")"
      ],
      "metadata": {
        "colab": {
          "base_uri": "https://localhost:8080/"
        },
        "id": "dK_51KJg9wAX",
        "outputId": "1018f4cd-441a-4a8d-de36-011907266c03"
      },
      "execution_count": null,
      "outputs": [
        {
          "output_type": "stream",
          "name": "stdout",
          "text": [
            "Original string: aabcccccaaa\n",
            "Compressed string: a2b1c5a3\n",
            "Final string: a2b1c5a3\n"
          ]
        }
      ]
    },
    {
      "cell_type": "markdown",
      "source": [
        "7.\tWrite a code to determine if a string has all unique characters."
      ],
      "metadata": {
        "id": "i6aAUhpfEW_p"
      }
    },
    {
      "cell_type": "code",
      "source": [
        "string7 = \"dinesh\"\n",
        "string8= set() ##Empty set\n",
        "x = True\n",
        "for i in string7:\n",
        "    if i in string8:\n",
        "        x= False\n",
        "        break\n",
        "    string8.add(i)\n",
        "print(x)"
      ],
      "metadata": {
        "colab": {
          "base_uri": "https://localhost:8080/"
        },
        "id": "NfbnO9XpAlcj",
        "outputId": "44fafd8b-39de-4828-8090-15c5b4e46716"
      },
      "execution_count": null,
      "outputs": [
        {
          "output_type": "stream",
          "name": "stdout",
          "text": [
            "True\n"
          ]
        }
      ]
    },
    {
      "cell_type": "markdown",
      "source": [
        "8.\tWrite a code to convert a given string to uppercase or lowercase."
      ],
      "metadata": {
        "id": "Xt2zyMAhEg6X"
      }
    },
    {
      "cell_type": "code",
      "source": [
        "string9 = \"DINESH\"\n",
        "string9.lower()"
      ],
      "metadata": {
        "id": "5BtTL0KXEkJF",
        "colab": {
          "base_uri": "https://localhost:8080/",
          "height": 35
        },
        "outputId": "caa0452c-7896-4df0-bdbe-e622d3f85971"
      },
      "execution_count": null,
      "outputs": [
        {
          "output_type": "execute_result",
          "data": {
            "text/plain": [
              "'dinesh'"
            ],
            "application/vnd.google.colaboratory.intrinsic+json": {
              "type": "string"
            }
          },
          "metadata": {},
          "execution_count": 39
        }
      ]
    },
    {
      "cell_type": "code",
      "source": [
        "string9 = \"halder\"\n",
        "string9.upper()"
      ],
      "metadata": {
        "colab": {
          "base_uri": "https://localhost:8080/",
          "height": 35
        },
        "id": "ulIGvMuCFVBI",
        "outputId": "319731ee-fa8f-48a3-85c1-eea17cea2c19"
      },
      "execution_count": null,
      "outputs": [
        {
          "output_type": "execute_result",
          "data": {
            "text/plain": [
              "'HALDER'"
            ],
            "application/vnd.google.colaboratory.intrinsic+json": {
              "type": "string"
            }
          },
          "metadata": {},
          "execution_count": 40
        }
      ]
    },
    {
      "cell_type": "markdown",
      "source": [
        "9.\tWrite a code to count the number of words in a string."
      ],
      "metadata": {
        "id": "dzfREM6lElwp"
      }
    },
    {
      "cell_type": "code",
      "source": [
        "string10 = \"I am learning Data Science from PWSkills\"\n",
        "word= string10.split ()\n",
        "len (word)"
      ],
      "metadata": {
        "id": "REq_2Fx9EoUM",
        "colab": {
          "base_uri": "https://localhost:8080/"
        },
        "outputId": "33df9a4c-803b-485e-89a1-98d5d31f402b"
      },
      "execution_count": null,
      "outputs": [
        {
          "output_type": "execute_result",
          "data": {
            "text/plain": [
              "7"
            ]
          },
          "metadata": {},
          "execution_count": 41
        }
      ]
    },
    {
      "cell_type": "markdown",
      "source": [
        "\n",
        "10.\tWrite a code to concatenate two strings without using the + operator.\n"
      ],
      "metadata": {
        "id": "ilevX87qEpHR"
      }
    },
    {
      "cell_type": "code",
      "source": [
        "a = \"DINESH\"\n",
        "b = \"HALDER\"\n",
        "c= a+b\n",
        "c"
      ],
      "metadata": {
        "id": "jxiuAOjuEtSu",
        "colab": {
          "base_uri": "https://localhost:8080/",
          "height": 35
        },
        "outputId": "70647cce-e759-4e6f-d711-82516e00bc55"
      },
      "execution_count": null,
      "outputs": [
        {
          "output_type": "execute_result",
          "data": {
            "text/plain": [
              "'DINESHHALDER'"
            ],
            "application/vnd.google.colaboratory.intrinsic+json": {
              "type": "string"
            }
          },
          "metadata": {},
          "execution_count": 43
        }
      ]
    },
    {
      "cell_type": "markdown",
      "source": [
        "11.\tWrite a code to remove all occurrences of a specific element from a list."
      ],
      "metadata": {
        "id": "nnVFKykpEubR"
      }
    },
    {
      "cell_type": "code",
      "source": [
        "list1 = [\"apple\", \"banana\", \"grapes\", \"apple\",\"orange\", \"apple\"]\n",
        "\n",
        "repeated= \"apple\" # we want to remove apple\n",
        "\n",
        "list2 = [x for x in list1 if x != repeated]"
      ],
      "metadata": {
        "id": "vFLXscpRExiW"
      },
      "execution_count": null,
      "outputs": []
    },
    {
      "cell_type": "code",
      "source": [
        "list2"
      ],
      "metadata": {
        "colab": {
          "base_uri": "https://localhost:8080/"
        },
        "id": "2OUK8a7cOz9v",
        "outputId": "2c7c7551-e453-447d-d6b4-57537826b28c"
      },
      "execution_count": null,
      "outputs": [
        {
          "output_type": "execute_result",
          "data": {
            "text/plain": [
              "['banana', 'grapes', 'orange']"
            ]
          },
          "metadata": {},
          "execution_count": 46
        }
      ]
    },
    {
      "cell_type": "markdown",
      "source": [
        "12.\tImplement a code to find the second largest number in a given list of integers."
      ],
      "metadata": {
        "id": "6MQsyDbLEyO2"
      }
    },
    {
      "cell_type": "code",
      "source": [
        "list3 = [10, 20, 20, 4, 45, 45, 50, 100, 23]\n",
        "list4 = list(set(list3))\n",
        "list4.sort()\n",
        "print(\"Second largest element is:\", list4[-2])\n"
      ],
      "metadata": {
        "id": "-0nvcU-NE2RD",
        "colab": {
          "base_uri": "https://localhost:8080/"
        },
        "outputId": "9fa8f0ba-7991-4ced-e043-41c856676f45"
      },
      "execution_count": null,
      "outputs": [
        {
          "output_type": "stream",
          "name": "stdout",
          "text": [
            "Second largest element is: 50\n"
          ]
        }
      ]
    },
    {
      "cell_type": "markdown",
      "source": [
        "13.\tCreate a code to count the occurrences of each element in a list and return a dictionary with elements as keys and their counts as values."
      ],
      "metadata": {
        "id": "ioFbtBCyE3lf"
      }
    },
    {
      "cell_type": "code",
      "source": [
        "list5 = ['apple', 'banana', 'apple', 'orange', 'banana', 'apple']\n",
        "count_dict = {}\n",
        "for element in list5:\n",
        "    if element in count_dict:\n",
        "        count_dict[element] += 1\n",
        "    else:\n",
        "        count_dict[element] = 1\n",
        "\n",
        "print(count_dict)"
      ],
      "metadata": {
        "id": "afcDeWNJE6KJ",
        "colab": {
          "base_uri": "https://localhost:8080/"
        },
        "outputId": "4edbb241-a703-44dd-9659-b6ba2817aa08"
      },
      "execution_count": null,
      "outputs": [
        {
          "output_type": "stream",
          "name": "stdout",
          "text": [
            "{'apple': 3, 'banana': 2, 'orange': 1}\n"
          ]
        }
      ]
    },
    {
      "cell_type": "markdown",
      "source": [
        "14.\tWrite a code to reverse a list in-place without using any built-in reverse functions.\n"
      ],
      "metadata": {
        "id": "jUoIf_86E73D"
      }
    },
    {
      "cell_type": "code",
      "source": [
        "my_list = [1, 2, 3, 4, 5]\n",
        "left = 0\n",
        "right = len(my_list) - 1\n",
        "while left < right:\n",
        "    my_list[left], my_list[right] = my_list[right], my_list[left]\n",
        "    left += 1\n",
        "    right -= 1\n",
        "print(my_list)"
      ],
      "metadata": {
        "id": "ivV7d-h-FAfU",
        "colab": {
          "base_uri": "https://localhost:8080/"
        },
        "outputId": "112b6982-12b7-44de-ada4-e73e506f7c73"
      },
      "execution_count": null,
      "outputs": [
        {
          "output_type": "stream",
          "name": "stdout",
          "text": [
            "[5, 4, 3, 2, 1]\n"
          ]
        }
      ]
    },
    {
      "cell_type": "markdown",
      "source": [
        "15.\tImplement a code to find and remove duplicates from a list while preserving the original order of elements."
      ],
      "metadata": {
        "id": "Kpvhp9wgFBpx"
      }
    },
    {
      "cell_type": "code",
      "source": [
        "list7 = [1, 2, 3, 2, 4, 1, 5, 3]\n",
        "set1= set()\n",
        "list8= []\n",
        "for element in list7:\n",
        "    if element not in set1:\n",
        "        set1.add(element)\n",
        "        list8.append(element)\n",
        "print(list8)"
      ],
      "metadata": {
        "id": "6Zk60DK4FE8e",
        "colab": {
          "base_uri": "https://localhost:8080/"
        },
        "outputId": "944f2611-3ea2-41e5-cede-5e9cf0d8f9e0"
      },
      "execution_count": null,
      "outputs": [
        {
          "output_type": "stream",
          "name": "stdout",
          "text": [
            "[1, 2, 3, 4, 5]\n"
          ]
        }
      ]
    },
    {
      "cell_type": "markdown",
      "source": [
        "16.\tCreate a code to check if a given list is sorted (either in ascending or descending order) or not."
      ],
      "metadata": {
        "id": "dnNw_J1kFGjh"
      }
    },
    {
      "cell_type": "code",
      "source": [
        "my_list = [1, 2, 3, 4, 5]\n",
        "if my_list == sorted(my_list):\n",
        "    print(\"The list is sorted in ascending order.\")\n",
        "elif my_list == sorted(my_list, reverse=True):\n",
        "    print(\"The list is sorted in descending order.\")\n",
        "else:\n",
        "    print(\"The list is not sorted.\")"
      ],
      "metadata": {
        "id": "i0TrbeE_FJob",
        "colab": {
          "base_uri": "https://localhost:8080/"
        },
        "outputId": "68712a23-d7d5-4300-d304-261f3eab423e"
      },
      "execution_count": null,
      "outputs": [
        {
          "output_type": "stream",
          "name": "stdout",
          "text": [
            "The list is sorted in ascending order.\n"
          ]
        }
      ]
    },
    {
      "cell_type": "markdown",
      "source": [
        "17.\tWrite a code to merge two sorted lists into a single sorted list."
      ],
      "metadata": {
        "id": "6BUAaEx_FKfP"
      }
    },
    {
      "cell_type": "code",
      "source": [
        "list1 = [1, 3, 5, 7]\n",
        "list2 = [2, 4, 6, 8]\n",
        "merged_list = []\n",
        "i, j = 0, 0\n",
        "while i < len(list1) and j < len(list2):\n",
        "    if list1[i] < list2[j]:\n",
        "        merged_list.append(list1[i])\n",
        "        i += 1\n",
        "    else:\n",
        "        merged_list.append(list2[j])\n",
        "        j += 1\n",
        "while i < len(list1):\n",
        "    merged_list.append(list1[i])\n",
        "    i += 1\n",
        "while j < len(list2):\n",
        "    merged_list.append(list2[j])\n",
        "    j += 1\n",
        "print(merged_list)"
      ],
      "metadata": {
        "id": "YzL2ntGXFNfB",
        "colab": {
          "base_uri": "https://localhost:8080/"
        },
        "outputId": "878763d5-24d2-4668-c596-4cad2383ddea"
      },
      "execution_count": null,
      "outputs": [
        {
          "output_type": "stream",
          "name": "stdout",
          "text": [
            "[1, 2, 3, 4, 5, 6, 7, 8]\n"
          ]
        }
      ]
    },
    {
      "cell_type": "markdown",
      "source": [
        "18.\tImplement a code to find the intersection of two given lists."
      ],
      "metadata": {
        "id": "_-P4ENkXFQDs"
      }
    },
    {
      "cell_type": "code",
      "source": [
        "list1 = [1, 2, 3, 4, 5]\n",
        "list2 = [4, 5, 6, 7, 8]\n",
        "set1 = set(list1)\n",
        "set2 = set(list2)\n",
        "intersection = set1 & set2\n",
        "intersection_list = list(intersection)\n",
        "print(intersection_list)\n"
      ],
      "metadata": {
        "id": "M4yuUbvJFSi6",
        "colab": {
          "base_uri": "https://localhost:8080/"
        },
        "outputId": "fe6a6898-64ad-4d61-af6f-7d1860c712eb"
      },
      "execution_count": null,
      "outputs": [
        {
          "output_type": "stream",
          "name": "stdout",
          "text": [
            "[4, 5]\n"
          ]
        }
      ]
    },
    {
      "cell_type": "markdown",
      "source": [
        "19.\tCreate a code to find the union of two lists without duplicates."
      ],
      "metadata": {
        "id": "i6uNAam_FWoH"
      }
    },
    {
      "cell_type": "code",
      "source": [
        "list1 = [1, 2, 3, 4, 5]\n",
        "list2 = [4, 5, 6, 7, 8]\n",
        "union_set = set(list1) | set(list2)\n",
        "union_list = list(union_set)\n",
        "print(union_list)\n"
      ],
      "metadata": {
        "id": "PGjvuWpdFXD0",
        "colab": {
          "base_uri": "https://localhost:8080/"
        },
        "outputId": "301c02b9-986f-4fdf-b62b-efcb069cd142"
      },
      "execution_count": null,
      "outputs": [
        {
          "output_type": "stream",
          "name": "stdout",
          "text": [
            "[1, 2, 3, 4, 5, 6, 7, 8]\n"
          ]
        }
      ]
    },
    {
      "cell_type": "markdown",
      "source": [
        "20.\tWrite a code to shuffle a given list randomly without using any built—in shuffle functions."
      ],
      "metadata": {
        "id": "Ej6V3zcGFZmZ"
      }
    },
    {
      "cell_type": "code",
      "source": [
        "import random\n",
        "my_list = [1, 2, 3, 4, 5]\n",
        "for i in range(len(my_list) - 1, 0, -1):\n",
        "    j = random.randint(0, i)\n",
        "    my_list[i], my_list[j] = my_list[j], my_list[i]\n",
        "print(my_list)"
      ],
      "metadata": {
        "id": "CQ9EycMcFcjT"
      },
      "execution_count": null,
      "outputs": []
    },
    {
      "cell_type": "markdown",
      "source": [
        "21.\tWrite a code that takes two tuples as input and returns a new tuple containing elements that are common to both input tuples."
      ],
      "metadata": {
        "id": "I2_na5zaFdU9"
      }
    },
    {
      "cell_type": "code",
      "source": [
        "tuple1 = (1, 2, 3, 4, 5)\n",
        "tuple2 = (4, 5, 6, 7, 8)\n",
        "set1 = set(tuple1)\n",
        "set2 = set(tuple2)\n",
        "common_elements = set1 & set2\n",
        "common_tuple = tuple(common_elements)\n",
        "print(common_tuple)"
      ],
      "metadata": {
        "id": "GTbhle18FhEn",
        "colab": {
          "base_uri": "https://localhost:8080/"
        },
        "outputId": "89bb5f88-806d-418c-ac50-ed4c07e81fb1"
      },
      "execution_count": null,
      "outputs": [
        {
          "output_type": "stream",
          "name": "stdout",
          "text": [
            "(4, 5)\n"
          ]
        }
      ]
    },
    {
      "cell_type": "markdown",
      "source": [
        "22.\tCreate a code that prompts the user to enter two sets of integers separated by commas.Then print the intersection of these two sets."
      ],
      "metadata": {
        "id": "-5JFc7t2Fh34"
      }
    },
    {
      "cell_type": "code",
      "source": [
        "input1 = input(\"Enter the first set of integers separated by commas: \")\n",
        "input2 = input(\"Enter the second set of integers separated by commas: \")\n",
        "set1 = set(map(int, input1.split(',')))\n",
        "set2 = set(map(int, input2.split(',')))\n",
        "intersection = set1 & set2\n",
        "print(\"The intersection of the two sets is:\", intersection)"
      ],
      "metadata": {
        "id": "A3i8TqxoFk5K",
        "colab": {
          "base_uri": "https://localhost:8080/"
        },
        "outputId": "5a03eae7-6f54-4c87-d182-48b7e6782d03"
      },
      "execution_count": null,
      "outputs": [
        {
          "output_type": "stream",
          "name": "stdout",
          "text": [
            "Enter the first set of integers separated by commas: 4,6,7\n",
            "Enter the second set of integers separated by commas: 4,3\n",
            "The intersection of the two sets is: {4}\n"
          ]
        }
      ]
    },
    {
      "cell_type": "markdown",
      "source": [
        "23.\tWrite a code to concatenate two tuples. The function should take two tuples as input and return a new tuple containing elements from both input tuples."
      ],
      "metadata": {
        "id": "CixiCIpqFmr8"
      }
    },
    {
      "cell_type": "code",
      "source": [
        "tuple1 = (1, 2, 3)\n",
        "tuple2 = (4, 5, 6)\n",
        "concatenated_tuple = tuple1 + tuple2\n",
        "print(concatenated_tuple)\n"
      ],
      "metadata": {
        "id": "qudcrKCZFpIi",
        "colab": {
          "base_uri": "https://localhost:8080/"
        },
        "outputId": "4d362f6c-57d9-41c7-82a9-2eaaef9baf16"
      },
      "execution_count": null,
      "outputs": [
        {
          "output_type": "stream",
          "name": "stdout",
          "text": [
            "(1, 2, 3, 4, 5, 6)\n"
          ]
        }
      ]
    },
    {
      "cell_type": "markdown",
      "source": [
        "24.\tDevelop a code that prompts the user to input two sets of strings. Then, print the elements that are present in the first set but not in the second set."
      ],
      "metadata": {
        "id": "ELVacIN3FqGL"
      }
    },
    {
      "cell_type": "code",
      "source": [
        "input1 = input(\"Enter the first set of strings separated by commas: \")\n",
        "input2 = input(\"Enter the second set of strings separated by commas: \")\n",
        "set1 = set(input1.split(','))\n",
        "set2 = set(input2.split(','))\n",
        "difference = set1 - set2\n",
        "print(\"Elements present in the first set but not in the second set:\", difference)"
      ],
      "metadata": {
        "id": "OtbQ4YFKFudd",
        "colab": {
          "base_uri": "https://localhost:8080/"
        },
        "outputId": "8da3dfbb-56ad-49e1-983e-40ede58081b1"
      },
      "execution_count": null,
      "outputs": [
        {
          "output_type": "stream",
          "name": "stdout",
          "text": [
            "Enter the first set of strings separated by commas: 3,6,7\n",
            "Enter the second set of strings separated by commas: 6,8,9\n",
            "Elements present in the first set but not in the second set: {'7', '3'}\n"
          ]
        }
      ]
    },
    {
      "cell_type": "markdown",
      "source": [
        "25.\tCreate a code that takes a tuple and two integers as input. The function should return a new tuple containing elements from the original tuple within the specified range of indices.\n"
      ],
      "metadata": {
        "id": "s6FkbN4bFww7"
      }
    },
    {
      "cell_type": "code",
      "source": [
        "list15 = [1, 2, 5, 6]\n",
        "func= [(x, pow(x, 3)) for x in list15]\n",
        "print(func)"
      ],
      "metadata": {
        "id": "H6HMpDORF3DM",
        "colab": {
          "base_uri": "https://localhost:8080/"
        },
        "outputId": "307c027e-1014-4aa0-d9d0-d776ae6295cb"
      },
      "execution_count": 1,
      "outputs": [
        {
          "output_type": "stream",
          "name": "stdout",
          "text": [
            "[(1, 1), (2, 8), (5, 125), (6, 216)]\n"
          ]
        }
      ]
    },
    {
      "cell_type": "markdown",
      "source": [
        "26.\tWrite a code that prompts the user to input two sets of characters. Then, print the union of these two sets."
      ],
      "metadata": {
        "id": "TKZeroLGF4BH"
      }
    },
    {
      "cell_type": "code",
      "source": [
        "input1 = input(\"Enter the first set of characters (without spaces): \")\n",
        "set1 = set(input1)\n",
        "input2 = input(\"Enter the second set of characters (without spaces): \")\n",
        "set2 = set(input2)\n",
        "union_set = set1.union(set2)\n",
        "print(\"The union of the two sets is:\", union_set)"
      ],
      "metadata": {
        "id": "iPI7rzljF7F7",
        "colab": {
          "base_uri": "https://localhost:8080/"
        },
        "outputId": "eadee5a9-a5cb-4620-d56a-417136caef00"
      },
      "execution_count": 2,
      "outputs": [
        {
          "output_type": "stream",
          "name": "stdout",
          "text": [
            "Enter the first set of characters (without spaces): 1,4.5\n",
            "Enter the second set of characters (without spaces): 4,6,7\n",
            "The union of the two sets is: {'4', '1', '7', '6', ',', '.', '5'}\n"
          ]
        }
      ]
    },
    {
      "cell_type": "markdown",
      "source": [
        "27.\tDevelop a code thot takes a tuple of integers as input. The function should return the maximum and minimum values from the tuple using tuple unpacking."
      ],
      "metadata": {
        "id": "4SLY3gj_F8h8"
      }
    },
    {
      "cell_type": "code",
      "source": [
        "input_tuple = (4, 1, 9, 6, 3, 7)\n",
        "max_value, min_value = max(input_tuple), min(input_tuple)\n",
        "print(\"Maximum value:\", max_value)\n",
        "print(\"Minimum value:\", min_value)"
      ],
      "metadata": {
        "id": "d6WWrMx2F_QW",
        "colab": {
          "base_uri": "https://localhost:8080/"
        },
        "outputId": "76e0d9d8-0dc7-4d44-ab75-5ba21f4cb0d7"
      },
      "execution_count": 3,
      "outputs": [
        {
          "output_type": "stream",
          "name": "stdout",
          "text": [
            "Maximum value: 9\n",
            "Minimum value: 1\n"
          ]
        }
      ]
    },
    {
      "cell_type": "markdown",
      "source": [
        "28.\tCreate a code that defines two sets of integers. Then, print the union, intersection, and difference of these\n",
        "two sets.\n"
      ],
      "metadata": {
        "id": "9t5gt-ubF_6p"
      }
    },
    {
      "cell_type": "code",
      "source": [
        "set1 = {1, 2, 3, 4, 5}\n",
        "set2 = {4, 5, 6, 7, 8}\n",
        "union_set = set1.union(set2)\n",
        "intersection_set = set1.intersection(set2)\n",
        "difference_set = set1.difference(set2)\n",
        "print(\"Union of set1 and set2:\", union_set)\n",
        "print(\"Intersection of set1 and set2:\", intersection_set)\n",
        "print(\"Difference of set1 and set2:\", difference_set)"
      ],
      "metadata": {
        "id": "RgtcRI9eGCMt",
        "colab": {
          "base_uri": "https://localhost:8080/"
        },
        "outputId": "84fc6cf3-8297-4021-b4de-f10b14837e3f"
      },
      "execution_count": 5,
      "outputs": [
        {
          "output_type": "stream",
          "name": "stdout",
          "text": [
            "Union of set1 and set2: {1, 2, 3, 4, 5, 6, 7, 8}\n",
            "Intersection of set1 and set2: {4, 5}\n",
            "Difference of set1 and set2: {1, 2, 3}\n"
          ]
        }
      ]
    },
    {
      "cell_type": "markdown",
      "source": [
        "29.\tWrite a code that takes a tuple and on element as input. The function should return the count of occurrences of the given element in the tuple."
      ],
      "metadata": {
        "id": "gVjl3TIyGC8V"
      }
    },
    {
      "cell_type": "code",
      "source": [
        "input_tuple = (1, 2, 3, 4, 2, 2, 5, 2)\n",
        "element = 2\n",
        "if not isinstance(input_tuple, tuple):\n",
        "    raise TypeError(\"input_tuple must be a tuple\")\n",
        "count = input_tuple.count(element)\n",
        "print(f\"The element {element} occurs {count} times in the tuple.\")"
      ],
      "metadata": {
        "id": "hDqUsHIcGFk8",
        "colab": {
          "base_uri": "https://localhost:8080/"
        },
        "outputId": "4f930eb2-9c81-44b3-f5cf-653a2a14664a"
      },
      "execution_count": 6,
      "outputs": [
        {
          "output_type": "stream",
          "name": "stdout",
          "text": [
            "The element 2 occurs 4 times in the tuple.\n"
          ]
        }
      ]
    },
    {
      "cell_type": "markdown",
      "source": [
        "30.\tDevelop a code that prompts the user to input two sets of strings. Then, print the symmetric difference of these two sets."
      ],
      "metadata": {
        "id": "PNdm7kG1GGpM"
      }
    },
    {
      "cell_type": "code",
      "source": [
        "input1 = input(\"Enter the first set: \")\n",
        "set1 = set(input1.split())\n",
        "input2 = input(\"Enter the second set: \")\n",
        "set2 = set(input2.split())\n",
        "symmetric_difference_set = set1^set2\n",
        "print(\"The symmetric difference of the two sets is:\", symmetric_difference_set)\n"
      ],
      "metadata": {
        "id": "1IuibEMlGJRu",
        "colab": {
          "base_uri": "https://localhost:8080/"
        },
        "outputId": "8af49088-591b-4b40-8bc2-7b272da7f2ee"
      },
      "execution_count": 10,
      "outputs": [
        {
          "output_type": "stream",
          "name": "stdout",
          "text": [
            "Enter the first set: apple, banana, grapes\n",
            "Enter the second set: banana, orange, grapes\n",
            "The symmetric difference of the two sets is: {'apple,', 'orange,'}\n"
          ]
        }
      ]
    },
    {
      "cell_type": "markdown",
      "source": [
        "\n",
        "31.\tWrite a code that takes a list of words as input and returns a dictionary where the keys are unique words and the values are the frequencies of those words in the input list.\n"
      ],
      "metadata": {
        "id": "a-d4S4TLGKix"
      }
    },
    {
      "cell_type": "code",
      "source": [
        "words = input(\"Enter a list of words\")\n",
        "words1=word.split()\n",
        "word_frequencies = {}\n",
        "for word in words1:\n",
        "    if word in word_frequencies:\n",
        "        word_frequencies[word] += 1\n",
        "    else:\n",
        "        word_frequencies[word] = 1\n",
        "print(\"Word frequencies:\", word_frequencies)\n",
        "\n"
      ],
      "metadata": {
        "id": "nEHDT3DyGNCU",
        "colab": {
          "base_uri": "https://localhost:8080/"
        },
        "outputId": "2e67c4e9-c4ef-4311-93c5-1eb313304a1a"
      },
      "execution_count": 13,
      "outputs": [
        {
          "output_type": "stream",
          "name": "stdout",
          "text": [
            "Enter a list of wordsapple banana apple cherry banana apple\n",
            "Word frequencies: {'apple': 3, 'banana': 2, 'cherry': 1}\n"
          ]
        }
      ]
    },
    {
      "cell_type": "markdown",
      "source": [
        "32.\tWrite a code that takes two dictionaries as input and merges them into a single dictionary. If there ore common keys, the values should be added together."
      ],
      "metadata": {
        "id": "57XkERLxGPdY"
      }
    },
    {
      "cell_type": "code",
      "source": [
        "dict1 = {'a': 1, 'b': 2, 'c': 3}\n",
        "dict2 = {'b': 3, 'c': 4, 'd': 5}\n",
        "merged_dict = dict1.copy()\n",
        "for key, value in dict2.items():\n",
        "    if key in merged_dict:\n",
        "        merged_dict[key] += value\n",
        "    else:\n",
        "        merged_dict[key] = value\n",
        "print(\"Merged dictionary:\", merged_dict)\n"
      ],
      "metadata": {
        "id": "R08JLoGUGRz1",
        "colab": {
          "base_uri": "https://localhost:8080/"
        },
        "outputId": "c05aa303-51c2-4bfa-8c58-631dd23081a7"
      },
      "execution_count": 14,
      "outputs": [
        {
          "output_type": "stream",
          "name": "stdout",
          "text": [
            "Merged dictionary: {'a': 1, 'b': 5, 'c': 7, 'd': 5}\n"
          ]
        }
      ]
    },
    {
      "cell_type": "markdown",
      "source": [
        "33.\tWrite a code to access a value in a nested dictionary. The function should take the dictionary and a list of keys as input, and return the corresponding value. If any of the keys do not exist in the dictionary, the function should return None."
      ],
      "metadata": {
        "id": "UD00LTGgGVqO"
      }
    },
    {
      "cell_type": "code",
      "source": [
        "##I need expert help to understand this problem."
      ],
      "metadata": {
        "id": "iClpkgjoGWs3"
      },
      "execution_count": null,
      "outputs": []
    },
    {
      "cell_type": "markdown",
      "source": [
        "34.\tWrite a code thot takes a dictionary as input and returns a sorted version of it based on the values. You con choose whether to sort in ascending or descending order."
      ],
      "metadata": {
        "id": "yPzX5oizGX4C"
      }
    },
    {
      "cell_type": "code",
      "source": [
        "##I need expert help to understand this problem."
      ],
      "metadata": {
        "id": "p5Nu-jNUGaU9"
      },
      "execution_count": null,
      "outputs": []
    },
    {
      "cell_type": "markdown",
      "source": [
        "35.\tWrite a code that inverts a dictionary, swapping keys and values. Ensure thot the inverted dictionary correctly handles cases where multiple keys have the some value by storing the keys as a list in the inverted dictionary."
      ],
      "metadata": {
        "id": "cf3hyayzGbF6"
      }
    },
    {
      "cell_type": "code",
      "source": [
        "##I need expert help to understand this problem."
      ],
      "metadata": {
        "id": "qD5KNu_JGdMD"
      },
      "execution_count": null,
      "outputs": []
    }
  ]
}
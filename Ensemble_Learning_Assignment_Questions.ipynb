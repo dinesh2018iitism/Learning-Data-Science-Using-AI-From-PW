{
  "nbformat": 4,
  "nbformat_minor": 0,
  "metadata": {
    "colab": {
      "provenance": [],
      "authorship_tag": "ABX9TyNQIOhiUO2RQ1oMuMcJCURI",
      "include_colab_link": true
    },
    "kernelspec": {
      "name": "python3",
      "display_name": "Python 3"
    },
    "language_info": {
      "name": "python"
    }
  },
  "cells": [
    {
      "cell_type": "markdown",
      "metadata": {
        "id": "view-in-github",
        "colab_type": "text"
      },
      "source": [
        "<a href=\"https://colab.research.google.com/github/dinesh2018iitism/Learning-Data-Science-Using-AI-From-PW/blob/main/Ensemble_Learning_Assignment_Questions.ipynb\" target=\"_parent\"><img src=\"https://colab.research.google.com/assets/colab-badge.svg\" alt=\"Open In Colab\"/></a>"
      ]
    },
    {
      "cell_type": "markdown",
      "source": [
        "1. Can we use Bagging for regression problems?"
      ],
      "metadata": {
        "id": "8nLCwM_x37T4"
      }
    },
    {
      "cell_type": "code",
      "source": [
        "# Yes, Bagging can be used for regression. A Bagging Regressor (like Random Forest Regressor)\n",
        "# trains multiple models on different subsets of data\n",
        "# and averages their predictions to reduce variance and improve stability."
      ],
      "metadata": {
        "id": "7Y5J54o-4BiI"
      },
      "execution_count": null,
      "outputs": []
    },
    {
      "cell_type": "markdown",
      "source": [
        "2. What is the difference between multiple model training and single model training?"
      ],
      "metadata": {
        "id": "zvQVN-0o332s"
      }
    },
    {
      "cell_type": "code",
      "source": [
        "# Single Model Training\t                                   Multiple Model Training (Ensemble)\n",
        "# Uses one model for prediction.           \t      Uses multiple models and combines their predictions.\n",
        "# High risk of overfitting or underfitting.\t     More stable and generalizable.\n",
        "# Example: Single Decision Tree.\t               Example: Random Forest (Bagging), XGBoost (Boosting)."
      ],
      "metadata": {
        "id": "GQdNBCqL48hB"
      },
      "execution_count": 3,
      "outputs": []
    },
    {
      "cell_type": "markdown",
      "source": [
        "3. Explain the concept of feature randomness in Random Forest."
      ],
      "metadata": {
        "id": "iT9YGNQm4tuR"
      }
    },
    {
      "cell_type": "code",
      "source": [
        "# Random Forest introduces feature randomness by selecting a random subset of features at each split.\n",
        "# This prevents overfitting and makes trees more diverse.\n",
        "# Helps in handling correlated features better than a single Decision Tree."
      ],
      "metadata": {
        "id": "fX3HK0Qw5R_L"
      },
      "execution_count": null,
      "outputs": []
    },
    {
      "cell_type": "markdown",
      "source": [
        "4. What is OOB (Out-of-Bag) Score?"
      ],
      "metadata": {
        "id": "bqZrw74n319w"
      }
    },
    {
      "cell_type": "code",
      "execution_count": 2,
      "metadata": {
        "id": "rEsxVN7k3woI"
      },
      "outputs": [],
      "source": [
        "# OOB score is an internal validation method in Bagging and Random Forest.\n",
        "# Each tree in the Random Forest uses only a subset of training data (Bootstrap sampling).\n",
        "# The unused (out-of-bag) samples are used to estimate the model’s performance, similar to cross-validation.\n"
      ]
    },
    {
      "cell_type": "markdown",
      "source": [
        "5. How can you measure the importance of features in a Random Forest model?"
      ],
      "metadata": {
        "id": "ny_-VevK5idG"
      }
    },
    {
      "cell_type": "code",
      "source": [
        "# Feature Importance in Random Forest is measured by:\n",
        "# Gini Importance (Mean Decrease in Impurity) – Features that reduce impurity more are more important.\n",
        "# Permutation Importance – Randomly shuffling feature values and checking the performance drop."
      ],
      "metadata": {
        "id": "4cy2uab75hnT"
      },
      "execution_count": null,
      "outputs": []
    },
    {
      "cell_type": "markdown",
      "source": [
        "6. Explain the working principle of a Bagging Classifier."
      ],
      "metadata": {
        "id": "j4P3PlWB564D"
      }
    },
    {
      "cell_type": "code",
      "source": [
        "# Bootstrap Sampling: Creates random subsets of the original dataset.\n",
        "# Train Models: Multiple weak models (Decision Trees) are trained on these subsets.\n",
        "# Aggregate Predictions: The final result is obtained by majority voting (classification) or averaging (regression)."
      ],
      "metadata": {
        "id": "mZfolnWw59Zv"
      },
      "execution_count": null,
      "outputs": []
    },
    {
      "cell_type": "markdown",
      "source": [
        "7. How do you evaluate a Bagging Classifier’s performance?"
      ],
      "metadata": {
        "id": "Oh62vWDk6F2s"
      }
    },
    {
      "cell_type": "code",
      "source": [
        "# Accuracy, Precision, Recall, F1-score (for classification).\n",
        "# Mean Squared Error (MSE), R² Score (for regression).\n",
        "# OOB Score (for Random Forest).\n",
        "# Cross-validation to check generalization."
      ],
      "metadata": {
        "id": "s1gQqcHK6Ip6"
      },
      "execution_count": null,
      "outputs": []
    },
    {
      "cell_type": "markdown",
      "source": [
        "8. How does a Bagging Regressor work?"
      ],
      "metadata": {
        "id": "e0otjyhx6MhN"
      }
    },
    {
      "cell_type": "code",
      "source": [
        "# Trains multiple regressors (like Decision Trees) on different random subsets of data.\n",
        "# Averages the predictions of all regressors to reduce variance.\n",
        "# Example: Random Forest Regressor."
      ],
      "metadata": {
        "id": "kLRp94tX6OtV"
      },
      "execution_count": null,
      "outputs": []
    },
    {
      "cell_type": "markdown",
      "source": [
        "9. What is the main advantage of ensemble techniques?"
      ],
      "metadata": {
        "id": "LSwTaNfk6SqU"
      }
    },
    {
      "cell_type": "code",
      "source": [
        "# Improves model accuracy and stability by reducing variance (Bagging) or bias (Boosting).\n",
        "# More robust to noisy data and less prone to overfitting."
      ],
      "metadata": {
        "id": "ljDeC36Y6VGq"
      },
      "execution_count": 4,
      "outputs": []
    },
    {
      "cell_type": "markdown",
      "source": [
        "10. What is the main challenge of ensemble methods?"
      ],
      "metadata": {
        "id": "qmiQLF8p6atG"
      }
    },
    {
      "cell_type": "code",
      "source": [
        "# Computationally expensive (requires training multiple models).\n",
        "# Hard to interpret compared to simple models.\n",
        "# Overfitting risk if not properly tuned."
      ],
      "metadata": {
        "id": "unpeMN9R6Zxp"
      },
      "execution_count": null,
      "outputs": []
    },
    {
      "cell_type": "markdown",
      "source": [
        "11. Explain the key idea behind ensemble techniques."
      ],
      "metadata": {
        "id": "A8MlL43w6imq"
      }
    },
    {
      "cell_type": "code",
      "source": [
        "# Combine multiple models to make better predictions.\n",
        "# Diversity: Different models capture different aspects of data.\n",
        "# Aggregation: Combines predictions to reduce errors.\n"
      ],
      "metadata": {
        "id": "yzsQS8Kh6laQ"
      },
      "execution_count": null,
      "outputs": []
    },
    {
      "cell_type": "markdown",
      "source": [
        "12. What is a Random Forest Classifier?"
      ],
      "metadata": {
        "id": "KLXg3G3W6pW7"
      }
    },
    {
      "cell_type": "code",
      "source": [
        "# Random Forest Classifier is an ensemble of multiple Decision Trees trained using Bagging.\n",
        "# It uses random feature selection and majority voting for classification."
      ],
      "metadata": {
        "id": "a1RtRYNr6szr"
      },
      "execution_count": 5,
      "outputs": []
    },
    {
      "cell_type": "markdown",
      "source": [
        "13. What are the main types of ensemble techniques?"
      ],
      "metadata": {
        "id": "mXfo4_2k6xBW"
      }
    },
    {
      "cell_type": "code",
      "source": [
        "# Bagging – Reduces variance (e.g., Random Forest).\n",
        "# Boosting – Reduces bias (e.g., AdaBoost, XGBoost).\n",
        "# Stacking – Combines different models (e.g., blending models like SVM + Decision Tree)."
      ],
      "metadata": {
        "id": "WL254KcC6wG9"
      },
      "execution_count": null,
      "outputs": []
    },
    {
      "cell_type": "markdown",
      "source": [
        "14. What is ensemble learning in machine learning?"
      ],
      "metadata": {
        "id": "v9WdDdhc67-q"
      }
    },
    {
      "cell_type": "code",
      "source": [
        "# Ensemble learning is a technique where multiple models are\n",
        "# trained and combined to improve accuracy and robustness."
      ],
      "metadata": {
        "id": "3HGmaSfs6-qj"
      },
      "execution_count": null,
      "outputs": []
    },
    {
      "cell_type": "markdown",
      "source": [
        "15. When should we avoid using ensemble methods?"
      ],
      "metadata": {
        "id": "vWCp9zoq7C2-"
      }
    },
    {
      "cell_type": "code",
      "source": [
        "# When computational cost is too high.\n",
        "# When a simple model already performs well.\n",
        "# When interpretability is important (ensemble models are complex)."
      ],
      "metadata": {
        "id": "oW-2jLEJ7FRL"
      },
      "execution_count": null,
      "outputs": []
    },
    {
      "cell_type": "markdown",
      "source": [
        "16. How does Bagging help in reducing overfitting?"
      ],
      "metadata": {
        "id": "1oKGAQMk7OLI"
      }
    },
    {
      "cell_type": "code",
      "source": [
        "# Creates multiple models trained on different data subsets → reduces model dependence.\n",
        "# Reduces variance by averaging multiple predictions.\n",
        "# Prevents Decision Trees from memorizing the dataset.\n"
      ],
      "metadata": {
        "id": "MMyqfYUB7Q0e"
      },
      "execution_count": 6,
      "outputs": []
    },
    {
      "cell_type": "markdown",
      "source": [
        "17. Why is Random Forest better than a single Decision Tree?"
      ],
      "metadata": {
        "id": "YZxXuztx7XF6"
      }
    },
    {
      "cell_type": "code",
      "source": [
        "# Random Forest\t                                Single Decision Tree\n",
        "# Reduces variance (less overfitting).\t    High variance (prone to overfitting).\n",
        "# More stable and accurate.\t                May perform poorly on unseen data.\n",
        "# Handles missing data better.\t            More sensitive to missing data."
      ],
      "metadata": {
        "id": "dENxD_-97UKB"
      },
      "execution_count": null,
      "outputs": []
    },
    {
      "cell_type": "markdown",
      "source": [
        "18. What is the role of bootstrap sampling in Bagging?"
      ],
      "metadata": {
        "id": "4lcst1y37fTb"
      }
    },
    {
      "cell_type": "code",
      "source": [
        "# Creates multiple subsets of training data by random sampling with replacement.\n",
        "# Ensures each model gets different data, increasing diversity."
      ],
      "metadata": {
        "id": "cwsD1UnR7iI8"
      },
      "execution_count": 7,
      "outputs": []
    },
    {
      "cell_type": "markdown",
      "source": [
        "19. What are some real-world applications of ensemble techniques?"
      ],
      "metadata": {
        "id": "LTG3fNYm7nzj"
      }
    },
    {
      "cell_type": "code",
      "source": [
        "# Finance - Fraud detection, credit risk assessment.\n",
        "# Healthcare - Disease prediction, medical image analysis.\n",
        "# E-commerce - Recommendation systems.\n",
        "# Cybersecurity - Spam detection, malware classification."
      ],
      "metadata": {
        "id": "W0-UP94Q7lOY"
      },
      "execution_count": null,
      "outputs": []
    },
    {
      "cell_type": "markdown",
      "source": [
        "20. What is the difference between Bagging and Boosting?"
      ],
      "metadata": {
        "id": "EBmXYTub7_HJ"
      }
    },
    {
      "cell_type": "code",
      "source": [
        "# Bagging\t                                               Boosting\n",
        "# Reduces variance (helps avoid overfitting).\t     Reduces bias (improves weak models).\n",
        "# Trains models independently in parallel.       \tTrains models sequentially, correcting previous errors.\n",
        "# Example: Random Forest.\t                        Example: AdaBoost, XGBoost."
      ],
      "metadata": {
        "id": "kiIlwFaZ8Khd"
      },
      "execution_count": 8,
      "outputs": []
    },
    {
      "cell_type": "markdown",
      "source": [
        "21. Train a Bagging Classifier using Decision Trees on a sample dataset and print model accuracy"
      ],
      "metadata": {
        "id": "Phaa4aDW85Rj"
      }
    },
    {
      "cell_type": "code",
      "source": [
        "from sklearn.ensemble import BaggingClassifier\n",
        "from sklearn.tree import DecisionTreeClassifier\n",
        "from sklearn.datasets import load_breast_cancer\n",
        "from sklearn.model_selection import train_test_split\n",
        "from sklearn.metrics import accuracy_score\n",
        "\n",
        "# Load dataset\n",
        "data = load_breast_cancer()\n",
        "X, y = data.data, data.target\n",
        "\n",
        "# Split dataset\n",
        "X_train, X_test, y_train, y_test = train_test_split(X, y, test_size=0.2, random_state=42)\n",
        "\n",
        "# Train Bagging Classifier with Decision Trees (Use 'estimator' instead of 'base_estimator')\n",
        "model = BaggingClassifier(estimator=DecisionTreeClassifier(), n_estimators=50, random_state=42)\n",
        "model.fit(X_train, y_train)\n",
        "\n",
        "# Predict and evaluate\n",
        "y_pred = model.predict(X_test)\n",
        "accuracy = accuracy_score(y_test, y_pred)\n",
        "print(\"Bagging Classifier Accuracy:\", accuracy)\n"
      ],
      "metadata": {
        "colab": {
          "base_uri": "https://localhost:8080/"
        },
        "id": "77PHXs8n8ZHU",
        "outputId": "72266415-7891-40d0-82dc-15802cea3f8d"
      },
      "execution_count": 31,
      "outputs": [
        {
          "output_type": "stream",
          "name": "stdout",
          "text": [
            "Bagging Classifier Accuracy: 0.956140350877193\n"
          ]
        }
      ]
    },
    {
      "cell_type": "markdown",
      "source": [
        "22. Train a Bagging Regressor using Decision Trees and evaluate using Mean Squared Error (MSE)"
      ],
      "metadata": {
        "id": "lTUJeZ7H9M6u"
      }
    },
    {
      "cell_type": "code",
      "source": [
        "from sklearn.ensemble import BaggingRegressor\n",
        "from sklearn.tree import DecisionTreeRegressor\n",
        "from sklearn.datasets import fetch_california_housing\n",
        "from sklearn.model_selection import train_test_split\n",
        "from sklearn.metrics import mean_squared_error\n",
        "\n",
        "# Load dataset\n",
        "data = fetch_california_housing()\n",
        "X, y = data.data, data.target\n",
        "\n",
        "# Split dataset\n",
        "X_train, X_test, y_train, y_test = train_test_split(X, y, test_size=0.2, random_state=42)\n",
        "\n",
        "# Train Bagging Regressor with Decision Trees (Use 'estimator' instead of 'base_estimator')\n",
        "model = BaggingRegressor(estimator=DecisionTreeRegressor(), n_estimators=50, random_state=42)\n",
        "model.fit(X_train, y_train)\n",
        "\n",
        "# Predict and evaluate\n",
        "y_pred = model.predict(X_test)\n",
        "mse = mean_squared_error(y_test, y_pred)\n",
        "print(\"Bagging Regressor MSE:\", mse)\n"
      ],
      "metadata": {
        "colab": {
          "base_uri": "https://localhost:8080/"
        },
        "id": "5PFGm3DR8_PW",
        "outputId": "4ce6b1d3-14a6-4577-d67b-f3f735966bf0"
      },
      "execution_count": 30,
      "outputs": [
        {
          "output_type": "stream",
          "name": "stdout",
          "text": [
            "Bagging Regressor MSE: 0.2572988359842641\n"
          ]
        }
      ]
    },
    {
      "cell_type": "markdown",
      "source": [
        "23. Train a Random Forest Classifier on the Breast Cancer dataset and print feature importance scores"
      ],
      "metadata": {
        "id": "PxJrtMet9cVP"
      }
    },
    {
      "cell_type": "code",
      "source": [
        "from sklearn.ensemble import RandomForestClassifier\n",
        "from sklearn.datasets import load_breast_cancer\n",
        "from sklearn.model_selection import train_test_split\n",
        "import pandas as pd\n",
        "\n",
        "# Load classification dataset (Breast Cancer)\n",
        "data = load_breast_cancer()\n",
        "X, y = data.data, data.target  # y contains categorical values (0 or 1)\n",
        "\n",
        "# Split dataset\n",
        "X_train, X_test, y_train, y_test = train_test_split(X, y, test_size=0.2, random_state=42)\n",
        "\n",
        "# Train Random Forest Classifier\n",
        "model = RandomForestClassifier(n_estimators=100, random_state=42)\n",
        "model.fit(X_train, y_train)\n",
        "\n",
        "# Print feature importance scores\n",
        "feature_importance = pd.Series(model.feature_importances_, index=data.feature_names).sort_values(ascending=False)\n",
        "print(\"Feature Importance Scores:\\n\", feature_importance)\n"
      ],
      "metadata": {
        "colab": {
          "base_uri": "https://localhost:8080/"
        },
        "id": "L4wRU2hE9WDz",
        "outputId": "d480260a-43a1-46b3-9026-38c2bd2b272f"
      },
      "execution_count": 29,
      "outputs": [
        {
          "output_type": "stream",
          "name": "stdout",
          "text": [
            "Feature Importance Scores:\n",
            " worst area                 0.153892\n",
            "worst concave points       0.144663\n",
            "mean concave points        0.106210\n",
            "worst radius               0.077987\n",
            "mean concavity             0.068001\n",
            "worst perimeter            0.067115\n",
            "mean perimeter             0.053270\n",
            "mean radius                0.048703\n",
            "mean area                  0.047555\n",
            "worst concavity            0.031802\n",
            "area error                 0.022407\n",
            "worst texture              0.021749\n",
            "worst compactness          0.020266\n",
            "radius error               0.020139\n",
            "mean compactness           0.013944\n",
            "mean texture               0.013591\n",
            "perimeter error            0.011303\n",
            "worst smoothness           0.010644\n",
            "worst symmetry             0.010120\n",
            "concavity error            0.009386\n",
            "mean smoothness            0.007285\n",
            "fractal dimension error    0.005321\n",
            "compactness error          0.005253\n",
            "worst fractal dimension    0.005210\n",
            "texture error              0.004724\n",
            "smoothness error           0.004271\n",
            "symmetry error             0.004018\n",
            "mean fractal dimension     0.003886\n",
            "mean symmetry              0.003770\n",
            "concave points error       0.003513\n",
            "dtype: float64\n"
          ]
        }
      ]
    },
    {
      "cell_type": "markdown",
      "source": [
        "24. Train a Random Forest Regressor and compare its performance with a single Decision Tree"
      ],
      "metadata": {
        "id": "KFkis-Lp9qec"
      }
    },
    {
      "cell_type": "code",
      "source": [
        "from sklearn.ensemble import RandomForestRegressor\n",
        "from sklearn.tree import DecisionTreeRegressor\n",
        "\n",
        "# Train Decision Tree Regressor\n",
        "tree_model = DecisionTreeRegressor(random_state=42)\n",
        "tree_model.fit(X_train, y_train)\n",
        "tree_mse = mean_squared_error(y_test, tree_model.predict(X_test))\n",
        "\n",
        "# Train Random Forest Regressor\n",
        "rf_model = RandomForestRegressor(n_estimators=100, random_state=42)\n",
        "rf_model.fit(X_train, y_train)\n",
        "rf_mse = mean_squared_error(y_test, rf_model.predict(X_test))\n",
        "\n",
        "print(\"Decision Tree Regressor MSE:\", tree_mse)\n",
        "print(\"Random Forest Regressor MSE:\", rf_mse)\n"
      ],
      "metadata": {
        "colab": {
          "base_uri": "https://localhost:8080/"
        },
        "id": "sRtj1cbR9fKs",
        "outputId": "85043957-4ef2-4d5f-c7dc-1eba256ce356"
      },
      "execution_count": 12,
      "outputs": [
        {
          "output_type": "stream",
          "name": "stdout",
          "text": [
            "Decision Tree Regressor MSE: 0.495235205629094\n",
            "Random Forest Regressor MSE: 0.2553684927247781\n"
          ]
        }
      ]
    },
    {
      "cell_type": "markdown",
      "source": [
        "25. Compute the Out-of-Bag (OOB) Score for a Random Forest Classifier"
      ],
      "metadata": {
        "id": "_mPvNX_-99vp"
      }
    },
    {
      "cell_type": "code",
      "source": [
        "from sklearn.ensemble import RandomForestClassifier\n",
        "from sklearn.datasets import load_breast_cancer\n",
        "from sklearn.model_selection import train_test_split\n",
        "\n",
        "# Load dataset\n",
        "data = load_breast_cancer()\n",
        "X, y = data.data, data.target\n",
        "\n",
        "# Split dataset (Only use training data for OOB Score)\n",
        "X_train, X_unused, y_train, y_unused = train_test_split(X, y, test_size=0.2, random_state=42)\n",
        "\n",
        "# Train Random Forest Classifier with OOB Score (Use only training data)\n",
        "oob_model = RandomForestClassifier(n_estimators=100, oob_score=True, random_state=42, bootstrap=True)\n",
        "oob_model.fit(X_train, y_train)\n",
        "\n",
        "# Print OOB Score\n",
        "print(\"Out-of-Bag (OOB) Score:\", oob_model.oob_score_)\n"
      ],
      "metadata": {
        "colab": {
          "base_uri": "https://localhost:8080/"
        },
        "id": "htEUTMqw926p",
        "outputId": "d85c8558-c6b2-46c9-956a-b5425a95abc7"
      },
      "execution_count": 26,
      "outputs": [
        {
          "output_type": "stream",
          "name": "stdout",
          "text": [
            "Out-of-Bag (OOB) Score: 0.9560439560439561\n"
          ]
        }
      ]
    },
    {
      "cell_type": "markdown",
      "source": [
        "26. Train a Bagging Classifier using SVM as a base estimator and print accuracy"
      ],
      "metadata": {
        "id": "v840XECR-RyW"
      }
    },
    {
      "cell_type": "code",
      "source": [
        "from sklearn.ensemble import BaggingClassifier\n",
        "from sklearn.svm import SVC\n",
        "from sklearn.datasets import load_breast_cancer\n",
        "from sklearn.model_selection import train_test_split\n",
        "from sklearn.metrics import accuracy_score\n",
        "\n",
        "# Load dataset\n",
        "data = load_breast_cancer()\n",
        "X, y = data.data, data.target\n",
        "\n",
        "# Split dataset\n",
        "X_train, X_test, y_train, y_test = train_test_split(X, y, test_size=0.2, random_state=42)\n",
        "\n",
        "# Train Bagging Classifier with SVM (Use 'estimator' instead of 'base_estimator')\n",
        "svm_bagging = BaggingClassifier(estimator=SVC(), n_estimators=50, random_state=42)\n",
        "svm_bagging.fit(X_train, y_train)\n",
        "\n",
        "# Predict and evaluate\n",
        "y_pred = svm_bagging.predict(X_test)\n",
        "accuracy = accuracy_score(y_test, y_pred)\n",
        "print(\"Bagging Classifier with SVM Accuracy:\", accuracy)\n"
      ],
      "metadata": {
        "colab": {
          "base_uri": "https://localhost:8080/"
        },
        "id": "iU4gqITK-PSU",
        "outputId": "56e57338-c7a1-446d-d751-eb4be5872de2"
      },
      "execution_count": 25,
      "outputs": [
        {
          "output_type": "stream",
          "name": "stdout",
          "text": [
            "Bagging Classifier with SVM Accuracy: 0.9473684210526315\n"
          ]
        }
      ]
    },
    {
      "cell_type": "markdown",
      "source": [
        "27. Train a Random Forest Classifier with different numbers of trees and compare accuracy"
      ],
      "metadata": {
        "id": "-oczncBz-j1m"
      }
    },
    {
      "cell_type": "code",
      "source": [
        "from sklearn.ensemble import RandomForestClassifier\n",
        "from sklearn.datasets import load_breast_cancer\n",
        "from sklearn.model_selection import train_test_split\n",
        "from sklearn.metrics import accuracy_score\n",
        "\n",
        "# Load classification dataset (Breast Cancer)\n",
        "data = load_breast_cancer()\n",
        "X, y = data.data, data.target  # Ensure y contains categorical labels (0 or 1)\n",
        "\n",
        "# Split dataset\n",
        "X_train, X_test, y_train, y_test = train_test_split(X, y, test_size=0.2, random_state=42)\n",
        "\n",
        "# Train Random Forest Classifier with different numbers of trees\n",
        "estimators = [10, 50, 100, 200]\n",
        "for n in estimators:\n",
        "    rf_model = RandomForestClassifier(n_estimators=n, random_state=42)\n",
        "    rf_model.fit(X_train, y_train)\n",
        "    acc = accuracy_score(y_test, rf_model.predict(X_test))\n",
        "    print(f\"Random Forest Accuracy with {n} trees:\", acc)\n"
      ],
      "metadata": {
        "colab": {
          "base_uri": "https://localhost:8080/"
        },
        "id": "L7HaEpnI-aWZ",
        "outputId": "68cc3f8a-3271-4842-8777-d1de03ebc508"
      },
      "execution_count": 24,
      "outputs": [
        {
          "output_type": "stream",
          "name": "stdout",
          "text": [
            "Random Forest Accuracy with 10 trees: 0.956140350877193\n",
            "Random Forest Accuracy with 50 trees: 0.9649122807017544\n",
            "Random Forest Accuracy with 100 trees: 0.9649122807017544\n",
            "Random Forest Accuracy with 200 trees: 0.9649122807017544\n"
          ]
        }
      ]
    },
    {
      "cell_type": "markdown",
      "source": [
        "28. Train a Bagging Classifier using Logistic Regression as a base estimator and print AUC score"
      ],
      "metadata": {
        "id": "0jLO57bQ_TNv"
      }
    },
    {
      "cell_type": "code",
      "source": [
        "from sklearn.ensemble import BaggingClassifier\n",
        "from sklearn.linear_model import LogisticRegression\n",
        "from sklearn.metrics import roc_auc_score\n",
        "from sklearn.datasets import load_breast_cancer\n",
        "from sklearn.model_selection import train_test_split\n",
        "from sklearn.preprocessing import StandardScaler\n",
        "\n",
        "# Load dataset\n",
        "data = load_breast_cancer()\n",
        "X, y = data.data, data.target\n",
        "\n",
        "# Apply Feature Scaling (Helps Convergence)\n",
        "scaler = StandardScaler()\n",
        "X = scaler.fit_transform(X)\n",
        "\n",
        "# Split dataset\n",
        "X_train, X_test, y_train, y_test = train_test_split(X, y, test_size=0.2, random_state=42)\n",
        "\n",
        "# Train Bagging Classifier with Logistic Regression (Increase max_iter for convergence)\n",
        "logistic_bagging = BaggingClassifier(\n",
        "    estimator=LogisticRegression(max_iter=500, solver='lbfgs'),  # Increased max_iter\n",
        "    n_estimators=50,\n",
        "    random_state=42\n",
        ")\n",
        "logistic_bagging.fit(X_train, y_train)\n",
        "\n",
        "# Predict probabilities and compute AUC score\n",
        "y_pred_proba = logistic_bagging.predict_proba(X_test)[:, 1]  # Extract probability for the positive class\n",
        "auc_score = roc_auc_score(y_test, y_pred_proba)\n",
        "print(\"Bagging Classifier with Logistic Regression AUC Score:\", auc_score)\n"
      ],
      "metadata": {
        "colab": {
          "base_uri": "https://localhost:8080/"
        },
        "id": "V6LDazu3_lG-",
        "outputId": "8f59eb72-f054-4e4a-bd2a-d8c28d6ef006"
      },
      "execution_count": 23,
      "outputs": [
        {
          "output_type": "stream",
          "name": "stdout",
          "text": [
            "Bagging Classifier with Logistic Regression AUC Score: 0.99737962659679\n"
          ]
        }
      ]
    },
    {
      "cell_type": "markdown",
      "source": [
        "29. Train a Random Forest Regressor and analyze feature importance scores"
      ],
      "metadata": {
        "id": "LFoZp9e3_UgQ"
      }
    },
    {
      "cell_type": "code",
      "source": [
        "from sklearn.ensemble import RandomForestRegressor\n",
        "\n",
        "# Train Random Forest Regressor\n",
        "rf_regressor = RandomForestRegressor(n_estimators=100, random_state=42)\n",
        "rf_regressor.fit(X_train, y_train)\n",
        "\n",
        "# Print feature importance\n",
        "feature_importance = pd.Series(rf_regressor.feature_importances_, index=data.feature_names).sort_values(ascending=False)\n",
        "print(\"Feature Importance Scores:\\n\", feature_importance)\n"
      ],
      "metadata": {
        "colab": {
          "base_uri": "https://localhost:8080/"
        },
        "id": "O72OICEq_cbE",
        "outputId": "1001a2ed-db3d-480a-905d-535e6715ca04"
      },
      "execution_count": 18,
      "outputs": [
        {
          "output_type": "stream",
          "name": "stdout",
          "text": [
            "Feature Importance Scores:\n",
            " worst concave points       0.269936\n",
            "mean concave points        0.202781\n",
            "worst perimeter            0.158947\n",
            "worst area                 0.118171\n",
            "worst radius               0.103470\n",
            "worst texture              0.025475\n",
            "mean texture               0.021067\n",
            "worst concavity            0.011771\n",
            "area error                 0.010239\n",
            "worst smoothness           0.008456\n",
            "mean smoothness            0.006652\n",
            "concavity error            0.006587\n",
            "fractal dimension error    0.005278\n",
            "mean area                  0.005143\n",
            "mean concavity             0.004656\n",
            "worst symmetry             0.004215\n",
            "perimeter error            0.003913\n",
            "texture error              0.003764\n",
            "radius error               0.003696\n",
            "symmetry error             0.003541\n",
            "smoothness error           0.003475\n",
            "concave points error       0.003262\n",
            "mean symmetry              0.002668\n",
            "mean perimeter             0.002537\n",
            "worst fractal dimension    0.002431\n",
            "mean fractal dimension     0.002150\n",
            "worst compactness          0.001836\n",
            "compactness error          0.001707\n",
            "mean radius                0.001405\n",
            "mean compactness           0.000774\n",
            "dtype: float64\n"
          ]
        }
      ]
    },
    {
      "cell_type": "markdown",
      "source": [],
      "metadata": {
        "id": "wP5M4Ids_b-5"
      }
    },
    {
      "cell_type": "markdown",
      "source": [
        "30. Train an ensemble model using both Bagging and Random Forest and compare accuracy"
      ],
      "metadata": {
        "id": "oU-OFASh_KYG"
      }
    },
    {
      "cell_type": "code",
      "source": [
        "from sklearn.ensemble import BaggingClassifier, RandomForestClassifier\n",
        "from sklearn.tree import DecisionTreeClassifier\n",
        "from sklearn.datasets import load_breast_cancer\n",
        "from sklearn.model_selection import train_test_split\n",
        "from sklearn.metrics import accuracy_score\n",
        "\n",
        "# Load dataset\n",
        "data = load_breast_cancer()\n",
        "X, y = data.data, data.target\n",
        "\n",
        "# Split dataset\n",
        "X_train, X_test, y_train, y_test = train_test_split(X, y, test_size=0.2, random_state=42)\n",
        "\n",
        "# Train Bagging Classifier with Decision Tree (Use 'estimator' instead of 'base_estimator')\n",
        "bagging_model = BaggingClassifier(estimator=DecisionTreeClassifier(), n_estimators=50, random_state=42)\n",
        "bagging_model.fit(X_train, y_train)\n",
        "bagging_acc = accuracy_score(y_test, bagging_model.predict(X_test))\n",
        "\n",
        "# Train Random Forest Classifier\n",
        "rf_model = RandomForestClassifier(n_estimators=100, random_state=42)\n",
        "rf_model.fit(X_train, y_train)\n",
        "rf_acc = accuracy_score(y_test, rf_model.predict(X_test))\n",
        "\n",
        "print(\"Bagging Classifier Accuracy:\", bagging_acc)\n",
        "print(\"Random Forest Classifier Accuracy:\", rf_acc)\n"
      ],
      "metadata": {
        "colab": {
          "base_uri": "https://localhost:8080/"
        },
        "id": "DgGkRENZ-qPC",
        "outputId": "d32c8a23-26a7-43b7-abdf-48d1861beba6"
      },
      "execution_count": 22,
      "outputs": [
        {
          "output_type": "stream",
          "name": "stdout",
          "text": [
            "Bagging Classifier Accuracy: 0.956140350877193\n",
            "Random Forest Classifier Accuracy: 0.9649122807017544\n"
          ]
        }
      ]
    },
    {
      "cell_type": "markdown",
      "source": [
        "31. Train a Random Forest Classifier and tune hyperparameters using GridSearchCV"
      ],
      "metadata": {
        "id": "yA4nOnumD_Ay"
      }
    },
    {
      "cell_type": "code",
      "source": [
        "from sklearn.ensemble import RandomForestClassifier\n",
        "from sklearn.model_selection import GridSearchCV, train_test_split\n",
        "from sklearn.datasets import load_breast_cancer\n",
        "from sklearn.metrics import accuracy_score\n",
        "\n",
        "# Load dataset\n",
        "data = load_breast_cancer()\n",
        "X, y = data.data, data.target\n",
        "\n",
        "# Split dataset\n",
        "X_train, X_test, y_train, y_test = train_test_split(X, y, test_size=0.2, random_state=42)\n",
        "\n",
        "# Define hyperparameter grid\n",
        "param_grid = {\n",
        "    'n_estimators': [50, 100, 200],\n",
        "    'max_depth': [None, 10, 20],\n",
        "    'min_samples_split': [2, 5, 10]\n",
        "}\n",
        "\n",
        "# Apply GridSearchCV\n",
        "rf_model = RandomForestClassifier(random_state=42)\n",
        "grid_search = GridSearchCV(rf_model, param_grid, cv=5, scoring='accuracy', n_jobs=-1)\n",
        "grid_search.fit(X_train, y_train)\n",
        "\n",
        "# Print best parameters and accuracy\n",
        "print(\"Best Parameters:\", grid_search.best_params_)\n",
        "print(\"Best Accuracy:\", accuracy_score(y_test, grid_search.best_estimator_.predict(X_test)))\n"
      ],
      "metadata": {
        "colab": {
          "base_uri": "https://localhost:8080/"
        },
        "id": "HJy8w6NR_MaZ",
        "outputId": "05e6e7ef-da76-4845-93c9-6d1c7104d8cf"
      },
      "execution_count": 32,
      "outputs": [
        {
          "output_type": "stream",
          "name": "stdout",
          "text": [
            "Best Parameters: {'max_depth': None, 'min_samples_split': 2, 'n_estimators': 200}\n",
            "Best Accuracy: 0.9649122807017544\n"
          ]
        }
      ]
    },
    {
      "cell_type": "markdown",
      "source": [
        "32. Train a Bagging Regressor with different numbers of base estimators and compare performance"
      ],
      "metadata": {
        "id": "oIc5OzT8EIHZ"
      }
    },
    {
      "cell_type": "code",
      "source": [
        "from sklearn.ensemble import BaggingRegressor\n",
        "from sklearn.tree import DecisionTreeRegressor\n",
        "from sklearn.datasets import fetch_california_housing\n",
        "from sklearn.model_selection import train_test_split\n",
        "from sklearn.metrics import mean_squared_error\n",
        "\n",
        "# Load dataset\n",
        "data = fetch_california_housing()\n",
        "X, y = data.data, data.target\n",
        "\n",
        "# Split dataset\n",
        "X_train, X_test, y_train, y_test = train_test_split(X, y, test_size=0.2, random_state=42)\n",
        "\n",
        "# Train and compare Bagging Regressor with different estimators\n",
        "for n in [10, 50, 100]:\n",
        "    model = BaggingRegressor(estimator=DecisionTreeRegressor(), n_estimators=n, random_state=42)\n",
        "    model.fit(X_train, y_train)\n",
        "    mse = mean_squared_error(y_test, model.predict(X_test))\n",
        "    print(f\"Bagging Regressor with {n} estimators MSE:\", mse)\n"
      ],
      "metadata": {
        "colab": {
          "base_uri": "https://localhost:8080/"
        },
        "id": "KUYXINqOECLo",
        "outputId": "1ada60eb-c03b-4811-e061-97c607625e16"
      },
      "execution_count": 33,
      "outputs": [
        {
          "output_type": "stream",
          "name": "stdout",
          "text": [
            "Bagging Regressor with 10 estimators MSE: 0.2824242776841025\n",
            "Bagging Regressor with 50 estimators MSE: 0.2572988359842641\n",
            "Bagging Regressor with 100 estimators MSE: 0.25592438609899626\n"
          ]
        }
      ]
    },
    {
      "cell_type": "markdown",
      "source": [
        "33. Train a Random Forest Classifier and analyze misclassified samples"
      ],
      "metadata": {
        "id": "OXlrym65ERKU"
      }
    },
    {
      "cell_type": "code",
      "source": [
        "import numpy as np\n",
        "from sklearn.ensemble import RandomForestClassifier\n",
        "from sklearn.datasets import load_breast_cancer\n",
        "from sklearn.model_selection import train_test_split\n",
        "from sklearn.metrics import accuracy_score\n",
        "\n",
        "# Load dataset\n",
        "data = load_breast_cancer()\n",
        "X, y = data.data, data.target\n",
        "\n",
        "# Split dataset\n",
        "X_train, X_test, y_train, y_test = train_test_split(X, y, test_size=0.2, random_state=42)\n",
        "\n",
        "# Train Random Forest Classifier\n",
        "model = RandomForestClassifier(n_estimators=100, random_state=42)\n",
        "model.fit(X_train, y_train)\n",
        "\n",
        "# Predict and analyze misclassified samples\n",
        "y_pred = model.predict(X_test)\n",
        "misclassified_indices = np.where(y_pred != y_test)[0]\n",
        "\n",
        "print(\"Total Misclassified Samples:\", len(misclassified_indices))\n",
        "print(\"Misclassified Sample Indices:\", misclassified_indices)\n"
      ],
      "metadata": {
        "colab": {
          "base_uri": "https://localhost:8080/"
        },
        "id": "sB3dVhwgEMzQ",
        "outputId": "929cfd9f-4eb7-4a6e-c76c-7ad59ff76af9"
      },
      "execution_count": 34,
      "outputs": [
        {
          "output_type": "stream",
          "name": "stdout",
          "text": [
            "Total Misclassified Samples: 4\n",
            "Misclassified Sample Indices: [ 8 20 77 82]\n"
          ]
        }
      ]
    },
    {
      "cell_type": "markdown",
      "source": [
        "34. Train a Bagging Classifier and compare its performance with a single Decision Tree Classifier"
      ],
      "metadata": {
        "id": "lqqlv193Ejtg"
      }
    },
    {
      "cell_type": "code",
      "source": [
        "from sklearn.ensemble import BaggingClassifier\n",
        "from sklearn.tree import DecisionTreeClassifier\n",
        "from sklearn.datasets import load_breast_cancer\n",
        "from sklearn.model_selection import train_test_split\n",
        "from sklearn.metrics import accuracy_score\n",
        "\n",
        "# Load dataset\n",
        "data = load_breast_cancer()\n",
        "X, y = data.data, data.target\n",
        "\n",
        "# Split dataset\n",
        "X_train, X_test, y_train, y_test = train_test_split(X, y, test_size=0.2, random_state=42)\n",
        "\n",
        "# Train Decision Tree Classifier\n",
        "dt_model = DecisionTreeClassifier(random_state=42)\n",
        "dt_model.fit(X_train, y_train)\n",
        "dt_acc = accuracy_score(y_test, dt_model.predict(X_test))\n",
        "\n",
        "# Train Bagging Classifier with Decision Trees\n",
        "bagging_model = BaggingClassifier(estimator=DecisionTreeClassifier(), n_estimators=50, random_state=42)\n",
        "bagging_model.fit(X_train, y_train)\n",
        "bagging_acc = accuracy_score(y_test, bagging_model.predict(X_test))\n",
        "\n",
        "print(\"Decision Tree Accuracy:\", dt_acc)\n",
        "print(\"Bagging Classifier Accuracy:\", bagging_acc)\n"
      ],
      "metadata": {
        "colab": {
          "base_uri": "https://localhost:8080/"
        },
        "id": "2ZH0wxI8EV22",
        "outputId": "0629f49d-9317-4e41-934d-ece2f7663652"
      },
      "execution_count": 35,
      "outputs": [
        {
          "output_type": "stream",
          "name": "stdout",
          "text": [
            "Decision Tree Accuracy: 0.9473684210526315\n",
            "Bagging Classifier Accuracy: 0.956140350877193\n"
          ]
        }
      ]
    },
    {
      "cell_type": "markdown",
      "source": [],
      "metadata": {
        "id": "PgpSgDe7ErJZ"
      }
    },
    {
      "cell_type": "markdown",
      "source": [
        "35. Train a Random Forest Classifier and visualize the confusion matrix"
      ],
      "metadata": {
        "id": "isS2hkAxEq3J"
      }
    },
    {
      "cell_type": "code",
      "source": [
        "import seaborn as sns\n",
        "import matplotlib.pyplot as plt\n",
        "from sklearn.metrics import confusion_matrix\n",
        "\n",
        "# Train Random Forest Classifier\n",
        "model = RandomForestClassifier(n_estimators=100, random_state=42)\n",
        "model.fit(X_train, y_train)\n",
        "\n",
        "# Predict and plot confusion matrix\n",
        "y_pred = model.predict(X_test)\n",
        "cm = confusion_matrix(y_test, y_pred)\n",
        "sns.heatmap(cm, annot=True, cmap='Blues', fmt='d')\n",
        "plt.xlabel('Predicted')\n",
        "plt.ylabel('Actual')\n",
        "plt.title('Confusion Matrix - Random Forest')\n",
        "plt.show()\n"
      ],
      "metadata": {
        "colab": {
          "base_uri": "https://localhost:8080/",
          "height": 472
        },
        "id": "0Stt9EgfEmO8",
        "outputId": "64a28297-f088-4dfd-b722-498cebb952d5"
      },
      "execution_count": 36,
      "outputs": [
        {
          "output_type": "display_data",
          "data": {
            "text/plain": [
              "<Figure size 640x480 with 2 Axes>"
            ],
            "image/png": "[encoded data removed]"
          },
          "metadata": {}
        }
      ]
    },
    {
      "cell_type": "markdown",
      "source": [
        "36. Train a Stacking Classifier using Decision Trees, SVM, and Logistic Regression, and compare accuracy"
      ],
      "metadata": {
        "id": "x7xy9_heEzSK"
      }
    },
    {
      "cell_type": "code",
      "source": [
        "from sklearn.ensemble import StackingClassifier\n",
        "from sklearn.svm import SVC\n",
        "from sklearn.linear_model import LogisticRegression\n",
        "\n",
        "# Define base models\n",
        "base_models = [\n",
        "    ('decision_tree', DecisionTreeClassifier()),\n",
        "    ('svm', SVC(probability=True))\n",
        "]\n",
        "\n",
        "# Train Stacking Classifier\n",
        "stacking_model = StackingClassifier(estimators=base_models, final_estimator=LogisticRegression())\n",
        "stacking_model.fit(X_train, y_train)\n",
        "\n",
        "# Predict and evaluate\n",
        "accuracy = accuracy_score(y_test, stacking_model.predict(X_test))\n",
        "print(\"Stacking Classifier Accuracy:\", accuracy)\n"
      ],
      "metadata": {
        "colab": {
          "base_uri": "https://localhost:8080/"
        },
        "id": "GgBFCMNAEukG",
        "outputId": "5e871f6f-ab3f-47d7-ef85-db17cbeaeca7"
      },
      "execution_count": 37,
      "outputs": [
        {
          "output_type": "stream",
          "name": "stdout",
          "text": [
            "Stacking Classifier Accuracy: 0.9649122807017544\n"
          ]
        }
      ]
    },
    {
      "cell_type": "markdown",
      "source": [
        "37. Train a Random Forest Classifier and print the top 5 most important features"
      ],
      "metadata": {
        "id": "g5oIIcenE7oM"
      }
    },
    {
      "cell_type": "code",
      "source": [
        "import pandas as pd\n",
        "\n",
        "# Train Random Forest Classifier\n",
        "model = RandomForestClassifier(n_estimators=100, random_state=42)\n",
        "model.fit(X_train, y_train)\n",
        "\n",
        "# Print top 5 important features\n",
        "feature_importance = pd.Series(model.feature_importances_, index=data.feature_names).sort_values(ascending=False)\n",
        "print(\"Top 5 Most Important Features:\\n\", feature_importance.head(5))\n"
      ],
      "metadata": {
        "colab": {
          "base_uri": "https://localhost:8080/"
        },
        "id": "Z2fUeVJbE1aA",
        "outputId": "badc6268-07e4-4f17-e659-1d4a306df5a8"
      },
      "execution_count": 38,
      "outputs": [
        {
          "output_type": "stream",
          "name": "stdout",
          "text": [
            "Top 5 Most Important Features:\n",
            " worst area              0.153892\n",
            "worst concave points    0.144663\n",
            "mean concave points     0.106210\n",
            "worst radius            0.077987\n",
            "mean concavity          0.068001\n",
            "dtype: float64\n"
          ]
        }
      ]
    },
    {
      "cell_type": "markdown",
      "source": [
        "38. Train a Bagging Classifier and evaluate performance using Precision, Recall, and F1-score"
      ],
      "metadata": {
        "id": "e7Nwh74_FArn"
      }
    },
    {
      "cell_type": "code",
      "source": [
        "from sklearn.metrics import classification_report\n",
        "\n",
        "# Train Bagging Classifier\n",
        "bagging_model.fit(X_train, y_train)\n",
        "\n",
        "# Predict and evaluate\n",
        "y_pred = bagging_model.predict(X_test)\n",
        "print(\"Classification Report:\\n\", classification_report(y_test, y_pred))\n"
      ],
      "metadata": {
        "colab": {
          "base_uri": "https://localhost:8080/"
        },
        "id": "6fwOtdjuE92-",
        "outputId": "a4377d70-decc-48b9-c632-b1d46c530d41"
      },
      "execution_count": 39,
      "outputs": [
        {
          "output_type": "stream",
          "name": "stdout",
          "text": [
            "Classification Report:\n",
            "               precision    recall  f1-score   support\n",
            "\n",
            "           0       0.95      0.93      0.94        43\n",
            "           1       0.96      0.97      0.97        71\n",
            "\n",
            "    accuracy                           0.96       114\n",
            "   macro avg       0.96      0.95      0.95       114\n",
            "weighted avg       0.96      0.96      0.96       114\n",
            "\n"
          ]
        }
      ]
    },
    {
      "cell_type": "markdown",
      "source": [
        "39. Train a Random Forest Classifier and analyze the effect of max_depth on accuracy"
      ],
      "metadata": {
        "id": "HdZxJvi7FIKO"
      }
    },
    {
      "cell_type": "code",
      "source": [
        "for depth in [5, 10, 20, None]:\n",
        "    model = RandomForestClassifier(n_estimators=100, max_depth=depth, random_state=42)\n",
        "    model.fit(X_train, y_train)\n",
        "    acc = accuracy_score(y_test, model.predict(X_test))\n",
        "    print(f\"Random Forest Accuracy with max_depth={depth}:\", acc)\n"
      ],
      "metadata": {
        "colab": {
          "base_uri": "https://localhost:8080/"
        },
        "id": "NSlL_aQzFFAQ",
        "outputId": "63be75ba-a880-4cd5-b298-5eb604b2b541"
      },
      "execution_count": 40,
      "outputs": [
        {
          "output_type": "stream",
          "name": "stdout",
          "text": [
            "Random Forest Accuracy with max_depth=5: 0.9649122807017544\n",
            "Random Forest Accuracy with max_depth=10: 0.9649122807017544\n",
            "Random Forest Accuracy with max_depth=20: 0.9649122807017544\n",
            "Random Forest Accuracy with max_depth=None: 0.9649122807017544\n"
          ]
        }
      ]
    },
    {
      "cell_type": "markdown",
      "source": [
        "40. Train a Bagging Regressor using different base estimators (DecisionTree and KNeighbors) and compare performance"
      ],
      "metadata": {
        "id": "WObeNRWNFPXZ"
      }
    },
    {
      "cell_type": "code",
      "source": [
        "from sklearn.neighbors import KNeighborsRegressor\n",
        "\n",
        "# Train and compare different base estimators\n",
        "estimators = {\n",
        "    \"DecisionTree\": DecisionTreeRegressor(),\n",
        "    \"KNeighbors\": KNeighborsRegressor()\n",
        "}\n",
        "\n",
        "for name, estimator in estimators.items():\n",
        "    model = BaggingRegressor(estimator=estimator, n_estimators=50, random_state=42)\n",
        "    model.fit(X_train, y_train)\n",
        "    mse = mean_squared_error(y_test, model.predict(X_test))\n",
        "    print(f\"Bagging Regressor with {name} MSE:\", mse)\n"
      ],
      "metadata": {
        "colab": {
          "base_uri": "https://localhost:8080/"
        },
        "id": "CS5FiVcxFKbp",
        "outputId": "c5327345-5e2e-4f88-9270-03cd891f21aa"
      },
      "execution_count": 41,
      "outputs": [
        {
          "output_type": "stream",
          "name": "stdout",
          "text": [
            "Bagging Regressor with DecisionTree MSE: 0.03357543859649123\n",
            "Bagging Regressor with KNeighbors MSE: 0.02909782456140351\n"
          ]
        }
      ]
    },
    {
      "cell_type": "markdown",
      "source": [
        "41. Train a Random Forest Classifier and evaluate its performance using ROC-AUC Score"
      ],
      "metadata": {
        "id": "zNU7TXgRFkRK"
      }
    },
    {
      "cell_type": "code",
      "source": [
        "from sklearn.ensemble import RandomForestClassifier\n",
        "from sklearn.datasets import load_breast_cancer\n",
        "from sklearn.model_selection import train_test_split\n",
        "from sklearn.metrics import roc_auc_score\n",
        "\n",
        "# Load dataset\n",
        "data = load_breast_cancer()\n",
        "X, y = data.data, data.target\n",
        "\n",
        "# Split dataset\n",
        "X_train, X_test, y_train, y_test = train_test_split(X, y, test_size=0.2, random_state=42)\n",
        "\n",
        "# Train Random Forest Classifier\n",
        "model = RandomForestClassifier(n_estimators=100, random_state=42)\n",
        "model.fit(X_train, y_train)\n",
        "\n",
        "# Predict probabilities and compute ROC-AUC score\n",
        "y_pred_proba = model.predict_proba(X_test)[:, 1]  # Probability for positive class\n",
        "roc_auc = roc_auc_score(y_test, y_pred_proba)\n",
        "print(\"Random Forest ROC-AUC Score:\", roc_auc)\n"
      ],
      "metadata": {
        "colab": {
          "base_uri": "https://localhost:8080/"
        },
        "id": "PkDmGqtCFUF0",
        "outputId": "1e4c98df-eb4f-4ec9-9f47-b02277186ab3"
      },
      "execution_count": 42,
      "outputs": [
        {
          "output_type": "stream",
          "name": "stdout",
          "text": [
            "Random Forest ROC-AUC Score: 0.9952505732066819\n"
          ]
        }
      ]
    },
    {
      "cell_type": "markdown",
      "source": [
        "42. Train a Bagging Classifier and evaluate its performance using cross-validation"
      ],
      "metadata": {
        "id": "9CLsObxFFwLM"
      }
    },
    {
      "cell_type": "code",
      "source": [
        "from sklearn.ensemble import BaggingClassifier\n",
        "from sklearn.tree import DecisionTreeClassifier\n",
        "from sklearn.model_selection import cross_val_score\n",
        "\n",
        "# Train Bagging Classifier\n",
        "bagging_model = BaggingClassifier(estimator=DecisionTreeClassifier(), n_estimators=50, random_state=42)\n",
        "\n",
        "# Evaluate using cross-validation (5 folds)\n",
        "cv_scores = cross_val_score(bagging_model, X, y, cv=5, scoring='accuracy')\n",
        "\n",
        "print(\"Cross-Validation Scores:\", cv_scores)\n",
        "print(\"Mean Cross-Validation Accuracy:\", cv_scores.mean())\n"
      ],
      "metadata": {
        "colab": {
          "base_uri": "https://localhost:8080/"
        },
        "id": "JKogZbiKFoVN",
        "outputId": "ef3c158d-c03d-4dea-a5c1-701410d68260"
      },
      "execution_count": 43,
      "outputs": [
        {
          "output_type": "stream",
          "name": "stdout",
          "text": [
            "Cross-Validation Scores: [0.9122807  0.92105263 0.98245614 0.95614035 1.        ]\n",
            "Mean Cross-Validation Accuracy: 0.9543859649122808\n"
          ]
        }
      ]
    },
    {
      "cell_type": "markdown",
      "source": [
        "43. Train a Random Forest Classifier and plot the Precision-Recall curve"
      ],
      "metadata": {
        "id": "l71iND_iGDkB"
      }
    },
    {
      "cell_type": "code",
      "source": [
        "import matplotlib.pyplot as plt\n",
        "from sklearn.metrics import precision_recall_curve\n",
        "\n",
        "# Predict probabilities\n",
        "y_pred_proba = model.predict_proba(X_test)[:, 1]\n",
        "\n",
        "# Compute Precision-Recall curve\n",
        "precision, recall, _ = precision_recall_curve(y_test, y_pred_proba)\n",
        "\n",
        "# Plot Precision-Recall Curve\n",
        "plt.plot(recall, precision, marker='.')\n",
        "plt.xlabel('Recall')\n",
        "plt.ylabel('Precision')\n",
        "plt.title('Precision-Recall Curve - Random Forest')\n",
        "plt.show()\n"
      ],
      "metadata": {
        "colab": {
          "base_uri": "https://localhost:8080/",
          "height": 472
        },
        "id": "9eGV1f4OFyL2",
        "outputId": "d30bdb8b-4b34-4325-dc32-e5316ec25a31"
      },
      "execution_count": 44,
      "outputs": [
        {
          "output_type": "display_data",
          "data": {
            "text/plain": [
              "<Figure size 640x480 with 1 Axes>"
            ],
            "image/png": "[encoded data removed]"
          },
          "metadata": {}
        }
      ]
    },
    {
      "cell_type": "markdown",
      "source": [
        "44. Train a Stacking Classifier with Random Forest and Logistic Regression and compare accuracy"
      ],
      "metadata": {
        "id": "RHlwGQJnGOPq"
      }
    },
    {
      "cell_type": "code",
      "source": [
        "from sklearn.ensemble import StackingClassifier\n",
        "from sklearn.linear_model import LogisticRegression\n",
        "\n",
        "# Define base models\n",
        "base_models = [\n",
        "    ('random_forest', RandomForestClassifier(n_estimators=100, random_state=42))\n",
        "]\n",
        "\n",
        "# Train Stacking Classifier\n",
        "stacking_model = StackingClassifier(estimators=base_models, final_estimator=LogisticRegression())\n",
        "stacking_model.fit(X_train, y_train)\n",
        "\n",
        "# Predict and evaluate\n",
        "accuracy = stacking_model.score(X_test, y_test)\n",
        "print(\"Stacking Classifier Accuracy:\", accuracy)\n"
      ],
      "metadata": {
        "colab": {
          "base_uri": "https://localhost:8080/"
        },
        "id": "VN4gxT0NGKmb",
        "outputId": "4a9a7bde-e392-4f6d-f48b-95f31f90ef88"
      },
      "execution_count": 45,
      "outputs": [
        {
          "output_type": "stream",
          "name": "stdout",
          "text": [
            "Stacking Classifier Accuracy: 0.9649122807017544\n"
          ]
        }
      ]
    },
    {
      "cell_type": "markdown",
      "source": [
        "45. Train a Bagging Regressor with different levels of bootstrap samples and compare performance"
      ],
      "metadata": {
        "id": "OM98bYvyGgdI"
      }
    },
    {
      "cell_type": "code",
      "source": [
        "from sklearn.ensemble import BaggingRegressor\n",
        "from sklearn.tree import DecisionTreeRegressor\n",
        "from sklearn.metrics import mean_squared_error\n",
        "\n",
        "# Train and compare Bagging Regressor with different bootstrap settings\n",
        "for bootstrap in [True, False]:\n",
        "    model = BaggingRegressor(estimator=DecisionTreeRegressor(), n_estimators=50, random_state=42, bootstrap=bootstrap)\n",
        "    model.fit(X_train, y_train)\n",
        "    mse = mean_squared_error(y_test, model.predict(X_test))\n",
        "    print(f\"Bagging Regressor with bootstrap={bootstrap} MSE:\", mse)\n"
      ],
      "metadata": {
        "colab": {
          "base_uri": "https://localhost:8080/"
        },
        "id": "2UVOSNOkGVVt",
        "outputId": "436cb013-6823-4fba-8b3c-c59dccb4183a"
      },
      "execution_count": 46,
      "outputs": [
        {
          "output_type": "stream",
          "name": "stdout",
          "text": [
            "Bagging Regressor with bootstrap=True MSE: 0.03357543859649123\n",
            "Bagging Regressor with bootstrap=False MSE: 0.05620350877192982\n"
          ]
        }
      ]
    },
    {
      "cell_type": "code",
      "source": [],
      "metadata": {
        "id": "uuK1LanMGpAz"
      },
      "execution_count": null,
      "outputs": []
    }
  ]
}
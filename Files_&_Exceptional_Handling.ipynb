{
  "nbformat": 4,
  "nbformat_minor": 0,
  "metadata": {
    "colab": {
      "provenance": [],
      "authorship_tag": "ABX9TyNSty+J17gq6Uuc79niFcDQ",
      "include_colab_link": true
    },
    "kernelspec": {
      "name": "python3",
      "display_name": "Python 3"
    },
    "language_info": {
      "name": "python"
    }
  },
  "cells": [
    {
      "cell_type": "markdown",
      "metadata": {
        "id": "view-in-github",
        "colab_type": "text"
      },
      "source": [
        "<a href=\"https://colab.research.google.com/github/dinesh2018iitism/Learning-Python-From-PW/blob/main/Files_%26_Exceptional_Handling.ipynb\" target=\"_parent\"><img src=\"https://colab.research.google.com/assets/colab-badge.svg\" alt=\"Open In Colab\"/></a>"
      ]
    },
    {
      "cell_type": "markdown",
      "source": [
        "1.  Discuss the scenarios where multithreading is preferable to multiprocessing and scenarios where\n",
        "multiprocessing is a better choice."
      ],
      "metadata": {
        "id": "UMl88MZLKGwJ"
      }
    },
    {
      "cell_type": "code",
      "execution_count": 1,
      "metadata": {
        "id": "SQlTKdv0KA77",
        "colab": {
          "base_uri": "https://localhost:8080/",
          "height": 70
        },
        "outputId": "719d4edd-a308-48d4-8bfe-0fa17011a272"
      },
      "outputs": [
        {
          "output_type": "execute_result",
          "data": {
            "text/plain": [
              "'\\nMultithreading: \\n\\nI/O-bound tasks (waiting for data from external sources).\\nTasks that need shared memory or resources.\\nLightweight concurrency.\\nParallelism within a sigle process.\\n\\nMultiprocessing:\\nCPU-bound tasks (heavy computation).\\nTrue parallelism (independent processes running on different cores).\\nTasks that don’t require shared data or memory.\\n'"
            ],
            "application/vnd.google.colaboratory.intrinsic+json": {
              "type": "string"
            }
          },
          "metadata": {},
          "execution_count": 1
        }
      ],
      "source": [
        "\"\"\"\n",
        "Multithreading:\n",
        "\n",
        "I/O-bound tasks (waiting for data from external sources).\n",
        "Tasks that need shared memory or resources.\n",
        "Lightweight concurrency.\n",
        "Parallelism within a sigle process.\n",
        "\n",
        "Multiprocessing:\n",
        "\n",
        "CPU-bound tasks\n",
        "Hheavy computation.\n",
        "Parallelization across multiple cores.\n",
        "communication between process.\n",
        "Independent processes running on different cores.\n",
        "Tasks that don’t require shared data or memory.\n",
        "\"\"\""
      ]
    },
    {
      "cell_type": "markdown",
      "source": [
        "2. Describe what a process pool is and how it helps in managing multiple processes efficiently"
      ],
      "metadata": {
        "id": "YqhqtN81KElg"
      }
    },
    {
      "cell_type": "code",
      "source": [
        "\"\"\"A process pool in Python is a tool for managing multiple processes efficiently.\n",
        "Instead of creating and destroying processes repeatedly for each task,\n",
        "the process pool creates a specified number of processes once and\n",
        "reuses them, improving performance and resource management.\n",
        "\n",
        "How a Process Pool Helps in Managing Multiple Processes Efficiently:\n",
        "\n",
        "1. Reduced Overhead.\n",
        "2. Optimal Resource Utilization.\n",
        "3. Task Parallelism.\n",
        "4. Simplified Process Management.\n",
        "\n",
        "\"\"\"\n",
        "from multiprocessing import Pool\n",
        "\n",
        "def square(x):\n",
        "    return x * x\n",
        "\n",
        "if __name__ == \"__main__\":\n",
        "    # Create a process pool with 4 worker processes\n",
        "    with Pool(4) as pool:\n",
        "        numbers = [1, 2, 3, 4, 5]\n",
        "        result = pool.map(square, numbers)\n",
        "        print(result)\n",
        "\n",
        "\n"
      ],
      "metadata": {
        "id": "aOHfQLZJKF-3",
        "colab": {
          "base_uri": "https://localhost:8080/"
        },
        "outputId": "35ff4de6-cfb0-46ad-d09e-01a8381b64f3"
      },
      "execution_count": 2,
      "outputs": [
        {
          "output_type": "stream",
          "name": "stdout",
          "text": [
            "[1, 4, 9, 16, 25]\n"
          ]
        }
      ]
    },
    {
      "cell_type": "markdown",
      "source": [
        "3. Explain what multiprocessing is and why it is used in Python programs."
      ],
      "metadata": {
        "id": "mj6r_SZwKHVz"
      }
    },
    {
      "cell_type": "code",
      "source": [
        "\"\"\"\n",
        "Multiprocessing refers to the ability of a system to run multiple processes simultaneously.\n",
        "Multiprocessing allows CPU-bound tasks to run in parallel.\n",
        "Each process runs independently with its own memory space.\n",
        "\"\"\"\n",
        "\n",
        "import multiprocessing\n",
        "import time\n",
        "\n",
        "def task(name):\n",
        "    print(f\"Task {name} is starting\")\n",
        "    time.sleep(2)\n",
        "    print(f\"Task {name} is completed\")\n",
        "\n",
        "if __name__ == \"__main__\":\n",
        "\n",
        "    processes = []\n",
        "\n",
        "    for i in range(3):\n",
        "\n",
        "        process = multiprocessing.Process(target=task, args=(i,))\n",
        "        processes.append(process)\n",
        "        process.start()  # Start the process\n",
        "    for process in processes:\n",
        "        process.join()\n",
        "\n",
        "    print(\"All tasks are completed.\")\n",
        "\n"
      ],
      "metadata": {
        "id": "QEbUUMc4KII9",
        "colab": {
          "base_uri": "https://localhost:8080/"
        },
        "outputId": "684d095b-2c7d-49f5-8af2-7c4439b1d2be"
      },
      "execution_count": 5,
      "outputs": [
        {
          "output_type": "stream",
          "name": "stdout",
          "text": [
            "Task 0 is startingTask 1 is starting\n",
            "\n",
            "Task 2 is starting\n",
            "Task 0 is completed\n",
            "Task 1 is completed\n",
            "Task 2 is completed\n",
            "All tasks are completed.\n"
          ]
        }
      ]
    },
    {
      "cell_type": "markdown",
      "source": [
        "4. Write a Python program using multithreading where one thread adds numbers to a list, and another\n",
        "thread removes numbers from the list. Implement a mechanism to avoid race conditions using\n",
        "threading.Lock."
      ],
      "metadata": {
        "id": "uTB9y0ssKI3G"
      }
    },
    {
      "cell_type": "code",
      "source": [
        "import threading\n",
        "import time\n",
        "\n",
        "shared_list = []\n",
        "lock = threading.Lock()\n",
        "def add_to_list():\n",
        "    for i in range(5):\n",
        "        time.sleep(1)  # Simulating some delay\n",
        "        lock.acquire()  # Acquire the lock before modifying the list\n",
        "        shared_list.append(i)\n",
        "        print(f\"Added {i} to the list.\")\n",
        "        lock.release()  # Release the lock after modification\n",
        "\n",
        "# Function to remove numbers from the list\n",
        "def remove_from_list():\n",
        "    for i in range(5):\n",
        "        time.sleep(2)  # Simulating some delay\n",
        "        lock.acquire()  # Acquire the lock before modifying the list\n",
        "        if shared_list:\n",
        "            removed_item = shared_list.pop(0)\n",
        "            print(f\"Removed {removed_item} from the list.\")\n",
        "        else:\n",
        "            print(\"List is empty, nothing to remove.\")\n",
        "        lock.release()  # Release the lock after modification\n",
        "\n",
        "# Creating threads\n",
        "thread1 = threading.Thread(target=add_to_list)\n",
        "thread2 = threading.Thread(target=remove_from_list)\n",
        "\n",
        "# Starting threads\n",
        "thread1.start()\n",
        "thread2.start()\n",
        "\n",
        "# Waiting for both threads to complete\n",
        "thread1.join()\n",
        "thread2.join()\n",
        "\n",
        "print(\"Final list:\", shared_list)\n"
      ],
      "metadata": {
        "id": "SYL8rcycKJih",
        "colab": {
          "base_uri": "https://localhost:8080/"
        },
        "outputId": "13cf354b-502b-46be-a2b8-98628f2e532c"
      },
      "execution_count": 6,
      "outputs": [
        {
          "output_type": "stream",
          "name": "stdout",
          "text": [
            "Added 0 to the list.\n",
            "Removed 0 from the list.\n",
            "Added 1 to the list.\n",
            "Added 2 to the list.\n",
            "Removed 1 from the list.\n",
            "Added 3 to the list.\n",
            "Added 4 to the list.\n",
            "Removed 2 from the list.\n",
            "Removed 3 from the list.\n",
            "Removed 4 from the list.\n",
            "Final list: []\n"
          ]
        }
      ]
    },
    {
      "cell_type": "markdown",
      "source": [
        "5. Describe the methods and tools available in Python for safely sharing data between threads and\n",
        "processes."
      ],
      "metadata": {
        "id": "SvR5y2XPKboC"
      }
    },
    {
      "cell_type": "code",
      "source": [
        "'''\n",
        "threading.Lock: Prevents multiple threads from accessing the same resource simultaneously.\n",
        "threading.RLock: A reentrant lock that allows a thread to acquire it multiple times.\n",
        "threading.Condition:Allows threads to wait for certain conditions and notify others when the condition is met.\n",
        "threading.Event: Provides a way for threads to signal each other.\n",
        "\n",
        "\n",
        "multiprocessing.Lock: Similar to threading.Lock, but for use with processes.\n",
        "multiprocessing.Queue: Allows processes to share data through a queue.\n",
        "multiprocessing.Pipe:Provides a way for processes to communicate with each other.\n",
        "multiprocessing.Manager:Manages shared state between processes.\n",
        "'''\n",
        "\n"
      ],
      "metadata": {
        "id": "fFDCn8ohKfjp",
        "colab": {
          "base_uri": "https://localhost:8080/",
          "height": 105
        },
        "outputId": "0165cf37-0f94-45b6-8692-0390a57324c8"
      },
      "execution_count": 8,
      "outputs": [
        {
          "output_type": "execute_result",
          "data": {
            "text/plain": [
              "'\\nthreading.Lock: Prevents multiple threads from accessing the same resource simultaneously.\\nthreading.RLock: A reentrant lock that allows a thread to acquire it multiple times.\\nthreading.Condition:Allows threads to wait for certain conditions and notify others when the condition is met.\\nthreading.Event: Provides a way for threads to signal each other.\\n\\n\\nmultiprocessing.Lock: Similar to threading.Lock, but for use with processes.\\nmultiprocessing.Queue: Allows processes to share data through a queue.\\nmultiprocessing.Pipe:Provides a way for processes to communicate with each other.\\nmultiprocessing.Manager:Manages shared state between processes.\\n'"
            ],
            "application/vnd.google.colaboratory.intrinsic+json": {
              "type": "string"
            }
          },
          "metadata": {},
          "execution_count": 8
        }
      ]
    },
    {
      "cell_type": "markdown",
      "source": [
        "6. Discuss why it’s crucial to handle exceptions in concurrent programs and the techniques available for\n",
        "doing so."
      ],
      "metadata": {
        "id": "yUjFcDQ4Kggm"
      }
    },
    {
      "cell_type": "code",
      "source": [
        "\"\"\"\n",
        "Handling exceptions in concurrent programs is crucial due to the complexities\n",
        "and potential issues that arise when multiple threads or processes operate simultaneously.\n",
        "\n",
        "Importance of Handling Exceptions in Concurrent Programs:\n",
        "\n",
        "a)Complex Interactions\n",
        "b)Resource Management\n",
        "c)Debugging and Maintenance\n",
        "d)Graceful Degradation\n",
        "\n",
        "Techniques for Handling Exceptions:\n",
        "\n",
        "1. Threading\n",
        "2. Multiprocessing\n",
        "\"\"\""
      ],
      "metadata": {
        "id": "EqCwPHLiKiqI",
        "colab": {
          "base_uri": "https://localhost:8080/",
          "height": 70
        },
        "outputId": "69bce2fd-3887-493b-8fd7-18c5deb5a954"
      },
      "execution_count": 9,
      "outputs": [
        {
          "output_type": "execute_result",
          "data": {
            "text/plain": [
              "'\\nHandling exceptions in concurrent programs is crucial due to the complexities \\nand potential issues that arise when multiple threads or processes operate simultaneously.\\n\\nImportance of Handling Exceptions in Concurrent Programs:\\n\\na)Complex Interactions\\nb)Resource Management\\nc)Debugging and Maintenance\\nd)Graceful Degradation\\n\\nTechniques for Handling Exceptions:\\n\\n1. Threading\\n2. Multiprocessing\\n'"
            ],
            "application/vnd.google.colaboratory.intrinsic+json": {
              "type": "string"
            }
          },
          "metadata": {},
          "execution_count": 9
        }
      ]
    },
    {
      "cell_type": "markdown",
      "source": [
        "7. Create a program that uses a thread pool to calculate the factorial of numbers from 1 to 10 concurrently.\n",
        "Use concurrent.futures.ThreadPoolExecutor to manage the threads."
      ],
      "metadata": {
        "id": "CXpICpfEKja1"
      }
    },
    {
      "cell_type": "code",
      "source": [
        "from concurrent.futures import ThreadPoolExecutor, as_completed\n",
        "import math\n",
        "\n",
        "def calculate_factorial(n):\n",
        "    return math.factorial(n)\n",
        "def main():\n",
        "    numbers = list(range(1, 11))\n",
        "    with ThreadPoolExecutor(max_workers=5) as executor:\n",
        "        future_to_number = {executor.submit(calculate_factorial, num): num for num in numbers}\n",
        "        for future in as_completed(future_to_number):\n",
        "            number = future_to_number[future]\n",
        "            try:\n",
        "                result = future.result()\n",
        "                print(f\"Factorial of {number} is {result}\")\n",
        "            except Exception as e:\n",
        "                print(f\"An error occurred: {e}\")\n",
        "\n",
        "if __name__ == \"__main__\":\n",
        "    main()\n"
      ],
      "metadata": {
        "id": "2q-UnDzbKm61",
        "colab": {
          "base_uri": "https://localhost:8080/"
        },
        "outputId": "9977ffcc-f901-4e3e-df03-6da09b4caaad"
      },
      "execution_count": 10,
      "outputs": [
        {
          "output_type": "stream",
          "name": "stdout",
          "text": [
            "Factorial of 2 is 2\n",
            "Factorial of 9 is 362880\n",
            "Factorial of 1 is 1\n",
            "Factorial of 8 is 40320\n",
            "Factorial of 5 is 120\n",
            "Factorial of 6 is 720\n",
            "Factorial of 7 is 5040\n",
            "Factorial of 4 is 24\n",
            "Factorial of 10 is 3628800\n",
            "Factorial of 3 is 6\n"
          ]
        }
      ]
    },
    {
      "cell_type": "markdown",
      "source": [
        "8. Create a Python program that uses multiprocessing.Pool to compute the square of numbers from 1 to 10 in\n",
        "parallel. Measure the time taken to perform this computation using a pool of different sizes (e.g., 2, 4, 8\n",
        "processes)."
      ],
      "metadata": {
        "id": "mzMXMB9-Kn9N"
      }
    },
    {
      "cell_type": "code",
      "source": [
        "import multiprocessing\n",
        "import time\n",
        "\n",
        "def square(n):\n",
        "    return n * n\n",
        "\n",
        "def compute_squares(pool_size):\n",
        "    numbers = list(range(1, 11))\n",
        "    start_time = time.time()\n",
        "    with multiprocessing.Pool(processes=pool_size) as pool:\n",
        "        results = pool.map(square, numbers)\n",
        "    end_time = time.time()\n",
        "    print(f\"Pool size: {pool_size}\")\n",
        "    print(f\"Squares: {results}\")\n",
        "    print(f\"Time taken: {end_time - start_time:.6f} seconds\\n\")\n",
        "if __name__ == \"__main__\":\n",
        "    for pool_size in [2, 4, 8]:\n",
        "        compute_squares(pool_size)\n"
      ],
      "metadata": {
        "id": "8uzKLXVAKtMK",
        "colab": {
          "base_uri": "https://localhost:8080/"
        },
        "outputId": "370d3acd-d4c2-4a22-a813-d9b120f650d1"
      },
      "execution_count": 11,
      "outputs": [
        {
          "output_type": "stream",
          "name": "stdout",
          "text": [
            "Pool size: 2\n",
            "Squares: [1, 4, 9, 16, 25, 36, 49, 64, 81, 100]\n",
            "Time taken: 0.074561 seconds\n",
            "\n",
            "Pool size: 4\n",
            "Squares: [1, 4, 9, 16, 25, 36, 49, 64, 81, 100]\n",
            "Time taken: 0.154230 seconds\n",
            "\n",
            "Pool size: 8\n",
            "Squares: [1, 4, 9, 16, 25, 36, 49, 64, 81, 100]\n",
            "Time taken: 0.293930 seconds\n",
            "\n"
          ]
        }
      ]
    },
    {
      "cell_type": "code",
      "source": [],
      "metadata": {
        "id": "9vwOuKiX3Ywg"
      },
      "execution_count": null,
      "outputs": []
    }
  ]
}
{
  "nbformat": 4,
  "nbformat_minor": 0,
  "metadata": {
    "colab": {
      "provenance": [],
      "authorship_tag": "ABX9TyNG0pxv/5bjMyAoRbsM19wA",
      "include_colab_link": true
    },
    "kernelspec": {
      "name": "python3",
      "display_name": "Python 3"
    },
    "language_info": {
      "name": "python"
    }
  },
  "cells": [
    {
      "cell_type": "markdown",
      "metadata": {
        "id": "view-in-github",
        "colab_type": "text"
      },
      "source": [
        "<a href=\"https://colab.research.google.com/github/dinesh2018iitism/Learning-Python-From-PW/blob/main/My_First_Assignment.ipynb\" target=\"_parent\"><img src=\"https://colab.research.google.com/assets/colab-badge.svg\" alt=\"Open In Colab\"/></a>"
      ]
    },
    {
      "cell_type": "markdown",
      "source": [
        "1.Explain the key features of Python that make it a popular choice for programming.\n",
        "\n",
        "Ans:\n",
        "There are many key features of python that make it is the best choice for programming.\n",
        "Here i am listing some them-\n",
        "I. There are lots of Inbuilt Function.\n",
        "II. Free and Open Source.\n",
        "III. Ease to code, debug.\n",
        "IV. Large number of libraries are present in Python.\n"
      ],
      "metadata": {
        "id": "679M-d70PHzs"
      }
    },
    {
      "cell_type": "markdown",
      "source": [
        "2.Describe the role of predefined keywords in Python and provide examples of how they are used in a program\n",
        "\n",
        "Ans:\n",
        "\n",
        "Predefined keywords are fundamental in python programming.\n",
        "Keywords help us to write the code in an easier way.\n",
        "\n",
        "Example: if, elif, else\n",
        "These keywords decide what code to run based on condition.\n"
      ],
      "metadata": {
        "id": "XbT9CAv8PGMK"
      }
    },
    {
      "cell_type": "code",
      "execution_count": 3,
      "metadata": {
        "colab": {
          "base_uri": "https://localhost:8080/"
        },
        "id": "77JzCWs-PDI5",
        "outputId": "886b033b-b5ca-48a9-cb23-532726a35ee9"
      },
      "outputs": [
        {
          "output_type": "stream",
          "name": "stdout",
          "text": [
            "its not hot\n"
          ]
        }
      ],
      "source": [
        "##Example:\n",
        "\n",
        "temp = 30\n",
        "if temp > 30:\n",
        "  print (\"Its a hot day\")\n",
        "else:\n",
        "  print (\"its not hot\")"
      ]
    },
    {
      "cell_type": "markdown",
      "source": [
        "3. Compare and contrast mutable and immutable objects in Python with examples"
      ],
      "metadata": {
        "id": "uFFck6SgP8xo"
      }
    },
    {
      "cell_type": "code",
      "source": [
        "##Mutable Object: Here element can be changed after creation.\n",
        "\n",
        "my_list = [\"apple\", \"banana\", \"orange\"]"
      ],
      "metadata": {
        "id": "QesX4f-KPxFN"
      },
      "execution_count": 4,
      "outputs": []
    },
    {
      "cell_type": "code",
      "source": [
        "my_list"
      ],
      "metadata": {
        "colab": {
          "base_uri": "https://localhost:8080/"
        },
        "id": "DSQrhYW5Qklc",
        "outputId": "9e0570b5-8c3c-48c0-9eef-959b58dad907"
      },
      "execution_count": 5,
      "outputs": [
        {
          "output_type": "execute_result",
          "data": {
            "text/plain": [
              "['apple', 'banana', 'orange']"
            ]
          },
          "metadata": {},
          "execution_count": 5
        }
      ]
    },
    {
      "cell_type": "code",
      "source": [
        "my_list [2]"
      ],
      "metadata": {
        "colab": {
          "base_uri": "https://localhost:8080/",
          "height": 35
        },
        "id": "_O4Hrrs1Qmrx",
        "outputId": "55f5f744-fccb-4624-e468-5f08a5046de3"
      },
      "execution_count": 6,
      "outputs": [
        {
          "output_type": "execute_result",
          "data": {
            "text/plain": [
              "'orange'"
            ],
            "application/vnd.google.colaboratory.intrinsic+json": {
              "type": "string"
            }
          },
          "metadata": {},
          "execution_count": 6
        }
      ]
    },
    {
      "cell_type": "code",
      "source": [
        "my_list[2]= \"grapes\""
      ],
      "metadata": {
        "id": "IuwF39OAQuJG"
      },
      "execution_count": 8,
      "outputs": []
    },
    {
      "cell_type": "code",
      "source": [
        "my_list"
      ],
      "metadata": {
        "colab": {
          "base_uri": "https://localhost:8080/"
        },
        "id": "037GYEACQ0da",
        "outputId": "22bf570e-7494-49fa-832a-39bf45bc06b4"
      },
      "execution_count": 9,
      "outputs": [
        {
          "output_type": "execute_result",
          "data": {
            "text/plain": [
              "['apple', 'banana', 'grapes']"
            ]
          },
          "metadata": {},
          "execution_count": 9
        }
      ]
    },
    {
      "cell_type": "code",
      "source": [
        "##See here the 3rd element now got updated"
      ],
      "metadata": {
        "id": "RyfV85V5Q42F"
      },
      "execution_count": 10,
      "outputs": []
    },
    {
      "cell_type": "code",
      "source": [
        "##Immutable:  Here element can not be changed after creation.\n",
        "## like tuple\n",
        "\n",
        "my_tuple = (\"dinesh\", \"halder\", \"Physics\")\n",
        "\n"
      ],
      "metadata": {
        "id": "bSgSqZ1mRDLX"
      },
      "execution_count": 12,
      "outputs": []
    },
    {
      "cell_type": "code",
      "source": [
        "my_tuple"
      ],
      "metadata": {
        "colab": {
          "base_uri": "https://localhost:8080/"
        },
        "id": "Os9QWcT-Rz7i",
        "outputId": "35ab581d-7926-4b1a-f911-d59703364910"
      },
      "execution_count": 13,
      "outputs": [
        {
          "output_type": "execute_result",
          "data": {
            "text/plain": [
              "('dinesh', 'halder', 'Physics')"
            ]
          },
          "metadata": {},
          "execution_count": 13
        }
      ]
    },
    {
      "cell_type": "code",
      "source": [
        "my_tuple [2]"
      ],
      "metadata": {
        "colab": {
          "base_uri": "https://localhost:8080/",
          "height": 35
        },
        "id": "8BdrgoGzR5Gs",
        "outputId": "e46afd02-78f5-4b77-eea4-379dc5ff6275"
      },
      "execution_count": 14,
      "outputs": [
        {
          "output_type": "execute_result",
          "data": {
            "text/plain": [
              "'Physics'"
            ],
            "application/vnd.google.colaboratory.intrinsic+json": {
              "type": "string"
            }
          },
          "metadata": {},
          "execution_count": 14
        }
      ]
    },
    {
      "cell_type": "code",
      "source": [
        "my_tuple [2] = \"chemistry\"\n",
        " ###Here item assignment does not possible."
      ],
      "metadata": {
        "colab": {
          "base_uri": "https://localhost:8080/",
          "height": 144
        },
        "id": "vXZyfe2BSAy5",
        "outputId": "274e59b6-2077-4488-dad9-8254c0f49e49"
      },
      "execution_count": 15,
      "outputs": [
        {
          "output_type": "error",
          "ename": "TypeError",
          "evalue": "'tuple' object does not support item assignment",
          "traceback": [
            "\u001b[0;31m---------------------------------------------------------------------------\u001b[0m",
            "\u001b[0;31mTypeError\u001b[0m                                 Traceback (most recent call last)",
            "\u001b[0;32m<ipython-input-15-f1981a097a09>\u001b[0m in \u001b[0;36m<cell line: 1>\u001b[0;34m()\u001b[0m\n\u001b[0;32m----> 1\u001b[0;31m \u001b[0mmy_tuple\u001b[0m \u001b[0;34m[\u001b[0m\u001b[0;36m2\u001b[0m\u001b[0;34m]\u001b[0m \u001b[0;34m=\u001b[0m \u001b[0;34m\"chemistry\"\u001b[0m\u001b[0;34m\u001b[0m\u001b[0;34m\u001b[0m\u001b[0m\n\u001b[0m",
            "\u001b[0;31mTypeError\u001b[0m: 'tuple' object does not support item assignment"
          ]
        }
      ]
    },
    {
      "cell_type": "markdown",
      "source": [
        "4. Discuss the different types of operators in Python and provide examples of how they are used.\n",
        "\n",
        "\n",
        "Operator: Operation to manupulate DATA.\n",
        "\n",
        "Special Keywords OR Symbols that use to perform operation on values or variables.\n",
        "\n",
        "Why we need them: Manage to do computation and make decision by using data.\n",
        "\n",
        "Types of Operator\n",
        "\n",
        "Arithmetic Operator\n",
        "\n",
        "Comparision Operator\n",
        "\n",
        "Logical Operator\n",
        "\n",
        "Bitwise Operator\n",
        "\n",
        "Assignment Operator\n",
        "\n",
        "Identity Operator\n",
        "\n",
        "Membership Operator"
      ],
      "metadata": {
        "id": "hLlodHZUREFO"
      }
    },
    {
      "cell_type": "code",
      "source": [
        "####Arithmetic Operator\n",
        "a = 2\n",
        "b=3\n",
        "a + b"
      ],
      "metadata": {
        "colab": {
          "base_uri": "https://localhost:8080/"
        },
        "id": "JgFAJLDBTAq7",
        "outputId": "b63d5f89-1bd2-4094-9c20-d01e796d002b"
      },
      "execution_count": 16,
      "outputs": [
        {
          "output_type": "execute_result",
          "data": {
            "text/plain": [
              "5"
            ]
          },
          "metadata": {},
          "execution_count": 16
        }
      ]
    },
    {
      "cell_type": "code",
      "source": [
        "##Direct Operation Also Possible\n",
        "87+879940"
      ],
      "metadata": {
        "colab": {
          "base_uri": "https://localhost:8080/"
        },
        "id": "_y6yM56pTqEJ",
        "outputId": "1c4805b2-ca5d-4a97-fdd8-63866042be76"
      },
      "execution_count": 17,
      "outputs": [
        {
          "output_type": "execute_result",
          "data": {
            "text/plain": [
              "880027"
            ]
          },
          "metadata": {},
          "execution_count": 17
        }
      ]
    },
    {
      "cell_type": "code",
      "source": [
        "21/4"
      ],
      "metadata": {
        "colab": {
          "base_uri": "https://localhost:8080/"
        },
        "id": "0sis2GlSTtKf",
        "outputId": "02bdcf1d-068a-4596-b66d-a797d99b1381"
      },
      "execution_count": 18,
      "outputs": [
        {
          "output_type": "execute_result",
          "data": {
            "text/plain": [
              "5.25"
            ]
          },
          "metadata": {},
          "execution_count": 18
        }
      ]
    },
    {
      "cell_type": "code",
      "source": [
        "78%3\n",
        "##Modulus for Finding Remainder"
      ],
      "metadata": {
        "colab": {
          "base_uri": "https://localhost:8080/"
        },
        "id": "Wkbx-gP1T844",
        "outputId": "107510e6-004b-4c77-9c3a-acfb7dcf7db0"
      },
      "execution_count": 21,
      "outputs": [
        {
          "output_type": "execute_result",
          "data": {
            "text/plain": [
              "0"
            ]
          },
          "metadata": {},
          "execution_count": 21
        }
      ]
    },
    {
      "cell_type": "code",
      "source": [
        "2!=2\n",
        "## != is sign for not equal\n",
        "## == is sign for equal"
      ],
      "metadata": {
        "colab": {
          "base_uri": "https://localhost:8080/"
        },
        "id": "wfJvCAJ2TvmJ",
        "outputId": "eab3f94c-d69a-4f84-ffcf-766e1588cc6d"
      },
      "execution_count": 19,
      "outputs": [
        {
          "output_type": "execute_result",
          "data": {
            "text/plain": [
              "False"
            ]
          },
          "metadata": {},
          "execution_count": 19
        }
      ]
    },
    {
      "cell_type": "code",
      "source": [
        "2**3\n",
        "##Double asterisk for Power"
      ],
      "metadata": {
        "colab": {
          "base_uri": "https://localhost:8080/"
        },
        "id": "Ysnx6VGIT0pA",
        "outputId": "5a064b95-3a08-493c-9a16-abbc9c7daed8"
      },
      "execution_count": 20,
      "outputs": [
        {
          "output_type": "execute_result",
          "data": {
            "text/plain": [
              "8"
            ]
          },
          "metadata": {},
          "execution_count": 20
        }
      ]
    },
    {
      "cell_type": "code",
      "source": [
        "True and True"
      ],
      "metadata": {
        "colab": {
          "base_uri": "https://localhost:8080/"
        },
        "id": "R4pL3OQhT5VZ",
        "outputId": "afc895b6-8b93-467c-f64e-23c5c24f258d"
      },
      "execution_count": 22,
      "outputs": [
        {
          "output_type": "execute_result",
          "data": {
            "text/plain": [
              "True"
            ]
          },
          "metadata": {},
          "execution_count": 22
        }
      ]
    },
    {
      "cell_type": "code",
      "source": [
        "a = 10\n",
        "a+5"
      ],
      "metadata": {
        "colab": {
          "base_uri": "https://localhost:8080/"
        },
        "id": "jc-NH03uUHuK",
        "outputId": "b6233809-0876-4c34-8b83-a4f4d9c6d254"
      },
      "execution_count": 23,
      "outputs": [
        {
          "output_type": "execute_result",
          "data": {
            "text/plain": [
              "15"
            ]
          },
          "metadata": {},
          "execution_count": 23
        }
      ]
    },
    {
      "cell_type": "code",
      "source": [],
      "metadata": {
        "id": "jtEF4ulKUNnY"
      },
      "execution_count": null,
      "outputs": []
    },
    {
      "cell_type": "markdown",
      "source": [
        "5. Explain the concept of type casting in Python with examples\n",
        "\n",
        "\n",
        "\n",
        "Type Casting are Two Types:\n",
        "\n",
        "Implicit Type Casting\n",
        "\n",
        "when we are changing from one data type to another data type that we called implict data type.\n",
        "\n",
        "Explicit Type Casting\n",
        "\n",
        "Here if i write\n",
        "\n",
        "a = \"DINESH\n",
        "\n",
        "b = 5\n",
        "\n",
        "a +b will be invalid\n",
        "\n",
        "BUTTTTT\n"
      ],
      "metadata": {
        "id": "O44J7WHqURSm"
      }
    },
    {
      "cell_type": "code",
      "source": [
        "##This is the example of explicit type casting\n",
        "a = \"Dinesh\"\n",
        "b = \"Halder\"\n",
        "a+b"
      ],
      "metadata": {
        "colab": {
          "base_uri": "https://localhost:8080/",
          "height": 35
        },
        "id": "rRPYgvdQUbxy",
        "outputId": "c3425747-17e7-4461-f1f8-b1d28b3de526"
      },
      "execution_count": 24,
      "outputs": [
        {
          "output_type": "execute_result",
          "data": {
            "text/plain": [
              "'DineshHalder'"
            ],
            "application/vnd.google.colaboratory.intrinsic+json": {
              "type": "string"
            }
          },
          "metadata": {},
          "execution_count": 24
        }
      ]
    },
    {
      "cell_type": "code",
      "source": [],
      "metadata": {
        "id": "sMnDOsAUU77q"
      },
      "execution_count": null,
      "outputs": []
    },
    {
      "cell_type": "markdown",
      "source": [
        "6.  How do conditional statements work in Python? Illustrate with examples\n"
      ],
      "metadata": {
        "id": "aSQm_FovVTtP"
      }
    },
    {
      "cell_type": "code",
      "source": [
        "##Conditional Statement - if , if else, if elif else, nested if else\n",
        "\n"
      ],
      "metadata": {
        "id": "YGOxCR6lVS-o"
      },
      "execution_count": null,
      "outputs": []
    },
    {
      "cell_type": "markdown",
      "source": [
        "If Statement:\n",
        "\n",
        "If the condition is true:\n",
        "\n",
        "The block of the code will  execute\n",
        "\n",
        "if the condtion is not true the block of code will not work.\n",
        "\n",
        "it is not going to give any output to us."
      ],
      "metadata": {
        "id": "ygLwyWvmV1Rc"
      }
    },
    {
      "cell_type": "code",
      "source": [
        "num=9\n",
        "if num%2!=0:\n",
        "  print(\"The number is odd number\")"
      ],
      "metadata": {
        "colab": {
          "base_uri": "https://localhost:8080/"
        },
        "id": "6G-C_TY0WJr9",
        "outputId": "a036ae2f-bf05-4db8-fe77-b1d0935fa7cb"
      },
      "execution_count": 26,
      "outputs": [
        {
          "output_type": "stream",
          "name": "stdout",
          "text": [
            "The number is odd number\n"
          ]
        }
      ]
    },
    {
      "cell_type": "code",
      "source": [
        "###If else statement\n",
        "\n",
        "weather= \"Sunny\"\n",
        "if weather == \"Sunny\":\n",
        "  print (\"i will play cricket\")\n",
        "else:\n",
        "    print (\"I will watch TV\")"
      ],
      "metadata": {
        "colab": {
          "base_uri": "https://localhost:8080/"
        },
        "id": "XbPxlxeXV2Fd",
        "outputId": "894eb258-9f94-4ba3-fc71-c4954876a76e"
      },
      "execution_count": 25,
      "outputs": [
        {
          "output_type": "stream",
          "name": "stdout",
          "text": [
            "i will play cricket\n"
          ]
        }
      ]
    },
    {
      "cell_type": "code",
      "source": [
        "##if elif else statement\n",
        "\n",
        "score = 25\n",
        "if score > 90:\n",
        "  print (\"grade AA\")\n",
        "elif 80 <score<=90:\n",
        "  print (\"Grade A\")\n",
        "elif 70<score<=80:\n",
        "  print (\"grade B+\")\n",
        "elif 60 <score<=70:\n",
        "  print (\"Grade B\")\n",
        "elif 50<score<=60:\n",
        "  print (\"grade C+\")\n",
        "elif 40 <score<=50:\n",
        "  print (\"Grade C\")\n",
        "elif 30<score<=40:\n",
        "  print (\"grade C+\")\n",
        "else:\n",
        "  print (\"you are fail\")"
      ],
      "metadata": {
        "colab": {
          "base_uri": "https://localhost:8080/"
        },
        "id": "bEqmmKYDWAC4",
        "outputId": "eda9d80f-ae4b-429a-98fc-4ae5d728bf63"
      },
      "execution_count": 27,
      "outputs": [
        {
          "output_type": "stream",
          "name": "stdout",
          "text": [
            "you are fail\n"
          ]
        }
      ]
    },
    {
      "cell_type": "code",
      "source": [],
      "metadata": {
        "id": "0AycIadIWjGM"
      },
      "execution_count": null,
      "outputs": []
    },
    {
      "cell_type": "markdown",
      "source": [
        "7. Describe the different types of loops in Python and their use cases with examples"
      ],
      "metadata": {
        "id": "QMi2gXcgWxPK"
      }
    },
    {
      "cell_type": "code",
      "source": [
        "##While Loop:\n",
        "\n",
        "##it allow us to execute a block of code repeatedly until the condition is met.\n",
        "n = 7\n",
        "i= 1\n",
        "while i <n:  ##While condition\n",
        "  print (i) ##Block of code\n",
        "  i=i+1"
      ],
      "metadata": {
        "colab": {
          "base_uri": "https://localhost:8080/"
        },
        "id": "5fga3Xm1W1Z7",
        "outputId": "40fb5412-ba64-4ca4-fb8b-eba276624739"
      },
      "execution_count": 28,
      "outputs": [
        {
          "output_type": "stream",
          "name": "stdout",
          "text": [
            "1\n",
            "2\n",
            "3\n",
            "4\n",
            "5\n",
            "6\n"
          ]
        }
      ]
    },
    {
      "cell_type": "code",
      "source": [
        "count = 5\n",
        "while count > 0:\n",
        "  print (count)\n",
        "  count = count - 1"
      ],
      "metadata": {
        "colab": {
          "base_uri": "https://localhost:8080/"
        },
        "id": "_h88StKRXPD7",
        "outputId": "2d2c1c91-b8a0-451a-a0d2-6f694d84ab54"
      },
      "execution_count": 29,
      "outputs": [
        {
          "output_type": "stream",
          "name": "stdout",
          "text": [
            "5\n",
            "4\n",
            "3\n",
            "2\n",
            "1\n"
          ]
        }
      ]
    },
    {
      "cell_type": "code",
      "source": [
        "###\n",
        "\n",
        "##For Loop Statemenet:\n",
        "\n",
        "##Iterate over a sequence of elements\n",
        "\n",
        "list = [1,2,\"Dinesh\", \"Halder\", \"Physics\", \"Mathenarics\"]\n",
        "for i in list:\n",
        "  print (i)\n"
      ],
      "metadata": {
        "colab": {
          "base_uri": "https://localhost:8080/"
        },
        "id": "5okp2ag2XVNp",
        "outputId": "786f6667-4384-4407-9dfe-2db72f45ddcc"
      },
      "execution_count": 30,
      "outputs": [
        {
          "output_type": "stream",
          "name": "stdout",
          "text": [
            "1\n",
            "2\n",
            "Dinesh\n",
            "Halder\n",
            "Physics\n",
            "Mathenarics\n"
          ]
        }
      ]
    },
    {
      "cell_type": "code",
      "source": [
        "list = [1,2,\"dinesh\", \"Halder\", \"Physics\", \"Mathenarics\"]\n",
        "for i in list:\n",
        "  if i==\"dinesh\":\n",
        "    continue\n",
        "  else:\n",
        "    print(i)"
      ],
      "metadata": {
        "colab": {
          "base_uri": "https://localhost:8080/"
        },
        "id": "MeRQBy8lXwj4",
        "outputId": "666d23b1-8709-43ad-d597-87b11f622bb8"
      },
      "execution_count": 31,
      "outputs": [
        {
          "output_type": "stream",
          "name": "stdout",
          "text": [
            "1\n",
            "2\n",
            "Halder\n",
            "Physics\n",
            "Mathenarics\n"
          ]
        }
      ]
    },
    {
      "cell_type": "code",
      "source": [
        "row=1\n",
        "while row<=10:\n",
        "  col=1\n",
        "  while col<=row:\n",
        "    print(\"*\",end=\" \")\n",
        "    col=col+1\n",
        "  print()\n",
        "  row=row+1"
      ],
      "metadata": {
        "colab": {
          "base_uri": "https://localhost:8080/"
        },
        "id": "Q3sKhpjjX20A",
        "outputId": "f2922cbd-8431-43ee-97d3-43cd78c19dc6"
      },
      "execution_count": 32,
      "outputs": [
        {
          "output_type": "stream",
          "name": "stdout",
          "text": [
            "* \n",
            "* * \n",
            "* * * \n",
            "* * * * \n",
            "* * * * * \n",
            "* * * * * * \n",
            "* * * * * * * \n",
            "* * * * * * * * \n",
            "* * * * * * * * * \n",
            "* * * * * * * * * * \n"
          ]
        }
      ]
    },
    {
      "cell_type": "code",
      "source": [],
      "metadata": {
        "id": "lWqBgfqkX-rj"
      },
      "execution_count": null,
      "outputs": []
    }
  ]
}
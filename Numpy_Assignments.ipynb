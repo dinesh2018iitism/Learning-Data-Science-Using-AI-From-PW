{
  "nbformat": 4,
  "nbformat_minor": 0,
  "metadata": {
    "colab": {
      "provenance": [],
      "authorship_tag": "ABX9TyNmjCEyExx9WUPNLtnmsdfd",
      "include_colab_link": true
    },
    "kernelspec": {
      "name": "python3",
      "display_name": "Python 3"
    },
    "language_info": {
      "name": "python"
    }
  },
  "cells": [
    {
      "cell_type": "markdown",
      "metadata": {
        "id": "view-in-github",
        "colab_type": "text"
      },
      "source": [
        "<a href=\"https://colab.research.google.com/github/dinesh2018iitism/Learning-Python-From-PW/blob/main/Numpy_Assignments.ipynb\" target=\"_parent\"><img src=\"https://colab.research.google.com/assets/colab-badge.svg\" alt=\"Open In Colab\"/></a>"
      ]
    },
    {
      "cell_type": "markdown",
      "source": [
        "# **Theoretical Questions:**"
      ],
      "metadata": {
        "id": "VgBcipFsrVEq"
      }
    },
    {
      "cell_type": "markdown",
      "source": [
        "1. Explain the purpose and advantages of NumPy in scientific computing and data analysis. How does it\n",
        "enhance Python's capabilities for numerical operations?\n"
      ],
      "metadata": {
        "id": "nRqdK43srJJ8"
      }
    },
    {
      "cell_type": "code",
      "execution_count": null,
      "metadata": {
        "id": "Hw-BjG_mrBVx"
      },
      "outputs": [],
      "source": [
        "'''\n",
        "NumPy is a powerful library in Python.\n",
        "Numpy providies multi-dimensional arrays and matrices,\n",
        "It has a collection of high-level mathematical functions to perform fast computations.\n",
        "\n",
        "Advantage of using Numpy:\n",
        "\n",
        "1. Efficient Memory Usage,\n",
        "2. Fast Computation:\n",
        "3. Support for Multi-Dimensional Arrays:\n",
        "4. Broad Mathematical Functionality:\n",
        "5. NumPy integrates with other scientific libraries in Python, such as SciPy.\n",
        "\n",
        "NumPy Enhances Python's Numerical Capabilities:\n",
        "\n",
        "In Numpy we can do Array Operations, broadcasting, linear algebra related problems, random number generation.\n",
        "\n",
        "'''"
      ]
    },
    {
      "cell_type": "markdown",
      "source": [
        "2. Compare and contrast np.mean() and np.average() functions in NumPy. When would you use one over the\n",
        "other?"
      ],
      "metadata": {
        "id": "UKtYF_FlrNNB"
      }
    },
    {
      "cell_type": "code",
      "source": [
        "\"\"\"\n",
        " np.mean():\n",
        "  It computes the arithmetic mean (or average) of the elements along a specified axis.\n",
        "  np.mean() does not support weights.\n",
        "   calculates the mean by dividing the sum of all elements by the number of elements.\n",
        "  Syntax: np.mean(arr, axis=None)\n",
        "\"\"\"\n",
        "import numpy as np\n",
        "arr = np.array([1, 2, 3, 4, 5])\n",
        "print(np.mean(arr))\n",
        "\n",
        "'''\n",
        "np.average()\n",
        "It computes the weighted average of array elements along a specified axis.\n",
        "We can provide weights to each element, and np.average() will compute the weighted mean accordingly\n",
        "Syntax: np.average(arr, axis=None, weights=None)\n",
        "'''\n",
        "arr = np.array([1, 2, 3, 4, 5])\n",
        "weights = np.array([1, 2, 3, 4, 5])\n",
        "print(np.average(arr, weights=weights))\n",
        "\n"
      ],
      "metadata": {
        "id": "81COYIvsrQB0",
        "colab": {
          "base_uri": "https://localhost:8080/"
        },
        "outputId": "33d9bb84-fc4e-43a8-d5e1-8bb12119e48b"
      },
      "execution_count": 10,
      "outputs": [
        {
          "output_type": "stream",
          "name": "stdout",
          "text": [
            "3.0\n",
            "3.6666666666666665\n"
          ]
        }
      ]
    },
    {
      "cell_type": "markdown",
      "source": [
        "3. Describe the methods for reversing a NumPy array along different axes. Provide examples for 1D and 2D\n",
        "arrays."
      ],
      "metadata": {
        "id": "Q-dqBdITrQ8v"
      }
    },
    {
      "cell_type": "code",
      "source": [
        "##Reversing a 1D Array\n",
        "import numpy as np\n",
        "\n",
        "arr_1d = np.array([1, 2, 3, 4, 5])\n",
        "reversed_arr_1d = arr_1d[::-1]\n",
        "print(reversed_arr_1d)\n"
      ],
      "metadata": {
        "id": "Z8ENi5xrrTw4",
        "colab": {
          "base_uri": "https://localhost:8080/"
        },
        "outputId": "52b23cff-cb08-4441-e004-de0ed22e899c"
      },
      "execution_count": 11,
      "outputs": [
        {
          "output_type": "stream",
          "name": "stdout",
          "text": [
            "[5 4 3 2 1]\n"
          ]
        }
      ]
    },
    {
      "cell_type": "code",
      "source": [
        "##Reversing a 2D Array\n",
        "\n",
        "import numpy as np\n",
        "arr_2d = np.array([[1, 2, 3],\n",
        "                   [4, 5, 6],\n",
        "                   [7, 8, 9]])\n",
        "reversed_rows = arr_2d[::-1, :]\n",
        "print(reversed_rows)\n"
      ],
      "metadata": {
        "colab": {
          "base_uri": "https://localhost:8080/"
        },
        "id": "YKxvpOIKsVSz",
        "outputId": "10a0253c-d300-4d47-df24-064aa07f02cb"
      },
      "execution_count": 12,
      "outputs": [
        {
          "output_type": "stream",
          "name": "stdout",
          "text": [
            "[[7 8 9]\n",
            " [4 5 6]\n",
            " [1 2 3]]\n"
          ]
        }
      ]
    },
    {
      "cell_type": "markdown",
      "source": [
        "4. How can you determine the data type of elements in a NumPy array? Discuss the importance of data types\n",
        "in memory management and performance."
      ],
      "metadata": {
        "id": "7RjOF8iyreDw"
      }
    },
    {
      "cell_type": "code",
      "source": [
        "import numpy as np\n",
        "arr = np.array([1, 2, 3, 4])\n",
        "data_type = arr.dtype\n",
        "print(data_type)\n",
        "\n",
        "\"\"\"\n",
        "Data type helps in efficiently managing memory\n",
        "Data types influence the performance of mathematical operations.\n",
        "\n",
        "\"\"\"\n"
      ],
      "metadata": {
        "id": "00lL9v5Erg9a"
      },
      "execution_count": null,
      "outputs": []
    },
    {
      "cell_type": "markdown",
      "source": [
        "5. Define ndarrays in NumPy and explain their key features. How do they differ from standard Python lists?"
      ],
      "metadata": {
        "id": "S5sE7ikYriIq"
      }
    },
    {
      "cell_type": "code",
      "source": [
        "import numpy as np\n",
        "arr = np.array([[1, 2, 3], [4, 5, 6]])\n",
        "print(arr)\n",
        "print(type(arr))\n",
        "\"\"\"\n",
        "Key Features of ndarrays:\n",
        "1. Homogeneous Elements\n",
        "2. Multidimensional\n",
        "3. Fixed Size\n",
        "4. Efficient Memory Usage\n",
        "5. Vectorized Operations\n",
        "\"\"\"\n",
        "'''\n",
        "ndarray ia Homogeneous but Python List is Heterogeneous\n",
        "ndarray Can be multidimensional but Python List ia Primarily one-dimensional,\n",
        "'''\n"
      ],
      "metadata": {
        "id": "3US-zHkbrkgM",
        "colab": {
          "base_uri": "https://localhost:8080/",
          "height": 105
        },
        "outputId": "ec80452c-b39c-4ec5-f39a-f7fee06b6553"
      },
      "execution_count": 15,
      "outputs": [
        {
          "output_type": "stream",
          "name": "stdout",
          "text": [
            "[[1 2 3]\n",
            " [4 5 6]]\n",
            "<class 'numpy.ndarray'>\n"
          ]
        },
        {
          "output_type": "execute_result",
          "data": {
            "text/plain": [
              "'\\nndarray ia Homogeneous but Python List is Heterogeneous \\nndarray Can be multidimensional but Python List ia Primarily one-dimensional, \\n'"
            ],
            "application/vnd.google.colaboratory.intrinsic+json": {
              "type": "string"
            }
          },
          "metadata": {},
          "execution_count": 15
        }
      ]
    },
    {
      "cell_type": "markdown",
      "source": [
        "6. Analyze the performance benefits of NumPy arrays over Python lists for large-scale numerical operations"
      ],
      "metadata": {
        "id": "YA6jXN2JrmZP"
      }
    },
    {
      "cell_type": "code",
      "source": [
        "'''\n",
        "NumPy Arrays use memory efficiently by storing data in a compact way.\n",
        "But Python Lists use more memory because each element is a separate object with extra overhead.\n",
        "\n",
        "NumPy Arrays have fast, built-in math functions for calculations.\n",
        "But Python Lists always equire loops and are slower for mathematical operations.\n",
        "\n",
        "NumPy Arrays support advanced indexing and slicing efficiently.\n",
        "BUT in Python Lists Indexing and slicing are less advanced and slower.\n",
        "\n",
        "'''"
      ],
      "metadata": {
        "id": "M2onrLhpro2D",
        "colab": {
          "base_uri": "https://localhost:8080/",
          "height": 87
        },
        "outputId": "cd0c1fb8-7daa-4f14-9f67-a90c25608ace"
      },
      "execution_count": 16,
      "outputs": [
        {
          "output_type": "execute_result",
          "data": {
            "text/plain": [
              "'\\nNumPy Arrays use memory efficiently by storing data in a compact way.\\nBut Python Lists use more memory because each element is a separate object with extra overhead.\\n\\nNumPy Arrays have fast, built-in math functions for calculations.\\nBut Python Lists always equire loops and are slower for mathematical operations.\\n\\nNumPy Arrays support advanced indexing and slicing efficiently.\\nBUT in Python Lists Indexing and slicing are less advanced and slower.\\n\\n'"
            ],
            "application/vnd.google.colaboratory.intrinsic+json": {
              "type": "string"
            }
          },
          "metadata": {},
          "execution_count": 16
        }
      ]
    },
    {
      "cell_type": "markdown",
      "source": [
        "7. Compare vstack() and hstack() functions in NumPy. Provide examples demonstrating their usage and\n",
        "output.\n"
      ],
      "metadata": {
        "id": "EbIQNSy3rpy9"
      }
    },
    {
      "cell_type": "code",
      "source": [
        "''' vstack() is nothing but Vertical Stack\n",
        "it tacks arrays on top of each other in vertically\n",
        "'''\n",
        "import numpy as np\n",
        "arr1 = np.array([[1, 2, 3],\n",
        "                 [4, 5, 6]])\n",
        "\n",
        "arr2 = np.array([[7, 8, 9],\n",
        "                 [10, 11, 12]])\n",
        "\n",
        "# Stack arrays vertically\n",
        "result_vstack = np.vstack((arr1, arr2))\n",
        "print(result_vstack)"
      ],
      "metadata": {
        "id": "KyoObtgwrs3s",
        "colab": {
          "base_uri": "https://localhost:8080/"
        },
        "outputId": "51dc147d-564f-4ef7-de39-9dcbe4f55fc1"
      },
      "execution_count": 17,
      "outputs": [
        {
          "output_type": "stream",
          "name": "stdout",
          "text": [
            "[[ 1  2  3]\n",
            " [ 4  5  6]\n",
            " [ 7  8  9]\n",
            " [10 11 12]]\n"
          ]
        }
      ]
    },
    {
      "cell_type": "code",
      "source": [
        "'''\n",
        "hstack() in nothing but Horizontal Stack\n",
        "it Stacks arrays side by side horizontally.\n",
        "'''\n",
        "\n",
        "import numpy as np\n",
        "arr1 = np.array([[1, 2, 3],\n",
        "                 [4, 5, 6]])\n",
        "\n",
        "arr2 = np.array([[7, 8],\n",
        "                 [9, 10]])\n",
        "\n",
        "# Stack arrays horizontally\n",
        "result_hstack = np.hstack((arr1, arr2))\n",
        "print(result_hstack)\n"
      ],
      "metadata": {
        "colab": {
          "base_uri": "https://localhost:8080/"
        },
        "id": "2K5_8w4BwEl6",
        "outputId": "71152472-3e3f-464c-a71d-896046ca6402"
      },
      "execution_count": 18,
      "outputs": [
        {
          "output_type": "stream",
          "name": "stdout",
          "text": [
            "[[ 1  2  3  7  8]\n",
            " [ 4  5  6  9 10]]\n"
          ]
        }
      ]
    },
    {
      "cell_type": "markdown",
      "source": [
        "8. Explain the differences between fliplr() and flipud() methods in NumPy, including their effects on various\n",
        "array dimensions."
      ],
      "metadata": {
        "id": "3LWnW9Qmru-D"
      }
    },
    {
      "cell_type": "code",
      "source": [
        "# fliplr() - Flip Left-Right\n",
        "#It reverses the order of columns in a 2D array.\n",
        "import numpy as np\n",
        "\n",
        "arr = np.array([[1, 2, 3],\n",
        "                [4, 5, 6]])\n",
        "\n",
        "# Flip left-right\n",
        "result_fliplr = np.fliplr(arr)\n",
        "\n",
        "print(result_fliplr)\n",
        "\n"
      ],
      "metadata": {
        "id": "ThwLndvXrxpO",
        "colab": {
          "base_uri": "https://localhost:8080/"
        },
        "outputId": "4c4d65af-1004-412c-bb72-107dbd95f3e2"
      },
      "execution_count": 19,
      "outputs": [
        {
          "output_type": "stream",
          "name": "stdout",
          "text": [
            "[[3 2 1]\n",
            " [6 5 4]]\n"
          ]
        }
      ]
    },
    {
      "cell_type": "code",
      "source": [
        "##flipud() - Flip Up-Down\n",
        "#It reverses the order of rows in a 2D array.\n",
        "import numpy as np\n",
        "arr = np.array([[1, 2, 3],\n",
        "                [4, 5, 6]])\n",
        "\n",
        "# Flip up-down\n",
        "result_flipud = np.flipud(arr)\n",
        "\n",
        "print(result_flipud)\n"
      ],
      "metadata": {
        "colab": {
          "base_uri": "https://localhost:8080/"
        },
        "id": "m3zGBHh1wzi0",
        "outputId": "980a512f-efed-4623-9bb6-40c230c31f1c"
      },
      "execution_count": 20,
      "outputs": [
        {
          "output_type": "stream",
          "name": "stdout",
          "text": [
            "[[4 5 6]\n",
            " [1 2 3]]\n"
          ]
        }
      ]
    },
    {
      "cell_type": "markdown",
      "source": [
        "9. Discuss the functionality of the array_split() method in NumPy. How does it handle uneven splits?"
      ],
      "metadata": {
        "id": "cz3ziNC6ry6O"
      }
    },
    {
      "cell_type": "code",
      "source": [
        "##The array_split() is used for split an array into multiple sub-arrays\n",
        "##Spliting into equal parts\n",
        "import numpy as np\n",
        "arr = np.array([1, 2, 3, 4, 5, 6, 7, 8, 9])\n",
        "split_arr = np.array_split(arr, 3)\n",
        "\n",
        "print(split_arr)\n",
        "\n",
        "###Splitting with Uneven Sizes:\n",
        "import numpy as np\n",
        "arr = np.array([1, 2, 3, 4, 5, 6, 7, 8, 9])\n",
        "# Split at specific indices\n",
        "split_arr = np.array_split(arr, [2, 5])\n",
        "\n",
        "print(split_arr)\n",
        "\n",
        "\n"
      ],
      "metadata": {
        "id": "IC5metowr110",
        "colab": {
          "base_uri": "https://localhost:8080/"
        },
        "outputId": "14a307ab-052e-456a-a126-bbe8bd32bf70"
      },
      "execution_count": 21,
      "outputs": [
        {
          "output_type": "stream",
          "name": "stdout",
          "text": [
            "[array([1, 2, 3]), array([4, 5, 6]), array([7, 8, 9])]\n",
            "[array([1, 2]), array([3, 4, 5]), array([6, 7, 8, 9])]\n"
          ]
        }
      ]
    },
    {
      "cell_type": "markdown",
      "source": [
        "10. Explain the concepts of vectorization and broadcasting in NumPy. How do they contribute to efficient array\n",
        "operations?"
      ],
      "metadata": {
        "id": "wn2FWnCBr3-E"
      }
    },
    {
      "cell_type": "code",
      "source": [
        "'''\n",
        "Vectorization:\n",
        "Perform operations on entire arrays rather than element-by-element.\n",
        "Here Operations are generally much faster than using Python loops\n",
        "Code using in operations is often more concise and easier to read.\n",
        "'''\n",
        "import numpy as np\n",
        "a = np.array([1, 2, 3, 4, 5])\n",
        "b = np.array([10, 20, 30, 40, 50])\n",
        "result = a + b\n",
        "print(result)\n"
      ],
      "metadata": {
        "id": "u-fmU3SKr6Qi",
        "colab": {
          "base_uri": "https://localhost:8080/"
        },
        "outputId": "a4322b9f-dcb0-4bbb-9ad7-9a4b391deba0"
      },
      "execution_count": 24,
      "outputs": [
        {
          "output_type": "stream",
          "name": "stdout",
          "text": [
            "[11 22 33 44 55]\n"
          ]
        }
      ]
    },
    {
      "cell_type": "code",
      "source": [
        "\"\"\"\n",
        "Broadcasting:\n",
        "\n",
        "Perform operations on arrays of different shapes in a way that they can be\n",
        "made compatible for element-wise operations.\n",
        "\"\"\"\n",
        "\n",
        "import numpy as np\n",
        "# Array with shape (3, 1)\n",
        "a = np.array([[1], [2], [3]])\n",
        "# Array with shape (1, 4)\n",
        "b = np.array([[10, 20, 30, 40]])\n",
        "# Broadcasting operation\n",
        "result = a + b\n",
        "print(result)\n"
      ],
      "metadata": {
        "colab": {
          "base_uri": "https://localhost:8080/"
        },
        "id": "fIEyHOjoy6RB",
        "outputId": "027a0cdc-5795-4f1f-c255-af7976b54a26"
      },
      "execution_count": 27,
      "outputs": [
        {
          "output_type": "stream",
          "name": "stdout",
          "text": [
            "[[11 21 31 41]\n",
            " [12 22 32 42]\n",
            " [13 23 33 43]]\n"
          ]
        }
      ]
    },
    {
      "cell_type": "markdown",
      "source": [
        "# **Practical Questions:**"
      ],
      "metadata": {
        "id": "iFKDxqCYr-ql"
      }
    },
    {
      "cell_type": "markdown",
      "source": [
        "1. Create a 3x3 NumPy array with random integers between 1 and 100. Then, interchange its rows and columns."
      ],
      "metadata": {
        "id": "-knKcghwsFF_"
      }
    },
    {
      "cell_type": "code",
      "source": [
        "import numpy as np\n",
        "array_3x3 = np.random.randint(1, 101, (3, 3))\n",
        "transposed_array = array_3x3.T\n",
        "\n",
        "# Display the original and transposed arrays\n",
        "print(\"Original 3x3 Array:\\n\", array_3x3)\n",
        "print(\"\\nTransposed Array:\\n\", transposed_array)\n"
      ],
      "metadata": {
        "id": "8y4Smsa0sAvt",
        "colab": {
          "base_uri": "https://localhost:8080/"
        },
        "outputId": "dfdf5ee7-802c-4270-9859-66374cdc1872"
      },
      "execution_count": 9,
      "outputs": [
        {
          "output_type": "stream",
          "name": "stdout",
          "text": [
            "Original 3x3 Array:\n",
            " [[ 9 94 13]\n",
            " [55 82 19]\n",
            " [74 72 91]]\n",
            "\n",
            "Transposed Array:\n",
            " [[ 9 55 74]\n",
            " [94 82 72]\n",
            " [13 19 91]]\n"
          ]
        }
      ]
    },
    {
      "cell_type": "markdown",
      "source": [
        "2. Generate a 1D NumPy array with 10 elements. Reshape it into a 2x5 array, then into a 5x2 array."
      ],
      "metadata": {
        "id": "vU4HT0YwsKre"
      }
    },
    {
      "cell_type": "code",
      "source": [
        "import numpy as np\n",
        "array_1d = np.arange(10)\n",
        "array_2x5 = array_1d.reshape(2, 5)\n",
        "array_5x2 = array_2x5.reshape(5, 2)\n",
        "# Display the original 1D array, 2x5 array, and 5x2 array\n",
        "print(\"Original 1D Array:\\n\", array_1d)\n",
        "print(\"\\n2x5 Array:\\n\", array_2x5)\n",
        "print(\"\\n5x2 Array:\\n\", array_5x2)\n"
      ],
      "metadata": {
        "id": "63AvfD-usLIP",
        "colab": {
          "base_uri": "https://localhost:8080/"
        },
        "outputId": "9f6c6720-49b4-4c56-cc08-efad9fc99085"
      },
      "execution_count": 8,
      "outputs": [
        {
          "output_type": "stream",
          "name": "stdout",
          "text": [
            "Original 1D Array:\n",
            " [0 1 2 3 4 5 6 7 8 9]\n",
            "\n",
            "2x5 Array:\n",
            " [[0 1 2 3 4]\n",
            " [5 6 7 8 9]]\n",
            "\n",
            "5x2 Array:\n",
            " [[0 1]\n",
            " [2 3]\n",
            " [4 5]\n",
            " [6 7]\n",
            " [8 9]]\n"
          ]
        }
      ]
    },
    {
      "cell_type": "markdown",
      "source": [
        "3. Create a 4x4 NumPy array with random float values. Add a border of zeros around it, resulting in a 6x6 array."
      ],
      "metadata": {
        "id": "dDxpSkQSsLzH"
      }
    },
    {
      "cell_type": "code",
      "source": [
        "import numpy as np\n",
        "array_4x4 = np.random.rand(4, 4)\n",
        "array_6x6 = np.pad(array_4x4, pad_width=1, mode='constant', constant_values=0)\n",
        "# Display the original 4x4 array and the new 6x6 array\n",
        "print(\"Original 4x4 Array:\\n\", array_4x4)\n",
        "\n",
        "print(\"\\n6x6 Array with Border of Zeros:\\n\", array_6x6)\n"
      ],
      "metadata": {
        "id": "7Zkn3CcIsOUQ",
        "colab": {
          "base_uri": "https://localhost:8080/"
        },
        "outputId": "8408b1c5-ea84-4fac-b438-c5fa9f720e87"
      },
      "execution_count": 6,
      "outputs": [
        {
          "output_type": "stream",
          "name": "stdout",
          "text": [
            "Original 4x4 Array:\n",
            " [[0.73933075 0.88295616 0.75161951 0.0755877 ]\n",
            " [0.49584152 0.03875546 0.02049304 0.76277661]\n",
            " [0.07079817 0.02936808 0.43409406 0.90988287]\n",
            " [0.28204055 0.11236379 0.41862438 0.03982771]]\n",
            "\n",
            "6x6 Array with Border of Zeros:\n",
            " [[0.         0.         0.         0.         0.         0.        ]\n",
            " [0.         0.73933075 0.88295616 0.75161951 0.0755877  0.        ]\n",
            " [0.         0.49584152 0.03875546 0.02049304 0.76277661 0.        ]\n",
            " [0.         0.07079817 0.02936808 0.43409406 0.90988287 0.        ]\n",
            " [0.         0.28204055 0.11236379 0.41862438 0.03982771 0.        ]\n",
            " [0.         0.         0.         0.         0.         0.        ]]\n"
          ]
        }
      ]
    },
    {
      "cell_type": "markdown",
      "source": [
        "4. Using NumPy, create an array of integers from 10 to 60 with a step of 5.\n",
        "\n"
      ],
      "metadata": {
        "id": "JHFedP9TsP9D"
      }
    },
    {
      "cell_type": "code",
      "source": [
        "import numpy as np\n",
        "array = np.arange(10, 65, 5)\n",
        "print(array)\n"
      ],
      "metadata": {
        "id": "N54yKEhlsSuK",
        "colab": {
          "base_uri": "https://localhost:8080/"
        },
        "outputId": "1df16f5b-434a-4626-b67f-34916107062b"
      },
      "execution_count": 5,
      "outputs": [
        {
          "output_type": "stream",
          "name": "stdout",
          "text": [
            "[10 15 20 25 30 35 40 45 50 55 60]\n"
          ]
        }
      ]
    },
    {
      "cell_type": "markdown",
      "source": [
        "5. Create a NumPy array of strings ['python', 'numpy', 'pandas']. Apply different case transformations\n",
        "(uppercase, lowercase, title case, etc.) to each element."
      ],
      "metadata": {
        "id": "MhDr1c77sX2t"
      }
    },
    {
      "cell_type": "code",
      "source": [
        "import numpy as np\n",
        "words_array = np.array(['python', 'numpy', 'pandas'])\n",
        "uppercase_words = np.char.upper(words_array)\n",
        "lowercase_words = np.char.lower(words_array)\n",
        "titlecase_words = np.char.title(words_array)\n",
        "print(\"Original Words:\", words_array)\n",
        "print(\"Uppercase:\", uppercase_words)\n",
        "print(\"Lowercase:\", lowercase_words)\n",
        "print(\"Title Case:\", titlecase_words)\n"
      ],
      "metadata": {
        "id": "ZhHcL6GqsaoS",
        "colab": {
          "base_uri": "https://localhost:8080/"
        },
        "outputId": "b8ecf40b-ff1c-47ae-c8e8-e11b18f93854"
      },
      "execution_count": 4,
      "outputs": [
        {
          "output_type": "stream",
          "name": "stdout",
          "text": [
            "Original Words: ['python' 'numpy' 'pandas']\n",
            "Uppercase: ['PYTHON' 'NUMPY' 'PANDAS']\n",
            "Lowercase: ['python' 'numpy' 'pandas']\n",
            "Title Case: ['Python' 'Numpy' 'Pandas']\n"
          ]
        }
      ]
    },
    {
      "cell_type": "markdown",
      "source": [
        "6. Generate a NumPy array of words. Insert a space between each character of every word in the array."
      ],
      "metadata": {
        "id": "bbVGmJSasgwl"
      }
    },
    {
      "cell_type": "code",
      "source": [
        "import numpy as np\n",
        "words_array = np.array(['dinesh', 'halder', 'physics', 'mathematics'])\n",
        "spaced_words = np.array([' '.join(word) for word in words_array])\n",
        "# Display the results\n",
        "print(\"Original Words:\", words_array)\n",
        "print(\"Words with spaces:\", spaced_words)\n"
      ],
      "metadata": {
        "id": "wj6CfSixsi5b",
        "colab": {
          "base_uri": "https://localhost:8080/"
        },
        "outputId": "354edc60-069a-4535-a529-c42c4ab3e58d"
      },
      "execution_count": 3,
      "outputs": [
        {
          "output_type": "stream",
          "name": "stdout",
          "text": [
            "Original Words: ['dinesh' 'halder' 'physics' 'mathematics']\n",
            "Words with spaces: ['d i n e s h' 'h a l d e r' 'p h y s i c s' 'm a t h e m a t i c s']\n"
          ]
        }
      ]
    },
    {
      "cell_type": "markdown",
      "source": [
        "7. Create two 2D NumPy arrays and perform element-wise addition, subtraction, multiplication, and division."
      ],
      "metadata": {
        "id": "MP33OLACskk1"
      }
    },
    {
      "cell_type": "code",
      "source": [
        "import numpy as np\n",
        "array1 = np.array([[1, 2, 3],\n",
        "                   [4, 5, 6]])\n",
        "\n",
        "array2 = np.array([[7, 8, 9],\n",
        "                   [10, 11, 12]])\n",
        "addition_result = np.add(array1, array2)\n",
        "subtraction_result = np.subtract(array2, array1)\n",
        "multiplication_result = np.multiply(array1, array2)\n",
        "division_result = np.divide(array2, array1)\n",
        "print(\"Addition:\\n\", addition_result)\n",
        "print(\"Subtraction:\\n\", subtraction_result)\n",
        "print(\"Multiplication:\\n\", multiplication_result)\n",
        "print(\"Division:\\n\", division_result)\n"
      ],
      "metadata": {
        "id": "Th47zSsjst3B",
        "colab": {
          "base_uri": "https://localhost:8080/"
        },
        "outputId": "31a859ef-44da-42ca-ce44-f2dd4080c1dd"
      },
      "execution_count": 2,
      "outputs": [
        {
          "output_type": "stream",
          "name": "stdout",
          "text": [
            "Addition:\n",
            " [[ 8 10 12]\n",
            " [14 16 18]]\n",
            "Subtraction:\n",
            " [[6 6 6]\n",
            " [6 6 6]]\n",
            "Multiplication:\n",
            " [[ 7 16 27]\n",
            " [40 55 72]]\n",
            "Division:\n",
            " [[7.  4.  3. ]\n",
            " [2.5 2.2 2. ]]\n"
          ]
        }
      ]
    },
    {
      "cell_type": "markdown",
      "source": [
        "8. Use NumPy to create a 5x5 identity matrix, then extract its diagonal elements."
      ],
      "metadata": {
        "id": "y-CjenYWskZU"
      }
    },
    {
      "cell_type": "code",
      "source": [
        "import numpy as np\n",
        "\n",
        "# Creating an 5x5 identity matrix\n",
        "identity_matrix = np.eye(5)\n",
        "\n",
        "# Step 2: Extract the diagonal elements\n",
        "diagonal_elements = np.diag(identity_matrix)\n",
        "\n",
        "# Display the identity matrix and its diagonal elements\n",
        "print(\"5x5 Identity Matrix:\\n\", identity_matrix)\n",
        "print(\"Diagonal Elements:\", diagonal_elements)\n"
      ],
      "metadata": {
        "colab": {
          "base_uri": "https://localhost:8080/"
        },
        "id": "AF35xM6osxbk",
        "outputId": "c72ada13-fc7e-403f-f108-5cd1517d651c"
      },
      "execution_count": null,
      "outputs": [
        {
          "output_type": "stream",
          "name": "stdout",
          "text": [
            "5x5 Identity Matrix:\n",
            " [[1. 0. 0. 0. 0.]\n",
            " [0. 1. 0. 0. 0.]\n",
            " [0. 0. 1. 0. 0.]\n",
            " [0. 0. 0. 1. 0.]\n",
            " [0. 0. 0. 0. 1.]]\n",
            "Diagonal Elements: [1. 1. 1. 1. 1.]\n"
          ]
        }
      ]
    },
    {
      "cell_type": "markdown",
      "source": [
        "9. Generate a NumPy array of 100 random integers between 0 and 1000. Find and display all prime numbers in\n",
        "this array."
      ],
      "metadata": {
        "id": "x1CrcigMs1go"
      }
    },
    {
      "cell_type": "code",
      "source": [
        "import numpy as np\n",
        "\n",
        "#Here First I am Generate a NumPy array of 100 random integers between 0 and 1000\n",
        "random_integers = np.random.randint(0, 1000, 100)\n",
        "\n",
        "#check if a number is prime\n",
        "def is_prime(n):\n",
        "    if n < 2:\n",
        "        return False\n",
        "    for i in range(2, int(np.sqrt(n)) + 1):\n",
        "      ##If the number is not divisible by any number from 2 up to its square root, it's a prime number.\n",
        "        if n % i == 0:\n",
        "            return False\n",
        "    return True\n",
        "prime_numbers = [num for num in random_integers if is_prime(num)]\n",
        "#Display the prime number\n",
        "print(\"Prime numbers in the array:\", prime_numbers)\n"
      ],
      "metadata": {
        "colab": {
          "base_uri": "https://localhost:8080/"
        },
        "id": "xCDibp_Ps195",
        "outputId": "33cdfe1d-845f-4b32-deb8-1945869de504"
      },
      "execution_count": null,
      "outputs": [
        {
          "output_type": "stream",
          "name": "stdout",
          "text": [
            "Prime numbers in the array: [157, 239, 859, 373, 43, 151, 17, 521, 827, 269, 317, 211, 883, 73, 41, 593, 149, 769]\n"
          ]
        }
      ]
    },
    {
      "cell_type": "markdown",
      "source": [
        "10. Create a NumPy array representing daily temperatures for a month. Calculate and display the weekly\n",
        "averages."
      ],
      "metadata": {
        "id": "s61W27ZLs3BQ"
      }
    },
    {
      "cell_type": "code",
      "source": [
        "import numpy as np\n",
        "\n",
        "# I am creating daily temp for 30 days\n",
        "daily_temperatures = np.array([30, 32, 33, 29, 31, 30, 28,\n",
        "                               35, 36, 34, 33, 32, 31, 30,\n",
        "                               29, 30, 31, 32, 33, 34, 35,\n",
        "                               36, 37, 38, 39, 38, 37, 36,\n",
        "                               35, 34])\n",
        "\n",
        "# I am going to Reshape the array into weeks (4 weeks, 7 days each, last week 2 days)\n",
        "weeks = daily_temperatures[:28].reshape(4, 7)\n",
        "\n",
        "# Here we will Calculate weekly averages\n",
        "weekly_averages = np.mean(weeks, axis=1)\n",
        "\n",
        "# Display the weekly averages\n",
        "for i, avg in enumerate(weekly_averages, 1):\n",
        "    print(f\"Week {i} average temperature: {avg:.2f}°C\")\n"
      ],
      "metadata": {
        "colab": {
          "base_uri": "https://localhost:8080/"
        },
        "id": "aKYLIlMLs5-k",
        "outputId": "932fca82-d491-4f0a-dc91-32840bff03da"
      },
      "execution_count": null,
      "outputs": [
        {
          "output_type": "stream",
          "name": "stdout",
          "text": [
            "Week 1 average temperature: 30.43°C\n",
            "Week 2 average temperature: 33.00°C\n",
            "Week 3 average temperature: 32.00°C\n",
            "Week 4 average temperature: 37.29°C\n"
          ]
        }
      ]
    },
    {
      "cell_type": "code",
      "source": [],
      "metadata": {
        "id": "D1JDvcbQvIxb"
      },
      "execution_count": null,
      "outputs": []
    }
  ]
}
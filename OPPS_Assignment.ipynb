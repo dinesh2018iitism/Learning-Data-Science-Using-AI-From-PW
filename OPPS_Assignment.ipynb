{
  "nbformat": 4,
  "nbformat_minor": 0,
  "metadata": {
    "colab": {
      "provenance": [],
      "authorship_tag": "ABX9TyMVqiHqFWqhtK3jgI2CW8bO",
      "include_colab_link": true
    },
    "kernelspec": {
      "name": "python3",
      "display_name": "Python 3"
    },
    "language_info": {
      "name": "python"
    }
  },
  "cells": [
    {
      "cell_type": "markdown",
      "metadata": {
        "id": "view-in-github",
        "colab_type": "text"
      },
      "source": [
        "<a href=\"https://colab.research.google.com/github/dinesh2018iitism/Learning-Python-From-PW/blob/main/OPPS_Assignment.ipynb\" target=\"_parent\"><img src=\"https://colab.research.google.com/assets/colab-badge.svg\" alt=\"Open In Colab\"/></a>"
      ]
    },
    {
      "cell_type": "markdown",
      "source": [
        "1.  What are the five key concepts of Object-Oriented Programming (OOP)?"
      ],
      "metadata": {
        "id": "oj_1Tnaa-5jx"
      }
    },
    {
      "cell_type": "code",
      "execution_count": null,
      "metadata": {
        "id": "C5QOA-yT-sNk"
      },
      "outputs": [],
      "source": [
        "# Class: A class is a blueprint or template for creating objects.\n",
        "#It defines the properties or attributes and behaviors or methods.\n",
        "\n",
        "# Object: An object is an instance of a class.\n",
        "#It is a specific entity that is created from a class\n",
        "\n",
        "# Encapsulation: Encapsulation refers to bundling the data and methods\n",
        "##that operate on the data into a single unit (class).\n",
        "##It also controls access to the data, protecting it from outside interference by providing access through methods.\n",
        "\n",
        "# Inheritance: Inheritance allows a new class to inherit the properties and methods of an existing class.\n",
        "##This enables code reusability and the creation of a hierarchical relationship between classes.\n",
        "\n",
        "# Polymorphism: Polymorphism allows objects of different classes to be treated as objects of a common super class.\n",
        "##It enables a single function or method to work in different ways depending on the object that invokes it.\n",
        "\n"
      ]
    },
    {
      "cell_type": "markdown",
      "source": [
        " 2. Write a Python class for a `Car` with attributes for `make`, `model`, and `year`. Include a method to display\n",
        "the car's information."
      ],
      "metadata": {
        "id": "6zokXKj--_hC"
      }
    },
    {
      "cell_type": "code",
      "source": [
        "class Car:\n",
        "    def __init__(self, make, model, year):\n",
        "        # Here I am Initialize the attributes for make, model, and year\n",
        "        self.make = make\n",
        "        self.model = model\n",
        "        self.year = year\n",
        "\n",
        "    def display_info(self):\n",
        "        # Here I am writing the method to display the car information\n",
        "        print(f\"Car Information: {self.year} {self.make} {self.model}\")\n"
      ],
      "metadata": {
        "id": "boUAC-D6_EnT"
      },
      "execution_count": null,
      "outputs": []
    },
    {
      "cell_type": "code",
      "source": [
        "# Here is a example::\n",
        "car1 = Car(\"Mahindra\", \"KUV100\", 2019)\n",
        "car1.display_info()"
      ],
      "metadata": {
        "colab": {
          "base_uri": "https://localhost:8080/"
        },
        "id": "Hmya8YysStv1",
        "outputId": "afe9f43d-199f-4c62-ca83-362c116d7a52"
      },
      "execution_count": null,
      "outputs": [
        {
          "output_type": "stream",
          "name": "stdout",
          "text": [
            "Car Information: 2019 Mahindra KUV100\n"
          ]
        }
      ]
    },
    {
      "cell_type": "code",
      "source": [
        "# Here is a example::\n",
        "car2 = Car(\"Maruthi\", \"Alto800\", 2022)\n",
        "car2.display_info()"
      ],
      "metadata": {
        "colab": {
          "base_uri": "https://localhost:8080/"
        },
        "id": "VQVKWLGvTL9Q",
        "outputId": "9a4b7251-c865-427d-aa4c-3bc6e2d780e9"
      },
      "execution_count": null,
      "outputs": [
        {
          "output_type": "stream",
          "name": "stdout",
          "text": [
            "Car Information: 2022 Maruthi Alto800\n"
          ]
        }
      ]
    },
    {
      "cell_type": "markdown",
      "source": [
        "3. Explain the difference between instance methods and class methods. Provide an example of each\n"
      ],
      "metadata": {
        "id": "OfNSQdUS_HKE"
      }
    },
    {
      "cell_type": "code",
      "source": [
        "# Instance Methods:\n",
        "# These methods are tied to a specific object of the class.\n",
        "# We can can use them to perform actions or calculations that involve the data of a particular object.\n",
        "# We need to create an instance of the class to call an instance method.\n",
        "# The first parameter of an instance method is usually self.\n",
        "\n",
        "\n",
        "# Class Methods:\n",
        "\n",
        "# Class methods are tied to the class itself, not any specific object.\n",
        "# We can use them to perform actions that are related to the class as a whole.\n",
        "# We don't need an object to call a class method, you can call it directly on the class.\n",
        "# The first parameter of a class method is usually cls, which represents the class itself.\n",
        "# We define class methods using the @classmethod decorator.\n",
        "\n"
      ],
      "metadata": {
        "id": "KuZoM1rn_NKo"
      },
      "execution_count": null,
      "outputs": []
    },
    {
      "cell_type": "code",
      "source": [
        "class Car:\n",
        "    # Class attribute\n",
        "    total_cars = 0\n",
        "\n",
        "    def __init__(self, make, model, year):\n",
        "        # Instance attributes\n",
        "        self.make = make\n",
        "        self.model = model\n",
        "        self.year = year\n",
        "        Car.total_cars += 1\n",
        "\n",
        "    # Instance method\n",
        "    def display_info(self):\n",
        "        return f\"Car: {self.make} {self.model}, Year: {self.year}\"\n",
        "\n",
        "    # Class method\n",
        "    @classmethod\n",
        "    def get_total_cars(cls):\n",
        "        return f\"Total cars created: {cls.total_cars}\""
      ],
      "metadata": {
        "id": "wfqltqfFUxbf"
      },
      "execution_count": null,
      "outputs": []
    },
    {
      "cell_type": "code",
      "source": [
        "# Creating car objects\n",
        "car3 = Car(\"Mahindra\", \"KUV100\", 2019)\n",
        "print(car3.display_info())"
      ],
      "metadata": {
        "colab": {
          "base_uri": "https://localhost:8080/"
        },
        "id": "QLTks0pKU4Fa",
        "outputId": "18b0afa3-60c0-48a9-950e-e183f9bdc6b4"
      },
      "execution_count": null,
      "outputs": [
        {
          "output_type": "stream",
          "name": "stdout",
          "text": [
            "Car: Mahindra KUV100, Year: 2019\n"
          ]
        }
      ]
    },
    {
      "cell_type": "code",
      "source": [
        "# Creating car objects\n",
        "car4 = Car(\"Maruthi\", \"Alt800\", 2012)\n",
        "print(car4.display_info())"
      ],
      "metadata": {
        "colab": {
          "base_uri": "https://localhost:8080/"
        },
        "id": "jiQud-TSV7Em",
        "outputId": "aaa6b6b3-1e5c-4f26-c503-d44fae7338d5"
      },
      "execution_count": null,
      "outputs": [
        {
          "output_type": "stream",
          "name": "stdout",
          "text": [
            "Car: Maruthi Alt800, Year: 2012\n"
          ]
        }
      ]
    },
    {
      "cell_type": "code",
      "source": [
        "# Calling class method\n",
        "print(Car.get_total_cars())"
      ],
      "metadata": {
        "colab": {
          "base_uri": "https://localhost:8080/"
        },
        "id": "HpdTxhWrWPIs",
        "outputId": "77bc9ea8-2c1c-4f4d-cc08-0c3693c078bc"
      },
      "execution_count": null,
      "outputs": [
        {
          "output_type": "stream",
          "name": "stdout",
          "text": [
            "Total cars created: 7\n"
          ]
        }
      ]
    },
    {
      "cell_type": "markdown",
      "source": [],
      "metadata": {
        "id": "5KNA0SYgV5-7"
      }
    },
    {
      "cell_type": "markdown",
      "source": [
        "4. How does Python implement method overloading? Give an example"
      ],
      "metadata": {
        "id": "bl9wHAvT_N8G"
      }
    },
    {
      "cell_type": "code",
      "source": [
        "##In Python, method overloading it actualy defined multiple methods\n",
        "##with the same name but different arguments.\n",
        "\n",
        "class Calculator:\n",
        "    def add(self, a=0, b=0, c=0):\n",
        "        return a + b + c"
      ],
      "metadata": {
        "id": "4wLNP4lk_VRw"
      },
      "execution_count": null,
      "outputs": []
    },
    {
      "cell_type": "code",
      "source": [
        "calc = Calculator()\n",
        "\n",
        "##With Two Arguments\n",
        "\n",
        "print(calc.add(10, 20))"
      ],
      "metadata": {
        "colab": {
          "base_uri": "https://localhost:8080/"
        },
        "id": "RQUB0-dxZTbM",
        "outputId": "efc93f55-276d-444b-da7e-b3a8568dd32a"
      },
      "execution_count": null,
      "outputs": [
        {
          "output_type": "stream",
          "name": "stdout",
          "text": [
            "30\n"
          ]
        }
      ]
    },
    {
      "cell_type": "code",
      "source": [
        "##With Three Arguments\n",
        "#print(calc.add(10, 20, 30))"
      ],
      "metadata": {
        "colab": {
          "base_uri": "https://localhost:8080/"
        },
        "id": "vChP1G_IZT20",
        "outputId": "a7f2c29b-e642-4a54-a3fe-2057059f8eea"
      },
      "execution_count": null,
      "outputs": [
        {
          "output_type": "stream",
          "name": "stdout",
          "text": [
            "60\n"
          ]
        }
      ]
    },
    {
      "cell_type": "code",
      "source": [
        "#With No argument\n",
        "\n",
        "print(calc.add())"
      ],
      "metadata": {
        "colab": {
          "base_uri": "https://localhost:8080/"
        },
        "id": "T0S89A6RZZ1r",
        "outputId": "b37b7484-16c9-4266-ef29-b566c22ad481"
      },
      "execution_count": null,
      "outputs": [
        {
          "output_type": "stream",
          "name": "stdout",
          "text": [
            "0\n"
          ]
        }
      ]
    },
    {
      "cell_type": "markdown",
      "source": [
        "5. What are the three types of access modifiers in Python? How are they denoted?"
      ],
      "metadata": {
        "id": "pccWsXV9_VsR"
      }
    },
    {
      "cell_type": "code",
      "source": [
        "#In Python there are three modifier.\n",
        "#These modifiers are public, protected, and private."
      ],
      "metadata": {
        "id": "5v402tZK_a6t"
      },
      "execution_count": null,
      "outputs": []
    },
    {
      "cell_type": "code",
      "source": [
        "#Public Modifier\n",
        "#Public attributes or methods can be accessed from anywhere, both inside and outside the class.\n",
        "#Public members are simply declared without any underscores.\n",
        "\n",
        "class Student:\n",
        "    def __init__(self, name, college):\n",
        "        self.name = name  # Public attribute\n",
        "        self.college = college  # Public attribute\n",
        "\n",
        "    def display_info(self):  # Public method\n",
        "        print(f\"Name: {self.name}, College: {self.college}\")\n",
        "\n",
        "# Creating an object of the Student class\n",
        "stud = Student(\"Dinesh\", \"IIT(ISM) Dhanbad\")\n",
        "# Accessing public attributes and method\n",
        "print(stud.name)\n",
        "print(stud.college)\n",
        "\n"
      ],
      "metadata": {
        "colab": {
          "base_uri": "https://localhost:8080/"
        },
        "id": "6AgWzfHcanob",
        "outputId": "252bed3a-f4c5-4cba-9d8b-78c66d5beea4"
      },
      "execution_count": null,
      "outputs": [
        {
          "output_type": "stream",
          "name": "stdout",
          "text": [
            "Dinesh\n",
            "IIT(ISM) Dhanbad\n"
          ]
        }
      ]
    },
    {
      "cell_type": "code",
      "source": [
        "# Protected Modifier\n",
        "#Protected members can be accessed within the class and by subclasses (inherited classes),\n",
        "#but they are not meant to be accessed directly from outside the class.\n",
        "\n",
        "class Student:\n",
        "    def __init__(self, name, age):\n",
        "        self.name = name  # Public attribute\n",
        "        self._age = age  # Protected attribute\n",
        "\n",
        "    def display_info(self):  # Public method\n",
        "        print(f\"Name: {self.name}\")\n",
        "\n",
        "    def _display_age(self):  # Protected method\n",
        "        print(f\"Age: {self._age}\")\n",
        "\n",
        "# Creating an object of the Student class\n",
        "student = Student(\"Dinesh\", 29)\n",
        "# Accessing protected attribute\n",
        "print(student._age)\n",
        "student._display_age()\n",
        "\n"
      ],
      "metadata": {
        "colab": {
          "base_uri": "https://localhost:8080/"
        },
        "id": "evQjnkO1bOWr",
        "outputId": "f14ab568-c212-4742-a7c5-1aae5a4d746c"
      },
      "execution_count": null,
      "outputs": [
        {
          "output_type": "stream",
          "name": "stdout",
          "text": [
            "29\n",
            "Age: 29\n"
          ]
        }
      ]
    },
    {
      "cell_type": "code",
      "source": [
        "##Private Modifier\n",
        "#Private members are denoted by a double underscore __ and\n",
        "##can only be accessed within the class.\n",
        "\n",
        "class Student:\n",
        "    def __init__(self, name, grade):\n",
        "        self.name = name  # Public attribute\n",
        "        self.__grade = grade  # Private attribute\n",
        "\n",
        "    def display_info(self):  # Public method\n",
        "        print(f\"Name: {self.name}\")\n",
        "\n",
        "    def __display_grade(self):  # Private method\n",
        "        print(f\"Grade: {self.__grade}\")\n",
        "\n",
        "# Creating an object of the Student class\n",
        "student = Student(\"Dinesh\", \"A\")\n",
        "print(student._Student__grade)\n",
        "student._Student__display_grade()\n"
      ],
      "metadata": {
        "colab": {
          "base_uri": "https://localhost:8080/"
        },
        "id": "NFqxuX5OcHxk",
        "outputId": "5393fa3d-c0e2-428d-b159-af7d40670dff"
      },
      "execution_count": null,
      "outputs": [
        {
          "output_type": "stream",
          "name": "stdout",
          "text": [
            "A\n",
            "Grade: A\n"
          ]
        }
      ]
    },
    {
      "cell_type": "markdown",
      "source": [
        "6. Describe the five types of inheritance in Python. Provide a simple example of multiple inheritance.\n"
      ],
      "metadata": {
        "id": "to-MM5Gn_b9B"
      }
    },
    {
      "cell_type": "code",
      "source": [
        "##Single Inheritance\n",
        "##A child class inherits from only one parent class.\n",
        "class Parent:\n",
        "    def greet(self):\n",
        "        print(\"Hello from Parent\")\n",
        "\n",
        "class Child(Parent):\n",
        "    pass\n",
        "\n",
        "child = Child()\n",
        "child.greet()\n"
      ],
      "metadata": {
        "id": "iKgSLjKM_fPF",
        "colab": {
          "base_uri": "https://localhost:8080/"
        },
        "outputId": "9ac60f01-e886-4f3d-9eac-7806894afca6"
      },
      "execution_count": null,
      "outputs": [
        {
          "output_type": "stream",
          "name": "stdout",
          "text": [
            "Hello from Parent\n"
          ]
        }
      ]
    },
    {
      "cell_type": "code",
      "source": [
        "##Multiple Inheritance\n",
        "## A child class inherits from more than one parent class.\n",
        "class Parent1:\n",
        "    def greet1(self):\n",
        "        print(\"Hello from Parent1\")\n",
        "\n",
        "class Parent2:\n",
        "    def greet2(self):\n",
        "        print(\"Hello from Parent2\")\n",
        "\n",
        "class Child(Parent1, Parent2):\n",
        "    pass\n",
        "\n",
        "child = Child()\n",
        "child.greet1()\n",
        "child.greet2()"
      ],
      "metadata": {
        "colab": {
          "base_uri": "https://localhost:8080/"
        },
        "id": "lf_tUvY8fatF",
        "outputId": "e0880e18-8bf1-4e84-8d71-0faa1ac8d74c"
      },
      "execution_count": null,
      "outputs": [
        {
          "output_type": "stream",
          "name": "stdout",
          "text": [
            "Hello from Parent1\n",
            "Hello from Parent2\n"
          ]
        }
      ]
    },
    {
      "cell_type": "code",
      "source": [
        "##Multilevel Inheritance\n",
        "#a class is derived from another derived class\n",
        "\n",
        "class Grandparent:\n",
        "    def greet(self):\n",
        "        print(\"Hello from Grandparent\")\n",
        "\n",
        "class Parent(Grandparent):\n",
        "    pass\n",
        "\n",
        "class Child(Parent):\n",
        "    pass\n",
        "\n",
        "child = Child()\n",
        "child.greet()\n"
      ],
      "metadata": {
        "colab": {
          "base_uri": "https://localhost:8080/"
        },
        "id": "CryFAHGwfaST",
        "outputId": "e4e3168c-e6c1-4e5c-d6c1-e090258149a0"
      },
      "execution_count": null,
      "outputs": [
        {
          "output_type": "stream",
          "name": "stdout",
          "text": [
            "Hello from Grandparent\n"
          ]
        }
      ]
    },
    {
      "cell_type": "code",
      "source": [
        "##Hierarchical Inheritance\n",
        "##multiple child classes inherit from the same parent class.\n",
        "\n",
        "class Parent:\n",
        "    def greet(self):\n",
        "        print(\"Hello from Parent\")\n",
        "\n",
        "class Child1(Parent):\n",
        "    pass\n",
        "\n",
        "class Child2(Parent):\n",
        "    pass\n",
        "\n",
        "child1 = Child1()\n",
        "child2 = Child2()\n",
        "child1.greet()\n",
        "child2.greet()\n"
      ],
      "metadata": {
        "colab": {
          "base_uri": "https://localhost:8080/"
        },
        "id": "ga-W6MEKfZ3F",
        "outputId": "18ddbbae-6e07-4cab-fb33-0e6ea09a3857"
      },
      "execution_count": null,
      "outputs": [
        {
          "output_type": "stream",
          "name": "stdout",
          "text": [
            "Hello from Parent\n",
            "Hello from Parent\n"
          ]
        }
      ]
    },
    {
      "cell_type": "code",
      "source": [
        "##Hybrid Inheritance\n",
        "##A combination of more than one type of inheritance\n",
        "class Parent1:\n",
        "    def greet1(self):\n",
        "        print(\"Hello from Parent1\")\n",
        "\n",
        "class Parent2:\n",
        "    def greet2(self):\n",
        "        print(\"Hello from Parent2\")\n",
        "\n",
        "class Child1(Parent1):\n",
        "    pass\n",
        "\n",
        "class Child2(Parent1, Parent2):  # Multiple and Single inheritance\n",
        "    pass\n",
        "\n",
        "child2 = Child2()\n",
        "child2.greet1()\n",
        "child2.greet2()\n"
      ],
      "metadata": {
        "colab": {
          "base_uri": "https://localhost:8080/"
        },
        "id": "0QeJr0cYfZS-",
        "outputId": "2e80c75b-3ad7-43f3-e177-2a8524ad83bc"
      },
      "execution_count": null,
      "outputs": [
        {
          "output_type": "stream",
          "name": "stdout",
          "text": [
            "Hello from Parent1\n",
            "Hello from Parent2\n"
          ]
        }
      ]
    },
    {
      "cell_type": "markdown",
      "source": [
        "7. What is the Method Resolution Order (MRO) in Python? How can you retrieve it programmatically?"
      ],
      "metadata": {
        "id": "lEEWu0f7_olq"
      }
    },
    {
      "cell_type": "code",
      "source": [
        "###I need help for this question."
      ],
      "metadata": {
        "id": "cvi3mMwz_uo9"
      },
      "execution_count": null,
      "outputs": []
    },
    {
      "cell_type": "markdown",
      "source": [
        "8. Create an abstract base class `Shape` with an abstract method `area()`. Then create two subclasses\n",
        "`Circle` and `Rectangle` that implement the `area()` method."
      ],
      "metadata": {
        "id": "V5R5B1wC_v91"
      }
    },
    {
      "cell_type": "code",
      "source": [
        "from abc import ABC, abstractmethod\n",
        "import math\n",
        "\n",
        "# Abstract Base Class\n",
        "class Shape(ABC):\n",
        "    @abstractmethod\n",
        "    def area(self):\n",
        "        pass\n",
        "\n",
        "# Subclass for Circle\n",
        "class Circle(Shape):\n",
        "    def __init__(self, radius):\n",
        "        self.radius = radius\n",
        "\n",
        "    def area(self):\n",
        "        return math.pi * (self.radius ** 2)\n",
        "\n",
        "# Subclass for Rectangle\n",
        "class Rectangle(Shape):\n",
        "    def __init__(self, width, height):\n",
        "        self.width = width\n",
        "        self.height = height\n",
        "\n",
        "    def area(self):\n",
        "        return self.width * self.height\n",
        "\n",
        "circle = Circle(5)\n",
        "rectangle = Rectangle(4, 6)\n",
        "\n",
        "print(f\"Circle area: {circle.area()}\")\n",
        "print(f\"Rectangle area: {rectangle.area()}\")\n"
      ],
      "metadata": {
        "colab": {
          "base_uri": "https://localhost:8080/"
        },
        "id": "EQv31WR9hy7l",
        "outputId": "a46eec9b-1592-4327-ca44-c5756c2ad9cc"
      },
      "execution_count": null,
      "outputs": [
        {
          "output_type": "stream",
          "name": "stdout",
          "text": [
            "Circle area: 78.53981633974483\n",
            "Rectangle area: 24\n"
          ]
        }
      ]
    },
    {
      "cell_type": "markdown",
      "source": [
        "9. Demonstrate polymorphism by creating a function that can work with different shape objects to calculate\n",
        "and print their areas."
      ],
      "metadata": {
        "id": "42UsnF6Y_4ia"
      }
    },
    {
      "cell_type": "code",
      "source": [
        "#Polymorphism allows different objects to be used in the same way even if they have different types.\n",
        "#It means one function can work with different objects as long as the objects implement the required method.\n",
        "import math\n",
        "\n",
        "# Base class for all shapes\n",
        "class Shape:\n",
        "    def area(self):\n",
        "        pass\n",
        "\n",
        "# Circle class that inherits from Shape\n",
        "class Circle(Shape):\n",
        "    def __init__(self, radius):\n",
        "        self.radius = radius\n",
        "\n",
        "    def area(self):\n",
        "        return math.pi * self.radius ** 2\n",
        "\n",
        "# Rectangle class that inherits from Shape\n",
        "class Rectangle(Shape):\n",
        "    def __init__(self, length, width):\n",
        "        self.length = length\n",
        "        self.width = width\n",
        "\n",
        "    def area(self):\n",
        "        return self.length * self.width\n",
        "\n",
        "# Function to calculate and print the area of any shape\n",
        "def print_area(shape):\n",
        "    print(f\"The area of the shape is: {shape.area()}\")\n",
        "\n",
        "# Create objects for different shapes\n",
        "circle = Circle(5)      # Circle with radius 5\n",
        "rectangle = Rectangle(10, 5)  # Rectangle with length 10 and width 5\n",
        "\n",
        "# Call the function with different shape objects\n",
        "print_area(circle)\n",
        "print_area(rectangle)\n"
      ],
      "metadata": {
        "id": "F_eYzq2MAGlW",
        "colab": {
          "base_uri": "https://localhost:8080/"
        },
        "outputId": "6fc4a423-0356-4d8a-8427-daddbe7a5e48"
      },
      "execution_count": 13,
      "outputs": [
        {
          "output_type": "stream",
          "name": "stdout",
          "text": [
            "The area of the shape is: 78.53981633974483\n",
            "The area of the shape is: 50\n"
          ]
        }
      ]
    },
    {
      "cell_type": "markdown",
      "source": [
        "10.  Implement encapsulation in a `BankAccount` class with private attributes for `balance` and\n",
        "`account_number`. Include methods for deposit, withdrawal, and balance inquiry"
      ],
      "metadata": {
        "id": "uuQf3sH_AHKf"
      }
    },
    {
      "cell_type": "code",
      "source": [
        "##Encapsulation is an important concept in Object-Oriented Programming (OOP).\n",
        "#It means hiding the internal details of a class and protecting data\n",
        "#from being accessed or modified directly from outside the class.\n",
        "\n",
        "\n",
        "class BankAccount:\n",
        "    def __init__(self, account_number, balance=0):\n",
        "        self.__account_number = account_number  # Private attribute for account number\n",
        "        self.__balance = balance                # Private attribute for balance\n",
        "\n",
        "    # Method to deposit money into the account\n",
        "    def deposit(self, amount):\n",
        "        if amount > 0:\n",
        "            self.__balance += amount\n",
        "            print(f\"Deposited {amount}. New balance is {self.__balance}.\")\n",
        "        else:\n",
        "            print(\"Deposit amount must be positive.\")\n",
        "\n",
        "    # Method to withdraw money from the account\n",
        "    def withdraw(self, amount):\n",
        "        if amount > 0 and amount <= self.__balance:\n",
        "            self.__balance -= amount\n",
        "            print(f\"Withdrew {amount}. New balance is {self.__balance}.\")\n",
        "        elif amount > self.__balance:\n",
        "            print(\"Insufficient balance for withdrawal.\")\n",
        "        else:\n",
        "            print(\"Withdrawal amount must be positive.\")\n",
        "\n",
        "    # Method to check the account balance\n",
        "    def check_balance(self):\n",
        "        print(f\"Current balance: {self.__balance}\")\n",
        "\n",
        "    # Method to get account number\n",
        "    def get_account_number(self):\n",
        "        return self.__account_number\n",
        "\n",
        "# Create a BankAccount object\n",
        "account = BankAccount(\"12345678\", 1000)\n",
        "\n",
        "# Interacting with the account using public methods\n",
        "account.check_balance()\n",
        "account.deposit(500)\n",
        "account.withdraw(200)\n",
        "account.check_balance()\n",
        "\n",
        "# Accessing account number using the getter method\n",
        "print(account.get_account_number())  # Output: 12345678\n"
      ],
      "metadata": {
        "id": "qK8k5CGlAP7S",
        "colab": {
          "base_uri": "https://localhost:8080/"
        },
        "outputId": "9b8f4cde-3fcf-4f55-cc98-6876761c5f32"
      },
      "execution_count": 12,
      "outputs": [
        {
          "output_type": "stream",
          "name": "stdout",
          "text": [
            "Current balance: 1000\n",
            "Deposited 500. New balance is 1500.\n",
            "Withdrew 200. New balance is 1300.\n",
            "Current balance: 1300\n",
            "12345678\n"
          ]
        }
      ]
    },
    {
      "cell_type": "markdown",
      "source": [
        "11. Write a class that overrides the `__str__` and `__add__` magic methods. What will these methods allow\n",
        "you to do?"
      ],
      "metadata": {
        "id": "RUACp_UZAQks"
      }
    },
    {
      "cell_type": "code",
      "source": [
        "# __str__ method: This method is used to define the string representation of an object\n",
        "#when we print it or convert it to a string.\n",
        "\n",
        "# __add__ method: This method is used to define how two objects of the class\n",
        "#are added together using the + operator.\n",
        "\n",
        "class Student:\n",
        "    def __init__(self, name, marks):\n",
        "        self.name = name\n",
        "        self.marks = marks\n",
        "\n",
        "    # Overriding the __str__ method\n",
        "    def __str__(self):\n",
        "        return f\"Student: {self.name}, Marks: {self.marks}\"\n",
        "\n",
        "    # Overriding the __add__ method\n",
        "    def __add__(self, other):\n",
        "        # When two Student objects are added, their marks are combined\n",
        "        return self.marks + other.marks\n",
        "\n",
        "# Create two Student objects\n",
        "student1 = Student(\"Dinesh\", 85)\n",
        "student2 = Student(\"Halder\", 90)\n",
        "\n",
        "print(student1)\n",
        "print(student2)\n",
        "\n",
        "total_marks = student1 + student2\n",
        "print(f\"Total Marks: {total_marks}\")"
      ],
      "metadata": {
        "id": "00Jo8OfbAULC",
        "colab": {
          "base_uri": "https://localhost:8080/"
        },
        "outputId": "7e411f3e-cd46-4c3a-a292-af169816b49e"
      },
      "execution_count": 10,
      "outputs": [
        {
          "output_type": "stream",
          "name": "stdout",
          "text": [
            "Student: Dinesh, Marks: 85\n",
            "Student: Halder, Marks: 90\n",
            "Total Marks: 175\n"
          ]
        }
      ]
    },
    {
      "cell_type": "markdown",
      "source": [
        "12. Create a decorator that measures and prints the execution time of a function"
      ],
      "metadata": {
        "id": "KMIR4QDnAU_G"
      }
    },
    {
      "cell_type": "code",
      "source": [
        "import time\n",
        "def measure_time(func):\n",
        "    def wrapper(*args, **kwargs):\n",
        "        start_time = time.time()  # Record the start time\n",
        "        result = func(*args, **kwargs)  # Call the actual function\n",
        "        end_time = time.time()  # Record the end time\n",
        "        execution_time = end_time - start_time  # Calculate the execution time\n",
        "        print(f\"Execution time of {func.__name__}: {execution_time:.6f} seconds\")\n",
        "        return result\n",
        "    return wrapper\n",
        "@measure_time\n",
        "def input_value(n):\n",
        "    total = 0\n",
        "    for i in range(n):\n",
        "        total += i\n",
        "    return total\n",
        "result = input_value(1000000)\n",
        "print(\"Result:\", result)\n"
      ],
      "metadata": {
        "id": "RKLnnNxrAaxz",
        "colab": {
          "base_uri": "https://localhost:8080/"
        },
        "outputId": "541abc8b-c1bb-4bac-82d8-33e3d29beca1"
      },
      "execution_count": 9,
      "outputs": [
        {
          "output_type": "stream",
          "name": "stdout",
          "text": [
            "Execution time of input_value: 0.073687 seconds\n",
            "Result: 499999500000\n"
          ]
        }
      ]
    },
    {
      "cell_type": "markdown",
      "source": [
        "13.  Explain the concept of the Diamond Problem in multiple inheritance. How does Python resolve it?"
      ],
      "metadata": {
        "id": "PWPbZ2XdAbvG"
      }
    },
    {
      "cell_type": "markdown",
      "source": [
        "![image.png](data:image/png;base64,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)"
      ],
      "metadata": {
        "id": "b_McuW6W_9yz"
      }
    },
    {
      "cell_type": "code",
      "source": [
        "#The Diamond Problem is a well-known issue that arises in object-oriented programming when a class inherits\n",
        "#from two or more classes that share a common base class.\n",
        "\n",
        "# Let us consider example\n",
        "# In above photo diagra,\n",
        "# Here, Class D inherits from both Class B and Class C, but both B and C are subclasses of Class A.\n",
        "#When an attribute or method from Class A is needed in Class D, it creates ambiguity:\n",
        "# Should the method from A be called through B?\n",
        "# Or should it be called through C?\n",
        "# This forms the \"diamond\" structure and causes ambiguity about which path to follow to access A\n",
        "#Python uses the C3 Linearization Algorithm to resolve the order of method resolution\n",
        "\n",
        "class A:\n",
        "    def show(self):\n",
        "        print(\"Class A\")\n",
        "\n",
        "class B(A):\n",
        "    def show(self):\n",
        "        print(\"Class B\")\n",
        "\n",
        "class C(A):\n",
        "    def show(self):\n",
        "        print(\"Class C\")\n",
        "\n",
        "class D(B, C):\n",
        "    pass\n",
        "\n",
        "d = D()\n",
        "d.show()\n"
      ],
      "metadata": {
        "id": "C7hnZQBkAjmh",
        "colab": {
          "base_uri": "https://localhost:8080/"
        },
        "outputId": "c54fea81-02a6-4b25-d1fb-8856b8458b06"
      },
      "execution_count": 7,
      "outputs": [
        {
          "output_type": "stream",
          "name": "stdout",
          "text": [
            "Class B\n"
          ]
        }
      ]
    },
    {
      "cell_type": "markdown",
      "source": [
        "14. Write a class method that keeps track of the number of instances created from a class."
      ],
      "metadata": {
        "id": "pPgjBX8SAkhz"
      }
    },
    {
      "cell_type": "code",
      "source": [
        "#To track the number of instances created from a class,\n",
        "#we can use a class variable and update it inside a class method.\n",
        "\n",
        "class InstanceTracker:\n",
        "    # Class variable to keep track of the number of instances\n",
        "    instance_count = 0\n",
        "    def __init__(self, name):\n",
        "        self.name = name\n",
        "        InstanceTracker.instance_count += 1\n",
        "\n",
        "    @classmethod\n",
        "    def get_instance_count(cls):\n",
        "        # Class method to return the current number of instances\n",
        "        return cls.instance_count\n",
        "\n",
        "# Creating instances\n",
        "obj1 = InstanceTracker(\"Object 1\")\n",
        "obj2 = InstanceTracker(\"Object 2\")\n",
        "obj3 = InstanceTracker(\"Object 3\")\n",
        "\n",
        "# Getting the total number of instances created\n",
        "print(f\"Total instances created: {InstanceTracker.get_instance_count()}\")\n"
      ],
      "metadata": {
        "id": "8jqV5hHQAomK",
        "colab": {
          "base_uri": "https://localhost:8080/"
        },
        "outputId": "6f1526ad-bc97-4cbd-fc0f-e40fd8173982"
      },
      "execution_count": 5,
      "outputs": [
        {
          "output_type": "stream",
          "name": "stdout",
          "text": [
            "Total instances created: 3\n"
          ]
        }
      ]
    },
    {
      "cell_type": "markdown",
      "source": [
        "15.  Implement a static method in a class that checks if a given year is a leap year"
      ],
      "metadata": {
        "id": "wMOsmfeTApbR"
      }
    },
    {
      "cell_type": "code",
      "source": [
        "#A static method in Python is a method that does not\n",
        "#require access to any instance variables or the class itself.\n",
        "\n",
        "class CheckLeapYear:\n",
        "    @staticmethod\n",
        "    def is_leap_year(year):\n",
        "      #check if the year is leap year\n",
        "        if (year % 4 == 0 and year % 100 != 0) or (year % 400 == 0):\n",
        "            return True\n",
        "        else:\n",
        "            return False\n",
        "year = int(input(\"enter year\"))\n",
        "if CheckLeapYear.is_leap_year(year):\n",
        "    print(f\"{year} is a leap year.\")\n",
        "else:\n",
        "    print(f\"{year} is not a leap year.\")\n"
      ],
      "metadata": {
        "id": "EcnfWlAcAs_g",
        "colab": {
          "base_uri": "https://localhost:8080/"
        },
        "outputId": "2d345e0a-901b-491a-8bc2-4c1b4eeed2cb"
      },
      "execution_count": 4,
      "outputs": [
        {
          "output_type": "stream",
          "name": "stdout",
          "text": [
            "enter year2020\n",
            "2020 is a leap year.\n"
          ]
        }
      ]
    },
    {
      "cell_type": "code",
      "source": [],
      "metadata": {
        "id": "scqddpT47OgG"
      },
      "execution_count": null,
      "outputs": []
    }
  ]
}
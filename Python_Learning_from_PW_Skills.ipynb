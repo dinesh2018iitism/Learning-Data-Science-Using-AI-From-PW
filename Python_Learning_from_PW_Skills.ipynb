{
  "cells": [
    {
      "cell_type": "markdown",
      "metadata": {
        "id": "view-in-github",
        "colab_type": "text"
      },
      "source": [
        "<a href=\"https://colab.research.google.com/github/dinesh2018iitism/Learning-Python-From-PW/blob/main/Python_Learning_from_PW_Skills.ipynb\" target=\"_parent\"><img src=\"https://colab.research.google.com/assets/colab-badge.svg\" alt=\"Open In Colab\"/></a>"
      ]
    },
    {
      "cell_type": "markdown",
      "metadata": {
        "id": "YnhKwE4D92KQ"
      },
      "source": [
        "***Introduction to Python***\n",
        "\n",
        "Programming Language:\n",
        "\n",
        "Language to Communicate with Computer.\n",
        "The set of rules and symbols that define the process of writting Computer Program."
      ]
    },
    {
      "cell_type": "code",
      "execution_count": null,
      "metadata": {
        "id": "oWNKYdgSMkX1"
      },
      "outputs": [],
      "source": [
        "#Use of Computer Programming#\n",
        "##Interaction with Computer\n",
        "##Software Programs\n",
        "##Embeded Device Like Chips]\n",
        "##Robitic\n",
        "##ChatGPT"
      ]
    },
    {
      "cell_type": "markdown",
      "metadata": {
        "id": "6AyG9ISCL_cB"
      },
      "source": [
        "Types of Programming Language:\n",
        "\n",
        "C   \n",
        "\n",
        "C++\n",
        "\n",
        "Java Scripts\n",
        "\n",
        "Python\n",
        "\n",
        "R etc\n",
        "\n"
      ]
    },
    {
      "cell_type": "code",
      "execution_count": null,
      "metadata": {
        "id": "aPSvHz8yORS2"
      },
      "outputs": [],
      "source": [
        "# ***Why to use Python***\n",
        "##Widely used in Data Industries.\n",
        "##Inbuilt Functions.\n",
        "##Code can be reused\n",
        "##1,37,000 Libraries.\n",
        "##Automation.\n",
        "##Data Base.\n",
        "##Image Processing.\n",
        "##Front End back End and Data Analysis.\n",
        "##Ease of learning.\n",
        "##Huge Active Community,\n"
      ]
    },
    {
      "cell_type": "markdown",
      "metadata": {
        "id": "9prhL7YhO0a1"
      },
      "source": [
        "How to give Instruction to Computer\n",
        "\n",
        "Code: Its a Instuction to Provide to machines.\n",
        "\n",
        "Platform: Where code can be witten.  IDEs (Integrated Development Environment Software) Like VScode (Visual Studion Code), Google Colab, Jupiter Notebook etc.\n",
        "\n"
      ]
    },
    {
      "cell_type": "markdown",
      "metadata": {
        "id": "WN3icVHoP5De"
      },
      "source": [
        "How to Execute Code: Shift+Enter"
      ]
    },
    {
      "cell_type": "markdown",
      "metadata": {
        "id": "VWnojHyHQB10"
      },
      "source": [
        "**Vaiables**\n",
        "\n",
        "In real life if we need to call any person we need their name.\n",
        "\n",
        "Variable is called identifiers.\n",
        "\n",
        "Placeholders where we keep variety of data which can use to write logic."
      ]
    },
    {
      "cell_type": "markdown",
      "metadata": {
        "id": "xf5t1KecQvFC"
      },
      "source": [
        "Variables: It is the word in Progamming Language."
      ]
    },
    {
      "cell_type": "code",
      "execution_count": null,
      "metadata": {
        "id": "vcNqbKh0RVzw"
      },
      "outputs": [],
      "source": [
        "a = 3\n",
        "## 3 is store in a"
      ]
    },
    {
      "cell_type": "code",
      "execution_count": null,
      "metadata": {
        "id": "dYrUeEexSCz4"
      },
      "outputs": [],
      "source": [
        "b = 2\n",
        "## 2 is stroing in place of b"
      ]
    },
    {
      "cell_type": "markdown",
      "metadata": {
        "id": "3MI6TCK0SfIy"
      },
      "source": [
        "Variable are placeholders whrere we keep data. Variable also we can called the word in the programing language"
      ]
    },
    {
      "cell_type": "markdown",
      "metadata": {
        "id": "XWrV3e3lRZmR"
      },
      "source": [
        "Variables\n",
        "\n",
        "Numbers (Int)\n",
        "\n",
        "Decimal Numbers (Float)\n",
        "\n",
        "Word (str)\n",
        "\n",
        "Boolean True/False (bool)\n",
        "\n",
        "Nothing (Null \" \")"
      ]
    },
    {
      "cell_type": "code",
      "execution_count": null,
      "metadata": {
        "id": "r1vTgQDrTLsx"
      },
      "outputs": [],
      "source": [
        "a = 3\n",
        "b = 5.2"
      ]
    },
    {
      "cell_type": "code",
      "execution_count": null,
      "metadata": {
        "id": "LbNeAyACTpZD"
      },
      "outputs": [],
      "source": [
        "c = \"DINESH\""
      ]
    },
    {
      "cell_type": "code",
      "execution_count": null,
      "metadata": {
        "colab": {
          "base_uri": "https://localhost:8080/"
        },
        "id": "cFvJ5E9AUW85",
        "outputId": "fc3cffb0-4248-46e9-cbd5-1e38fc8ebb59"
      },
      "outputs": [
        {
          "data": {
            "text/plain": [
              "str"
            ]
          },
          "execution_count": 7,
          "metadata": {},
          "output_type": "execute_result"
        }
      ],
      "source": [
        "type(c)"
      ]
    },
    {
      "cell_type": "code",
      "execution_count": null,
      "metadata": {
        "colab": {
          "base_uri": "https://localhost:8080/"
        },
        "id": "4Gk6WHahUaSK",
        "outputId": "381fd20a-81ed-48fd-b737-06eadbd1b7fe"
      },
      "outputs": [
        {
          "data": {
            "text/plain": [
              "float"
            ]
          },
          "execution_count": 8,
          "metadata": {},
          "output_type": "execute_result"
        }
      ],
      "source": [
        "type(b)"
      ]
    },
    {
      "cell_type": "code",
      "execution_count": null,
      "metadata": {
        "colab": {
          "base_uri": "https://localhost:8080/"
        },
        "id": "MUNiouSBUvO-",
        "outputId": "42b94d57-4a0f-45db-d1c5-b8981380f667"
      },
      "outputs": [
        {
          "data": {
            "text/plain": [
              "int"
            ]
          },
          "execution_count": 9,
          "metadata": {},
          "output_type": "execute_result"
        }
      ],
      "source": [
        "type (a)"
      ]
    },
    {
      "cell_type": "code",
      "execution_count": null,
      "metadata": {
        "id": "ncbooDbCU0Ma"
      },
      "outputs": [],
      "source": [
        "d = True"
      ]
    },
    {
      "cell_type": "code",
      "execution_count": null,
      "metadata": {
        "colab": {
          "base_uri": "https://localhost:8080/"
        },
        "id": "7eU8eMsGVOaU",
        "outputId": "66ceb9eb-fa6c-47c8-e970-f2af025f79ca"
      },
      "outputs": [
        {
          "data": {
            "text/plain": [
              "bool"
            ]
          },
          "execution_count": 11,
          "metadata": {},
          "output_type": "execute_result"
        }
      ],
      "source": [
        "type (d)"
      ]
    },
    {
      "cell_type": "code",
      "execution_count": null,
      "metadata": {
        "id": "qbAyg6HPVQ4I"
      },
      "outputs": [],
      "source": [
        "e = False"
      ]
    },
    {
      "cell_type": "code",
      "execution_count": null,
      "metadata": {
        "colab": {
          "base_uri": "https://localhost:8080/"
        },
        "id": "_73sAQS0Ve6I",
        "outputId": "553a1673-0b9f-40c9-f948-10c9cb82161a"
      },
      "outputs": [
        {
          "data": {
            "text/plain": [
              "bool"
            ]
          },
          "execution_count": 13,
          "metadata": {},
          "output_type": "execute_result"
        }
      ],
      "source": [
        "type (e)"
      ]
    },
    {
      "cell_type": "code",
      "execution_count": null,
      "metadata": {
        "colab": {
          "base_uri": "https://localhost:8080/"
        },
        "id": "zQX5ZOf0VxMT",
        "outputId": "82466cfb-5adf-405a-bb79-3c6020a29d15"
      },
      "outputs": [
        {
          "data": {
            "text/plain": [
              "0"
            ]
          },
          "execution_count": 14,
          "metadata": {},
          "output_type": "execute_result"
        }
      ],
      "source": [
        "True * False"
      ]
    },
    {
      "cell_type": "code",
      "execution_count": null,
      "metadata": {
        "colab": {
          "base_uri": "https://localhost:8080/"
        },
        "id": "r5KeK8OoV5xw",
        "outputId": "0fec2f11-b04f-4437-ec48-a18e717a2d4f"
      },
      "outputs": [
        {
          "data": {
            "text/plain": [
              "1"
            ]
          },
          "execution_count": 15,
          "metadata": {},
          "output_type": "execute_result"
        }
      ],
      "source": [
        "True + False"
      ]
    },
    {
      "cell_type": "code",
      "execution_count": null,
      "metadata": {
        "id": "BrFEFLpmWCs2"
      },
      "outputs": [],
      "source": [
        "##True/False It will give error because divisio by zero is not possible."
      ]
    },
    {
      "cell_type": "code",
      "execution_count": null,
      "metadata": {
        "id": "4iRjfi1yWMcm"
      },
      "outputs": [],
      "source": [
        "f = None"
      ]
    },
    {
      "cell_type": "code",
      "execution_count": null,
      "metadata": {
        "colab": {
          "base_uri": "https://localhost:8080/"
        },
        "id": "XG4VVly6W1V-",
        "outputId": "988d83f6-0ceb-4ad4-d951-d62b089f0b80"
      },
      "outputs": [
        {
          "data": {
            "text/plain": [
              "NoneType"
            ]
          },
          "execution_count": 18,
          "metadata": {},
          "output_type": "execute_result"
        }
      ],
      "source": [
        "type (f)"
      ]
    },
    {
      "cell_type": "code",
      "execution_count": null,
      "metadata": {
        "id": "gBNhKLZpW-E_"
      },
      "outputs": [],
      "source": [
        "g = 6-8j"
      ]
    },
    {
      "cell_type": "code",
      "execution_count": null,
      "metadata": {
        "colab": {
          "base_uri": "https://localhost:8080/"
        },
        "id": "Kyli0WdgXea2",
        "outputId": "a64288cf-e940-40ea-c3aa-a3cc9631e7de"
      },
      "outputs": [
        {
          "data": {
            "text/plain": [
              "complex"
            ]
          },
          "execution_count": 20,
          "metadata": {},
          "output_type": "execute_result"
        }
      ],
      "source": [
        "type(g)"
      ]
    },
    {
      "cell_type": "code",
      "execution_count": null,
      "metadata": {
        "colab": {
          "base_uri": "https://localhost:8080/"
        },
        "id": "97B9qLqoXhb6",
        "outputId": "0764d32e-853e-447a-a7b6-24f60f2e7c15"
      },
      "outputs": [
        {
          "data": {
            "text/plain": [
              "6.0"
            ]
          },
          "execution_count": 21,
          "metadata": {},
          "output_type": "execute_result"
        }
      ],
      "source": [
        "g.real"
      ]
    },
    {
      "cell_type": "code",
      "execution_count": null,
      "metadata": {
        "colab": {
          "base_uri": "https://localhost:8080/"
        },
        "id": "ZWdAqjTGXvVN",
        "outputId": "2cb00f2a-d5c0-4c34-c498-74342f25bd81"
      },
      "outputs": [
        {
          "data": {
            "text/plain": [
              "-8.0"
            ]
          },
          "execution_count": 22,
          "metadata": {},
          "output_type": "execute_result"
        }
      ],
      "source": [
        "g.imag"
      ]
    },
    {
      "cell_type": "markdown",
      "metadata": {
        "id": "UlvXjf85SF9Q"
      },
      "source": [
        "Rules of Defining a Variable:\n",
        "\n",
        "A variable is start with alphabet or underscore character"
      ]
    },
    {
      "cell_type": "code",
      "execution_count": null,
      "metadata": {
        "id": "lf2xW9eIX79K"
      },
      "outputs": [],
      "source": [
        "## Invalid ways to defining the variable"
      ]
    },
    {
      "cell_type": "markdown",
      "metadata": {
        "id": "IYEDsBnsYpAX"
      },
      "source": [
        "5 = a This kind of defining is not possible.\n",
        "\n",
        "Because a can not be store in 5.\n",
        "\n",
        "a-bc= \"Ram\" (invalid)\n",
        "\n",
        "But a_bc = \"Ram\" (valid)\n",
        "\n",
        "data-science = \"job\" (Invalid)\n",
        "\n",
        "But data_science = \"Jobs\" (valid)\n",
        "\n",
        "Data Analytics Course = \"Computer\" (Invalid)\n",
        "\n",
        "But data_analytics_course = \"Computer\" (Valid)\n",
        "\n",
        "@abc = 2.3 (Not Valid)\n",
        "\n",
        "%name = \"RAM\" (invalid)"
      ]
    },
    {
      "cell_type": "code",
      "execution_count": null,
      "metadata": {
        "id": "_3KG2rCqYw4a"
      },
      "outputs": [],
      "source": [
        "location = \"Tamil Nadu\""
      ]
    },
    {
      "cell_type": "code",
      "execution_count": null,
      "metadata": {
        "id": "MYZX21PvZWLq"
      },
      "outputs": [],
      "source": [
        " name = \"Dinesh\""
      ]
    },
    {
      "cell_type": "code",
      "execution_count": null,
      "metadata": {
        "id": "QalWEpoMZigi"
      },
      "outputs": [],
      "source": [
        "_surname = \"Halder\""
      ]
    },
    {
      "cell_type": "code",
      "execution_count": null,
      "metadata": {
        "colab": {
          "base_uri": "https://localhost:8080/",
          "height": 36
        },
        "id": "nmy9Cz2rZnEY",
        "outputId": "f183ac52-2af1-4ab9-92fa-f3d1a5b540fe"
      },
      "outputs": [
        {
          "data": {
            "application/vnd.google.colaboratory.intrinsic+json": {
              "type": "string"
            },
            "text/plain": [
              "'Dinesh'"
            ]
          },
          "execution_count": 27,
          "metadata": {},
          "output_type": "execute_result"
        }
      ],
      "source": [
        "name"
      ]
    },
    {
      "cell_type": "code",
      "execution_count": null,
      "metadata": {
        "colab": {
          "base_uri": "https://localhost:8080/",
          "height": 36
        },
        "id": "GQVIp3D0ZoF4",
        "outputId": "20213604-614c-4503-944c-2b01fdddb5a5"
      },
      "outputs": [
        {
          "data": {
            "application/vnd.google.colaboratory.intrinsic+json": {
              "type": "string"
            },
            "text/plain": [
              "'Halder'"
            ]
          },
          "execution_count": 28,
          "metadata": {},
          "output_type": "execute_result"
        }
      ],
      "source": [
        "_surname"
      ]
    },
    {
      "cell_type": "markdown",
      "metadata": {
        "id": "H0QzZpL2TyIQ"
      },
      "source": [
        "How to Write Comments in Program\n",
        "\n",
        "Comments can be written in b/w ## Start writing Comments##\n",
        "\n",
        "OR\n",
        "\n",
        "''' Comments '''\n",
        "\n",
        "OR\n",
        "\n",
        "\"\"\" Comments \"\"\n"
      ]
    },
    {
      "cell_type": "code",
      "execution_count": null,
      "metadata": {
        "colab": {
          "base_uri": "https://localhost:8080/",
          "height": 36
        },
        "id": "xINULm2NZqQJ",
        "outputId": "92c83e18-398b-4ea8-e887-f5a2d0c5ba1d"
      },
      "outputs": [
        {
          "data": {
            "application/vnd.google.colaboratory.intrinsic+json": {
              "type": "string"
            },
            "text/plain": [
              "' a-bc = \"John\" it will through an error\\ndata-science = \"Dinesh\" Not Valid BUT\\ndata_science= \"Dinesh\" This is Valid Way to define variables\\na_bc = \"John\" This also Valid '"
            ]
          },
          "execution_count": 29,
          "metadata": {},
          "output_type": "execute_result"
        }
      ],
      "source": [
        "##Variable can not be defined in the following ways\n",
        "\"\"\" a-bc = \"John\" it will through an error\n",
        "data-science = \"Dinesh\" Not Valid BUT\n",
        "data_science= \"Dinesh\" This is Valid Way to define variables\n",
        "a_bc = \"John\" This also Valid \"\"\""
      ]
    },
    {
      "cell_type": "markdown",
      "metadata": {
        "id": "jxJ85JLiVV0C"
      },
      "source": [
        "Keywords: Pre defined data that hold a special meaning and have specific purpose.\n",
        "\n",
        "Like print ()\n",
        "\n",
        "type ()"
      ]
    },
    {
      "cell_type": "code",
      "execution_count": null,
      "metadata": {
        "colab": {
          "base_uri": "https://localhost:8080/"
        },
        "id": "ssv2jZZXYAtU",
        "outputId": "b10088d4-bfe1-46de-bcf5-aece75fdaf79"
      },
      "outputs": [
        {
          "name": "stdout",
          "output_type": "stream",
          "text": [
            "\n",
            "Here is a list of the Python keywords.  Enter any keyword to get more help.\n",
            "\n",
            "False               class               from                or\n",
            "None                continue            global              pass\n",
            "True                def                 if                  raise\n",
            "and                 del                 import              return\n",
            "as                  elif                in                  try\n",
            "assert              else                is                  while\n",
            "async               except              lambda              with\n",
            "await               finally             nonlocal            yield\n",
            "break               for                 not                 \n",
            "\n"
          ]
        }
      ],
      "source": [
        "help(\"keywords\")"
      ]
    },
    {
      "cell_type": "markdown",
      "metadata": {
        "id": "lBeXV88CV0oh"
      },
      "source": [
        "The above comand will show total number of keywords in Python."
      ]
    },
    {
      "cell_type": "markdown",
      "metadata": {
        "id": "N34MhAr2WcVu"
      },
      "source": [
        "When we write logic print will be shifted one TAB."
      ]
    },
    {
      "cell_type": "markdown",
      "metadata": {
        "id": "xNXOa-iIWpyJ"
      },
      "source": [
        "***Statement**\n",
        "\n",
        "Fundamental Block of System"
      ]
    },
    {
      "cell_type": "code",
      "execution_count": null,
      "metadata": {
        "id": "8MAO3dHtW3L8"
      },
      "outputs": [],
      "source": [
        "##Assignment Statment (Here we assign data)\n",
        "m = 3\n",
        "n = 4"
      ]
    },
    {
      "cell_type": "code",
      "execution_count": null,
      "metadata": {
        "colab": {
          "base_uri": "https://localhost:8080/"
        },
        "id": "cyKKsUEiXHI-",
        "outputId": "4e1915e5-e866-4423-f93a-5512637cc620"
      },
      "outputs": [
        {
          "data": {
            "text/plain": [
              "7"
            ]
          },
          "execution_count": 32,
          "metadata": {},
          "output_type": "execute_result"
        }
      ],
      "source": [
        "##Expression Statement\n",
        "m+n"
      ]
    },
    {
      "cell_type": "markdown",
      "metadata": {
        "id": "M4q8ZsIwX-sq"
      },
      "source": [
        "How to get input from User\n",
        "\n",
        "Here we will use input keyword"
      ]
    },
    {
      "cell_type": "markdown",
      "metadata": {
        "id": "C1pgsvVSVUNA"
      },
      "source": [
        "Here if we enter integer it will store as string"
      ]
    },
    {
      "cell_type": "code",
      "execution_count": null,
      "metadata": {
        "colab": {
          "base_uri": "https://localhost:8080/"
        },
        "id": "1aclTu1LY3Ws",
        "outputId": "3e7e019f-0c2f-4ded-eb13-bf83f41acdde"
      },
      "outputs": [
        {
          "data": {
            "text/plain": [
              "str"
            ]
          },
          "execution_count": 33,
          "metadata": {},
          "output_type": "execute_result"
        }
      ],
      "source": [
        "nane =\"DINESH\"\n",
        "type (name)"
      ]
    },
    {
      "cell_type": "markdown",
      "metadata": {
        "id": "vOUGb0VGZFXk"
      },
      "source": [
        "Now I am going to learn How to convert String into Integer."
      ]
    },
    {
      "cell_type": "code",
      "execution_count": null,
      "metadata": {
        "id": "RQFR5ALVZCZh"
      },
      "outputs": [],
      "source": [
        "##To convert string into interger the process is called Type Casting. Convert the input from one datatype to another datatype."
      ]
    },
    {
      "cell_type": "code",
      "execution_count": null,
      "metadata": {
        "colab": {
          "base_uri": "https://localhost:8080/"
        },
        "id": "-JmnHuQ3omb9",
        "outputId": "8e24ec05-e393-4166-cb29-500ad50ef446"
      },
      "outputs": [
        {
          "data": {
            "text/plain": [
              "str"
            ]
          },
          "execution_count": 35,
          "metadata": {},
          "output_type": "execute_result"
        }
      ],
      "source": [
        "name1 = \"55\"\n",
        "type (name1)"
      ]
    },
    {
      "cell_type": "code",
      "execution_count": null,
      "metadata": {
        "colab": {
          "base_uri": "https://localhost:8080/"
        },
        "id": "KN-eS51CZlay",
        "outputId": "01aa5646-3101-491c-c5bf-e2ea01739fea"
      },
      "outputs": [
        {
          "data": {
            "text/plain": [
              "55"
            ]
          },
          "execution_count": 36,
          "metadata": {},
          "output_type": "execute_result"
        }
      ],
      "source": [
        "int (name1)"
      ]
    },
    {
      "cell_type": "code",
      "execution_count": null,
      "metadata": {
        "colab": {
          "base_uri": "https://localhost:8080/"
        },
        "id": "yrR1UKMGZt6T",
        "outputId": "e353e6bf-b35d-425b-e713-a522c4ed105c"
      },
      "outputs": [
        {
          "data": {
            "text/plain": [
              "int"
            ]
          },
          "execution_count": 37,
          "metadata": {},
          "output_type": "execute_result"
        }
      ],
      "source": [
        "name2 = int(name1)\n",
        "type (name2)"
      ]
    },
    {
      "cell_type": "code",
      "execution_count": null,
      "metadata": {
        "colab": {
          "base_uri": "https://localhost:8080/"
        },
        "id": "nfVA9BcUaFj2",
        "outputId": "a8f9358f-fb72-4544-f77a-c5b7a23d881e"
      },
      "outputs": [
        {
          "data": {
            "text/plain": [
              "str"
            ]
          },
          "execution_count": 38,
          "metadata": {},
          "output_type": "execute_result"
        }
      ],
      "source": [
        "a = \"3.5\"\n",
        "type (a)"
      ]
    },
    {
      "cell_type": "code",
      "execution_count": null,
      "metadata": {
        "colab": {
          "base_uri": "https://localhost:8080/"
        },
        "id": "I0M8_BLMacng",
        "outputId": "6ea1c2c8-bc65-4054-fbb9-befa60f1faa4"
      },
      "outputs": [
        {
          "data": {
            "text/plain": [
              "3.5"
            ]
          },
          "execution_count": 39,
          "metadata": {},
          "output_type": "execute_result"
        }
      ],
      "source": [
        "float (a)"
      ]
    },
    {
      "cell_type": "code",
      "execution_count": null,
      "metadata": {
        "colab": {
          "base_uri": "https://localhost:8080/"
        },
        "id": "mMihGx8lZ1mE",
        "outputId": "dc3f55f8-c55d-4fa2-e1fa-319c42d3755a"
      },
      "outputs": [
        {
          "data": {
            "text/plain": [
              "float"
            ]
          },
          "execution_count": 40,
          "metadata": {},
          "output_type": "execute_result"
        }
      ],
      "source": [
        "###Here the float is storing as string. Now float (a) will reprent the decimal value and the type will float.\n",
        "type (float (a))"
      ]
    },
    {
      "cell_type": "code",
      "execution_count": null,
      "metadata": {
        "colab": {
          "base_uri": "https://localhost:8080/"
        },
        "id": "a_phoPuHae-W",
        "outputId": "dda3408e-97e9-4ce6-a7ff-ef57a4802050"
      },
      "outputs": [
        {
          "data": {
            "text/plain": [
              "str"
            ]
          },
          "execution_count": 41,
          "metadata": {},
          "output_type": "execute_result"
        }
      ],
      "source": [
        "s = \"2024\"\n",
        "type (s)"
      ]
    },
    {
      "cell_type": "code",
      "execution_count": null,
      "metadata": {
        "colab": {
          "base_uri": "https://localhost:8080/"
        },
        "id": "tyHC6RxNbKlT",
        "outputId": "17e58030-45e0-46f3-ecfb-417dba9b0590"
      },
      "outputs": [
        {
          "data": {
            "text/plain": [
              "2024"
            ]
          },
          "execution_count": 42,
          "metadata": {},
          "output_type": "execute_result"
        }
      ],
      "source": [
        "int(s)"
      ]
    },
    {
      "cell_type": "code",
      "execution_count": null,
      "metadata": {
        "colab": {
          "base_uri": "https://localhost:8080/"
        },
        "id": "-B6VhhLAbNVT",
        "outputId": "494ae15a-b818-4d14-812f-b5db720bcf05"
      },
      "outputs": [
        {
          "data": {
            "text/plain": [
              "int"
            ]
          },
          "execution_count": 43,
          "metadata": {},
          "output_type": "execute_result"
        }
      ],
      "source": [
        "type (int(s))"
      ]
    },
    {
      "cell_type": "code",
      "execution_count": null,
      "metadata": {
        "colab": {
          "base_uri": "https://localhost:8080/"
        },
        "id": "t9PxOv3obhTc",
        "outputId": "aaba194a-c33b-4430-a7ab-25e28e114e98"
      },
      "outputs": [
        {
          "data": {
            "text/plain": [
              "2024.0"
            ]
          },
          "execution_count": 44,
          "metadata": {},
          "output_type": "execute_result"
        }
      ],
      "source": [
        "float (s)"
      ]
    },
    {
      "cell_type": "code",
      "execution_count": null,
      "metadata": {
        "colab": {
          "base_uri": "https://localhost:8080/",
          "height": 36
        },
        "id": "nf5fz3F-bnmU",
        "outputId": "b43ccf94-44c5-4632-d774-9b4186da2538"
      },
      "outputs": [
        {
          "data": {
            "application/vnd.google.colaboratory.intrinsic+json": {
              "type": "string"
            },
            "text/plain": [
              "'2024'"
            ]
          },
          "execution_count": 45,
          "metadata": {},
          "output_type": "execute_result"
        }
      ],
      "source": [
        "str (s)"
      ]
    },
    {
      "cell_type": "code",
      "execution_count": null,
      "metadata": {
        "colab": {
          "base_uri": "https://localhost:8080/"
        },
        "id": "LcEkyTotbP5b",
        "outputId": "19b7107a-ade7-4ddd-adf0-08e77ca2288a"
      },
      "outputs": [
        {
          "data": {
            "text/plain": [
              "int"
            ]
          },
          "execution_count": 46,
          "metadata": {},
          "output_type": "execute_result"
        }
      ],
      "source": [
        "u = 76\n",
        "type (u)"
      ]
    },
    {
      "cell_type": "code",
      "execution_count": null,
      "metadata": {
        "colab": {
          "base_uri": "https://localhost:8080/",
          "height": 36
        },
        "id": "-fy6CEdob5Tk",
        "outputId": "f71cffca-7847-4e5b-a32a-1429e3fb93da"
      },
      "outputs": [
        {
          "data": {
            "application/vnd.google.colaboratory.intrinsic+json": {
              "type": "string"
            },
            "text/plain": [
              "'76'"
            ]
          },
          "execution_count": 47,
          "metadata": {},
          "output_type": "execute_result"
        }
      ],
      "source": [
        "str (u)"
      ]
    },
    {
      "cell_type": "code",
      "execution_count": null,
      "metadata": {
        "colab": {
          "base_uri": "https://localhost:8080/"
        },
        "id": "Gf18rooibtcm",
        "outputId": "af07b444-6f48-476c-8e55-c49523b7486e"
      },
      "outputs": [
        {
          "data": {
            "text/plain": [
              "str"
            ]
          },
          "execution_count": 48,
          "metadata": {},
          "output_type": "execute_result"
        }
      ],
      "source": [
        "type (str(u))"
      ]
    },
    {
      "cell_type": "code",
      "execution_count": null,
      "metadata": {
        "colab": {
          "base_uri": "https://localhost:8080/"
        },
        "id": "OW2dFwxDb4DR",
        "outputId": "284a1cfd-f8da-42ae-9c70-84775e93de09"
      },
      "outputs": [
        {
          "data": {
            "text/plain": [
              "False"
            ]
          },
          "execution_count": 49,
          "metadata": {},
          "output_type": "execute_result"
        }
      ],
      "source": [
        "bool (0)"
      ]
    },
    {
      "cell_type": "code",
      "execution_count": null,
      "metadata": {
        "colab": {
          "base_uri": "https://localhost:8080/"
        },
        "id": "wAIc6yhPb_b_",
        "outputId": "b8ed3719-3fad-4362-d7ed-d81ae69e28f2"
      },
      "outputs": [
        {
          "data": {
            "text/plain": [
              "True"
            ]
          },
          "execution_count": 50,
          "metadata": {},
          "output_type": "execute_result"
        }
      ],
      "source": [
        "bool (204)"
      ]
    },
    {
      "cell_type": "markdown",
      "metadata": {
        "id": "3OrD4ZcScG8O"
      },
      "source": [
        "bool (0) always false\n",
        "\n",
        "But bool(other than zero) always true"
      ]
    },
    {
      "cell_type": "code",
      "execution_count": null,
      "metadata": {
        "id": "4ynWSFPmcFGi"
      },
      "outputs": [],
      "source": [
        "x = \"DINESH\""
      ]
    },
    {
      "cell_type": "code",
      "execution_count": null,
      "metadata": {
        "colab": {
          "base_uri": "https://localhost:8080/"
        },
        "id": "eovKlENEcCSh",
        "outputId": "8ee5ceb7-5d0b-446d-f832-c7f93dffb54f"
      },
      "outputs": [
        {
          "data": {
            "text/plain": [
              "str"
            ]
          },
          "execution_count": 52,
          "metadata": {},
          "output_type": "execute_result"
        }
      ],
      "source": [
        "type (x)"
      ]
    },
    {
      "cell_type": "code",
      "execution_count": null,
      "metadata": {
        "id": "C9SmEIL_cd9_"
      },
      "outputs": [],
      "source": [
        "##Here we can not convert this Input DINESH into Integer. Because it is Actually String. If the string contains numbers then only we can covert it into int or float."
      ]
    },
    {
      "cell_type": "markdown",
      "metadata": {
        "id": "J_Sfob4Wc_Ga"
      },
      "source": [
        "Keyword can not be choose as variable. Like if I write print = \"Dinesh\" It will through error.\n"
      ]
    },
    {
      "cell_type": "code",
      "execution_count": null,
      "metadata": {
        "id": "hgyIwkq7c4Zs"
      },
      "outputs": [],
      "source": [
        "##print = \"DINESH\""
      ]
    },
    {
      "cell_type": "code",
      "execution_count": null,
      "metadata": {
        "id": "cJ7I0crtdQUN"
      },
      "outputs": [],
      "source": [
        "###print (\"Hi Dinesh\") will through error. Because Print can not be consider as variable."
      ]
    },
    {
      "cell_type": "code",
      "execution_count": null,
      "metadata": {
        "id": "lw1lr34xdU6G"
      },
      "outputs": [],
      "source": [
        "## Here is the error. Now the Python will not do its work"
      ]
    },
    {
      "cell_type": "markdown",
      "metadata": {
        "id": "c1rs4FcHdrvV"
      },
      "source": [
        "Mutability & Immutability::\n",
        "b = 2.3 ; Here we are assighning 2.3 in place of b. that means a memory block will be created and data will store in that block."
      ]
    },
    {
      "cell_type": "code",
      "execution_count": null,
      "metadata": {
        "id": "dzOoSKGadj1E"
      },
      "outputs": [],
      "source": [
        "a =\"DINESH\""
      ]
    },
    {
      "cell_type": "markdown",
      "metadata": {
        "id": "UgV3Ztw0fUwi"
      },
      "source": [
        "Here memory block will be created like [D][I][N][E][S][H]\n",
        "\n",
        "Ther index is 0,1,2,3,4,,5 FROM left to Right\n",
        "\n",
        "and -1, -2,-3,-4,-5,-6 FROM Right to Left."
      ]
    },
    {
      "cell_type": "code",
      "execution_count": null,
      "metadata": {
        "id": "Wc8qKOHPfTCC"
      },
      "outputs": [],
      "source": [
        "##Now we want to Access each and every alphabets"
      ]
    },
    {
      "cell_type": "code",
      "execution_count": null,
      "metadata": {
        "colab": {
          "base_uri": "https://localhost:8080/",
          "height": 36
        },
        "id": "0BHDOd2YgNB0",
        "outputId": "f294c65d-d3ea-4ace-eb6e-4bb5b25e761b"
      },
      "outputs": [
        {
          "data": {
            "application/vnd.google.colaboratory.intrinsic+json": {
              "type": "string"
            },
            "text/plain": [
              "'D'"
            ]
          },
          "execution_count": 59,
          "metadata": {},
          "output_type": "execute_result"
        }
      ],
      "source": [
        "a[0]"
      ]
    },
    {
      "cell_type": "code",
      "execution_count": null,
      "metadata": {
        "colab": {
          "base_uri": "https://localhost:8080/",
          "height": 36
        },
        "id": "0TYVoX0wgQZR",
        "outputId": "ddffc97c-e998-40a2-ffaa-55202b7930ac"
      },
      "outputs": [
        {
          "data": {
            "application/vnd.google.colaboratory.intrinsic+json": {
              "type": "string"
            },
            "text/plain": [
              "'N'"
            ]
          },
          "execution_count": 60,
          "metadata": {},
          "output_type": "execute_result"
        }
      ],
      "source": [
        "a[-4]"
      ]
    },
    {
      "cell_type": "markdown",
      "metadata": {
        "id": "CR2EQ90hgZnC"
      },
      "source": [
        "The Other type of Data Container is LIST\n",
        "\n",
        "in List we can store int, float, complex nuber, boolean logic, string etc"
      ]
    },
    {
      "cell_type": "code",
      "execution_count": null,
      "metadata": {
        "id": "IxGbpG6KgTio"
      },
      "outputs": [],
      "source": [
        "list = [90,3.4,234, 5+7j, True, False, \"DINESH\"]"
      ]
    },
    {
      "cell_type": "code",
      "execution_count": null,
      "metadata": {
        "colab": {
          "base_uri": "https://localhost:8080/"
        },
        "id": "Lu5_Yh6dhDYi",
        "outputId": "bd14d187-1aaa-4ade-8adc-f405636c4571"
      },
      "outputs": [
        {
          "data": {
            "text/plain": [
              "90"
            ]
          },
          "execution_count": 62,
          "metadata": {},
          "output_type": "execute_result"
        }
      ],
      "source": [
        "list [0]"
      ]
    },
    {
      "cell_type": "code",
      "execution_count": null,
      "metadata": {
        "colab": {
          "base_uri": "https://localhost:8080/",
          "height": 36
        },
        "id": "NNhKG4GhhG8E",
        "outputId": "901418be-7d9f-4656-ed9a-bb642ddf6c92"
      },
      "outputs": [
        {
          "data": {
            "application/vnd.google.colaboratory.intrinsic+json": {
              "type": "string"
            },
            "text/plain": [
              "'DINESH'"
            ]
          },
          "execution_count": 63,
          "metadata": {},
          "output_type": "execute_result"
        }
      ],
      "source": [
        "list [-1]"
      ]
    },
    {
      "cell_type": "markdown",
      "metadata": {
        "id": "hwoM9jyghRFv"
      },
      "source": [
        "By the above we can access any elemet from string and we can perform their operation"
      ]
    },
    {
      "cell_type": "code",
      "execution_count": null,
      "metadata": {
        "colab": {
          "base_uri": "https://localhost:8080/"
        },
        "id": "Ur-kprB_hLtY",
        "outputId": "4261684f-1586-4c9b-deee-1782fb221148"
      },
      "outputs": [
        {
          "data": {
            "text/plain": [
              "324"
            ]
          },
          "execution_count": 64,
          "metadata": {},
          "output_type": "execute_result"
        }
      ],
      "source": [
        "list [0] + list [2]"
      ]
    },
    {
      "cell_type": "markdown",
      "metadata": {
        "id": "0NMEdXj4h0lw"
      },
      "source": [
        "Here if we want we can change a particular elemements from the list.\n",
        "\n",
        "For Changing\n",
        "\n",
        "1st Access the element\n",
        "\n",
        "2nd Assign the data"
      ]
    },
    {
      "cell_type": "code",
      "execution_count": null,
      "metadata": {
        "colab": {
          "base_uri": "https://localhost:8080/"
        },
        "id": "NqvN1W-Sho3p",
        "outputId": "118fb4a8-3feb-4e8c-b872-6f762fa06fe7"
      },
      "outputs": [
        {
          "data": {
            "text/plain": [
              "True"
            ]
          },
          "execution_count": 65,
          "metadata": {},
          "output_type": "execute_result"
        }
      ],
      "source": [
        "list [4]"
      ]
    },
    {
      "cell_type": "code",
      "execution_count": null,
      "metadata": {
        "id": "GPtLFbmzisQF"
      },
      "outputs": [],
      "source": [
        "list [4]= 23"
      ]
    },
    {
      "cell_type": "code",
      "execution_count": null,
      "metadata": {
        "colab": {
          "base_uri": "https://localhost:8080/"
        },
        "id": "dyCEGCksizo8",
        "outputId": "dfcf7435-4cee-400b-87f4-f056734be896"
      },
      "outputs": [
        {
          "data": {
            "text/plain": [
              "[90, 3.4, 234, (5+7j), 23, False, 'DINESH']"
            ]
          },
          "execution_count": 67,
          "metadata": {},
          "output_type": "execute_result"
        }
      ],
      "source": [
        "list"
      ]
    },
    {
      "cell_type": "markdown",
      "metadata": {
        "id": "X_KQeJVSi5Br"
      },
      "source": [
        "Here I can see that my list is now updated"
      ]
    },
    {
      "cell_type": "code",
      "execution_count": null,
      "metadata": {
        "colab": {
          "base_uri": "https://localhost:8080/",
          "height": 36
        },
        "id": "FPrKw0EPi2Dw",
        "outputId": "611637cc-c81f-4797-f58d-1c806824d950"
      },
      "outputs": [
        {
          "data": {
            "application/vnd.google.colaboratory.intrinsic+json": {
              "type": "string"
            },
            "text/plain": [
              "'DINESH'"
            ]
          },
          "execution_count": 68,
          "metadata": {},
          "output_type": "execute_result"
        }
      ],
      "source": [
        "list [6]"
      ]
    },
    {
      "cell_type": "code",
      "execution_count": null,
      "metadata": {
        "id": "0mw8iofsjD6p"
      },
      "outputs": [],
      "source": [
        "list [6] = \"HALDER\""
      ]
    },
    {
      "cell_type": "code",
      "execution_count": null,
      "metadata": {
        "colab": {
          "base_uri": "https://localhost:8080/"
        },
        "id": "n8YjjdbcjIw3",
        "outputId": "060da851-b3f5-4d0c-9ab8-737f91d7b8e6"
      },
      "outputs": [
        {
          "data": {
            "text/plain": [
              "[90, 3.4, 234, (5+7j), 23, False, 'HALDER']"
            ]
          },
          "execution_count": 70,
          "metadata": {},
          "output_type": "execute_result"
        }
      ],
      "source": [
        "list"
      ]
    },
    {
      "cell_type": "markdown",
      "metadata": {
        "id": "sztt9au6jMtT"
      },
      "source": [
        "Here I can see that DINESH is updated by HALDER"
      ]
    },
    {
      "cell_type": "code",
      "execution_count": null,
      "metadata": {
        "id": "WrqSlGxBjJ2E"
      },
      "outputs": [],
      "source": [
        "list [6] = \"MATHEMATICS\""
      ]
    },
    {
      "cell_type": "code",
      "execution_count": null,
      "metadata": {
        "colab": {
          "base_uri": "https://localhost:8080/"
        },
        "id": "rUatDVabjfnE",
        "outputId": "d7af7fd2-fc4c-4ba2-ed72-9423483c579a"
      },
      "outputs": [
        {
          "data": {
            "text/plain": [
              "[90, 3.4, 234, (5+7j), 23, False, 'MATHEMATICS']"
            ]
          },
          "execution_count": 72,
          "metadata": {},
          "output_type": "execute_result"
        }
      ],
      "source": [
        "list"
      ]
    },
    {
      "cell_type": "markdown",
      "metadata": {
        "id": "0J8Ctt_-jj9U"
      },
      "source": [
        "List is a type of Mutable object.\n",
        "\n",
        "Here we want to access each alphabets of Mathematics.\n",
        "\n",
        "So First access the element by a variable. Then access each alphabets of that element."
      ]
    },
    {
      "cell_type": "markdown",
      "metadata": {
        "id": "CsUEar0akCVQ"
      },
      "source": []
    },
    {
      "cell_type": "code",
      "execution_count": null,
      "metadata": {
        "colab": {
          "base_uri": "https://localhost:8080/",
          "height": 36
        },
        "id": "WsjAFMuAjhAW",
        "outputId": "889539dd-8766-44c9-c90a-3d349a58895c"
      },
      "outputs": [
        {
          "data": {
            "application/vnd.google.colaboratory.intrinsic+json": {
              "type": "string"
            },
            "text/plain": [
              "'MATHEMATICS'"
            ]
          },
          "execution_count": 73,
          "metadata": {},
          "output_type": "execute_result"
        }
      ],
      "source": [
        "list [6]"
      ]
    },
    {
      "cell_type": "code",
      "execution_count": null,
      "metadata": {
        "id": "jUVr6MYLj04x"
      },
      "outputs": [],
      "source": [
        "b = \"MATHEMATICS\""
      ]
    },
    {
      "cell_type": "code",
      "execution_count": null,
      "metadata": {
        "colab": {
          "base_uri": "https://localhost:8080/",
          "height": 36
        },
        "id": "51lTApE3j8GB",
        "outputId": "32c947f4-b8f1-4f91-ec99-4d7d948a3d5f"
      },
      "outputs": [
        {
          "data": {
            "application/vnd.google.colaboratory.intrinsic+json": {
              "type": "string"
            },
            "text/plain": [
              "'M'"
            ]
          },
          "execution_count": 75,
          "metadata": {},
          "output_type": "execute_result"
        }
      ],
      "source": [
        "b[0]"
      ]
    },
    {
      "cell_type": "code",
      "execution_count": null,
      "metadata": {
        "id": "JBuqczXVj-7L"
      },
      "outputs": [],
      "source": [
        "##NOW we want to update the M by I"
      ]
    },
    {
      "cell_type": "code",
      "execution_count": null,
      "metadata": {
        "id": "mTMCLXOHkqup"
      },
      "outputs": [],
      "source": [
        "##b [0] = \"I\""
      ]
    },
    {
      "cell_type": "code",
      "execution_count": null,
      "metadata": {
        "id": "rUMmevcnkzKI"
      },
      "outputs": [],
      "source": [
        "## There is error because I is not mentioned in the list."
      ]
    },
    {
      "cell_type": "markdown",
      "metadata": {
        "id": "ey4wVONhlBO_"
      },
      "source": [
        "In a list Value of Total element can be replaced BUT we can not change the subelement.\n",
        "\n",
        "String is the type of IMMUTABLE OBJECT."
      ]
    },
    {
      "cell_type": "code",
      "execution_count": null,
      "metadata": {
        "id": "hN4y0R0dk9LK"
      },
      "outputs": [],
      "source": [
        "###OPERATORS###"
      ]
    },
    {
      "cell_type": "markdown",
      "metadata": {
        "id": "wA94wwZxaCKK"
      },
      "source": [
        "Operator: Operation to manupulate DATA.\n",
        "\n",
        "Special Keywords OR Symbols that use to perform operation on values or variables.\n",
        "\n",
        "Why we need them: Manage to do computation and make decision by using data.\n",
        "\n",
        "Types of Operator\n",
        "\n",
        "Arithmetic Operator\n",
        "\n",
        "Comparision Operator\n",
        "\n",
        "Logical Operator\n",
        "\n",
        "Bitwise Operator\n",
        "\n",
        "Assignment Operator\n",
        "\n",
        "Identity Operator\n",
        "\n",
        "Membership Operator\n"
      ]
    },
    {
      "cell_type": "code",
      "execution_count": null,
      "metadata": {
        "colab": {
          "base_uri": "https://localhost:8080/"
        },
        "id": "6UHge-Z7l37i",
        "outputId": "ebc517f6-08d6-4c2c-a870-8d22fe92b1fb"
      },
      "outputs": [
        {
          "data": {
            "text/plain": [
              "5"
            ]
          },
          "execution_count": 80,
          "metadata": {},
          "output_type": "execute_result"
        }
      ],
      "source": [
        "##Arithmetic Operator\n",
        "a = 2\n",
        "b=3\n",
        "a + b"
      ]
    },
    {
      "cell_type": "code",
      "execution_count": null,
      "metadata": {
        "colab": {
          "base_uri": "https://localhost:8080/"
        },
        "id": "MA-gBBxlbKyz",
        "outputId": "09b09800-6f11-468e-c9c4-2daa2de95298"
      },
      "outputs": [
        {
          "data": {
            "text/plain": [
              "880027"
            ]
          },
          "execution_count": 81,
          "metadata": {},
          "output_type": "execute_result"
        }
      ],
      "source": [
        "##Direct Operation Also Possible\n",
        "87+879940"
      ]
    },
    {
      "cell_type": "code",
      "execution_count": null,
      "metadata": {
        "colab": {
          "base_uri": "https://localhost:8080/"
        },
        "id": "PwfpHmaPbWmo",
        "outputId": "4cd902c8-4b61-4b69-9d50-745c7dc91da5"
      },
      "outputs": [
        {
          "data": {
            "text/plain": [
              "55"
            ]
          },
          "execution_count": 82,
          "metadata": {},
          "output_type": "execute_result"
        }
      ],
      "source": [
        "100-45"
      ]
    },
    {
      "cell_type": "code",
      "execution_count": null,
      "metadata": {
        "colab": {
          "base_uri": "https://localhost:8080/"
        },
        "id": "DPTm_F5xbcyN",
        "outputId": "52f9e9b0-373f-4ee9-94d1-4a27534c530b"
      },
      "outputs": [
        {
          "data": {
            "text/plain": [
              "96"
            ]
          },
          "execution_count": 83,
          "metadata": {},
          "output_type": "execute_result"
        }
      ],
      "source": [
        "24 * 4\n",
        "##asterisk"
      ]
    },
    {
      "cell_type": "code",
      "execution_count": null,
      "metadata": {
        "colab": {
          "base_uri": "https://localhost:8080/"
        },
        "id": "IJEQCq-neQzA",
        "outputId": "90ea167d-e513-4a02-f1f7-b798c7c80200"
      },
      "outputs": [
        {
          "data": {
            "text/plain": [
              "5.25"
            ]
          },
          "execution_count": 84,
          "metadata": {},
          "output_type": "execute_result"
        }
      ],
      "source": [
        "21/4"
      ]
    },
    {
      "cell_type": "code",
      "execution_count": null,
      "metadata": {
        "colab": {
          "base_uri": "https://localhost:8080/"
        },
        "id": "aiuhjGwdeUcO",
        "outputId": "84a2527c-5d9d-4bf1-f2e0-99615777a2e2"
      },
      "outputs": [
        {
          "data": {
            "text/plain": [
              "11.5"
            ]
          },
          "execution_count": 85,
          "metadata": {},
          "output_type": "execute_result"
        }
      ],
      "source": [
        "23/2\n",
        "##23 Slas 2"
      ]
    },
    {
      "cell_type": "code",
      "execution_count": null,
      "metadata": {
        "colab": {
          "base_uri": "https://localhost:8080/"
        },
        "id": "pp4WZcLpeaKi",
        "outputId": "73c32720-5f45-42da-ec2c-b0e0e755d4a3"
      },
      "outputs": [
        {
          "data": {
            "text/plain": [
              "0"
            ]
          },
          "execution_count": 86,
          "metadata": {},
          "output_type": "execute_result"
        }
      ],
      "source": [
        "78%3\n",
        "##Modulus for Finding Remainder"
      ]
    },
    {
      "cell_type": "code",
      "execution_count": null,
      "metadata": {
        "colab": {
          "base_uri": "https://localhost:8080/"
        },
        "id": "cPpEA4PvejN4",
        "outputId": "11319b58-b6a7-4870-8012-d22a3ddec65d"
      },
      "outputs": [
        {
          "data": {
            "text/plain": [
              "3"
            ]
          },
          "execution_count": 87,
          "metadata": {},
          "output_type": "execute_result"
        }
      ],
      "source": [
        "80%7"
      ]
    },
    {
      "cell_type": "code",
      "execution_count": null,
      "metadata": {
        "colab": {
          "base_uri": "https://localhost:8080/"
        },
        "id": "2b_TdrnKe3Ch",
        "outputId": "9ea42da9-86b0-493d-b886-5c7deed93d6f"
      },
      "outputs": [
        {
          "data": {
            "text/plain": [
              "8"
            ]
          },
          "execution_count": 88,
          "metadata": {},
          "output_type": "execute_result"
        }
      ],
      "source": [
        "2**3\n",
        "##Double asterisk for Power"
      ]
    },
    {
      "cell_type": "code",
      "execution_count": null,
      "metadata": {
        "colab": {
          "base_uri": "https://localhost:8080/"
        },
        "id": "lUTwvzSRe_1h",
        "outputId": "88c37ad3-5914-4d63-b639-0b2bd4e0f42c"
      },
      "outputs": [
        {
          "data": {
            "text/plain": [
              "1"
            ]
          },
          "execution_count": 89,
          "metadata": {},
          "output_type": "execute_result"
        }
      ],
      "source": [
        "###for Greater Interger Function we use double slas\n",
        "4//3"
      ]
    },
    {
      "cell_type": "markdown",
      "metadata": {
        "id": "tgqpEE2Hfspi"
      },
      "source": [
        "Comparision Operator::\n",
        "\n",
        "We use to compare data or Values..\n",
        "\n",
        "Single = Means assigning the data\n",
        "\n",
        "Double equal means comparision data."
      ]
    },
    {
      "cell_type": "markdown",
      "metadata": {
        "id": "ISJFHUkbfiuF"
      },
      "source": []
    },
    {
      "cell_type": "code",
      "execution_count": null,
      "metadata": {
        "colab": {
          "base_uri": "https://localhost:8080/"
        },
        "id": "MRI69TH4gqii",
        "outputId": "e38884c6-4c1b-4944-9007-33fdbf0d5188"
      },
      "outputs": [
        {
          "data": {
            "text/plain": [
              "True"
            ]
          },
          "execution_count": 90,
          "metadata": {},
          "output_type": "execute_result"
        }
      ],
      "source": [
        "2 ==2"
      ]
    },
    {
      "cell_type": "code",
      "execution_count": null,
      "metadata": {
        "colab": {
          "base_uri": "https://localhost:8080/"
        },
        "id": "mMNGSsVIgrxx",
        "outputId": "c6cff80d-69df-4cfc-9471-553e60219457"
      },
      "outputs": [
        {
          "data": {
            "text/plain": [
              "False"
            ]
          },
          "execution_count": 91,
          "metadata": {},
          "output_type": "execute_result"
        }
      ],
      "source": [
        "2!=2\n",
        "## != is sign for not equal\n",
        "## == is sign for equal"
      ]
    },
    {
      "cell_type": "code",
      "execution_count": null,
      "metadata": {
        "colab": {
          "background_save": true,
          "base_uri": "https://localhost:8080/"
        },
        "id": "TS6-4YbAgv0n",
        "outputId": "561d5c0a-cc90-4980-a6ff-ebaadb314a78"
      },
      "outputs": [
        {
          "data": {
            "text/plain": [
              "False"
            ]
          },
          "execution_count": 92,
          "metadata": {},
          "output_type": "execute_result"
        }
      ],
      "source": [
        "10 >34"
      ]
    },
    {
      "cell_type": "code",
      "execution_count": null,
      "metadata": {
        "colab": {
          "background_save": true,
          "base_uri": "https://localhost:8080/"
        },
        "id": "TNOAlwv4g90R",
        "outputId": "f87e9c4e-3b91-4041-a2a3-c3d3c5c5b782"
      },
      "outputs": [
        {
          "data": {
            "text/plain": [
              "True"
            ]
          },
          "execution_count": 93,
          "metadata": {},
          "output_type": "execute_result"
        }
      ],
      "source": [
        "23<45"
      ]
    },
    {
      "cell_type": "code",
      "execution_count": null,
      "metadata": {
        "colab": {
          "base_uri": "https://localhost:8080/"
        },
        "id": "qhB8Ulo_g_4a",
        "outputId": "2d6b1525-3b40-4a66-8dc7-a47b05088d53"
      },
      "outputs": [
        {
          "data": {
            "text/plain": [
              "True"
            ]
          },
          "execution_count": 94,
          "metadata": {},
          "output_type": "execute_result"
        }
      ],
      "source": [
        "4>=2"
      ]
    },
    {
      "cell_type": "code",
      "execution_count": null,
      "metadata": {
        "colab": {
          "background_save": true,
          "base_uri": "https://localhost:8080/"
        },
        "id": "U-Oc34HThC8q",
        "outputId": "39fd32e6-af54-41b0-b22e-38f2b782ae08"
      },
      "outputs": [
        {
          "data": {
            "text/plain": [
              "True"
            ]
          },
          "execution_count": 95,
          "metadata": {},
          "output_type": "execute_result"
        }
      ],
      "source": [
        "3>=3"
      ]
    },
    {
      "cell_type": "code",
      "execution_count": null,
      "metadata": {
        "colab": {
          "background_save": true,
          "base_uri": "https://localhost:8080/"
        },
        "id": "-v5C8C5lhFPv",
        "outputId": "028a75b3-c128-45fa-c734-516e13192f85"
      },
      "outputs": [
        {
          "data": {
            "text/plain": [
              "True"
            ]
          },
          "execution_count": 96,
          "metadata": {},
          "output_type": "execute_result"
        }
      ],
      "source": [
        "5<=5"
      ]
    },
    {
      "cell_type": "code",
      "execution_count": null,
      "metadata": {
        "colab": {
          "background_save": true,
          "base_uri": "https://localhost:8080/"
        },
        "id": "vciM5Uf5hHT8",
        "outputId": "973a3632-ff00-41ce-c23e-a1154382e2fc"
      },
      "outputs": [
        {
          "data": {
            "text/plain": [
              "False"
            ]
          },
          "execution_count": 97,
          "metadata": {},
          "output_type": "execute_result"
        }
      ],
      "source": [
        "34<23"
      ]
    },
    {
      "cell_type": "markdown",
      "metadata": {
        "id": "Uyewd4ZGiCIL"
      },
      "source": [
        "Logical Operator::\n",
        "\n",
        "AND  Operator\n",
        "\n",
        "Y = A and B (The Output will be true when both the input are true)\n",
        "\n",
        "Truth Table\n",
        "\n",
        "A  B  Y\n",
        "\n",
        "0  0  0\n",
        "\n",
        "1  0  0\n",
        "\n",
        "0  1  0\n",
        "\n",
        "1  1  1\n",
        "\n",
        "OR Operator\n",
        "\n",
        "Y = A npt B (The Output will be true when any of the input are true)\n",
        "\n",
        "Truth Table\n",
        "\n",
        "A B Y\n",
        "\n",
        "0 0 0\n",
        "\n",
        "1 0 1\n",
        "\n",
        "0 1 1\n",
        "\n",
        "1 1 1\n",
        "\n",
        "NOT Operator\n",
        "\n",
        "Y = not A (The Output will be oposite of input)\n",
        "\n",
        "Truth Table\n",
        "\n",
        "A   Y\n",
        "\n",
        "0   1\n",
        "\n",
        "1   0\n",
        "\n",
        "XOR Operator\n",
        "\n",
        "Y = A ^ B (Hut OR Cap)\n",
        "\n",
        "The output will be true when exactly one of the input is ture not both)\n",
        "\n",
        "Truth Table\n",
        "\n",
        "A B Y\n",
        "\n",
        "0 0 0\n",
        "\n",
        "1 0 1\n",
        "\n",
        "0 1 1\n",
        "\n",
        "1 1 0\n"
      ]
    },
    {
      "cell_type": "code",
      "execution_count": null,
      "metadata": {
        "colab": {
          "base_uri": "https://localhost:8080/"
        },
        "id": "5_VfZR-hiFv6",
        "outputId": "fc9a7426-e50a-481e-e246-6ef57d07481c"
      },
      "outputs": [
        {
          "data": {
            "text/plain": [
              "True"
            ]
          },
          "execution_count": 98,
          "metadata": {},
          "output_type": "execute_result"
        }
      ],
      "source": [
        "True and True"
      ]
    },
    {
      "cell_type": "code",
      "execution_count": null,
      "metadata": {
        "colab": {
          "background_save": true,
          "base_uri": "https://localhost:8080/"
        },
        "id": "qZ979TdXkgrq",
        "outputId": "2a65b8dc-6c0b-4830-f9f4-7d10fe8f869c"
      },
      "outputs": [
        {
          "data": {
            "text/plain": [
              "False"
            ]
          },
          "execution_count": 99,
          "metadata": {},
          "output_type": "execute_result"
        }
      ],
      "source": [
        "False and True"
      ]
    },
    {
      "cell_type": "code",
      "execution_count": null,
      "metadata": {
        "colab": {
          "background_save": true,
          "base_uri": "https://localhost:8080/"
        },
        "id": "UiE6MtWAko1t",
        "outputId": "5238e8eb-0775-4e50-bb15-7e83c4bc9350"
      },
      "outputs": [
        {
          "data": {
            "text/plain": [
              "True"
            ]
          },
          "execution_count": 100,
          "metadata": {},
          "output_type": "execute_result"
        }
      ],
      "source": [
        "False or True"
      ]
    },
    {
      "cell_type": "code",
      "execution_count": null,
      "metadata": {
        "colab": {
          "background_save": true,
          "base_uri": "https://localhost:8080/"
        },
        "id": "BO1uont3ksXr",
        "outputId": "9cce324b-7648-47cb-ab33-6d0b7b5bc536"
      },
      "outputs": [
        {
          "data": {
            "text/plain": [
              "True"
            ]
          },
          "execution_count": 101,
          "metadata": {},
          "output_type": "execute_result"
        }
      ],
      "source": [
        "not False"
      ]
    },
    {
      "cell_type": "code",
      "execution_count": null,
      "metadata": {
        "colab": {
          "background_save": true,
          "base_uri": "https://localhost:8080/"
        },
        "id": "ZBEgki0Okvd-",
        "outputId": "b14e86ab-454f-41de-c044-65a080f9e41c"
      },
      "outputs": [
        {
          "data": {
            "text/plain": [
              "True"
            ]
          },
          "execution_count": 102,
          "metadata": {},
          "output_type": "execute_result"
        }
      ],
      "source": [
        "True ^ False"
      ]
    },
    {
      "cell_type": "code",
      "execution_count": null,
      "metadata": {
        "colab": {
          "background_save": true,
          "base_uri": "https://localhost:8080/"
        },
        "id": "h1kF4L-1kzPS",
        "outputId": "d5e88cb7-a529-41b4-acf1-de92677defa8"
      },
      "outputs": [
        {
          "data": {
            "text/plain": [
              "False"
            ]
          },
          "execution_count": 103,
          "metadata": {},
          "output_type": "execute_result"
        }
      ],
      "source": [
        "True ^ True"
      ]
    },
    {
      "cell_type": "code",
      "execution_count": null,
      "metadata": {
        "colab": {
          "background_save": true,
          "base_uri": "https://localhost:8080/"
        },
        "id": "wOivOR9ok1zV",
        "outputId": "e5f0a7ec-5896-4da6-a0df-82b48f60b936"
      },
      "outputs": [
        {
          "data": {
            "text/plain": [
              "False"
            ]
          },
          "execution_count": 104,
          "metadata": {},
          "output_type": "execute_result"
        }
      ],
      "source": [
        "not True"
      ]
    },
    {
      "cell_type": "markdown",
      "metadata": {
        "id": "8zP0YD39lBCm"
      },
      "source": [
        "Assignment Operator\n",
        "\n"
      ]
    },
    {
      "cell_type": "code",
      "execution_count": null,
      "metadata": {
        "colab": {
          "background_save": true
        },
        "id": "XDLcLAbclFdm"
      },
      "outputs": [],
      "source": [
        "a = 10"
      ]
    },
    {
      "cell_type": "code",
      "execution_count": null,
      "metadata": {
        "colab": {
          "background_save": true,
          "base_uri": "https://localhost:8080/"
        },
        "id": "Ff1DTZOhlIru",
        "outputId": "aebf5462-02b8-4108-a475-de314f3e93f2"
      },
      "outputs": [
        {
          "data": {
            "text/plain": [
              "15"
            ]
          },
          "execution_count": 106,
          "metadata": {},
          "output_type": "execute_result"
        }
      ],
      "source": [
        "a+5"
      ]
    },
    {
      "cell_type": "code",
      "execution_count": null,
      "metadata": {
        "colab": {
          "background_save": true
        },
        "id": "dHqrEZR3lLSS"
      },
      "outputs": [],
      "source": [
        "b=7"
      ]
    },
    {
      "cell_type": "code",
      "execution_count": null,
      "metadata": {
        "colab": {
          "background_save": true,
          "base_uri": "https://localhost:8080/"
        },
        "id": "r3K4qdHBlQab",
        "outputId": "48015ede-767f-42fa-de7b-2b60b5b37ab5"
      },
      "outputs": [
        {
          "data": {
            "text/plain": [
              "-2"
            ]
          },
          "execution_count": 108,
          "metadata": {},
          "output_type": "execute_result"
        }
      ],
      "source": [
        "b-9"
      ]
    },
    {
      "cell_type": "code",
      "execution_count": null,
      "metadata": {
        "colab": {
          "background_save": true
        },
        "id": "OI4vGNcQlTMN"
      },
      "outputs": [],
      "source": [
        "c=5"
      ]
    },
    {
      "cell_type": "code",
      "execution_count": null,
      "metadata": {
        "colab": {
          "background_save": true
        },
        "id": "GE7KdObJlcSv"
      },
      "outputs": [],
      "source": [
        "c=c+3"
      ]
    },
    {
      "cell_type": "code",
      "execution_count": null,
      "metadata": {
        "colab": {
          "background_save": true,
          "base_uri": "https://localhost:8080/"
        },
        "id": "cC33YM6_ld98",
        "outputId": "c2440b9e-e7c1-4b80-8e6d-8c5ab0bd5b99"
      },
      "outputs": [
        {
          "data": {
            "text/plain": [
              "8"
            ]
          },
          "execution_count": 111,
          "metadata": {},
          "output_type": "execute_result"
        }
      ],
      "source": [
        "c"
      ]
    },
    {
      "cell_type": "code",
      "execution_count": null,
      "metadata": {
        "colab": {
          "background_save": true,
          "base_uri": "https://localhost:8080/"
        },
        "id": "QcuxMDZVljsp",
        "outputId": "bc274042-01ee-4aa3-9093-193620fc451a"
      },
      "outputs": [
        {
          "data": {
            "text/plain": [
              "8"
            ]
          },
          "execution_count": 112,
          "metadata": {},
          "output_type": "execute_result"
        }
      ],
      "source": [
        "c"
      ]
    },
    {
      "cell_type": "code",
      "execution_count": null,
      "metadata": {
        "colab": {
          "background_save": true
        },
        "id": "5dhuUMk7lnHz"
      },
      "outputs": [],
      "source": [
        "x=4\n",
        "x=x+2"
      ]
    },
    {
      "cell_type": "code",
      "execution_count": null,
      "metadata": {
        "colab": {
          "background_save": true,
          "base_uri": "https://localhost:8080/"
        },
        "id": "Ox14bHf1lvBU",
        "outputId": "5abcfeea-40e6-4d2d-a046-19166d90e364"
      },
      "outputs": [
        {
          "data": {
            "text/plain": [
              "6"
            ]
          },
          "execution_count": 114,
          "metadata": {},
          "output_type": "execute_result"
        }
      ],
      "source": [
        "x"
      ]
    },
    {
      "cell_type": "code",
      "execution_count": null,
      "metadata": {
        "colab": {
          "background_save": true
        },
        "id": "RjmUwTeglwNt"
      },
      "outputs": [],
      "source": [
        "y=5\n",
        "y+=2"
      ]
    },
    {
      "cell_type": "code",
      "execution_count": null,
      "metadata": {
        "colab": {
          "background_save": true,
          "base_uri": "https://localhost:8080/"
        },
        "id": "l3U2-azul6st",
        "outputId": "d462237c-df07-4c12-9674-7874bedfc0ff"
      },
      "outputs": [
        {
          "data": {
            "text/plain": [
              "7"
            ]
          },
          "execution_count": 116,
          "metadata": {},
          "output_type": "execute_result"
        }
      ],
      "source": [
        "y"
      ]
    },
    {
      "cell_type": "code",
      "execution_count": null,
      "metadata": {
        "colab": {
          "background_save": true
        },
        "id": "tH3vpKi-l7pi"
      },
      "outputs": [],
      "source": [
        "w=86\n",
        "w/=4"
      ]
    },
    {
      "cell_type": "code",
      "execution_count": null,
      "metadata": {
        "colab": {
          "background_save": true,
          "base_uri": "https://localhost:8080/"
        },
        "id": "iulpJ5XkmEp0",
        "outputId": "192ebaa3-7e6a-4b35-f2f1-4cdc08a45b55"
      },
      "outputs": [
        {
          "data": {
            "text/plain": [
              "21.5"
            ]
          },
          "execution_count": 118,
          "metadata": {},
          "output_type": "execute_result"
        }
      ],
      "source": [
        "w"
      ]
    },
    {
      "cell_type": "code",
      "execution_count": null,
      "metadata": {
        "colab": {
          "background_save": true
        },
        "id": "DwJQehwvmJ2b"
      },
      "outputs": [],
      "source": [
        "h=25\n",
        "h*=4"
      ]
    },
    {
      "cell_type": "code",
      "execution_count": null,
      "metadata": {
        "colab": {
          "background_save": true,
          "base_uri": "https://localhost:8080/"
        },
        "id": "M6u2A_SYmap7",
        "outputId": "ea82d47f-8f26-42b5-f707-53ede52f0a60"
      },
      "outputs": [
        {
          "data": {
            "text/plain": [
              "100"
            ]
          },
          "execution_count": 120,
          "metadata": {},
          "output_type": "execute_result"
        }
      ],
      "source": [
        "h"
      ]
    },
    {
      "cell_type": "code",
      "execution_count": null,
      "metadata": {
        "colab": {
          "background_save": true
        },
        "id": "_EQp0D2XmiEm"
      },
      "outputs": [],
      "source": [
        "l=23\n",
        "l%=3"
      ]
    },
    {
      "cell_type": "code",
      "execution_count": null,
      "metadata": {
        "colab": {
          "background_save": true,
          "base_uri": "https://localhost:8080/"
        },
        "id": "dG-biILnmw5J",
        "outputId": "05fdfa70-277a-4376-cc24-e98754c061a9"
      },
      "outputs": [
        {
          "data": {
            "text/plain": [
              "2"
            ]
          },
          "execution_count": 122,
          "metadata": {},
          "output_type": "execute_result"
        }
      ],
      "source": [
        "l"
      ]
    },
    {
      "cell_type": "markdown",
      "metadata": {
        "id": "f12egnQmm50P"
      },
      "source": [
        "Membership Operator::\n",
        "\n",
        "Some member what we are looking for wheather they are in the  string or not."
      ]
    },
    {
      "cell_type": "code",
      "execution_count": null,
      "metadata": {
        "colab": {
          "background_save": true,
          "base_uri": "https://localhost:8080/"
        },
        "id": "9OfCmll2nKmd",
        "outputId": "20d7d517-e09f-482a-e0a3-0bdb96405871"
      },
      "outputs": [
        {
          "data": {
            "text/plain": [
              "True"
            ]
          },
          "execution_count": 123,
          "metadata": {},
          "output_type": "execute_result"
        }
      ],
      "source": [
        "a = \"PHYSICS\"\n",
        "'P' in a"
      ]
    },
    {
      "cell_type": "code",
      "execution_count": null,
      "metadata": {
        "colab": {
          "background_save": true,
          "base_uri": "https://localhost:8080/"
        },
        "id": "OQLeRcRDncV4",
        "outputId": "30517cba-ac9c-4c8f-a14e-cde6a4741a61"
      },
      "outputs": [
        {
          "data": {
            "text/plain": [
              "False"
            ]
          },
          "execution_count": 124,
          "metadata": {},
          "output_type": "execute_result"
        }
      ],
      "source": [
        "'S' not in a"
      ]
    },
    {
      "cell_type": "code",
      "execution_count": null,
      "metadata": {
        "colab": {
          "background_save": true,
          "base_uri": "https://localhost:8080/"
        },
        "id": "om0p6aZAnfoc",
        "outputId": "cf5263d4-cf68-492d-9249-08ca2bf4de7b"
      },
      "outputs": [
        {
          "data": {
            "text/plain": [
              "False"
            ]
          },
          "execution_count": 125,
          "metadata": {},
          "output_type": "execute_result"
        }
      ],
      "source": [
        "'L' in a"
      ]
    },
    {
      "cell_type": "code",
      "execution_count": null,
      "metadata": {
        "colab": {
          "background_save": true
        },
        "id": "fyRthQc9nrae"
      },
      "outputs": [],
      "source": [
        "a = [\"Data\", \"Analytics\", \"Machine\", \"Learning\", \"Deep\", \"Learning\"]"
      ]
    },
    {
      "cell_type": "code",
      "execution_count": null,
      "metadata": {
        "colab": {
          "background_save": true,
          "base_uri": "https://localhost:8080/"
        },
        "id": "239j3S2OrN85",
        "outputId": "8bde2a59-442a-4b4b-8c84-b77a26a11219"
      },
      "outputs": [
        {
          "data": {
            "text/plain": [
              "True"
            ]
          },
          "execution_count": 127,
          "metadata": {},
          "output_type": "execute_result"
        }
      ],
      "source": [
        "'Data' in a"
      ]
    },
    {
      "cell_type": "code",
      "execution_count": null,
      "metadata": {
        "colab": {
          "background_save": true,
          "base_uri": "https://localhost:8080/"
        },
        "id": "oiPujbrOrQ8I",
        "outputId": "bac3b113-9309-4602-cf96-689919a72112"
      },
      "outputs": [
        {
          "data": {
            "text/plain": [
              "True"
            ]
          },
          "execution_count": 128,
          "metadata": {},
          "output_type": "execute_result"
        }
      ],
      "source": [
        "'Deep' in a"
      ]
    },
    {
      "cell_type": "code",
      "execution_count": null,
      "metadata": {
        "colab": {
          "background_save": true,
          "base_uri": "https://localhost:8080/"
        },
        "id": "jID1C1cnrUIb",
        "outputId": "2fdd9701-fd9c-471c-921c-9001684b6087"
      },
      "outputs": [
        {
          "data": {
            "text/plain": [
              "False"
            ]
          },
          "execution_count": 129,
          "metadata": {},
          "output_type": "execute_result"
        }
      ],
      "source": [
        "'Machine' not in a"
      ]
    },
    {
      "cell_type": "code",
      "execution_count": null,
      "metadata": {
        "colab": {
          "background_save": true,
          "base_uri": "https://localhost:8080/"
        },
        "id": "nZu9GzfMrfPM",
        "outputId": "e555e9bd-bafd-4c29-e353-91409c08c24a"
      },
      "outputs": [
        {
          "data": {
            "text/plain": [
              "False"
            ]
          },
          "execution_count": 130,
          "metadata": {},
          "output_type": "execute_result"
        }
      ],
      "source": [
        "'Dinesh' in a"
      ]
    },
    {
      "cell_type": "markdown",
      "metadata": {
        "id": "Y9AgbYjurwfw"
      },
      "source": [
        "Identity Operator\n",
        "\n",
        "It compare the location of object or variable."
      ]
    },
    {
      "cell_type": "code",
      "execution_count": null,
      "metadata": {
        "colab": {
          "background_save": true
        },
        "id": "Qw44l6VMrqzH"
      },
      "outputs": [],
      "source": [
        "a = 3 ## a refer the memory block where the 2 is store\n",
        "b = 2 ## b refer the memory block where the 3 is store\n"
      ]
    },
    {
      "cell_type": "code",
      "execution_count": null,
      "metadata": {
        "colab": {
          "base_uri": "https://localhost:8080/"
        },
        "id": "asL_s-R3sVGR",
        "outputId": "417d6c6d-0888-4105-9271-4723d4479c8c"
      },
      "outputs": [
        {
          "data": {
            "text/plain": [
              "False"
            ]
          },
          "execution_count": 132,
          "metadata": {},
          "output_type": "execute_result"
        }
      ],
      "source": [
        "a is b"
      ]
    },
    {
      "cell_type": "code",
      "execution_count": null,
      "metadata": {
        "colab": {
          "base_uri": "https://localhost:8080/"
        },
        "id": "Y_SXZiUOsmgf",
        "outputId": "ebbe41d6-cd7e-42bb-f877-77da23987f8c"
      },
      "outputs": [
        {
          "data": {
            "text/plain": [
              "True"
            ]
          },
          "execution_count": 133,
          "metadata": {},
          "output_type": "execute_result"
        }
      ],
      "source": [
        "a is not b"
      ]
    },
    {
      "cell_type": "code",
      "execution_count": null,
      "metadata": {
        "id": "kGRfLLDEspDu"
      },
      "outputs": [],
      "source": [
        "b = a"
      ]
    },
    {
      "cell_type": "code",
      "execution_count": null,
      "metadata": {
        "colab": {
          "base_uri": "https://localhost:8080/"
        },
        "id": "2iLfVkYmsxsq",
        "outputId": "5773962b-31b6-4cc5-9277-6112a0032a62"
      },
      "outputs": [
        {
          "data": {
            "text/plain": [
              "True"
            ]
          },
          "execution_count": 135,
          "metadata": {},
          "output_type": "execute_result"
        }
      ],
      "source": [
        "a is b"
      ]
    },
    {
      "cell_type": "code",
      "execution_count": null,
      "metadata": {
        "id": "3OLk5C0_sz6z"
      },
      "outputs": [],
      "source": [
        "### here a and b refering the same memory block"
      ]
    },
    {
      "cell_type": "markdown",
      "metadata": {
        "id": "J0tqP5l9tA3x"
      },
      "source": [
        "Bitwise Operators::\n",
        "![image.png](data:image/png;base64,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)\n",
        "Operators at bit levels.\n",
        "\n",
        "Everything is store in computer in Binary Level.\n",
        "\n",
        "Manulipulation of bits within integer.\n",
        "\n",
        "Bit-wiase Represenation: 2^0 x 2^1 x 2^2 x 2^3 x 2^4"
      ]
    },
    {
      "cell_type": "markdown",
      "metadata": {
        "id": "58WI1MuxvNn7"
      },
      "source": [
        "1 = ..................2^0 =   0001\n",
        "\n",
        "2 = .................2^1..=   0010\n",
        "\n",
        "3=2+1....................=    0011\n",
        "\n",
        "4= 2^2 ..................=    0100\n",
        "\n",
        "5= 2^2+1.................=    0101"
      ]
    },
    {
      "cell_type": "code",
      "execution_count": null,
      "metadata": {
        "colab": {
          "base_uri": "https://localhost:8080/"
        },
        "id": "nzBNi1wPs8VP",
        "outputId": "b8607ca4-a877-4b72-ab94-de6a8d09c1f5"
      },
      "outputs": [
        {
          "data": {
            "text/plain": [
              "10"
            ]
          },
          "execution_count": 137,
          "metadata": {},
          "output_type": "execute_result"
        }
      ],
      "source": [
        "10 and 10"
      ]
    },
    {
      "cell_type": "markdown",
      "metadata": {
        "id": "4tC1pZK3wmC6"
      },
      "source": [
        "1  0  1  0\n",
        "\n",
        "1  0  1  0\n",
        "\n",
        "___________\n",
        "\n",
        "1  0  1  0"
      ]
    },
    {
      "cell_type": "code",
      "execution_count": null,
      "metadata": {
        "colab": {
          "base_uri": "https://localhost:8080/"
        },
        "id": "uf0_kjo7wjud",
        "outputId": "4d7e5dc3-8160-46c9-9a6a-f3fc52604a55"
      },
      "outputs": [
        {
          "data": {
            "text/plain": [
              "3"
            ]
          },
          "execution_count": 138,
          "metadata": {},
          "output_type": "execute_result"
        }
      ],
      "source": [
        "18 and 3"
      ]
    },
    {
      "cell_type": "markdown",
      "metadata": {
        "id": "UwmMWyGPxfju"
      },
      "source": [
        "1 0 0 1 0\n",
        "\n",
        "0 0 0 1 1\n",
        "_________\n",
        "\n",
        "0 0 0 1 0"
      ]
    },
    {
      "cell_type": "code",
      "execution_count": null,
      "metadata": {
        "colab": {
          "base_uri": "https://localhost:8080/",
          "height": 36
        },
        "id": "Q2suXXn_xXvR",
        "outputId": "f7962711-edf7-4c79-92d8-9bc2350695b9"
      },
      "outputs": [
        {
          "data": {
            "application/vnd.google.colaboratory.intrinsic+json": {
              "type": "string"
            },
            "text/plain": [
              "'0b1010'"
            ]
          },
          "execution_count": 139,
          "metadata": {},
          "output_type": "execute_result"
        }
      ],
      "source": [
        "bin (10)\n"
      ]
    },
    {
      "cell_type": "code",
      "execution_count": null,
      "metadata": {
        "colab": {
          "base_uri": "https://localhost:8080/",
          "height": 36
        },
        "id": "TWoOMSq_x5KC",
        "outputId": "ceaea2a6-6645-434d-e2be-7948551ff2b7"
      },
      "outputs": [
        {
          "data": {
            "application/vnd.google.colaboratory.intrinsic+json": {
              "type": "string"
            },
            "text/plain": [
              "'0b10010'"
            ]
          },
          "execution_count": 140,
          "metadata": {},
          "output_type": "execute_result"
        }
      ],
      "source": [
        "bin (18)"
      ]
    },
    {
      "cell_type": "code",
      "execution_count": null,
      "metadata": {
        "colab": {
          "base_uri": "https://localhost:8080/",
          "height": 36
        },
        "id": "d6IARhEwx7eF",
        "outputId": "20fb1c8c-a10b-4b0d-a85f-59280e5e5de5"
      },
      "outputs": [
        {
          "data": {
            "application/vnd.google.colaboratory.intrinsic+json": {
              "type": "string"
            },
            "text/plain": [
              "'0b11'"
            ]
          },
          "execution_count": 141,
          "metadata": {},
          "output_type": "execute_result"
        }
      ],
      "source": [
        "bin (3)"
      ]
    },
    {
      "cell_type": "code",
      "execution_count": null,
      "metadata": {
        "colab": {
          "base_uri": "https://localhost:8080/"
        },
        "id": "tNiHA7kIx_OQ",
        "outputId": "fa5c7cf4-0cfe-479b-b5ed-16b981bad4fb"
      },
      "outputs": [
        {
          "data": {
            "text/plain": [
              "7"
            ]
          },
          "execution_count": 142,
          "metadata": {},
          "output_type": "execute_result"
        }
      ],
      "source": [
        "5 and 7"
      ]
    },
    {
      "cell_type": "code",
      "execution_count": null,
      "metadata": {
        "colab": {
          "base_uri": "https://localhost:8080/"
        },
        "id": "GBtxbcSfyIth",
        "outputId": "78af30d4-e8c3-461f-a159-2e07cbbd9f9f"
      },
      "outputs": [
        {
          "data": {
            "text/plain": [
              "2"
            ]
          },
          "execution_count": 143,
          "metadata": {},
          "output_type": "execute_result"
        }
      ],
      "source": [
        "18 & 3"
      ]
    },
    {
      "cell_type": "code",
      "execution_count": null,
      "metadata": {
        "colab": {
          "base_uri": "https://localhost:8080/"
        },
        "id": "8U2auIKayP5x",
        "outputId": "34236b9c-e2e2-4c82-c06b-9428745e4f50"
      },
      "outputs": [
        {
          "data": {
            "text/plain": [
              "7"
            ]
          },
          "execution_count": 144,
          "metadata": {},
          "output_type": "execute_result"
        }
      ],
      "source": [
        "3 | 5"
      ]
    },
    {
      "cell_type": "markdown",
      "metadata": {
        "id": "aZEzoooJoQWS"
      },
      "source": [
        "Negation::\n",
        "\n",
        "~ Tilda\n",
        "\n",
        "~n = -n-1 (One Value Lower)"
      ]
    },
    {
      "cell_type": "code",
      "execution_count": null,
      "metadata": {
        "colab": {
          "base_uri": "https://localhost:8080/"
        },
        "id": "c5AWHxovyXPa",
        "outputId": "395f2411-1c20-4d46-d6dd-0c420af31b86"
      },
      "outputs": [
        {
          "data": {
            "text/plain": [
              "-46"
            ]
          },
          "execution_count": 145,
          "metadata": {},
          "output_type": "execute_result"
        }
      ],
      "source": [
        "~ 45"
      ]
    },
    {
      "cell_type": "code",
      "execution_count": null,
      "metadata": {
        "colab": {
          "base_uri": "https://localhost:8080/"
        },
        "id": "comsrmDEvCaI",
        "outputId": "6881a9f1-de53-4eab-9cf9-e337c15b7e01"
      },
      "outputs": [
        {
          "data": {
            "text/plain": [
              "-90"
            ]
          },
          "execution_count": 146,
          "metadata": {},
          "output_type": "execute_result"
        }
      ],
      "source": [
        " ~ 89"
      ]
    },
    {
      "cell_type": "code",
      "execution_count": null,
      "metadata": {
        "colab": {
          "base_uri": "https://localhost:8080/"
        },
        "id": "p3qqtWVvwhr_",
        "outputId": "931d1456-a24e-48b1-b8f9-3ce68ef3918f"
      },
      "outputs": [
        {
          "data": {
            "text/plain": [
              "31"
            ]
          },
          "execution_count": 147,
          "metadata": {},
          "output_type": "execute_result"
        }
      ],
      "source": [
        "~-32"
      ]
    },
    {
      "cell_type": "markdown",
      "metadata": {
        "id": "WUNZ8NAXxXKa"
      },
      "source": [
        "Bitwise XOR Operator\n",
        "\n",
        "a ^ b\n",
        "\n",
        "it will give you one when exatly one bit is one"
      ]
    },
    {
      "cell_type": "code",
      "execution_count": null,
      "metadata": {
        "colab": {
          "base_uri": "https://localhost:8080/"
        },
        "id": "9wM9VwIowqyS",
        "outputId": "6927d041-847a-4057-b8ff-773c04eea68b"
      },
      "outputs": [
        {
          "data": {
            "text/plain": [
              "6"
            ]
          },
          "execution_count": 148,
          "metadata": {},
          "output_type": "execute_result"
        }
      ],
      "source": [
        "5 ^ 3"
      ]
    },
    {
      "cell_type": "markdown",
      "metadata": {
        "id": "-MDd4puTzoP_"
      },
      "source": [
        "shift operator::\n",
        "\n",
        "Left shift Operator:\n",
        "\n",
        "Shift Zero in the right\n",
        "\n",
        "Like 35<<3\n",
        "\n",
        "that means three zero shift in the right.\n",
        "\n",
        "35 = 100011\n",
        "35 << 3 = 100011000"
      ]
    },
    {
      "cell_type": "markdown",
      "metadata": {
        "id": "HCQU-Sptzn5_"
      },
      "source": []
    },
    {
      "cell_type": "code",
      "execution_count": null,
      "metadata": {
        "colab": {
          "base_uri": "https://localhost:8080/"
        },
        "id": "u4YdVzvPxw2F",
        "outputId": "4b349ce5-158b-454f-97b9-d3d32d876879"
      },
      "outputs": [
        {
          "data": {
            "text/plain": [
              "280"
            ]
          },
          "execution_count": 149,
          "metadata": {},
          "output_type": "execute_result"
        }
      ],
      "source": [
        "35 << 3"
      ]
    },
    {
      "cell_type": "code",
      "execution_count": null,
      "metadata": {
        "colab": {
          "base_uri": "https://localhost:8080/",
          "height": 36
        },
        "id": "H1Hc0Mqd00Eq",
        "outputId": "7fe64b5e-89e9-4542-f021-e9246decdc61"
      },
      "outputs": [
        {
          "data": {
            "application/vnd.google.colaboratory.intrinsic+json": {
              "type": "string"
            },
            "text/plain": [
              "'0b100011000'"
            ]
          },
          "execution_count": 150,
          "metadata": {},
          "output_type": "execute_result"
        }
      ],
      "source": [
        "bin (280)"
      ]
    },
    {
      "cell_type": "markdown",
      "metadata": {
        "id": "KuHyBia01FSN"
      },
      "source": [
        "Right Shift Operator\n",
        "\n",
        "Remove The number of element in the right.\n",
        "\n",
        "280 >>  3\n",
        "\n",
        "Remove last three values.\n",
        "\n",
        "100011000\n",
        "\n",
        "100011"
      ]
    },
    {
      "cell_type": "code",
      "execution_count": null,
      "metadata": {
        "colab": {
          "base_uri": "https://localhost:8080/"
        },
        "id": "MGp5TEzv07y-",
        "outputId": "9da562e5-79d2-470c-b79a-2c185c035e0c"
      },
      "outputs": [
        {
          "data": {
            "text/plain": [
              "35"
            ]
          },
          "execution_count": 151,
          "metadata": {},
          "output_type": "execute_result"
        }
      ],
      "source": [
        "280 >> 3"
      ]
    },
    {
      "cell_type": "code",
      "execution_count": null,
      "metadata": {
        "colab": {
          "base_uri": "https://localhost:8080/"
        },
        "id": "BSYeNyQ81yce",
        "outputId": "2015fa27-08ab-400a-e5b0-ceda27eec16b"
      },
      "outputs": [
        {
          "data": {
            "text/plain": [
              "5"
            ]
          },
          "execution_count": 152,
          "metadata": {},
          "output_type": "execute_result"
        }
      ],
      "source": [
        "10 >>1"
      ]
    },
    {
      "cell_type": "markdown",
      "metadata": {
        "id": "2cNUmH2v17bh"
      },
      "source": [
        "Order of Precedence\n",
        "\n",
        "The execution of Python command will be from Left to Right.\n",
        "\n",
        "It will follow the BODMAS Rule."
      ]
    },
    {
      "cell_type": "code",
      "execution_count": null,
      "metadata": {
        "colab": {
          "base_uri": "https://localhost:8080/"
        },
        "id": "PHb6nMBz12QM",
        "outputId": "723d7989-df97-41ff-f354-1b3cac29dc94"
      },
      "outputs": [
        {
          "data": {
            "text/plain": [
              "14"
            ]
          },
          "execution_count": 153,
          "metadata": {},
          "output_type": "execute_result"
        }
      ],
      "source": [
        "2 + 3*4"
      ]
    },
    {
      "cell_type": "code",
      "execution_count": null,
      "metadata": {
        "colab": {
          "base_uri": "https://localhost:8080/"
        },
        "id": "GQ9yu5wp2mEc",
        "outputId": "10e0797a-545d-4f94-a70d-fdf74ee53cca"
      },
      "outputs": [
        {
          "data": {
            "text/plain": [
              "7.0"
            ]
          },
          "execution_count": 154,
          "metadata": {},
          "output_type": "execute_result"
        }
      ],
      "source": [
        "4+6/2"
      ]
    },
    {
      "cell_type": "markdown",
      "metadata": {
        "id": "l9Ohjsre4I7t"
      },
      "source": [
        "Type Casting:\n",
        "\n",
        "The Process of changing Data Type of Value of Object.\n",
        "\n",
        "WHy we need this\n",
        "\n",
        "While executing or computation using operator there can be missmatch between the data type."
      ]
    },
    {
      "cell_type": "code",
      "execution_count": null,
      "metadata": {
        "colab": {
          "base_uri": "https://localhost:8080/"
        },
        "id": "ZP9ECn-C2wO9",
        "outputId": "1fca9bdd-07c6-4a5d-c040-c5f77b39b50e"
      },
      "outputs": [
        {
          "data": {
            "text/plain": [
              "7"
            ]
          },
          "execution_count": 155,
          "metadata": {},
          "output_type": "execute_result"
        }
      ],
      "source": [
        "#type casting for string to integer\n",
        "a = \"2\"\n",
        "b=5\n",
        "#here a + b will through an error\n",
        "#so finding the sum or sub we need to defined in the following way.\n",
        "int (a)+b\n"
      ]
    },
    {
      "cell_type": "code",
      "execution_count": null,
      "metadata": {
        "colab": {
          "base_uri": "https://localhost:8080/"
        },
        "id": "QLRXZ7355sax",
        "outputId": "4366d5e8-d75a-4d3e-fdf7-c258fde56290"
      },
      "outputs": [
        {
          "data": {
            "text/plain": [
              "str"
            ]
          },
          "execution_count": 156,
          "metadata": {},
          "output_type": "execute_result"
        }
      ],
      "source": [
        "type (a)"
      ]
    },
    {
      "cell_type": "code",
      "execution_count": null,
      "metadata": {
        "colab": {
          "base_uri": "https://localhost:8080/"
        },
        "id": "p9PK3-dQ58rA",
        "outputId": "511dc954-8996-49f4-d0a1-d6df50a163e2"
      },
      "outputs": [
        {
          "data": {
            "text/plain": [
              "int"
            ]
          },
          "execution_count": 157,
          "metadata": {},
          "output_type": "execute_result"
        }
      ],
      "source": [
        "type(int(a))"
      ]
    },
    {
      "cell_type": "code",
      "execution_count": null,
      "metadata": {
        "colab": {
          "base_uri": "https://localhost:8080/"
        },
        "id": "QyWwQBlC6KJo",
        "outputId": "496bb737-bed8-4ed1-9646-dbc4468662e7"
      },
      "outputs": [
        {
          "data": {
            "text/plain": [
              "3"
            ]
          },
          "execution_count": 158,
          "metadata": {},
          "output_type": "execute_result"
        }
      ],
      "source": [
        "#Type casting for Float to Integer\n",
        "a = 3.5\n",
        "type(a)\n",
        "int (a)"
      ]
    },
    {
      "cell_type": "code",
      "execution_count": null,
      "metadata": {
        "colab": {
          "base_uri": "https://localhost:8080/"
        },
        "id": "3G46kYQ87PJB",
        "outputId": "63f265c3-627f-43a2-f70b-77fc5c4fb61c"
      },
      "outputs": [
        {
          "data": {
            "text/plain": [
              "36.0"
            ]
          },
          "execution_count": 159,
          "metadata": {},
          "output_type": "execute_result"
        }
      ],
      "source": [
        "#integer to Float\n",
        "a = 36\n",
        "type (a)\n",
        "float (a)"
      ]
    },
    {
      "cell_type": "code",
      "execution_count": null,
      "metadata": {
        "colab": {
          "base_uri": "https://localhost:8080/"
        },
        "id": "CDNQt4Bq8QXH",
        "outputId": "3ab6b42b-1873-4fc3-9281-10bd59befbb7"
      },
      "outputs": [
        {
          "data": {
            "text/plain": [
              "str"
            ]
          },
          "execution_count": 160,
          "metadata": {},
          "output_type": "execute_result"
        }
      ],
      "source": [
        "#string to Float\n",
        "a = \"35.5\"\n",
        "type (a)"
      ]
    },
    {
      "cell_type": "code",
      "execution_count": null,
      "metadata": {
        "id": "eXerBJST--nY",
        "colab": {
          "base_uri": "https://localhost:8080/"
        },
        "outputId": "e7e40dea-bf77-407a-b068-8daf43873b22"
      },
      "outputs": [
        {
          "output_type": "execute_result",
          "data": {
            "text/plain": [
              "35.5"
            ]
          },
          "metadata": {},
          "execution_count": 161
        }
      ],
      "source": [
        "float (a)"
      ]
    },
    {
      "cell_type": "code",
      "source": [
        "a = \"DINESH\"\n",
        "type (a)"
      ],
      "metadata": {
        "colab": {
          "base_uri": "https://localhost:8080/"
        },
        "id": "gOZIilqRyLxf",
        "outputId": "ee4c7a8e-a487-48cf-bda8-baefa5a532ae"
      },
      "execution_count": null,
      "outputs": [
        {
          "output_type": "execute_result",
          "data": {
            "text/plain": [
              "str"
            ]
          },
          "metadata": {},
          "execution_count": 162
        }
      ]
    },
    {
      "cell_type": "code",
      "source": [
        "#here we can not convert this string into integer or float. becuase this string does not contain any value."
      ],
      "metadata": {
        "id": "A665j8QAyixZ"
      },
      "execution_count": null,
      "outputs": []
    },
    {
      "cell_type": "code",
      "source": [
        "#Integer to String\n",
        "a = 5\n",
        "type (a)"
      ],
      "metadata": {
        "colab": {
          "base_uri": "https://localhost:8080/"
        },
        "id": "44zCnZoNy2pU",
        "outputId": "7025a2fb-82a3-4ae2-8b85-12598bb2ded3"
      },
      "execution_count": null,
      "outputs": [
        {
          "output_type": "execute_result",
          "data": {
            "text/plain": [
              "int"
            ]
          },
          "metadata": {},
          "execution_count": 164
        }
      ]
    },
    {
      "cell_type": "code",
      "source": [
        "str (a)"
      ],
      "metadata": {
        "colab": {
          "base_uri": "https://localhost:8080/",
          "height": 36
        },
        "id": "62adceKkzE4z",
        "outputId": "b522ad45-5bd7-402a-85f3-49ca97171f1b"
      },
      "execution_count": null,
      "outputs": [
        {
          "output_type": "execute_result",
          "data": {
            "text/plain": [
              "'5'"
            ],
            "application/vnd.google.colaboratory.intrinsic+json": {
              "type": "string"
            }
          },
          "metadata": {},
          "execution_count": 165
        }
      ]
    },
    {
      "cell_type": "code",
      "source": [
        "c = str (a)\n",
        "type (c)"
      ],
      "metadata": {
        "colab": {
          "base_uri": "https://localhost:8080/"
        },
        "id": "f5PgvEP3zItL",
        "outputId": "52ca89fa-bed4-495a-88e6-282f669fdf42"
      },
      "execution_count": null,
      "outputs": [
        {
          "output_type": "execute_result",
          "data": {
            "text/plain": [
              "str"
            ]
          },
          "metadata": {},
          "execution_count": 166
        }
      ]
    },
    {
      "cell_type": "markdown",
      "source": [
        "Type Casting are Two Types:\n",
        "\n",
        "Implicit Type Casting\n",
        "\n",
        "when we are changing from one data type to another data type that we called implict data type.\n",
        "\n",
        "Explicit Type Casting\n",
        "\n",
        "Here if i write\n",
        "\n",
        "a = \"DINESH\n",
        "\n",
        "b = 5\n",
        "\n",
        "a +b will be invalid\n",
        "\n",
        "BUTTTTT\n"
      ],
      "metadata": {
        "id": "awGaWdz8zXgF"
      }
    },
    {
      "cell_type": "code",
      "source": [
        "a = \"Dinesh\"\n",
        "b = \"Halder\"\n",
        "a+b"
      ],
      "metadata": {
        "colab": {
          "base_uri": "https://localhost:8080/",
          "height": 36
        },
        "id": "CWQIgBxczSGI",
        "outputId": "ad671a02-8f3b-4577-b1b3-7fc51eec2126"
      },
      "execution_count": null,
      "outputs": [
        {
          "output_type": "execute_result",
          "data": {
            "text/plain": [
              "'DineshHalder'"
            ],
            "application/vnd.google.colaboratory.intrinsic+json": {
              "type": "string"
            }
          },
          "metadata": {},
          "execution_count": 167
        }
      ]
    },
    {
      "cell_type": "code",
      "source": [
        "##This is the example of explicit type casting\n"
      ],
      "metadata": {
        "id": "3DTgJmD80eHu"
      },
      "execution_count": null,
      "outputs": []
    },
    {
      "cell_type": "code",
      "source": [
        " a = \"1000\"\n",
        " b = \"DINESH\"\n",
        " a+b"
      ],
      "metadata": {
        "colab": {
          "base_uri": "https://localhost:8080/",
          "height": 36
        },
        "id": "060CBV--0nSa",
        "outputId": "a1f97c71-eaec-4a41-9480-80640783c164"
      },
      "execution_count": null,
      "outputs": [
        {
          "output_type": "execute_result",
          "data": {
            "text/plain": [
              "'1000DINESH'"
            ],
            "application/vnd.google.colaboratory.intrinsic+json": {
              "type": "string"
            }
          },
          "metadata": {},
          "execution_count": 170
        }
      ]
    },
    {
      "cell_type": "code",
      "source": [
        "###explicit type casting convert data type by using inbuilt fuction"
      ],
      "metadata": {
        "id": "ws1sZ3Yx0s44"
      },
      "execution_count": null,
      "outputs": []
    },
    {
      "cell_type": "code",
      "source": [
        "bool (0)"
      ],
      "metadata": {
        "colab": {
          "base_uri": "https://localhost:8080/"
        },
        "id": "TFYHiBJr1Er4",
        "outputId": "f31672fc-6b92-4af2-90e9-228fb650486a"
      },
      "execution_count": null,
      "outputs": [
        {
          "output_type": "execute_result",
          "data": {
            "text/plain": [
              "False"
            ]
          },
          "metadata": {},
          "execution_count": 172
        }
      ]
    },
    {
      "cell_type": "code",
      "source": [
        "bool (2024)"
      ],
      "metadata": {
        "colab": {
          "base_uri": "https://localhost:8080/"
        },
        "id": "yWjaNle41NQn",
        "outputId": "2d3b4df5-912e-441f-f0b4-85116007f36a"
      },
      "execution_count": null,
      "outputs": [
        {
          "output_type": "execute_result",
          "data": {
            "text/plain": [
              "True"
            ]
          },
          "metadata": {},
          "execution_count": 173
        }
      ]
    },
    {
      "cell_type": "code",
      "source": [
        "bool (\"DINESH\")"
      ],
      "metadata": {
        "colab": {
          "base_uri": "https://localhost:8080/"
        },
        "id": "KbyYtX5k1RkK",
        "outputId": "4298a58a-21ff-41d5-a8a9-8d93b3748e25"
      },
      "execution_count": null,
      "outputs": [
        {
          "output_type": "execute_result",
          "data": {
            "text/plain": [
              "True"
            ]
          },
          "metadata": {},
          "execution_count": 174
        }
      ]
    },
    {
      "cell_type": "code",
      "source": [
        "##So the bool will give the output true if it is not zero.\n"
      ],
      "metadata": {
        "id": "BiB8iUOj1VvB"
      },
      "execution_count": null,
      "outputs": []
    },
    {
      "cell_type": "markdown",
      "source": [
        "Flow Controlled\n",
        "\n",
        "Conditional Statement - if , if else, if elif else, nested if else\n",
        "\n",
        "Loop Statement - For and While\n",
        "\n",
        "Control Statement - Break and Continue..............\n"
      ],
      "metadata": {
        "id": "sCsHc37H1sVy"
      }
    },
    {
      "cell_type": "code",
      "source": [
        "##Conditional Statement help me to make decision based on some pre condition."
      ],
      "metadata": {
        "id": "sOLsGous124I"
      },
      "execution_count": null,
      "outputs": []
    },
    {
      "cell_type": "markdown",
      "source": [
        "If Statement:\n",
        "\n",
        "If the condition is true:\n",
        "\n",
        "The block of the code will  execute\n",
        "\n",
        "if the condtion is not true the block of code will not work.\n",
        "\n",
        "it is not going to give any output to us.\n",
        "\n",
        "![image.png](data:image/png;base64,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)"
      ],
      "metadata": {
        "id": "HunI7quC3NYe"
      }
    },
    {
      "cell_type": "code",
      "source": [
        "a = 100\n",
        "if a > 0:\n",
        "  print (\"the number is greater that zero\")"
      ],
      "metadata": {
        "colab": {
          "base_uri": "https://localhost:8080/"
        },
        "id": "pbNMaOwj27ia",
        "outputId": "acf74e56-0f14-4af1-bff2-62487d270a8e"
      },
      "execution_count": null,
      "outputs": [
        {
          "output_type": "stream",
          "name": "stdout",
          "text": [
            "the number is greater that zero\n"
          ]
        }
      ]
    },
    {
      "cell_type": "code",
      "source": [
        "a = -56\n",
        "if a > 0:\n",
        "  print (\"the number is greater that zero\")"
      ],
      "metadata": {
        "id": "UOTSp4XY3x7e"
      },
      "execution_count": null,
      "outputs": []
    },
    {
      "cell_type": "code",
      "source": [
        "temp = 30\n",
        "if temp >20:\n",
        "  print (\"it it is hot\")"
      ],
      "metadata": {
        "colab": {
          "base_uri": "https://localhost:8080/"
        },
        "id": "9lypFyHN4KcU",
        "outputId": "6b432818-e8e3-42f2-935d-af67bc65417a"
      },
      "execution_count": null,
      "outputs": [
        {
          "output_type": "stream",
          "name": "stdout",
          "text": [
            "it it is hot\n"
          ]
        }
      ]
    },
    {
      "cell_type": "code",
      "source": [
        "ds_course = \"True\"\n",
        "if ds_course:\n",
        "  print (\"I am learning data science course from PW\")"
      ],
      "metadata": {
        "id": "FjyNiiEB5-e0",
        "colab": {
          "base_uri": "https://localhost:8080/"
        },
        "outputId": "b713ea46-1f70-4e31-ce14-91f75014ae38"
      },
      "execution_count": null,
      "outputs": [
        {
          "output_type": "stream",
          "name": "stdout",
          "text": [
            "I am learning data science course from PW\n"
          ]
        }
      ]
    },
    {
      "cell_type": "code",
      "source": [
        "ds_course = \"False\""
      ],
      "metadata": {
        "id": "_Nk3cjwbfzNk"
      },
      "execution_count": null,
      "outputs": []
    },
    {
      "cell_type": "code",
      "source": [
        "grade = 8\n",
        "if grade >= 8:\n",
        "  print (\"you are excelent\")"
      ],
      "metadata": {
        "colab": {
          "base_uri": "https://localhost:8080/"
        },
        "id": "gBRucMQrf87D",
        "outputId": "6e4317a9-01db-4724-dd66-251272d22a29"
      },
      "execution_count": null,
      "outputs": [
        {
          "output_type": "stream",
          "name": "stdout",
          "text": [
            "you are excelent\n"
          ]
        }
      ]
    },
    {
      "cell_type": "code",
      "source": [
        "grade = 5"
      ],
      "metadata": {
        "id": "8hyoTBg8gPL5"
      },
      "execution_count": null,
      "outputs": []
    },
    {
      "cell_type": "code",
      "source": [
        "num = 6\n",
        "if num %2==0:\n",
        "  print (\"The number is even number\")"
      ],
      "metadata": {
        "colab": {
          "base_uri": "https://localhost:8080/"
        },
        "id": "P5Ash9GWgh5E",
        "outputId": "dc62a63e-38e2-4b83-f70c-5393f4346340"
      },
      "execution_count": null,
      "outputs": [
        {
          "output_type": "stream",
          "name": "stdout",
          "text": [
            "The number is even number\n"
          ]
        }
      ]
    },
    {
      "cell_type": "code",
      "source": [
        "num=9\n",
        "if num%2!=0:\n",
        "  print(\"The number is odd number\")"
      ],
      "metadata": {
        "colab": {
          "base_uri": "https://localhost:8080/"
        },
        "id": "jrFQsGY9hUko",
        "outputId": "7aa2e78b-b3ad-48fc-a675-8a10eb6ea283"
      },
      "execution_count": null,
      "outputs": [
        {
          "output_type": "stream",
          "name": "stdout",
          "text": [
            "The number is odd number\n"
          ]
        }
      ]
    },
    {
      "cell_type": "code",
      "source": [
        "##Multiple condition are given the how to apply the for loop we are  going to see now"
      ],
      "metadata": {
        "id": "CH0jXOYwhzKa"
      },
      "execution_count": null,
      "outputs": []
    },
    {
      "cell_type": "code",
      "source": [
        "co_cir =\"True\"\n",
        "grade = 8\n",
        "if ((co_cir==\"True\") & (grade>=8)):\n",
        "  print (\"you are allrounder\")"
      ],
      "metadata": {
        "colab": {
          "base_uri": "https://localhost:8080/"
        },
        "id": "lLdHh0pdib0o",
        "outputId": "964a00c9-f65f-4f09-a33a-dad39fece296"
      },
      "execution_count": null,
      "outputs": [
        {
          "output_type": "stream",
          "name": "stdout",
          "text": [
            "you are allrounder\n"
          ]
        }
      ]
    },
    {
      "cell_type": "markdown",
      "source": [
        "In are real life we use multiple condition. Similarly here we are going to see the multiple instruction."
      ],
      "metadata": {
        "id": "fykHVUxyjU13"
      }
    },
    {
      "cell_type": "code",
      "source": [
        "##if else conditions"
      ],
      "metadata": {
        "id": "apSjXL_7jFS6"
      },
      "execution_count": null,
      "outputs": []
    },
    {
      "cell_type": "code",
      "source": [
        "weather= \"Sunny\"\n",
        "if weather == \"Sunny\":\n",
        "  print (\"i will play cricket\")\n",
        "else:\n",
        "    print (\"I will watch TV\")"
      ],
      "metadata": {
        "colab": {
          "base_uri": "https://localhost:8080/"
        },
        "id": "D7YSh4LTk4rV",
        "outputId": "335bbe4b-a9d2-4421-c281-7030627dc972"
      },
      "execution_count": null,
      "outputs": [
        {
          "output_type": "stream",
          "name": "stdout",
          "text": [
            "i will play cricket\n"
          ]
        }
      ]
    },
    {
      "cell_type": "code",
      "source": [
        "##here  it will execute the if block if the condition ture otherwise it will execute the else block"
      ],
      "metadata": {
        "id": "0mYkQme6lXY-"
      },
      "execution_count": null,
      "outputs": []
    },
    {
      "cell_type": "markdown",
      "source": [
        "![image.png](data:image/png;base64,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)"
      ],
      "metadata": {
        "id": "hQvA4b7J0YuS"
      }
    },
    {
      "cell_type": "code",
      "source": [
        "age = 21\n",
        "if age >=21:\n",
        "  print (\"you will be served alcohol\")\n",
        "else:\n",
        "  print (\"you will be not served alcohol\")"
      ],
      "metadata": {
        "colab": {
          "base_uri": "https://localhost:8080/"
        },
        "id": "H3OGrVpuzjVE",
        "outputId": "294275ab-6790-4e0c-8894-11f54c0f65c9"
      },
      "execution_count": null,
      "outputs": [
        {
          "output_type": "stream",
          "name": "stdout",
          "text": [
            "you will be served alcohol\n"
          ]
        }
      ]
    },
    {
      "cell_type": "code",
      "source": [
        "age = 18\n",
        "if age >=21:\n",
        "  print (\"you will be served alcohol\")\n",
        "else:\n",
        "  print (\"you will be not served alcohol\")"
      ],
      "metadata": {
        "colab": {
          "base_uri": "https://localhost:8080/"
        },
        "id": "IQVsueoh1Ct0",
        "outputId": "b59f9b47-e837-442e-92a4-c67240f8a7b7"
      },
      "execution_count": null,
      "outputs": [
        {
          "output_type": "stream",
          "name": "stdout",
          "text": [
            "you will be not served alcohol\n"
          ]
        }
      ]
    },
    {
      "cell_type": "code",
      "source": [
        "ds_course = \"True\"\n",
        "if ds_course == \"True\":\n",
        "  print (\"i am learning data science\")\n",
        "else:\n",
        "  printt (\"i am not reading\")"
      ],
      "metadata": {
        "colab": {
          "base_uri": "https://localhost:8080/"
        },
        "id": "n3Wo7jyn1Pqq",
        "outputId": "a781b02d-6f20-4cd3-8a91-0b3dd8c5a0c0"
      },
      "execution_count": null,
      "outputs": [
        {
          "output_type": "stream",
          "name": "stdout",
          "text": [
            "i am learning data science\n"
          ]
        }
      ]
    },
    {
      "cell_type": "code",
      "source": [
        "x= 10\n",
        "if x>=5:\n",
        "  print (\"The Number is Greater Than 5\")\n",
        "else:\n",
        "  print (\"The number is less than 5\")"
      ],
      "metadata": {
        "id": "owe343ag2as1",
        "colab": {
          "base_uri": "https://localhost:8080/"
        },
        "outputId": "966fc0b2-438b-4795-a7c7-d1c65d19c8e1"
      },
      "execution_count": null,
      "outputs": [
        {
          "output_type": "stream",
          "name": "stdout",
          "text": [
            "The Number is Greater Than 5\n"
          ]
        }
      ]
    },
    {
      "cell_type": "code",
      "source": [
        "##Check a given number is wheather even or odd\n",
        "num = 5\n",
        "if num%2==0:\n",
        "  print (\"The number is even\")\n",
        "else:\n",
        "  print(\"the number is odd\")"
      ],
      "metadata": {
        "colab": {
          "base_uri": "https://localhost:8080/"
        },
        "id": "-ESRmFrk2wfr",
        "outputId": "fb10a3be-0c2c-40e0-9ba7-1f191049b48e"
      },
      "execution_count": null,
      "outputs": [
        {
          "output_type": "stream",
          "name": "stdout",
          "text": [
            "the number is odd\n"
          ]
        }
      ]
    },
    {
      "cell_type": "code",
      "source": [
        "#if elif else"
      ],
      "metadata": {
        "id": "t1LBhDd36E5x"
      },
      "execution_count": null,
      "outputs": []
    },
    {
      "cell_type": "code",
      "source": [],
      "metadata": {
        "id": "ORQo6dPk7OcX"
      },
      "execution_count": null,
      "outputs": []
    },
    {
      "cell_type": "markdown",
      "source": [
        "If Elif Else\n",
        "\n",
        "If condition\n",
        "\n",
        "elif some conditions\n",
        "\n",
        "else condition\n",
        "\n",
        "![image.png](data:image/png;base64,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)\n"
      ],
      "metadata": {
        "id": "8LF4zYi37PxY"
      }
    },
    {
      "cell_type": "code",
      "source": [
        "score = 25\n",
        "if score > 90:\n",
        "  print (\"grade AA\")\n",
        "elif 80 <score<=90:\n",
        "  print (\"Grade A\")\n",
        "elif 70<score<=80:\n",
        "  print (\"grade B+\")\n",
        "elif 60 <score<=70:\n",
        "  print (\"Grade B\")\n",
        "elif 50<score<=60:\n",
        "  print (\"grade C+\")\n",
        "elif 40 <score<=50:\n",
        "  print (\"Grade C\")\n",
        "elif 30<score<=40:\n",
        "  print (\"grade C+\")\n",
        "else:\n",
        "  print (\"you are fail\")"
      ],
      "metadata": {
        "colab": {
          "base_uri": "https://localhost:8080/"
        },
        "id": "fonYz1ia8dLz",
        "outputId": "f86e2b13-2974-4385-9f45-b5600ea10d89"
      },
      "execution_count": null,
      "outputs": [
        {
          "output_type": "stream",
          "name": "stdout",
          "text": [
            "you are fail\n"
          ]
        }
      ]
    },
    {
      "cell_type": "markdown",
      "source": [
        "Nested if Statement\n",
        "\n",
        "![image.png](data:image/png;base64,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)"
      ],
      "metadata": {
        "id": "GOcc_28L_yk1"
      }
    },
    {
      "cell_type": "code",
      "source": [
        "##if statements inside if statements\n",
        "\n",
        "x=1\n",
        "y=6\n",
        "if x >5:\n",
        "  if y >5:\n",
        "    print (\"both x and y are greater than 5\")\n",
        "  else:\n",
        "    print (\"x is greater 5 but y is less than 5\")\n",
        "else:\n",
        "  print (\"x is less than 5\")"
      ],
      "metadata": {
        "colab": {
          "base_uri": "https://localhost:8080/"
        },
        "id": "srINIfST_AxA",
        "outputId": "14f37af9-d206-4cf3-d793-9bb26aa04777"
      },
      "execution_count": null,
      "outputs": [
        {
          "output_type": "stream",
          "name": "stdout",
          "text": [
            "x is less than 5\n"
          ]
        }
      ]
    },
    {
      "cell_type": "code",
      "source": [
        "\n",
        "x=7\n",
        "y=6\n",
        "if x >5:\n",
        "  if y >5:\n",
        "    print (\"both x and y are greater than 5\")\n",
        "  else:\n",
        "    print (\"x is greater 5 but y is less than 5\")\n",
        "else:\n",
        "  print (\"x is less than 5\")"
      ],
      "metadata": {
        "colab": {
          "base_uri": "https://localhost:8080/"
        },
        "id": "xPNr57CWCmZA",
        "outputId": "74e8e2d5-f5bf-4347-9943-4c8f37943592"
      },
      "execution_count": null,
      "outputs": [
        {
          "output_type": "stream",
          "name": "stdout",
          "text": [
            "both x and y are greater than 5\n"
          ]
        }
      ]
    },
    {
      "cell_type": "code",
      "source": [
        "\n",
        "x=6\n",
        "y=3\n",
        "if x >5:\n",
        "  if y >5:\n",
        "    print (\"both x and y are greater than 5\")\n",
        "  else:\n",
        "    print (\"x is greater 5 but y is less than 5\")\n",
        "else:\n",
        "  print (\"x is less than 5\")"
      ],
      "metadata": {
        "colab": {
          "base_uri": "https://localhost:8080/"
        },
        "id": "4DQPe3TKCuKm",
        "outputId": "e40eaad0-bbfe-4f86-e09f-fddf16b485eb"
      },
      "execution_count": null,
      "outputs": [
        {
          "output_type": "stream",
          "name": "stdout",
          "text": [
            "x is greater 5 but y is less than 5\n"
          ]
        }
      ]
    },
    {
      "cell_type": "markdown",
      "source": [
        "While Loop:\n",
        "\n",
        "it allow us to execute a block of code repeatedly until the condition is met.\n",
        "\n",
        "here while is the keyword\n",
        "\n",
        "Syntax:\n",
        "\n",
        "While Condition.\n",
        "\n",
        "Block of code\n",
        "\n",
        "![image.png](data:image/png;base64,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)\n",
        "\n"
      ],
      "metadata": {
        "id": "LDnd6JBvDbJ-"
      }
    },
    {
      "cell_type": "code",
      "source": [
        "n = 7\n",
        "i= 1\n",
        "while i <n:  ##While condition\n",
        "  print (i) ##Block of code\n",
        "  i=i+1"
      ],
      "metadata": {
        "colab": {
          "base_uri": "https://localhost:8080/"
        },
        "id": "3mU5xkbhC0D2",
        "outputId": "c72587a9-93ca-4729-cecc-bfc8c946c4e5"
      },
      "execution_count": null,
      "outputs": [
        {
          "output_type": "stream",
          "name": "stdout",
          "text": [
            "1\n",
            "2\n",
            "3\n",
            "4\n",
            "5\n",
            "6\n"
          ]
        }
      ]
    },
    {
      "cell_type": "code",
      "source": [
        "count = 5\n",
        "while count > 0:\n",
        "  print (count)\n",
        "  count = count - 1"
      ],
      "metadata": {
        "colab": {
          "base_uri": "https://localhost:8080/"
        },
        "id": "oTuYwZurEn3W",
        "outputId": "dc444bc8-93fb-49a2-f651-9561931f4656"
      },
      "execution_count": null,
      "outputs": [
        {
          "output_type": "stream",
          "name": "stdout",
          "text": [
            "5\n",
            "4\n",
            "3\n",
            "2\n",
            "1\n"
          ]
        }
      ]
    },
    {
      "cell_type": "code",
      "source": [],
      "metadata": {
        "id": "tuTmBlWrGVw1"
      },
      "execution_count": null,
      "outputs": []
    }
  ],
  "metadata": {
    "colab": {
      "provenance": [],
      "authorship_tag": "ABX9TyOtayo1yBvYC3g+L/yb0UAK",
      "include_colab_link": true
    },
    "kernelspec": {
      "display_name": "Python 3",
      "name": "python3"
    },
    "language_info": {
      "name": "python"
    }
  },
  "nbformat": 4,
  "nbformat_minor": 0
}
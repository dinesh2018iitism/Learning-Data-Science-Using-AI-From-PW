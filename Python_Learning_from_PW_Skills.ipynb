{
  "nbformat": 4,
  "nbformat_minor": 0,
  "metadata": {
    "colab": {
      "provenance": [],
      "authorship_tag": "ABX9TyOpO0akYpNoPZG+Q+Ruq9lN",
      "include_colab_link": true
    },
    "kernelspec": {
      "name": "python3",
      "display_name": "Python 3"
    },
    "language_info": {
      "name": "python"
    }
  },
  "cells": [
    {
      "cell_type": "markdown",
      "metadata": {
        "id": "view-in-github",
        "colab_type": "text"
      },
      "source": [
        "<a href=\"https://colab.research.google.com/github/dinesh2018iitism/Learning-Python-From-PW/blob/main/Python_Learning_from_PW_Skills.ipynb\" target=\"_parent\"><img src=\"https://colab.research.google.com/assets/colab-badge.svg\" alt=\"Open In Colab\"/></a>"
      ]
    },
    {
      "cell_type": "markdown",
      "source": [
        "***Introduction to Python***\n",
        "\n",
        "Programming Language:\n",
        "\n",
        "Language to Communicate with Computer.\n",
        "The set of rules and symbols that define the process of writting Computer Program."
      ],
      "metadata": {
        "id": "YnhKwE4D92KQ"
      }
    },
    {
      "cell_type": "code",
      "source": [
        "#Use of Computer Programming#\n",
        "##Interaction with Computer\n",
        "##Software Programs\n",
        "##Embeded Device Like Chips]\n",
        "##Robitic\n",
        "##ChatGPT"
      ],
      "metadata": {
        "id": "oWNKYdgSMkX1"
      },
      "execution_count": null,
      "outputs": []
    },
    {
      "cell_type": "markdown",
      "source": [
        "Types of Programming Language:\n",
        "\n",
        "C   \n",
        "\n",
        "C++\n",
        "\n",
        "Java Scripts\n",
        "\n",
        "Python\n",
        "\n",
        "R etc\n",
        "\n"
      ],
      "metadata": {
        "id": "6AyG9ISCL_cB"
      }
    },
    {
      "cell_type": "code",
      "source": [
        "# ***Why to use Python***\n",
        "##Widely used in Data Industries.\n",
        "##Inbuilt Functions.\n",
        "##Code can be reused\n",
        "##1,37,000 Libraries.\n",
        "##Automation.\n",
        "##Data Base.\n",
        "##Image Processing.\n",
        "##Front End back End and Data Analysis.\n",
        "##Ease of learning.\n",
        "##Huge Active Community,\n"
      ],
      "metadata": {
        "id": "aPSvHz8yORS2"
      },
      "execution_count": null,
      "outputs": []
    },
    {
      "cell_type": "markdown",
      "source": [
        "How to give Instruction to Computer\n",
        "\n",
        "Code: Its a Instuction to Provide to machines.\n",
        "\n",
        "Platform: Where code can be witten.  IDEs (Integrated Development Environment Software) Like VScode (Visual Studion Code), Google Colab, Jupiter Notebook etc.\n",
        "\n"
      ],
      "metadata": {
        "id": "9prhL7YhO0a1"
      }
    },
    {
      "cell_type": "markdown",
      "source": [
        "How to Execute Code: Shift+Enter"
      ],
      "metadata": {
        "id": "WN3icVHoP5De"
      }
    },
    {
      "cell_type": "markdown",
      "source": [
        "**Vaiables**\n",
        "\n",
        "In real life if we need to call any person we need their name.\n",
        "\n",
        "Variable is called identifiers.\n",
        "\n",
        "Placeholders where we keep variety of data which can use to write logic."
      ],
      "metadata": {
        "id": "VWnojHyHQB10"
      }
    },
    {
      "cell_type": "markdown",
      "source": [
        "Variables: It is the word in Progamming Language."
      ],
      "metadata": {
        "id": "xf5t1KecQvFC"
      }
    },
    {
      "cell_type": "code",
      "source": [
        "a = 3\n",
        "## 3 is store in a"
      ],
      "metadata": {
        "id": "vcNqbKh0RVzw"
      },
      "execution_count": null,
      "outputs": []
    },
    {
      "cell_type": "code",
      "source": [
        "b = 2\n",
        "## 2 is stroing in place of b"
      ],
      "metadata": {
        "id": "dYrUeEexSCz4"
      },
      "execution_count": null,
      "outputs": []
    },
    {
      "cell_type": "markdown",
      "source": [
        "Variable are placeholders whrere we keep data. Variable also we can called the word in the programing language"
      ],
      "metadata": {
        "id": "3MI6TCK0SfIy"
      }
    },
    {
      "cell_type": "markdown",
      "source": [
        "Variables\n",
        "\n",
        "Numbers (Int)\n",
        "\n",
        "Decimal Numbers (Float)\n",
        "\n",
        "Word (str)\n",
        "\n",
        "Boolean True/False (bool)\n",
        "\n",
        "Nothing (Null \" \")"
      ],
      "metadata": {
        "id": "XWrV3e3lRZmR"
      }
    },
    {
      "cell_type": "code",
      "source": [
        "a = 3\n",
        "b = 5.2"
      ],
      "metadata": {
        "id": "r1vTgQDrTLsx"
      },
      "execution_count": null,
      "outputs": []
    },
    {
      "cell_type": "code",
      "source": [
        "c = \"DINESH\""
      ],
      "metadata": {
        "id": "LbNeAyACTpZD"
      },
      "execution_count": null,
      "outputs": []
    },
    {
      "cell_type": "code",
      "source": [
        "type(c)"
      ],
      "metadata": {
        "colab": {
          "base_uri": "https://localhost:8080/"
        },
        "id": "cFvJ5E9AUW85",
        "outputId": "bf43cf73-f0d7-4065-e71b-c4549d195473"
      },
      "execution_count": null,
      "outputs": [
        {
          "output_type": "execute_result",
          "data": {
            "text/plain": [
              "str"
            ]
          },
          "metadata": {},
          "execution_count": 415
        }
      ]
    },
    {
      "cell_type": "code",
      "source": [
        "type(b)"
      ],
      "metadata": {
        "colab": {
          "base_uri": "https://localhost:8080/"
        },
        "id": "4Gk6WHahUaSK",
        "outputId": "e00d9838-850e-4283-e3fc-017b3f72158a"
      },
      "execution_count": null,
      "outputs": [
        {
          "output_type": "execute_result",
          "data": {
            "text/plain": [
              "float"
            ]
          },
          "metadata": {},
          "execution_count": 416
        }
      ]
    },
    {
      "cell_type": "code",
      "source": [
        "type (a)"
      ],
      "metadata": {
        "colab": {
          "base_uri": "https://localhost:8080/"
        },
        "id": "MUNiouSBUvO-",
        "outputId": "4974f08a-59a6-4022-83b1-e15a71f8ddae"
      },
      "execution_count": null,
      "outputs": [
        {
          "output_type": "execute_result",
          "data": {
            "text/plain": [
              "int"
            ]
          },
          "metadata": {},
          "execution_count": 417
        }
      ]
    },
    {
      "cell_type": "code",
      "source": [
        "d = True"
      ],
      "metadata": {
        "id": "ncbooDbCU0Ma"
      },
      "execution_count": null,
      "outputs": []
    },
    {
      "cell_type": "code",
      "source": [
        "type (d)"
      ],
      "metadata": {
        "colab": {
          "base_uri": "https://localhost:8080/"
        },
        "id": "7eU8eMsGVOaU",
        "outputId": "faecada5-8d21-458a-ed1b-da03541b4679"
      },
      "execution_count": null,
      "outputs": [
        {
          "output_type": "execute_result",
          "data": {
            "text/plain": [
              "bool"
            ]
          },
          "metadata": {},
          "execution_count": 419
        }
      ]
    },
    {
      "cell_type": "code",
      "source": [
        "e = False"
      ],
      "metadata": {
        "id": "qbAyg6HPVQ4I"
      },
      "execution_count": null,
      "outputs": []
    },
    {
      "cell_type": "code",
      "source": [
        "type (e)"
      ],
      "metadata": {
        "colab": {
          "base_uri": "https://localhost:8080/"
        },
        "id": "_73sAQS0Ve6I",
        "outputId": "c9f5d78c-4008-4a1b-f9b7-163934e290d3"
      },
      "execution_count": null,
      "outputs": [
        {
          "output_type": "execute_result",
          "data": {
            "text/plain": [
              "bool"
            ]
          },
          "metadata": {},
          "execution_count": 421
        }
      ]
    },
    {
      "cell_type": "code",
      "source": [
        "True * False"
      ],
      "metadata": {
        "colab": {
          "base_uri": "https://localhost:8080/"
        },
        "id": "zQX5ZOf0VxMT",
        "outputId": "7cb86d29-8f45-4d52-a40d-15a194e7909b"
      },
      "execution_count": null,
      "outputs": [
        {
          "output_type": "execute_result",
          "data": {
            "text/plain": [
              "0"
            ]
          },
          "metadata": {},
          "execution_count": 422
        }
      ]
    },
    {
      "cell_type": "code",
      "source": [
        "True + False"
      ],
      "metadata": {
        "colab": {
          "base_uri": "https://localhost:8080/"
        },
        "id": "r5KeK8OoV5xw",
        "outputId": "5cae130e-4022-4a98-df41-a992f1be9388"
      },
      "execution_count": null,
      "outputs": [
        {
          "output_type": "execute_result",
          "data": {
            "text/plain": [
              "1"
            ]
          },
          "metadata": {},
          "execution_count": 423
        }
      ]
    },
    {
      "cell_type": "code",
      "source": [
        "##True/False It will give error because divisio by zero is not possible."
      ],
      "metadata": {
        "id": "BrFEFLpmWCs2"
      },
      "execution_count": null,
      "outputs": []
    },
    {
      "cell_type": "code",
      "source": [
        "f = None"
      ],
      "metadata": {
        "id": "4iRjfi1yWMcm"
      },
      "execution_count": null,
      "outputs": []
    },
    {
      "cell_type": "code",
      "source": [
        "type (f)"
      ],
      "metadata": {
        "colab": {
          "base_uri": "https://localhost:8080/"
        },
        "id": "XG4VVly6W1V-",
        "outputId": "e6955d03-31b3-49c3-e159-191faf84c069"
      },
      "execution_count": null,
      "outputs": [
        {
          "output_type": "execute_result",
          "data": {
            "text/plain": [
              "NoneType"
            ]
          },
          "metadata": {},
          "execution_count": 426
        }
      ]
    },
    {
      "cell_type": "code",
      "source": [
        "g = 6-8j"
      ],
      "metadata": {
        "id": "gBNhKLZpW-E_"
      },
      "execution_count": null,
      "outputs": []
    },
    {
      "cell_type": "code",
      "source": [
        "type(g)"
      ],
      "metadata": {
        "colab": {
          "base_uri": "https://localhost:8080/"
        },
        "id": "Kyli0WdgXea2",
        "outputId": "1f87cc02-a94d-4602-db49-09ca5a6fc676"
      },
      "execution_count": null,
      "outputs": [
        {
          "output_type": "execute_result",
          "data": {
            "text/plain": [
              "complex"
            ]
          },
          "metadata": {},
          "execution_count": 428
        }
      ]
    },
    {
      "cell_type": "code",
      "source": [
        "g.real"
      ],
      "metadata": {
        "colab": {
          "base_uri": "https://localhost:8080/"
        },
        "id": "97B9qLqoXhb6",
        "outputId": "863f7aef-e4cb-480e-ed2c-31005fb6af0b"
      },
      "execution_count": null,
      "outputs": [
        {
          "output_type": "execute_result",
          "data": {
            "text/plain": [
              "6.0"
            ]
          },
          "metadata": {},
          "execution_count": 429
        }
      ]
    },
    {
      "cell_type": "code",
      "source": [
        "g.imag"
      ],
      "metadata": {
        "colab": {
          "base_uri": "https://localhost:8080/"
        },
        "id": "ZWdAqjTGXvVN",
        "outputId": "b68e9887-1561-4855-b4ed-57ac251f938b"
      },
      "execution_count": null,
      "outputs": [
        {
          "output_type": "execute_result",
          "data": {
            "text/plain": [
              "-8.0"
            ]
          },
          "metadata": {},
          "execution_count": 430
        }
      ]
    },
    {
      "cell_type": "markdown",
      "source": [
        "Rules of Defining a Variable:\n",
        "\n",
        "A variable is start with alphabet or underscore character"
      ],
      "metadata": {
        "id": "UlvXjf85SF9Q"
      }
    },
    {
      "cell_type": "code",
      "source": [
        "## Invalid ways to defining the variable"
      ],
      "metadata": {
        "id": "lf2xW9eIX79K"
      },
      "execution_count": null,
      "outputs": []
    },
    {
      "cell_type": "markdown",
      "source": [
        "5 = a This kind of defining is not possible.\n",
        "\n",
        "Because a can not be store in 5.\n",
        "\n",
        "a-bc= \"Ram\" (invalid)\n",
        "\n",
        "But a_bc = \"Ram\" (valid)\n",
        "\n",
        "data-science = \"job\" (Invalid)\n",
        "\n",
        "But data_science = \"Jobs\" (valid)\n",
        "\n",
        "Data Analytics Course = \"Computer\" (Invalid)\n",
        "\n",
        "But data_analytics_course = \"Computer\" (Valid)\n",
        "\n",
        "@abc = 2.3 (Not Valid)\n",
        "\n",
        "%name = \"RAM\" (invalid)"
      ],
      "metadata": {
        "id": "IYEDsBnsYpAX"
      }
    },
    {
      "cell_type": "code",
      "source": [
        "location = \"Tamil Nadu\""
      ],
      "metadata": {
        "id": "_3KG2rCqYw4a"
      },
      "execution_count": null,
      "outputs": []
    },
    {
      "cell_type": "code",
      "source": [
        " name = \"Dinesh\""
      ],
      "metadata": {
        "id": "MYZX21PvZWLq"
      },
      "execution_count": null,
      "outputs": []
    },
    {
      "cell_type": "code",
      "source": [
        "_surname = \"Halder\""
      ],
      "metadata": {
        "id": "QalWEpoMZigi"
      },
      "execution_count": null,
      "outputs": []
    },
    {
      "cell_type": "code",
      "source": [
        "name"
      ],
      "metadata": {
        "id": "nmy9Cz2rZnEY",
        "outputId": "ea415c83-fee6-4342-c7bb-76fddf56bbf1",
        "colab": {
          "base_uri": "https://localhost:8080/",
          "height": 36
        }
      },
      "execution_count": null,
      "outputs": [
        {
          "output_type": "execute_result",
          "data": {
            "text/plain": [
              "'Dinesh'"
            ],
            "application/vnd.google.colaboratory.intrinsic+json": {
              "type": "string"
            }
          },
          "metadata": {},
          "execution_count": 435
        }
      ]
    },
    {
      "cell_type": "code",
      "source": [
        "_surname"
      ],
      "metadata": {
        "id": "GQVIp3D0ZoF4",
        "outputId": "0e2a2380-7d6e-4418-e67a-7c2655e08060",
        "colab": {
          "base_uri": "https://localhost:8080/",
          "height": 36
        }
      },
      "execution_count": null,
      "outputs": [
        {
          "output_type": "execute_result",
          "data": {
            "text/plain": [
              "'Halder'"
            ],
            "application/vnd.google.colaboratory.intrinsic+json": {
              "type": "string"
            }
          },
          "metadata": {},
          "execution_count": 436
        }
      ]
    },
    {
      "cell_type": "markdown",
      "source": [
        "How to Write Comments in Program\n",
        "\n",
        "Comments can be written in b/w ## Start writing Comments##\n",
        "\n",
        "OR\n",
        "\n",
        "''' Comments '''\n",
        "\n",
        "OR\n",
        "\n",
        "\"\"\" Comments \"\"\n"
      ],
      "metadata": {
        "id": "H0QzZpL2TyIQ"
      }
    },
    {
      "cell_type": "code",
      "source": [
        "##Variable can not be defined in the following ways\n",
        "\"\"\" a-bc = \"John\" it will through an error\n",
        "data-science = \"Dinesh\" Not Valid BUT\n",
        "data_science= \"Dinesh\" This is Valid Way to define variables\n",
        "a_bc = \"John\" This also Valid \"\"\""
      ],
      "metadata": {
        "id": "xINULm2NZqQJ",
        "colab": {
          "base_uri": "https://localhost:8080/",
          "height": 36
        },
        "outputId": "c508ea6f-c413-4aba-f65f-0787a690a850"
      },
      "execution_count": null,
      "outputs": [
        {
          "output_type": "execute_result",
          "data": {
            "text/plain": [
              "' a-bc = \"John\" it will through an error\\ndata-science = \"Dinesh\" Not Valid BUT\\ndata_science= \"Dinesh\" This is Valid Way to define variables\\na_bc = \"John\" This also Valid '"
            ],
            "application/vnd.google.colaboratory.intrinsic+json": {
              "type": "string"
            }
          },
          "metadata": {},
          "execution_count": 437
        }
      ]
    },
    {
      "cell_type": "markdown",
      "source": [
        "Keywords: Pre defined data that hold a special meaning and have specific purpose.\n",
        "\n",
        "Like print ()\n",
        "\n",
        "type ()"
      ],
      "metadata": {
        "id": "jxJ85JLiVV0C"
      }
    },
    {
      "cell_type": "code",
      "source": [
        "help(\"keywords\")"
      ],
      "metadata": {
        "id": "ssv2jZZXYAtU",
        "colab": {
          "base_uri": "https://localhost:8080/"
        },
        "outputId": "781f7564-4601-4715-d2a5-79dcb307b645"
      },
      "execution_count": null,
      "outputs": [
        {
          "output_type": "stream",
          "name": "stdout",
          "text": [
            "\n",
            "Here is a list of the Python keywords.  Enter any keyword to get more help.\n",
            "\n",
            "False               class               from                or\n",
            "None                continue            global              pass\n",
            "True                def                 if                  raise\n",
            "and                 del                 import              return\n",
            "as                  elif                in                  try\n",
            "assert              else                is                  while\n",
            "async               except              lambda              with\n",
            "await               finally             nonlocal            yield\n",
            "break               for                 not                 \n",
            "\n"
          ]
        }
      ]
    },
    {
      "cell_type": "markdown",
      "source": [
        "The above comand will show total number of keywords in Python."
      ],
      "metadata": {
        "id": "lBeXV88CV0oh"
      }
    },
    {
      "cell_type": "markdown",
      "source": [
        "When we write logic print will be shifted one TAB."
      ],
      "metadata": {
        "id": "N34MhAr2WcVu"
      }
    },
    {
      "cell_type": "markdown",
      "source": [
        "***Statement**\n",
        "\n",
        "Fundamental Block of System"
      ],
      "metadata": {
        "id": "xNXOa-iIWpyJ"
      }
    },
    {
      "cell_type": "code",
      "source": [
        "##Assignment Statment (Here we assign data)\n",
        "m = 3\n",
        "n = 4"
      ],
      "metadata": {
        "id": "8MAO3dHtW3L8"
      },
      "execution_count": null,
      "outputs": []
    },
    {
      "cell_type": "code",
      "source": [
        "##Expression Statement\n",
        "m+n"
      ],
      "metadata": {
        "colab": {
          "base_uri": "https://localhost:8080/"
        },
        "id": "cyKKsUEiXHI-",
        "outputId": "de67680d-8144-4747-b53c-160d2446c9e4"
      },
      "execution_count": null,
      "outputs": [
        {
          "output_type": "execute_result",
          "data": {
            "text/plain": [
              "7"
            ]
          },
          "metadata": {},
          "execution_count": 440
        }
      ]
    },
    {
      "cell_type": "markdown",
      "source": [
        "How to get input from User\n",
        "\n",
        "Here we will use input keyword"
      ],
      "metadata": {
        "id": "M4q8ZsIwX-sq"
      }
    },
    {
      "cell_type": "markdown",
      "source": [
        "Here if we enter integer it will store as string"
      ],
      "metadata": {
        "id": "C1pgsvVSVUNA"
      }
    },
    {
      "cell_type": "code",
      "source": [
        "nane =\"DINESH\"\n",
        "type (name)"
      ],
      "metadata": {
        "id": "1aclTu1LY3Ws",
        "colab": {
          "base_uri": "https://localhost:8080/"
        },
        "outputId": "3828b221-3ed3-400e-b625-4cdd04753662"
      },
      "execution_count": null,
      "outputs": [
        {
          "output_type": "execute_result",
          "data": {
            "text/plain": [
              "str"
            ]
          },
          "metadata": {},
          "execution_count": 441
        }
      ]
    },
    {
      "cell_type": "markdown",
      "source": [
        "Now I am going to learn How to convert String into Integer."
      ],
      "metadata": {
        "id": "vOUGb0VGZFXk"
      }
    },
    {
      "cell_type": "code",
      "source": [
        "##To convert string into interger the process is called Type Casting. Convert the input from one datatype to another datatype."
      ],
      "metadata": {
        "id": "RQFR5ALVZCZh"
      },
      "execution_count": null,
      "outputs": []
    },
    {
      "cell_type": "code",
      "source": [
        "name1 = \"55\"\n",
        "type (name1)"
      ],
      "metadata": {
        "colab": {
          "base_uri": "https://localhost:8080/"
        },
        "id": "-JmnHuQ3omb9",
        "outputId": "8729aea9-ff5e-4a01-8f6e-18f10b6f2a7f"
      },
      "execution_count": null,
      "outputs": [
        {
          "output_type": "execute_result",
          "data": {
            "text/plain": [
              "str"
            ]
          },
          "metadata": {},
          "execution_count": 443
        }
      ]
    },
    {
      "cell_type": "code",
      "source": [
        "int (name1)"
      ],
      "metadata": {
        "id": "KN-eS51CZlay",
        "colab": {
          "base_uri": "https://localhost:8080/"
        },
        "outputId": "ba60e48d-33f0-4437-9686-5828784330e7"
      },
      "execution_count": null,
      "outputs": [
        {
          "output_type": "execute_result",
          "data": {
            "text/plain": [
              "55"
            ]
          },
          "metadata": {},
          "execution_count": 444
        }
      ]
    },
    {
      "cell_type": "code",
      "source": [
        "name2 = int(name1)\n",
        "type (name2)"
      ],
      "metadata": {
        "id": "yrR1UKMGZt6T",
        "colab": {
          "base_uri": "https://localhost:8080/"
        },
        "outputId": "56fd8eda-b4f6-4eec-b78e-725adf88215a"
      },
      "execution_count": null,
      "outputs": [
        {
          "output_type": "execute_result",
          "data": {
            "text/plain": [
              "int"
            ]
          },
          "metadata": {},
          "execution_count": 445
        }
      ]
    },
    {
      "cell_type": "code",
      "source": [
        "a = \"3.5\"\n",
        "type (a)"
      ],
      "metadata": {
        "id": "nfVA9BcUaFj2",
        "colab": {
          "base_uri": "https://localhost:8080/"
        },
        "outputId": "b0128398-1c95-4471-9fd1-381ff4fdb425"
      },
      "execution_count": null,
      "outputs": [
        {
          "output_type": "execute_result",
          "data": {
            "text/plain": [
              "str"
            ]
          },
          "metadata": {},
          "execution_count": 446
        }
      ]
    },
    {
      "cell_type": "code",
      "source": [
        "float (a)"
      ],
      "metadata": {
        "id": "I0M8_BLMacng",
        "colab": {
          "base_uri": "https://localhost:8080/"
        },
        "outputId": "0bc5ebfa-f589-4876-bba8-711b4e6982b3"
      },
      "execution_count": null,
      "outputs": [
        {
          "output_type": "execute_result",
          "data": {
            "text/plain": [
              "3.5"
            ]
          },
          "metadata": {},
          "execution_count": 447
        }
      ]
    },
    {
      "cell_type": "code",
      "source": [
        "###Here the float is storing as string. Now float (a) will reprent the decimal value and the type will float.\n",
        "type (float (a))"
      ],
      "metadata": {
        "id": "mMihGx8lZ1mE",
        "colab": {
          "base_uri": "https://localhost:8080/"
        },
        "outputId": "d673da4e-57e2-48c8-9ac5-e357c9b83398"
      },
      "execution_count": null,
      "outputs": [
        {
          "output_type": "execute_result",
          "data": {
            "text/plain": [
              "float"
            ]
          },
          "metadata": {},
          "execution_count": 448
        }
      ]
    },
    {
      "cell_type": "code",
      "source": [
        "s = \"2024\"\n",
        "type (s)"
      ],
      "metadata": {
        "id": "a_phoPuHae-W",
        "colab": {
          "base_uri": "https://localhost:8080/"
        },
        "outputId": "64179777-8c35-4281-842e-d9093c5a7c7c"
      },
      "execution_count": null,
      "outputs": [
        {
          "output_type": "execute_result",
          "data": {
            "text/plain": [
              "str"
            ]
          },
          "metadata": {},
          "execution_count": 449
        }
      ]
    },
    {
      "cell_type": "code",
      "source": [
        "int(s)"
      ],
      "metadata": {
        "id": "tyHC6RxNbKlT",
        "colab": {
          "base_uri": "https://localhost:8080/"
        },
        "outputId": "fb399fb7-a7b4-44bd-e334-ab8c619e9b12"
      },
      "execution_count": null,
      "outputs": [
        {
          "output_type": "execute_result",
          "data": {
            "text/plain": [
              "2024"
            ]
          },
          "metadata": {},
          "execution_count": 450
        }
      ]
    },
    {
      "cell_type": "code",
      "source": [
        "type (int(s))"
      ],
      "metadata": {
        "id": "-B6VhhLAbNVT",
        "colab": {
          "base_uri": "https://localhost:8080/"
        },
        "outputId": "bcef7c27-bd6b-43a0-b906-aa70846bbb0a"
      },
      "execution_count": null,
      "outputs": [
        {
          "output_type": "execute_result",
          "data": {
            "text/plain": [
              "int"
            ]
          },
          "metadata": {},
          "execution_count": 451
        }
      ]
    },
    {
      "cell_type": "code",
      "source": [
        "float (s)"
      ],
      "metadata": {
        "id": "t9PxOv3obhTc",
        "colab": {
          "base_uri": "https://localhost:8080/"
        },
        "outputId": "9b4624a1-ff71-4852-af2c-303d9990906c"
      },
      "execution_count": null,
      "outputs": [
        {
          "output_type": "execute_result",
          "data": {
            "text/plain": [
              "2024.0"
            ]
          },
          "metadata": {},
          "execution_count": 452
        }
      ]
    },
    {
      "cell_type": "code",
      "source": [
        "str (s)"
      ],
      "metadata": {
        "id": "nf5fz3F-bnmU",
        "colab": {
          "base_uri": "https://localhost:8080/",
          "height": 36
        },
        "outputId": "419a232b-14ff-4de4-8a6b-fa85260cca9b"
      },
      "execution_count": null,
      "outputs": [
        {
          "output_type": "execute_result",
          "data": {
            "text/plain": [
              "'2024'"
            ],
            "application/vnd.google.colaboratory.intrinsic+json": {
              "type": "string"
            }
          },
          "metadata": {},
          "execution_count": 453
        }
      ]
    },
    {
      "cell_type": "code",
      "source": [
        "u = 76\n",
        "type (u)"
      ],
      "metadata": {
        "id": "LcEkyTotbP5b",
        "colab": {
          "base_uri": "https://localhost:8080/"
        },
        "outputId": "8e9a454f-be72-4511-dc2a-a81edd98369a"
      },
      "execution_count": null,
      "outputs": [
        {
          "output_type": "execute_result",
          "data": {
            "text/plain": [
              "int"
            ]
          },
          "metadata": {},
          "execution_count": 454
        }
      ]
    },
    {
      "cell_type": "code",
      "source": [
        "str (u)"
      ],
      "metadata": {
        "id": "-fy6CEdob5Tk",
        "colab": {
          "base_uri": "https://localhost:8080/",
          "height": 36
        },
        "outputId": "daf8789c-f756-4b1f-a090-8788e43efedd"
      },
      "execution_count": null,
      "outputs": [
        {
          "output_type": "execute_result",
          "data": {
            "text/plain": [
              "'76'"
            ],
            "application/vnd.google.colaboratory.intrinsic+json": {
              "type": "string"
            }
          },
          "metadata": {},
          "execution_count": 455
        }
      ]
    },
    {
      "cell_type": "code",
      "source": [
        "type (str(u))"
      ],
      "metadata": {
        "id": "Gf18rooibtcm",
        "colab": {
          "base_uri": "https://localhost:8080/"
        },
        "outputId": "c4e0c095-5881-47eb-b489-3e209503ee04"
      },
      "execution_count": null,
      "outputs": [
        {
          "output_type": "execute_result",
          "data": {
            "text/plain": [
              "str"
            ]
          },
          "metadata": {},
          "execution_count": 456
        }
      ]
    },
    {
      "cell_type": "code",
      "source": [
        "bool (0)"
      ],
      "metadata": {
        "id": "OW2dFwxDb4DR",
        "colab": {
          "base_uri": "https://localhost:8080/"
        },
        "outputId": "659831c7-9ce8-48a3-ff06-280dae9b1ce5"
      },
      "execution_count": null,
      "outputs": [
        {
          "output_type": "execute_result",
          "data": {
            "text/plain": [
              "False"
            ]
          },
          "metadata": {},
          "execution_count": 457
        }
      ]
    },
    {
      "cell_type": "code",
      "source": [
        "bool (204)"
      ],
      "metadata": {
        "id": "wAIc6yhPb_b_",
        "colab": {
          "base_uri": "https://localhost:8080/"
        },
        "outputId": "e4cef636-3e58-4a6e-81c9-3189edcfaa0a"
      },
      "execution_count": null,
      "outputs": [
        {
          "output_type": "execute_result",
          "data": {
            "text/plain": [
              "True"
            ]
          },
          "metadata": {},
          "execution_count": 458
        }
      ]
    },
    {
      "cell_type": "markdown",
      "source": [
        "bool (0) always false\n",
        "\n",
        "But bool(other than zero) always true"
      ],
      "metadata": {
        "id": "3OrD4ZcScG8O"
      }
    },
    {
      "cell_type": "code",
      "source": [
        "x = \"DINESH\""
      ],
      "metadata": {
        "id": "4ynWSFPmcFGi"
      },
      "execution_count": null,
      "outputs": []
    },
    {
      "cell_type": "code",
      "source": [
        "type (x)"
      ],
      "metadata": {
        "id": "eovKlENEcCSh",
        "colab": {
          "base_uri": "https://localhost:8080/"
        },
        "outputId": "42140ed7-a524-48ac-f5e8-cba2245498b1"
      },
      "execution_count": null,
      "outputs": [
        {
          "output_type": "execute_result",
          "data": {
            "text/plain": [
              "str"
            ]
          },
          "metadata": {},
          "execution_count": 460
        }
      ]
    },
    {
      "cell_type": "code",
      "source": [
        "##Here we can not convert this Input DINESH into Integer. Because it is Actually String. If the string contains numbers then only we can covert it into int or float."
      ],
      "metadata": {
        "id": "C9SmEIL_cd9_"
      },
      "execution_count": null,
      "outputs": []
    },
    {
      "cell_type": "markdown",
      "source": [
        "Keyword can not be choose as variable. Like if I write print = \"Dinesh\" It will through error.\n"
      ],
      "metadata": {
        "id": "J_Sfob4Wc_Ga"
      }
    },
    {
      "cell_type": "code",
      "source": [
        "##print = \"DINESH\""
      ],
      "metadata": {
        "id": "hgyIwkq7c4Zs"
      },
      "execution_count": null,
      "outputs": []
    },
    {
      "cell_type": "code",
      "source": [
        "###print (\"Hi Dinesh\") will through error. Because Print can not be consider as variable."
      ],
      "metadata": {
        "id": "cJ7I0crtdQUN"
      },
      "execution_count": null,
      "outputs": []
    },
    {
      "cell_type": "code",
      "source": [
        "## Here is the error. Now the Python will not do its work"
      ],
      "metadata": {
        "id": "lw1lr34xdU6G"
      },
      "execution_count": null,
      "outputs": []
    },
    {
      "cell_type": "markdown",
      "source": [
        "Mutability & Immutability::\n",
        "b = 2.3 ; Here we are assighning 2.3 in place of b. that means a memory block will be created and data will store in that block."
      ],
      "metadata": {
        "id": "c1rs4FcHdrvV"
      }
    },
    {
      "cell_type": "code",
      "source": [
        "a =\"DINESH\""
      ],
      "metadata": {
        "id": "dzOoSKGadj1E"
      },
      "execution_count": null,
      "outputs": []
    },
    {
      "cell_type": "markdown",
      "source": [
        "Here memory block will be created like [D][I][N][E][S][H]\n",
        "\n",
        "Ther index is 0,1,2,3,4,,5 FROM left to Right\n",
        "\n",
        "and -1, -2,-3,-4,-5,-6 FROM Right to Left."
      ],
      "metadata": {
        "id": "UgV3Ztw0fUwi"
      }
    },
    {
      "cell_type": "code",
      "source": [
        "##Now we want to Access each and every alphabets"
      ],
      "metadata": {
        "id": "Wc8qKOHPfTCC"
      },
      "execution_count": null,
      "outputs": []
    },
    {
      "cell_type": "code",
      "source": [
        "a[0]"
      ],
      "metadata": {
        "id": "0BHDOd2YgNB0",
        "colab": {
          "base_uri": "https://localhost:8080/",
          "height": 36
        },
        "outputId": "e7346457-532d-4ceb-f005-6fc2ca2efaac"
      },
      "execution_count": null,
      "outputs": [
        {
          "output_type": "execute_result",
          "data": {
            "text/plain": [
              "'D'"
            ],
            "application/vnd.google.colaboratory.intrinsic+json": {
              "type": "string"
            }
          },
          "metadata": {},
          "execution_count": 467
        }
      ]
    },
    {
      "cell_type": "code",
      "source": [
        "a[-4]"
      ],
      "metadata": {
        "id": "0TYVoX0wgQZR",
        "colab": {
          "base_uri": "https://localhost:8080/",
          "height": 36
        },
        "outputId": "67d79289-ef22-44b3-df9c-0f6f78358d53"
      },
      "execution_count": null,
      "outputs": [
        {
          "output_type": "execute_result",
          "data": {
            "text/plain": [
              "'N'"
            ],
            "application/vnd.google.colaboratory.intrinsic+json": {
              "type": "string"
            }
          },
          "metadata": {},
          "execution_count": 468
        }
      ]
    },
    {
      "cell_type": "markdown",
      "source": [
        "The Other type of Data Container is LIST\n",
        "\n",
        "in List we can store int, float, complex nuber, boolean logic, string etc"
      ],
      "metadata": {
        "id": "CR2EQ90hgZnC"
      }
    },
    {
      "cell_type": "code",
      "source": [
        "list = [90,3.4,234, 5+7j, True, False, \"DINESH\"]"
      ],
      "metadata": {
        "id": "IxGbpG6KgTio"
      },
      "execution_count": null,
      "outputs": []
    },
    {
      "cell_type": "code",
      "source": [
        "list [0]"
      ],
      "metadata": {
        "id": "Lu5_Yh6dhDYi",
        "colab": {
          "base_uri": "https://localhost:8080/"
        },
        "outputId": "67ba2793-3b6a-4e8b-f3f7-00e0d1da9bc8"
      },
      "execution_count": null,
      "outputs": [
        {
          "output_type": "execute_result",
          "data": {
            "text/plain": [
              "90"
            ]
          },
          "metadata": {},
          "execution_count": 470
        }
      ]
    },
    {
      "cell_type": "code",
      "source": [
        "list [-1]"
      ],
      "metadata": {
        "id": "NNhKG4GhhG8E",
        "colab": {
          "base_uri": "https://localhost:8080/",
          "height": 36
        },
        "outputId": "876a7049-93f0-4b79-83a4-185a1e5f25f8"
      },
      "execution_count": null,
      "outputs": [
        {
          "output_type": "execute_result",
          "data": {
            "text/plain": [
              "'DINESH'"
            ],
            "application/vnd.google.colaboratory.intrinsic+json": {
              "type": "string"
            }
          },
          "metadata": {},
          "execution_count": 471
        }
      ]
    },
    {
      "cell_type": "markdown",
      "source": [
        "By the above we can access any elemet from string and we can perform their operation"
      ],
      "metadata": {
        "id": "hwoM9jyghRFv"
      }
    },
    {
      "cell_type": "code",
      "source": [
        "list [0] + list [2]"
      ],
      "metadata": {
        "id": "Ur-kprB_hLtY",
        "colab": {
          "base_uri": "https://localhost:8080/"
        },
        "outputId": "1e482bda-e5bd-488e-dc99-1d498e4b77e0"
      },
      "execution_count": null,
      "outputs": [
        {
          "output_type": "execute_result",
          "data": {
            "text/plain": [
              "324"
            ]
          },
          "metadata": {},
          "execution_count": 472
        }
      ]
    },
    {
      "cell_type": "markdown",
      "source": [
        "Here if we want we can change a particular elemements from the list.\n",
        "\n",
        "For Changing\n",
        "\n",
        "1st Access the element\n",
        "\n",
        "2nd Assign the data"
      ],
      "metadata": {
        "id": "0NMEdXj4h0lw"
      }
    },
    {
      "cell_type": "code",
      "source": [
        "list [4]"
      ],
      "metadata": {
        "id": "NqvN1W-Sho3p",
        "colab": {
          "base_uri": "https://localhost:8080/"
        },
        "outputId": "2c131910-f28c-4de7-85c9-d772fff6314c"
      },
      "execution_count": null,
      "outputs": [
        {
          "output_type": "execute_result",
          "data": {
            "text/plain": [
              "True"
            ]
          },
          "metadata": {},
          "execution_count": 473
        }
      ]
    },
    {
      "cell_type": "code",
      "source": [
        "list [4]= 23"
      ],
      "metadata": {
        "id": "GPtLFbmzisQF"
      },
      "execution_count": null,
      "outputs": []
    },
    {
      "cell_type": "code",
      "source": [
        "list"
      ],
      "metadata": {
        "id": "dyCEGCksizo8",
        "colab": {
          "base_uri": "https://localhost:8080/"
        },
        "outputId": "40d7ee89-d208-4504-8ece-ce465fbfbf7b"
      },
      "execution_count": null,
      "outputs": [
        {
          "output_type": "execute_result",
          "data": {
            "text/plain": [
              "[90, 3.4, 234, (5+7j), 23, False, 'DINESH']"
            ]
          },
          "metadata": {},
          "execution_count": 475
        }
      ]
    },
    {
      "cell_type": "markdown",
      "source": [
        "Here I can see that my list is now updated"
      ],
      "metadata": {
        "id": "X_KQeJVSi5Br"
      }
    },
    {
      "cell_type": "code",
      "source": [
        "list [6]"
      ],
      "metadata": {
        "id": "FPrKw0EPi2Dw",
        "colab": {
          "base_uri": "https://localhost:8080/",
          "height": 36
        },
        "outputId": "d7a76973-b73a-495a-e26e-4a194fea6c59"
      },
      "execution_count": null,
      "outputs": [
        {
          "output_type": "execute_result",
          "data": {
            "text/plain": [
              "'DINESH'"
            ],
            "application/vnd.google.colaboratory.intrinsic+json": {
              "type": "string"
            }
          },
          "metadata": {},
          "execution_count": 476
        }
      ]
    },
    {
      "cell_type": "code",
      "source": [
        "list [6] = \"HALDER\""
      ],
      "metadata": {
        "id": "0mw8iofsjD6p"
      },
      "execution_count": null,
      "outputs": []
    },
    {
      "cell_type": "code",
      "source": [
        "list"
      ],
      "metadata": {
        "id": "n8YjjdbcjIw3",
        "colab": {
          "base_uri": "https://localhost:8080/"
        },
        "outputId": "d1daf66b-65f1-4fbd-bdc9-4296c7b238f4"
      },
      "execution_count": null,
      "outputs": [
        {
          "output_type": "execute_result",
          "data": {
            "text/plain": [
              "[90, 3.4, 234, (5+7j), 23, False, 'HALDER']"
            ]
          },
          "metadata": {},
          "execution_count": 478
        }
      ]
    },
    {
      "cell_type": "markdown",
      "source": [
        "Here I can see that DINESH is updated by HALDER"
      ],
      "metadata": {
        "id": "sztt9au6jMtT"
      }
    },
    {
      "cell_type": "code",
      "source": [
        "list [6] = \"MATHEMATICS\""
      ],
      "metadata": {
        "id": "WrqSlGxBjJ2E"
      },
      "execution_count": null,
      "outputs": []
    },
    {
      "cell_type": "code",
      "source": [
        "list"
      ],
      "metadata": {
        "id": "rUatDVabjfnE",
        "colab": {
          "base_uri": "https://localhost:8080/"
        },
        "outputId": "d8c16658-65d2-4ab8-aa5a-c59f4faf7477"
      },
      "execution_count": null,
      "outputs": [
        {
          "output_type": "execute_result",
          "data": {
            "text/plain": [
              "[90, 3.4, 234, (5+7j), 23, False, 'MATHEMATICS']"
            ]
          },
          "metadata": {},
          "execution_count": 480
        }
      ]
    },
    {
      "cell_type": "markdown",
      "source": [
        "List is a type of Mutable object.\n",
        "\n",
        "Here we want to access each alphabets of Mathematics.\n",
        "\n",
        "So First access the element by a variable. Then access each alphabets of that element."
      ],
      "metadata": {
        "id": "0J8Ctt_-jj9U"
      }
    },
    {
      "cell_type": "markdown",
      "source": [],
      "metadata": {
        "id": "CsUEar0akCVQ"
      }
    },
    {
      "cell_type": "code",
      "source": [
        "list [6]"
      ],
      "metadata": {
        "id": "WsjAFMuAjhAW",
        "colab": {
          "base_uri": "https://localhost:8080/",
          "height": 36
        },
        "outputId": "e92ed30b-9826-40f7-a5e4-0642d977e11a"
      },
      "execution_count": null,
      "outputs": [
        {
          "output_type": "execute_result",
          "data": {
            "text/plain": [
              "'MATHEMATICS'"
            ],
            "application/vnd.google.colaboratory.intrinsic+json": {
              "type": "string"
            }
          },
          "metadata": {},
          "execution_count": 481
        }
      ]
    },
    {
      "cell_type": "code",
      "source": [
        "b = \"MATHEMATICS\""
      ],
      "metadata": {
        "id": "jUVr6MYLj04x"
      },
      "execution_count": null,
      "outputs": []
    },
    {
      "cell_type": "code",
      "source": [
        "b[0]"
      ],
      "metadata": {
        "id": "51lTApE3j8GB",
        "colab": {
          "base_uri": "https://localhost:8080/",
          "height": 36
        },
        "outputId": "0f566292-6cff-47e5-8ce7-c8965133c33e"
      },
      "execution_count": null,
      "outputs": [
        {
          "output_type": "execute_result",
          "data": {
            "text/plain": [
              "'M'"
            ],
            "application/vnd.google.colaboratory.intrinsic+json": {
              "type": "string"
            }
          },
          "metadata": {},
          "execution_count": 483
        }
      ]
    },
    {
      "cell_type": "code",
      "source": [
        "##NOW we want to update the M by I"
      ],
      "metadata": {
        "id": "JBuqczXVj-7L"
      },
      "execution_count": null,
      "outputs": []
    },
    {
      "cell_type": "code",
      "source": [
        "##b [0] = \"I\""
      ],
      "metadata": {
        "id": "mTMCLXOHkqup"
      },
      "execution_count": null,
      "outputs": []
    },
    {
      "cell_type": "code",
      "source": [
        "## There is error because I is not mentioned in the list."
      ],
      "metadata": {
        "id": "rUMmevcnkzKI"
      },
      "execution_count": null,
      "outputs": []
    },
    {
      "cell_type": "markdown",
      "source": [
        "In a list Value of Total element can be replaced BUT we can not change the subelement.\n",
        "\n",
        "String is the type of IMMUTABLE OBJECT."
      ],
      "metadata": {
        "id": "ey4wVONhlBO_"
      }
    },
    {
      "cell_type": "code",
      "source": [
        "###OPERATORS###"
      ],
      "metadata": {
        "id": "hN4y0R0dk9LK"
      },
      "execution_count": null,
      "outputs": []
    },
    {
      "cell_type": "markdown",
      "source": [
        "Operator: Operation to manupulate DATA.\n",
        "\n",
        "Special Keywords OR Symbols that use to perform operation on values or variables.\n",
        "\n",
        "Why we need them: Manage to do computation and make decision by using data.\n",
        "\n",
        "Types of Operator\n",
        "\n",
        "Arithmetic Operator\n",
        "\n",
        "Comparision Operator\n",
        "\n",
        "Logical Operator\n",
        "\n",
        "Bitwise Operator\n",
        "\n",
        "Assignment Operator\n",
        "\n",
        "Identity Operator\n",
        "\n",
        "Membership Operator\n"
      ],
      "metadata": {
        "id": "wA94wwZxaCKK"
      }
    },
    {
      "cell_type": "code",
      "source": [
        "##Arithmetic Operator\n",
        "a = 2\n",
        "b=3\n",
        "a + b"
      ],
      "metadata": {
        "id": "6UHge-Z7l37i",
        "colab": {
          "base_uri": "https://localhost:8080/"
        },
        "outputId": "b73872c0-da80-45f1-88b9-f5bbdc6d4994"
      },
      "execution_count": null,
      "outputs": [
        {
          "output_type": "execute_result",
          "data": {
            "text/plain": [
              "5"
            ]
          },
          "metadata": {},
          "execution_count": 488
        }
      ]
    },
    {
      "cell_type": "code",
      "source": [
        "##Direct Operation Also Possible\n",
        "87+879940"
      ],
      "metadata": {
        "id": "MA-gBBxlbKyz",
        "colab": {
          "base_uri": "https://localhost:8080/"
        },
        "outputId": "ea7a31ad-02e8-4bbf-944a-576bd52ab551"
      },
      "execution_count": null,
      "outputs": [
        {
          "output_type": "execute_result",
          "data": {
            "text/plain": [
              "880027"
            ]
          },
          "metadata": {},
          "execution_count": 489
        }
      ]
    },
    {
      "cell_type": "code",
      "source": [
        "100-45"
      ],
      "metadata": {
        "id": "PwfpHmaPbWmo",
        "colab": {
          "base_uri": "https://localhost:8080/"
        },
        "outputId": "2938166d-9483-4487-b3dc-375158e82c73"
      },
      "execution_count": null,
      "outputs": [
        {
          "output_type": "execute_result",
          "data": {
            "text/plain": [
              "55"
            ]
          },
          "metadata": {},
          "execution_count": 490
        }
      ]
    },
    {
      "cell_type": "code",
      "source": [
        "24 * 4\n",
        "##asterisk"
      ],
      "metadata": {
        "id": "DPTm_F5xbcyN",
        "colab": {
          "base_uri": "https://localhost:8080/"
        },
        "outputId": "dab54e04-9ca4-4781-8ebc-28f2d98116f2"
      },
      "execution_count": null,
      "outputs": [
        {
          "output_type": "execute_result",
          "data": {
            "text/plain": [
              "96"
            ]
          },
          "metadata": {},
          "execution_count": 491
        }
      ]
    },
    {
      "cell_type": "code",
      "source": [
        "21/4"
      ],
      "metadata": {
        "id": "IJEQCq-neQzA",
        "colab": {
          "base_uri": "https://localhost:8080/"
        },
        "outputId": "ac8a1393-49f1-4936-dfe4-c471aa36d343"
      },
      "execution_count": null,
      "outputs": [
        {
          "output_type": "execute_result",
          "data": {
            "text/plain": [
              "5.25"
            ]
          },
          "metadata": {},
          "execution_count": 492
        }
      ]
    },
    {
      "cell_type": "code",
      "source": [
        "23/2\n",
        "##23 Slas 2"
      ],
      "metadata": {
        "id": "aiuhjGwdeUcO",
        "colab": {
          "base_uri": "https://localhost:8080/"
        },
        "outputId": "85b04844-77b7-4a5c-ff81-9204ae2ddf96"
      },
      "execution_count": null,
      "outputs": [
        {
          "output_type": "execute_result",
          "data": {
            "text/plain": [
              "11.5"
            ]
          },
          "metadata": {},
          "execution_count": 493
        }
      ]
    },
    {
      "cell_type": "code",
      "source": [
        "78%3\n",
        "##Modulus for Finding Remainder"
      ],
      "metadata": {
        "id": "pp4WZcLpeaKi",
        "colab": {
          "base_uri": "https://localhost:8080/"
        },
        "outputId": "2b216030-42e5-464c-e517-e9845b1e4cf7"
      },
      "execution_count": null,
      "outputs": [
        {
          "output_type": "execute_result",
          "data": {
            "text/plain": [
              "0"
            ]
          },
          "metadata": {},
          "execution_count": 494
        }
      ]
    },
    {
      "cell_type": "code",
      "source": [
        "80%7"
      ],
      "metadata": {
        "id": "cPpEA4PvejN4",
        "colab": {
          "base_uri": "https://localhost:8080/"
        },
        "outputId": "862d0cd9-a0b0-4311-efe5-58461a1f7a1a"
      },
      "execution_count": null,
      "outputs": [
        {
          "output_type": "execute_result",
          "data": {
            "text/plain": [
              "3"
            ]
          },
          "metadata": {},
          "execution_count": 495
        }
      ]
    },
    {
      "cell_type": "code",
      "source": [
        "2**3\n",
        "##Double asterisk for Power"
      ],
      "metadata": {
        "id": "2b_TdrnKe3Ch",
        "colab": {
          "base_uri": "https://localhost:8080/"
        },
        "outputId": "1ac7eac5-74ad-4182-f094-a144ac48484f"
      },
      "execution_count": null,
      "outputs": [
        {
          "output_type": "execute_result",
          "data": {
            "text/plain": [
              "8"
            ]
          },
          "metadata": {},
          "execution_count": 496
        }
      ]
    },
    {
      "cell_type": "code",
      "source": [
        "###for Greater Interger Function we use double slas\n",
        "4//3"
      ],
      "metadata": {
        "id": "lUTwvzSRe_1h",
        "colab": {
          "base_uri": "https://localhost:8080/"
        },
        "outputId": "1fff73e6-a828-4eca-c051-937ad58c4cb4"
      },
      "execution_count": null,
      "outputs": [
        {
          "output_type": "execute_result",
          "data": {
            "text/plain": [
              "1"
            ]
          },
          "metadata": {},
          "execution_count": 497
        }
      ]
    },
    {
      "cell_type": "markdown",
      "source": [
        "Comparision Operator::\n",
        "\n",
        "We use to compare data or Values..\n",
        "\n",
        "Single = Means assigning the data\n",
        "\n",
        "Double equal means comparision data."
      ],
      "metadata": {
        "id": "tgqpEE2Hfspi"
      }
    },
    {
      "cell_type": "markdown",
      "source": [],
      "metadata": {
        "id": "ISJFHUkbfiuF"
      }
    },
    {
      "cell_type": "code",
      "source": [
        "2 ==2"
      ],
      "metadata": {
        "id": "MRI69TH4gqii",
        "colab": {
          "base_uri": "https://localhost:8080/"
        },
        "outputId": "d26bec79-7a19-4fd5-ed6f-dfd5722053d6"
      },
      "execution_count": null,
      "outputs": [
        {
          "output_type": "execute_result",
          "data": {
            "text/plain": [
              "True"
            ]
          },
          "metadata": {},
          "execution_count": 498
        }
      ]
    },
    {
      "cell_type": "code",
      "source": [
        "2!=2\n",
        "## != is sign for not equal\n",
        "## == is sign for equal"
      ],
      "metadata": {
        "id": "mMNGSsVIgrxx",
        "colab": {
          "base_uri": "https://localhost:8080/"
        },
        "outputId": "f7a58ac0-6cca-4e21-a0fb-c6eee6b98151"
      },
      "execution_count": null,
      "outputs": [
        {
          "output_type": "execute_result",
          "data": {
            "text/plain": [
              "False"
            ]
          },
          "metadata": {},
          "execution_count": 499
        }
      ]
    },
    {
      "cell_type": "code",
      "source": [
        "10 >34"
      ],
      "metadata": {
        "id": "TS6-4YbAgv0n",
        "colab": {
          "base_uri": "https://localhost:8080/"
        },
        "outputId": "f486d980-27c7-4ae2-a888-0078b7415e83"
      },
      "execution_count": null,
      "outputs": [
        {
          "output_type": "execute_result",
          "data": {
            "text/plain": [
              "False"
            ]
          },
          "metadata": {},
          "execution_count": 500
        }
      ]
    },
    {
      "cell_type": "code",
      "source": [
        "23<45"
      ],
      "metadata": {
        "id": "TNOAlwv4g90R",
        "colab": {
          "base_uri": "https://localhost:8080/"
        },
        "outputId": "0272b3f5-2054-4998-df1d-4b3daca82531"
      },
      "execution_count": null,
      "outputs": [
        {
          "output_type": "execute_result",
          "data": {
            "text/plain": [
              "True"
            ]
          },
          "metadata": {},
          "execution_count": 501
        }
      ]
    },
    {
      "cell_type": "code",
      "source": [
        "4>=2"
      ],
      "metadata": {
        "id": "qhB8Ulo_g_4a",
        "colab": {
          "base_uri": "https://localhost:8080/"
        },
        "outputId": "3b097b79-8cef-4afe-a4c4-60c90052c1bc"
      },
      "execution_count": null,
      "outputs": [
        {
          "output_type": "execute_result",
          "data": {
            "text/plain": [
              "True"
            ]
          },
          "metadata": {},
          "execution_count": 502
        }
      ]
    },
    {
      "cell_type": "code",
      "source": [
        "3>=3"
      ],
      "metadata": {
        "id": "U-Oc34HThC8q",
        "colab": {
          "base_uri": "https://localhost:8080/"
        },
        "outputId": "731c2ac3-2fbb-495c-e575-15aa163ffdd0"
      },
      "execution_count": null,
      "outputs": [
        {
          "output_type": "execute_result",
          "data": {
            "text/plain": [
              "True"
            ]
          },
          "metadata": {},
          "execution_count": 503
        }
      ]
    },
    {
      "cell_type": "code",
      "source": [
        "5<=5"
      ],
      "metadata": {
        "id": "-v5C8C5lhFPv",
        "colab": {
          "base_uri": "https://localhost:8080/"
        },
        "outputId": "6dbf3030-933a-4b11-b4aa-b857ae1c2ba6"
      },
      "execution_count": null,
      "outputs": [
        {
          "output_type": "execute_result",
          "data": {
            "text/plain": [
              "True"
            ]
          },
          "metadata": {},
          "execution_count": 504
        }
      ]
    },
    {
      "cell_type": "code",
      "source": [
        "34<23"
      ],
      "metadata": {
        "id": "vciM5Uf5hHT8",
        "colab": {
          "base_uri": "https://localhost:8080/"
        },
        "outputId": "3a2655c0-1142-4ab1-a5e6-a837d2702903"
      },
      "execution_count": null,
      "outputs": [
        {
          "output_type": "execute_result",
          "data": {
            "text/plain": [
              "False"
            ]
          },
          "metadata": {},
          "execution_count": 505
        }
      ]
    },
    {
      "cell_type": "markdown",
      "source": [
        "Logical Operator::\n",
        "\n",
        "AND  Operator\n",
        "\n",
        "Y = A and B (The Output will be true when both the input are true)\n",
        "\n",
        "Truth Table\n",
        "\n",
        "A  B  Y\n",
        "\n",
        "0  0  0\n",
        "\n",
        "1  0  0\n",
        "\n",
        "0  1  0\n",
        "\n",
        "1  1  1\n",
        "\n",
        "OR Operator\n",
        "\n",
        "Y = A npt B (The Output will be true when any of the input are true)\n",
        "\n",
        "Truth Table\n",
        "\n",
        "A B Y\n",
        "\n",
        "0 0 0\n",
        "\n",
        "1 0 1\n",
        "\n",
        "0 1 1\n",
        "\n",
        "1 1 1\n",
        "\n",
        "NOT Operator\n",
        "\n",
        "Y = not A (The Output will be oposite of input)\n",
        "\n",
        "Truth Table\n",
        "\n",
        "A   Y\n",
        "\n",
        "0   1\n",
        "\n",
        "1   0\n",
        "\n",
        "XOR Operator\n",
        "\n",
        "Y = A ^ B (Hut OR Cap)\n",
        "\n",
        "The output will be true when exactly one of the input is ture not both)\n",
        "\n",
        "Truth Table\n",
        "\n",
        "A B Y\n",
        "\n",
        "0 0 0\n",
        "\n",
        "1 0 1\n",
        "\n",
        "0 1 1\n",
        "\n",
        "1 1 0\n"
      ],
      "metadata": {
        "id": "Uyewd4ZGiCIL"
      }
    },
    {
      "cell_type": "code",
      "source": [
        "True and True"
      ],
      "metadata": {
        "id": "5_VfZR-hiFv6",
        "colab": {
          "base_uri": "https://localhost:8080/"
        },
        "outputId": "176aac7d-a25d-47ce-d5fd-1cb3a6132fb4"
      },
      "execution_count": null,
      "outputs": [
        {
          "output_type": "execute_result",
          "data": {
            "text/plain": [
              "True"
            ]
          },
          "metadata": {},
          "execution_count": 506
        }
      ]
    },
    {
      "cell_type": "code",
      "source": [
        "False and True"
      ],
      "metadata": {
        "id": "qZ979TdXkgrq",
        "colab": {
          "base_uri": "https://localhost:8080/"
        },
        "outputId": "f26ea7a5-1963-44d8-a5e9-d2836bde6d93"
      },
      "execution_count": null,
      "outputs": [
        {
          "output_type": "execute_result",
          "data": {
            "text/plain": [
              "False"
            ]
          },
          "metadata": {},
          "execution_count": 507
        }
      ]
    },
    {
      "cell_type": "code",
      "source": [
        "False or True"
      ],
      "metadata": {
        "id": "UiE6MtWAko1t",
        "colab": {
          "base_uri": "https://localhost:8080/"
        },
        "outputId": "802f4e46-490b-4151-9d34-819df9115423"
      },
      "execution_count": null,
      "outputs": [
        {
          "output_type": "execute_result",
          "data": {
            "text/plain": [
              "True"
            ]
          },
          "metadata": {},
          "execution_count": 508
        }
      ]
    },
    {
      "cell_type": "code",
      "source": [
        "not False"
      ],
      "metadata": {
        "id": "BO1uont3ksXr",
        "colab": {
          "base_uri": "https://localhost:8080/"
        },
        "outputId": "f24face0-da18-45ae-9f8e-d1b3e8074d9e"
      },
      "execution_count": null,
      "outputs": [
        {
          "output_type": "execute_result",
          "data": {
            "text/plain": [
              "True"
            ]
          },
          "metadata": {},
          "execution_count": 509
        }
      ]
    },
    {
      "cell_type": "code",
      "source": [
        "True ^ False"
      ],
      "metadata": {
        "id": "ZBEgki0Okvd-",
        "colab": {
          "base_uri": "https://localhost:8080/"
        },
        "outputId": "e07a1ac6-e105-463a-84cf-312947ee173d"
      },
      "execution_count": null,
      "outputs": [
        {
          "output_type": "execute_result",
          "data": {
            "text/plain": [
              "True"
            ]
          },
          "metadata": {},
          "execution_count": 510
        }
      ]
    },
    {
      "cell_type": "code",
      "source": [
        "True ^ True"
      ],
      "metadata": {
        "id": "h1kF4L-1kzPS",
        "colab": {
          "base_uri": "https://localhost:8080/"
        },
        "outputId": "8ed7618b-e2ba-470f-d112-9c1904357dda"
      },
      "execution_count": null,
      "outputs": [
        {
          "output_type": "execute_result",
          "data": {
            "text/plain": [
              "False"
            ]
          },
          "metadata": {},
          "execution_count": 511
        }
      ]
    },
    {
      "cell_type": "code",
      "source": [
        "not True"
      ],
      "metadata": {
        "id": "wOivOR9ok1zV",
        "colab": {
          "base_uri": "https://localhost:8080/"
        },
        "outputId": "ef75c49e-5f87-4905-dea1-37eade360376"
      },
      "execution_count": null,
      "outputs": [
        {
          "output_type": "execute_result",
          "data": {
            "text/plain": [
              "False"
            ]
          },
          "metadata": {},
          "execution_count": 512
        }
      ]
    },
    {
      "cell_type": "markdown",
      "source": [
        "Assignment Operator\n",
        "\n"
      ],
      "metadata": {
        "id": "8zP0YD39lBCm"
      }
    },
    {
      "cell_type": "code",
      "source": [
        "a = 10"
      ],
      "metadata": {
        "id": "XDLcLAbclFdm"
      },
      "execution_count": null,
      "outputs": []
    },
    {
      "cell_type": "code",
      "source": [
        "a+5"
      ],
      "metadata": {
        "id": "Ff1DTZOhlIru",
        "colab": {
          "base_uri": "https://localhost:8080/"
        },
        "outputId": "2a574857-6987-4c06-dc36-9181813c00c6"
      },
      "execution_count": null,
      "outputs": [
        {
          "output_type": "execute_result",
          "data": {
            "text/plain": [
              "15"
            ]
          },
          "metadata": {},
          "execution_count": 514
        }
      ]
    },
    {
      "cell_type": "code",
      "source": [
        "b=7"
      ],
      "metadata": {
        "id": "dHqrEZR3lLSS"
      },
      "execution_count": null,
      "outputs": []
    },
    {
      "cell_type": "code",
      "source": [
        "b-9"
      ],
      "metadata": {
        "id": "r3K4qdHBlQab",
        "colab": {
          "base_uri": "https://localhost:8080/"
        },
        "outputId": "493ade7a-64b4-429a-e6fb-38c10347b2f2"
      },
      "execution_count": null,
      "outputs": [
        {
          "output_type": "execute_result",
          "data": {
            "text/plain": [
              "-2"
            ]
          },
          "metadata": {},
          "execution_count": 516
        }
      ]
    },
    {
      "cell_type": "code",
      "source": [
        "c=5"
      ],
      "metadata": {
        "id": "OI4vGNcQlTMN"
      },
      "execution_count": null,
      "outputs": []
    },
    {
      "cell_type": "code",
      "source": [
        "c=c+3"
      ],
      "metadata": {
        "id": "GE7KdObJlcSv"
      },
      "execution_count": null,
      "outputs": []
    },
    {
      "cell_type": "code",
      "source": [
        "c"
      ],
      "metadata": {
        "id": "cC33YM6_ld98",
        "colab": {
          "base_uri": "https://localhost:8080/"
        },
        "outputId": "c516ba55-d059-4e82-fcb1-459a2d653607"
      },
      "execution_count": null,
      "outputs": [
        {
          "output_type": "execute_result",
          "data": {
            "text/plain": [
              "8"
            ]
          },
          "metadata": {},
          "execution_count": 519
        }
      ]
    },
    {
      "cell_type": "code",
      "source": [
        "c"
      ],
      "metadata": {
        "id": "QcuxMDZVljsp",
        "colab": {
          "base_uri": "https://localhost:8080/"
        },
        "outputId": "7d32415a-7944-46e2-bd56-59c042482ada"
      },
      "execution_count": null,
      "outputs": [
        {
          "output_type": "execute_result",
          "data": {
            "text/plain": [
              "8"
            ]
          },
          "metadata": {},
          "execution_count": 520
        }
      ]
    },
    {
      "cell_type": "code",
      "source": [
        "x=4\n",
        "x=x+2"
      ],
      "metadata": {
        "id": "5dhuUMk7lnHz"
      },
      "execution_count": null,
      "outputs": []
    },
    {
      "cell_type": "code",
      "source": [
        "x"
      ],
      "metadata": {
        "id": "Ox14bHf1lvBU",
        "colab": {
          "base_uri": "https://localhost:8080/"
        },
        "outputId": "d75e90e2-ba34-4149-b8c3-0798c36eb8d4"
      },
      "execution_count": null,
      "outputs": [
        {
          "output_type": "execute_result",
          "data": {
            "text/plain": [
              "6"
            ]
          },
          "metadata": {},
          "execution_count": 522
        }
      ]
    },
    {
      "cell_type": "code",
      "source": [
        "y=5\n",
        "y+=2"
      ],
      "metadata": {
        "id": "RjmUwTeglwNt"
      },
      "execution_count": null,
      "outputs": []
    },
    {
      "cell_type": "code",
      "source": [
        "y"
      ],
      "metadata": {
        "id": "l3U2-azul6st",
        "colab": {
          "base_uri": "https://localhost:8080/"
        },
        "outputId": "f231ef5e-2ae3-41d0-fd02-6e30137971e9"
      },
      "execution_count": null,
      "outputs": [
        {
          "output_type": "execute_result",
          "data": {
            "text/plain": [
              "7"
            ]
          },
          "metadata": {},
          "execution_count": 524
        }
      ]
    },
    {
      "cell_type": "code",
      "source": [
        "w=86\n",
        "w/=4"
      ],
      "metadata": {
        "id": "tH3vpKi-l7pi"
      },
      "execution_count": null,
      "outputs": []
    },
    {
      "cell_type": "code",
      "source": [
        "w"
      ],
      "metadata": {
        "id": "iulpJ5XkmEp0",
        "colab": {
          "base_uri": "https://localhost:8080/"
        },
        "outputId": "804d516d-d2e4-4934-dba4-c8a2d869f321"
      },
      "execution_count": null,
      "outputs": [
        {
          "output_type": "execute_result",
          "data": {
            "text/plain": [
              "21.5"
            ]
          },
          "metadata": {},
          "execution_count": 526
        }
      ]
    },
    {
      "cell_type": "code",
      "source": [
        "h=25\n",
        "h*=4"
      ],
      "metadata": {
        "id": "DwJQehwvmJ2b"
      },
      "execution_count": null,
      "outputs": []
    },
    {
      "cell_type": "code",
      "source": [
        "h"
      ],
      "metadata": {
        "id": "M6u2A_SYmap7",
        "colab": {
          "base_uri": "https://localhost:8080/"
        },
        "outputId": "b8eabe66-0ffa-4d11-c829-156fadb32f29"
      },
      "execution_count": null,
      "outputs": [
        {
          "output_type": "execute_result",
          "data": {
            "text/plain": [
              "100"
            ]
          },
          "metadata": {},
          "execution_count": 528
        }
      ]
    },
    {
      "cell_type": "code",
      "source": [
        "l=23\n",
        "l%=3"
      ],
      "metadata": {
        "id": "_EQp0D2XmiEm"
      },
      "execution_count": null,
      "outputs": []
    },
    {
      "cell_type": "code",
      "source": [
        "l"
      ],
      "metadata": {
        "id": "dG-biILnmw5J",
        "colab": {
          "base_uri": "https://localhost:8080/"
        },
        "outputId": "e9775a6a-9f0e-4cdb-95c8-331706baa51f"
      },
      "execution_count": null,
      "outputs": [
        {
          "output_type": "execute_result",
          "data": {
            "text/plain": [
              "2"
            ]
          },
          "metadata": {},
          "execution_count": 530
        }
      ]
    },
    {
      "cell_type": "markdown",
      "source": [
        "Membership Operator::\n",
        "\n",
        "Some member what we are looking for wheather they are in the  string or not."
      ],
      "metadata": {
        "id": "f12egnQmm50P"
      }
    },
    {
      "cell_type": "code",
      "source": [
        "a = \"PHYSICS\"\n",
        "'P' in a"
      ],
      "metadata": {
        "id": "9OfCmll2nKmd",
        "colab": {
          "base_uri": "https://localhost:8080/"
        },
        "outputId": "4c3948f8-f111-4d1d-a8d6-56b39d284ce2"
      },
      "execution_count": null,
      "outputs": [
        {
          "output_type": "execute_result",
          "data": {
            "text/plain": [
              "True"
            ]
          },
          "metadata": {},
          "execution_count": 531
        }
      ]
    },
    {
      "cell_type": "code",
      "source": [
        "'S' not in a"
      ],
      "metadata": {
        "id": "OQLeRcRDncV4",
        "colab": {
          "base_uri": "https://localhost:8080/"
        },
        "outputId": "0c2a3b2b-36ec-462f-a1bb-4556645d1443"
      },
      "execution_count": null,
      "outputs": [
        {
          "output_type": "execute_result",
          "data": {
            "text/plain": [
              "False"
            ]
          },
          "metadata": {},
          "execution_count": 532
        }
      ]
    },
    {
      "cell_type": "code",
      "source": [
        "'L' in a"
      ],
      "metadata": {
        "id": "om0p6aZAnfoc",
        "colab": {
          "base_uri": "https://localhost:8080/"
        },
        "outputId": "3bd25481-f820-4c6d-a071-4df57370ff59"
      },
      "execution_count": null,
      "outputs": [
        {
          "output_type": "execute_result",
          "data": {
            "text/plain": [
              "False"
            ]
          },
          "metadata": {},
          "execution_count": 533
        }
      ]
    },
    {
      "cell_type": "code",
      "source": [
        "a = [\"Data\", \"Analytics\", \"Machine\", \"Learning\", \"Deep\", \"Learning\"]"
      ],
      "metadata": {
        "id": "fyRthQc9nrae"
      },
      "execution_count": null,
      "outputs": []
    },
    {
      "cell_type": "code",
      "source": [
        "'Data' in a"
      ],
      "metadata": {
        "id": "239j3S2OrN85",
        "colab": {
          "base_uri": "https://localhost:8080/"
        },
        "outputId": "121384a6-ed92-4919-bc34-e8c9a206086b"
      },
      "execution_count": null,
      "outputs": [
        {
          "output_type": "execute_result",
          "data": {
            "text/plain": [
              "True"
            ]
          },
          "metadata": {},
          "execution_count": 535
        }
      ]
    },
    {
      "cell_type": "code",
      "source": [
        "'Deep' in a"
      ],
      "metadata": {
        "id": "oiPujbrOrQ8I",
        "colab": {
          "base_uri": "https://localhost:8080/"
        },
        "outputId": "5b736148-6f4c-4fd6-f650-3a074cc73f9d"
      },
      "execution_count": null,
      "outputs": [
        {
          "output_type": "execute_result",
          "data": {
            "text/plain": [
              "True"
            ]
          },
          "metadata": {},
          "execution_count": 536
        }
      ]
    },
    {
      "cell_type": "code",
      "source": [
        "'Machine' not in a"
      ],
      "metadata": {
        "id": "jID1C1cnrUIb",
        "colab": {
          "base_uri": "https://localhost:8080/"
        },
        "outputId": "cda5e098-277f-473b-ffac-9588323bc453"
      },
      "execution_count": null,
      "outputs": [
        {
          "output_type": "execute_result",
          "data": {
            "text/plain": [
              "False"
            ]
          },
          "metadata": {},
          "execution_count": 537
        }
      ]
    },
    {
      "cell_type": "code",
      "source": [
        "'Dinesh' in a"
      ],
      "metadata": {
        "id": "nZu9GzfMrfPM",
        "colab": {
          "base_uri": "https://localhost:8080/"
        },
        "outputId": "5fa03df7-8695-4af7-e407-ba036cc61101"
      },
      "execution_count": null,
      "outputs": [
        {
          "output_type": "execute_result",
          "data": {
            "text/plain": [
              "False"
            ]
          },
          "metadata": {},
          "execution_count": 538
        }
      ]
    },
    {
      "cell_type": "markdown",
      "source": [
        "Identity Operator\n",
        "\n",
        "It compare the location of object or variable."
      ],
      "metadata": {
        "id": "Y9AgbYjurwfw"
      }
    },
    {
      "cell_type": "code",
      "source": [
        "a = 3 ## a refer the memory block where the 2 is store\n",
        "b = 2 ## b refer the memory block where the 3 is store\n"
      ],
      "metadata": {
        "id": "Qw44l6VMrqzH"
      },
      "execution_count": null,
      "outputs": []
    },
    {
      "cell_type": "code",
      "source": [
        "a is b"
      ],
      "metadata": {
        "id": "asL_s-R3sVGR",
        "colab": {
          "base_uri": "https://localhost:8080/"
        },
        "outputId": "286567a3-6140-4969-c4b6-4d533201493a"
      },
      "execution_count": null,
      "outputs": [
        {
          "output_type": "execute_result",
          "data": {
            "text/plain": [
              "False"
            ]
          },
          "metadata": {},
          "execution_count": 540
        }
      ]
    },
    {
      "cell_type": "code",
      "source": [
        "a is not b"
      ],
      "metadata": {
        "id": "Y_SXZiUOsmgf",
        "colab": {
          "base_uri": "https://localhost:8080/"
        },
        "outputId": "9d2bbb0b-e3e2-40d7-9bd6-c9bd705adbe3"
      },
      "execution_count": null,
      "outputs": [
        {
          "output_type": "execute_result",
          "data": {
            "text/plain": [
              "True"
            ]
          },
          "metadata": {},
          "execution_count": 541
        }
      ]
    },
    {
      "cell_type": "code",
      "source": [
        "b = a"
      ],
      "metadata": {
        "id": "kGRfLLDEspDu"
      },
      "execution_count": null,
      "outputs": []
    },
    {
      "cell_type": "code",
      "source": [
        "a is b"
      ],
      "metadata": {
        "id": "2iLfVkYmsxsq",
        "colab": {
          "base_uri": "https://localhost:8080/"
        },
        "outputId": "314ba2f3-c223-4482-ffac-4d82f1b60f3c"
      },
      "execution_count": null,
      "outputs": [
        {
          "output_type": "execute_result",
          "data": {
            "text/plain": [
              "True"
            ]
          },
          "metadata": {},
          "execution_count": 543
        }
      ]
    },
    {
      "cell_type": "code",
      "source": [
        "### here a and b refering the same memory block"
      ],
      "metadata": {
        "id": "3OLk5C0_sz6z"
      },
      "execution_count": null,
      "outputs": []
    },
    {
      "cell_type": "markdown",
      "source": [
        "Bitwise Operators::\n",
        "![image.png](data:image/png;base64,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)\n",
        "Operators at bit levels.\n",
        "\n",
        "Everything is store in computer in Binary Level.\n",
        "\n",
        "Manulipulation of bits within integer.\n",
        "\n",
        "Bit-wiase Represenation: 2^0 x 2^1 x 2^2 x 2^3 x 2^4"
      ],
      "metadata": {
        "id": "J0tqP5l9tA3x"
      }
    },
    {
      "cell_type": "markdown",
      "source": [
        "1 = ..................2^0 =   0001\n",
        "\n",
        "2 = .................2^1..=   0010\n",
        "\n",
        "3=2+1....................=    0011\n",
        "\n",
        "4= 2^2 ..................=    0100\n",
        "\n",
        "5= 2^2+1.................=    0101"
      ],
      "metadata": {
        "id": "58WI1MuxvNn7"
      }
    },
    {
      "cell_type": "code",
      "source": [
        "10 and 10"
      ],
      "metadata": {
        "id": "nzBNi1wPs8VP",
        "colab": {
          "base_uri": "https://localhost:8080/"
        },
        "outputId": "8a103646-34c7-43c7-a8d1-1ccc0c880a5f"
      },
      "execution_count": null,
      "outputs": [
        {
          "output_type": "execute_result",
          "data": {
            "text/plain": [
              "10"
            ]
          },
          "metadata": {},
          "execution_count": 545
        }
      ]
    },
    {
      "cell_type": "markdown",
      "source": [
        "1  0  1  0\n",
        "\n",
        "1  0  1  0\n",
        "\n",
        "___________\n",
        "\n",
        "1  0  1  0"
      ],
      "metadata": {
        "id": "4tC1pZK3wmC6"
      }
    },
    {
      "cell_type": "code",
      "source": [
        "18 and 3"
      ],
      "metadata": {
        "id": "uf0_kjo7wjud",
        "colab": {
          "base_uri": "https://localhost:8080/"
        },
        "outputId": "3e6f853d-f287-4fac-e4ea-fba22f669b62"
      },
      "execution_count": null,
      "outputs": [
        {
          "output_type": "execute_result",
          "data": {
            "text/plain": [
              "3"
            ]
          },
          "metadata": {},
          "execution_count": 546
        }
      ]
    },
    {
      "cell_type": "markdown",
      "source": [
        "1 0 0 1 0\n",
        "\n",
        "0 0 0 1 1\n",
        "_________\n",
        "\n",
        "0 0 0 1 0"
      ],
      "metadata": {
        "id": "UwmMWyGPxfju"
      }
    },
    {
      "cell_type": "code",
      "source": [
        "bin (10)\n"
      ],
      "metadata": {
        "id": "Q2suXXn_xXvR",
        "colab": {
          "base_uri": "https://localhost:8080/",
          "height": 36
        },
        "outputId": "82c00894-7e60-498c-8923-7dd621302d33"
      },
      "execution_count": null,
      "outputs": [
        {
          "output_type": "execute_result",
          "data": {
            "text/plain": [
              "'0b1010'"
            ],
            "application/vnd.google.colaboratory.intrinsic+json": {
              "type": "string"
            }
          },
          "metadata": {},
          "execution_count": 547
        }
      ]
    },
    {
      "cell_type": "code",
      "source": [
        "bin (18)"
      ],
      "metadata": {
        "id": "TWoOMSq_x5KC",
        "colab": {
          "base_uri": "https://localhost:8080/",
          "height": 36
        },
        "outputId": "a7b05f27-2d20-4e1c-f4a1-de6be8b338fe"
      },
      "execution_count": null,
      "outputs": [
        {
          "output_type": "execute_result",
          "data": {
            "text/plain": [
              "'0b10010'"
            ],
            "application/vnd.google.colaboratory.intrinsic+json": {
              "type": "string"
            }
          },
          "metadata": {},
          "execution_count": 548
        }
      ]
    },
    {
      "cell_type": "code",
      "source": [
        "bin (3)"
      ],
      "metadata": {
        "id": "d6IARhEwx7eF",
        "colab": {
          "base_uri": "https://localhost:8080/",
          "height": 36
        },
        "outputId": "9dd71823-bfa2-4fc2-c552-e61bde4508bd"
      },
      "execution_count": null,
      "outputs": [
        {
          "output_type": "execute_result",
          "data": {
            "text/plain": [
              "'0b11'"
            ],
            "application/vnd.google.colaboratory.intrinsic+json": {
              "type": "string"
            }
          },
          "metadata": {},
          "execution_count": 549
        }
      ]
    },
    {
      "cell_type": "code",
      "source": [
        "5 and 7"
      ],
      "metadata": {
        "id": "tNiHA7kIx_OQ",
        "colab": {
          "base_uri": "https://localhost:8080/"
        },
        "outputId": "4e3388ec-a4a7-488c-9bf6-554c1d85c903"
      },
      "execution_count": null,
      "outputs": [
        {
          "output_type": "execute_result",
          "data": {
            "text/plain": [
              "7"
            ]
          },
          "metadata": {},
          "execution_count": 550
        }
      ]
    },
    {
      "cell_type": "code",
      "source": [
        "18 & 3"
      ],
      "metadata": {
        "id": "GBtxbcSfyIth",
        "colab": {
          "base_uri": "https://localhost:8080/"
        },
        "outputId": "303358aa-b0ae-4158-8ab7-a1b54f528986"
      },
      "execution_count": null,
      "outputs": [
        {
          "output_type": "execute_result",
          "data": {
            "text/plain": [
              "2"
            ]
          },
          "metadata": {},
          "execution_count": 551
        }
      ]
    },
    {
      "cell_type": "code",
      "source": [
        "3 | 5"
      ],
      "metadata": {
        "id": "8U2auIKayP5x",
        "colab": {
          "base_uri": "https://localhost:8080/"
        },
        "outputId": "0bde7ff6-fd27-47d0-8d67-281649b1ad90"
      },
      "execution_count": null,
      "outputs": [
        {
          "output_type": "execute_result",
          "data": {
            "text/plain": [
              "7"
            ]
          },
          "metadata": {},
          "execution_count": 552
        }
      ]
    },
    {
      "cell_type": "markdown",
      "source": [
        "Negation::\n",
        "\n",
        "~ Tilda\n",
        "\n",
        "~n = -n-1 (One Value Lower)"
      ],
      "metadata": {
        "id": "aZEzoooJoQWS"
      }
    },
    {
      "cell_type": "code",
      "source": [
        "~ 45"
      ],
      "metadata": {
        "id": "c5AWHxovyXPa",
        "colab": {
          "base_uri": "https://localhost:8080/"
        },
        "outputId": "9690f5a8-a27c-438a-9155-e2f7f37d0020"
      },
      "execution_count": null,
      "outputs": [
        {
          "output_type": "execute_result",
          "data": {
            "text/plain": [
              "-46"
            ]
          },
          "metadata": {},
          "execution_count": 554
        }
      ]
    },
    {
      "cell_type": "code",
      "source": [
        " ~ 89"
      ],
      "metadata": {
        "colab": {
          "base_uri": "https://localhost:8080/"
        },
        "id": "comsrmDEvCaI",
        "outputId": "317a1614-00ae-4650-a45a-8c7c8273118d"
      },
      "execution_count": null,
      "outputs": [
        {
          "output_type": "execute_result",
          "data": {
            "text/plain": [
              "-90"
            ]
          },
          "metadata": {},
          "execution_count": 555
        }
      ]
    },
    {
      "cell_type": "code",
      "source": [
        "~-32"
      ],
      "metadata": {
        "colab": {
          "base_uri": "https://localhost:8080/"
        },
        "id": "p3qqtWVvwhr_",
        "outputId": "53da611e-0c9f-4116-afff-d0d3464076ee"
      },
      "execution_count": null,
      "outputs": [
        {
          "output_type": "execute_result",
          "data": {
            "text/plain": [
              "31"
            ]
          },
          "metadata": {},
          "execution_count": 556
        }
      ]
    },
    {
      "cell_type": "markdown",
      "source": [
        "Bitwise XOR Operator\n",
        "\n",
        "a ^ b\n",
        "\n",
        "it will give you one when exatly one bit is one"
      ],
      "metadata": {
        "id": "WUNZ8NAXxXKa"
      }
    },
    {
      "cell_type": "code",
      "source": [
        "5 ^ 3"
      ],
      "metadata": {
        "colab": {
          "base_uri": "https://localhost:8080/"
        },
        "id": "9wM9VwIowqyS",
        "outputId": "bb1d3457-2657-4b16-95fe-c524b9c7492b"
      },
      "execution_count": null,
      "outputs": [
        {
          "output_type": "execute_result",
          "data": {
            "text/plain": [
              "6"
            ]
          },
          "metadata": {},
          "execution_count": 557
        }
      ]
    },
    {
      "cell_type": "markdown",
      "source": [
        "shift operator::\n",
        "\n",
        "Left shift Operator:\n",
        "\n",
        "Shift Zero in the right\n",
        "\n",
        "Like 35<<3\n",
        "\n",
        "that means three zero shift in the right.\n",
        "\n",
        "35 = 100011\n",
        "35 << 3 = 100011000"
      ],
      "metadata": {
        "id": "-MDd4puTzoP_"
      }
    },
    {
      "cell_type": "markdown",
      "source": [],
      "metadata": {
        "id": "HCQU-Sptzn5_"
      }
    },
    {
      "cell_type": "code",
      "source": [
        "35 << 3"
      ],
      "metadata": {
        "colab": {
          "base_uri": "https://localhost:8080/"
        },
        "id": "u4YdVzvPxw2F",
        "outputId": "5c662b6c-f4d9-45d3-de9d-49f62bd88749"
      },
      "execution_count": null,
      "outputs": [
        {
          "output_type": "execute_result",
          "data": {
            "text/plain": [
              "280"
            ]
          },
          "metadata": {},
          "execution_count": 558
        }
      ]
    },
    {
      "cell_type": "code",
      "source": [
        "bin (280)"
      ],
      "metadata": {
        "colab": {
          "base_uri": "https://localhost:8080/",
          "height": 36
        },
        "id": "H1Hc0Mqd00Eq",
        "outputId": "5bc2a3cf-e3b0-48da-e605-56668686e0a0"
      },
      "execution_count": null,
      "outputs": [
        {
          "output_type": "execute_result",
          "data": {
            "text/plain": [
              "'0b100011000'"
            ],
            "application/vnd.google.colaboratory.intrinsic+json": {
              "type": "string"
            }
          },
          "metadata": {},
          "execution_count": 559
        }
      ]
    },
    {
      "cell_type": "markdown",
      "source": [
        "Right Shift Operator\n",
        "\n",
        "Remove The number of element in the right.\n",
        "\n",
        "280 >>  3\n",
        "\n",
        "Remove last three values.\n",
        "\n",
        "100011000\n",
        "\n",
        "100011"
      ],
      "metadata": {
        "id": "KuHyBia01FSN"
      }
    },
    {
      "cell_type": "code",
      "source": [
        "280 >> 3"
      ],
      "metadata": {
        "colab": {
          "base_uri": "https://localhost:8080/"
        },
        "id": "MGp5TEzv07y-",
        "outputId": "8fc1efb4-d259-446c-b352-af2e6880595c"
      },
      "execution_count": null,
      "outputs": [
        {
          "output_type": "execute_result",
          "data": {
            "text/plain": [
              "35"
            ]
          },
          "metadata": {},
          "execution_count": 560
        }
      ]
    },
    {
      "cell_type": "code",
      "source": [
        "10 >>1"
      ],
      "metadata": {
        "colab": {
          "base_uri": "https://localhost:8080/"
        },
        "id": "BSYeNyQ81yce",
        "outputId": "34b41540-1146-488d-dbf9-ce8b6d666eee"
      },
      "execution_count": null,
      "outputs": [
        {
          "output_type": "execute_result",
          "data": {
            "text/plain": [
              "5"
            ]
          },
          "metadata": {},
          "execution_count": 561
        }
      ]
    },
    {
      "cell_type": "markdown",
      "source": [
        "Order of Precedence\n",
        "\n",
        "The execution of Python command will be from Left to Right.\n",
        "\n",
        "It will follow the BODMAS Rule."
      ],
      "metadata": {
        "id": "2cNUmH2v17bh"
      }
    },
    {
      "cell_type": "code",
      "source": [
        "2 + 3*4"
      ],
      "metadata": {
        "colab": {
          "base_uri": "https://localhost:8080/"
        },
        "id": "PHb6nMBz12QM",
        "outputId": "c39e8877-fcf6-4354-c871-66164b972145"
      },
      "execution_count": null,
      "outputs": [
        {
          "output_type": "execute_result",
          "data": {
            "text/plain": [
              "14"
            ]
          },
          "metadata": {},
          "execution_count": 562
        }
      ]
    },
    {
      "cell_type": "code",
      "source": [
        "4+6/2"
      ],
      "metadata": {
        "colab": {
          "base_uri": "https://localhost:8080/"
        },
        "id": "GQ9yu5wp2mEc",
        "outputId": "62b38099-68c1-47e3-d3bd-15edbee70039"
      },
      "execution_count": null,
      "outputs": [
        {
          "output_type": "execute_result",
          "data": {
            "text/plain": [
              "7.0"
            ]
          },
          "metadata": {},
          "execution_count": 563
        }
      ]
    },
    {
      "cell_type": "code",
      "source": [],
      "metadata": {
        "id": "ZP9ECn-C2wO9"
      },
      "execution_count": null,
      "outputs": []
    }
  ]
}
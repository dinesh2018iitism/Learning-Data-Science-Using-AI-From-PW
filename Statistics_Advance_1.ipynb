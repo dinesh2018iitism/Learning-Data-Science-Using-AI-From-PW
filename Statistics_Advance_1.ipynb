{
  "nbformat": 4,
  "nbformat_minor": 0,
  "metadata": {
    "colab": {
      "provenance": [],
      "authorship_tag": "ABX9TyOZvDZg2GLOOhdLQsblk3v1",
      "include_colab_link": true
    },
    "kernelspec": {
      "name": "python3",
      "display_name": "Python 3"
    },
    "language_info": {
      "name": "python"
    }
  },
  "cells": [
    {
      "cell_type": "markdown",
      "metadata": {
        "id": "view-in-github",
        "colab_type": "text"
      },
      "source": [
        "<a href=\"https://colab.research.google.com/github/dinesh2018iitism/Learning-Data-Science-Using-AI-From-PW/blob/main/Statistics_Advance_1.ipynb\" target=\"_parent\"><img src=\"https://colab.research.google.com/assets/colab-badge.svg\" alt=\"Open In Colab\"/></a>"
      ]
    },
    {
      "cell_type": "markdown",
      "source": [
        "1. Explain the properties of the F-distribution."
      ],
      "metadata": {
        "id": "GKChrKRDo4Y0"
      }
    },
    {
      "cell_type": "code",
      "source": [
        "# The F-distribution is a right-skewed, continuous probability distribution often used in ANOVA,\n",
        "# regression analysis, and variance testing. It is defined as the ratio of two chi-squared distributions,\n",
        "# each divided by its degrees of freedom.\n",
        "\n",
        "# Key Properties:\n",
        "\n",
        "# Shape: Right-skewed, with skewness decreasing as degrees of freedom increase.\n",
        "\n",
        "# Degrees of Freedom: Two parameters, 𝑑1 (numerator) and 𝑑2 (denominator), impact its shape.\n",
        "\n",
        "# Range: Defined for he F-distribution is defined for values greater than or equal to zero.\n",
        "\n",
        "# Mean and Variance:\n",
        "\n",
        "# Mean exists if 𝑑2>2\n",
        "\n",
        "# Variance exists if 𝑑2>4\n",
        "\n",
        "# Applications: Used to test if two variances are equal (F-test) and in ANOVA for comparing group means.\n",
        "\n",
        "# Right-Tailed Test: Large F-values indicate significant variance differences, often tested using the distribution’s right tail.\n"
      ],
      "metadata": {
        "id": "OR5XSnERo-L9"
      },
      "execution_count": 1,
      "outputs": []
    },
    {
      "cell_type": "markdown",
      "source": [
        "2. In which types of statistical tests is the F-distribution used, and why is it appropriate for these tests?"
      ],
      "metadata": {
        "id": "N803XwmWo_VY"
      }
    },
    {
      "cell_type": "code",
      "source": [
        "# The F-distribution is primarily used in the following types of statistical tests:\n",
        "\n",
        "# 1. Analysis of Variance (ANOVA):\n",
        "\n",
        "# Purpose: Tests whether there are significant differences among group means.\n",
        "# Why F-Distribution is Appropriate: ANOVA compares the ratio of variances (between-group to within-group),\n",
        "#which follows an F-distribution under the null hypothesis. A large F-value suggests significant differences among groups.\n",
        "\n",
        "\n",
        "# 2. Regression Analysis:\n",
        "\n",
        "# Purpose: Assesses if a regression model significantly explains the variation in the dependent variable.\n",
        "# Why F-Distribution is Appropriate: The F-test in regression compares the model’s variance (explained variance)\n",
        "#to the residual variance (unexplained variance). A high F-value indicates the model significantly explains the data.\n",
        "\n",
        "\n",
        "# 3. F-Test for Equality of Variances:\n",
        "\n",
        "# Purpose: Tests if two populations have equal variances.\n",
        "# Why F-Distribution is Appropriate: The test statistic, which is the ratio of the two sample variances,\n",
        "#follows an F-distribution. A significant F-value indicates that variances are likely different."
      ],
      "metadata": {
        "id": "zo0_3vaDpC9C"
      },
      "execution_count": 2,
      "outputs": []
    },
    {
      "cell_type": "markdown",
      "source": [
        "3. What are the key assumptions required for conducting an F-test to compare the variances of two populations?"
      ],
      "metadata": {
        "id": "e8FnFz9SpD_1"
      }
    },
    {
      "cell_type": "code",
      "source": [
        "# The key assumptions for conducting an F-test to compare the variances of two populations are:\n",
        "\n",
        "# Independence:\n",
        "\n",
        "# The samples from each population must be independent of each other.\n",
        "\n",
        "# Normality:\n",
        "\n",
        "# Each population should follow a normal distribution. The F-test is sensitive to deviations\n",
        "# from normality, so this assumption is critical.\n",
        "\n",
        "# Random Sampling:\n",
        "\n",
        "# The data should be randomly sampled from the populations.\n",
        "\n",
        "# Scale of Measurement:\n",
        "\n",
        "# The data should be measured on at least an interval or ratio scale, which ensures meaningful comparisons of variance."
      ],
      "metadata": {
        "id": "V-kCWxiepHCA"
      },
      "execution_count": null,
      "outputs": []
    },
    {
      "cell_type": "markdown",
      "source": [
        "4. What is the purpose of ANOVA, and how does it differ from a t-test?"
      ],
      "metadata": {
        "id": "S1SdyZKmpH4S"
      }
    },
    {
      "cell_type": "code",
      "source": [
        "# The purpose of ANOVA is to determine if there are statistically\n",
        "# significant differences among the means of three or more groups. It tests whether observed\n",
        "# variations between group means are likely due to actual differences rather than random chance.\n",
        "\n",
        "# Differences from a t-test:\n",
        "\n",
        "# 1. Number of Groups:\n",
        "\n",
        "# t-test: Compares the means of two groups.\n",
        "# ANOVA: Compares the means of three or more groups simultaneously.\n",
        "\n",
        "# 2. Type of Analysis:\n",
        "\n",
        "# t-test: Tests a difference between two means.\n",
        "# ANOVA: Tests for overall variance among group means and can identify if at\n",
        "# least one group mean differs significantly, without specifying which one(s).\n",
        "\n",
        "# 3. Risk of Type I Error:\n",
        "\n",
        "# Multiple t-tests on several groups increase the risk of a Type I error (false positive).\n",
        "# ANOVA controls this risk by comparing all groups in a single test."
      ],
      "metadata": {
        "id": "Q5YnNqu3pLn9"
      },
      "execution_count": null,
      "outputs": []
    },
    {
      "cell_type": "markdown",
      "source": [
        "5. Explain when and why you would use a one-way ANOVA instead of multiple t-tests when comparing more than two groups."
      ],
      "metadata": {
        "id": "95B0hXQppNUF"
      }
    },
    {
      "cell_type": "code",
      "source": [
        "# we will use a one-way ANOVA instead of multiple t-tests when comparing more than two groups because ANOVA:\n",
        "\n",
        "# Controls the Type I Error Rate:\n",
        "\n",
        "# Each t-test carries a risk of a Type I error (false positive). Conducting multiple t-tests increases this cumulative risk,\n",
        "# leading to a higher likelihood of incorrect results. A one-way ANOVA performs a single test that assesses all groups at once,\n",
        "# maintaining a controlled Type I error rate.\n",
        "\n",
        "# Tests Overall Differences Efficiently:\n",
        "\n",
        "# One-way ANOVA tests whether there is any significant difference among group means in a single analysis,\n",
        "# saving time and reducing the complexity associated with performing multiple t-tests.\n",
        "\n",
        "# Identifies Group Variability:\n",
        "\n",
        "# ANOVA specifically assesses between-group and within-group variability to determine if observed differences\n",
        "# are statistically significant, which is more informative and robust than multiple independent t-tests."
      ],
      "metadata": {
        "id": "ve6yxHWWpQSr"
      },
      "execution_count": 3,
      "outputs": []
    },
    {
      "cell_type": "markdown",
      "source": [
        "6. Explain how variance is partitioned in ANOVA into between-group variance and within-group variance.\n",
        "How does this partitioning contribute to the calculation of the F-statistic?"
      ],
      "metadata": {
        "id": "ZlDqB2FbpRei"
      }
    },
    {
      "cell_type": "code",
      "source": [
        "# In ANOVA, the total variance in the data is divided into between-group variance and within-group variance:\n",
        "\n",
        "# Between-Group Variance:\n",
        "\n",
        "# Measures differences between group means and the overall mean.\n",
        "# High between-group variance suggests significant differences between groups.\n",
        "\n",
        "# Within-Group Variance:\n",
        "\n",
        "# Measures variation within each group, indicating random variation or individual differences.\n",
        "# Low within-group variance means data points within each group are close to their group mean.\n",
        "\n",
        "# F-Statistic Calculation:\n",
        "\n",
        "# The F-statistic is the ratio of between-group variance to within-group variance:\n",
        "\n",
        "# 𝐹=MSB/MSW\n",
        "# ​\n",
        "# Mean Square Between (MSB): SSB divided by its degrees of freedom.\n",
        "# Mean Square Within (MSW): SSW divided by its degrees of freedom.\n",
        "\n",
        "# A high F-statistic suggests that the difference among group means is significant."
      ],
      "metadata": {
        "id": "2-1hCyAzpW6z"
      },
      "execution_count": null,
      "outputs": []
    },
    {
      "cell_type": "markdown",
      "source": [
        "7. Compare the classical (frequentist) approach to ANOVA with the Bayesian approach. What are the key\n",
        "differences in terms of how they handle uncertainty, parameter estimation, and hypothesis testing?"
      ],
      "metadata": {
        "id": "zz-y-jg9phmT"
      }
    },
    {
      "cell_type": "code",
      "source": [
        "# The classical (frequentist) approach and the Bayesian approach to ANOVA differ significantly in\n",
        "# handling uncertainty, parameter estimation, and hypothesis testing.\n",
        "\n",
        "# 1. Uncertainty:\n",
        "\n",
        "# Frequentist ANOVA: Views uncertainty as the likelihood of observing data under repeated sampling.\n",
        "# It calculates probabilities based on the data alone and treats parameters as fixed.\n",
        "\n",
        "# Bayesian ANOVA: Incorporates prior beliefs about parameters and updates these beliefs with the data\n",
        "# to produce a posterior distribution. This approach directly quantifies uncertainty in terms of probability distributions for parameters.\n",
        "\n",
        "# 2. Parameter Estimation:\n",
        "\n",
        "# Frequentist: Uses point estimates, such as sample means and variances, to estimate parameters without\n",
        "# assigning them probability distributions.\n",
        "\n",
        "# Bayesian: Estimates parameters using posterior distributions, combining prior beliefs with observed data.\n",
        "# This yields full probability distributions for each parameter, capturing uncertainty directly.\n",
        "\n",
        "# 3. Hypothesis Testing:\n",
        "\n",
        "# Frequentist: Tests hypotheses using p-values and F-statistics to determine if there is a significant effect,\n",
        "# often based on a threshold like 0.05. It does not directly provide the probability of hypotheses but rather\n",
        "# the likelihood of observing data assuming the null hypothesis is true.\n",
        "\n",
        "# Bayesian: Uses posterior probabilities to evaluate hypotheses, which can provide the probability of the null or\n",
        "# alternative hypotheses directly. Bayesian analysis often compares models using metrics like Bayes factors rather than p-values."
      ],
      "metadata": {
        "id": "w3F2LHDUpiQs"
      },
      "execution_count": null,
      "outputs": []
    },
    {
      "cell_type": "markdown",
      "source": [
        "8. You have two sets of data representing the incomes of two different professions:\n",
        "\n",
        "Profession A: [48, 52, 55, 60, 62]\n",
        "\n",
        "Profession B: [45, 50, 55, 52, 47]\n",
        "\n",
        "Perform an F-test to determine if the variances of the two professions incomes are equal. What are your conclusions based on the F-test?\n",
        "\n",
        "Task: Use Python to calculate the F-statistic and p-value for the given data.\n",
        "\n",
        "Objective: Gain experience in performing F-tests and interpreting the results in terms of variance comparison"
      ],
      "metadata": {
        "id": "HTofnzFGpjq-"
      }
    },
    {
      "cell_type": "code",
      "source": [
        "import numpy as np\n",
        "from scipy import stats\n",
        "\n",
        "# Given income data\n",
        "income_A = [48, 52, 55, 60, 62]\n",
        "income_B = [45, 50, 55, 52, 47]\n",
        "\n",
        "# Calculate sample variances\n",
        "var_A = np.var(income_A, ddof=1)\n",
        "var_B = np.var(income_B, ddof=1)\n",
        "\n",
        "# Calculate the F-statistic\n",
        "F_statistic = var_A / var_B if var_A > var_B else var_B / var_A\n",
        "\n",
        "# Calculate the p-value for the F-test\n",
        "df_A = len(income_A) - 1\n",
        "df_B = len(income_B) - 1\n",
        "p_value = 2 * (1 - stats.f.cdf(F_statistic, df_A, df_B))\n",
        "\n",
        "F_statistic, p_value\n"
      ],
      "metadata": {
        "colab": {
          "base_uri": "https://localhost:8080/"
        },
        "id": "l6xAysRupndS",
        "outputId": "cbb45ffb-1c23-4488-88f3-10e804918d8b"
      },
      "execution_count": 5,
      "outputs": [
        {
          "output_type": "execute_result",
          "data": {
            "text/plain": [
              "(2.089171974522293, 0.49304859900533904)"
            ]
          },
          "metadata": {},
          "execution_count": 5
        }
      ]
    },
    {
      "cell_type": "code",
      "source": [
        "# Since the p-value (0.493) is greater than the significance level (0.05), we fail to reject the null hypothesis.\n",
        "# This means there is no significant difference in the variances between the incomes of Profession A and Profession B."
      ],
      "metadata": {
        "id": "A66owpKw837E"
      },
      "execution_count": null,
      "outputs": []
    },
    {
      "cell_type": "markdown",
      "source": [
        "9. Conduct a one-way ANOVA to test whether there are any statistically significant differences in average heights between three different regions with the following data\n",
        "\n",
        "Region A: [160, 162, 165, 158, 164]\n",
        "\n",
        "Region B: [172, 175, 170, 168, 174]\n",
        "\n",
        "Region C: [180, 182, 179, 185, 183]\n",
        "\n",
        "Task: Write Python code to perform the one-way ANOVA and interpret the results.\n",
        "\n",
        "Objective: Learn how to perform one-way ANOVA using Python and interpret F-statistic and p-value."
      ],
      "metadata": {
        "id": "8WOqT0Rmpyb3"
      }
    },
    {
      "cell_type": "code",
      "source": [
        "from scipy.stats import f_oneway\n",
        "\n",
        "# Given height data for three regions\n",
        "region_A = [160, 162, 165, 158, 164]\n",
        "region_B = [172, 175, 170, 168, 174]\n",
        "region_C = [180, 182, 179, 185, 183]\n",
        "\n",
        "# Perform one-way ANOVA\n",
        "f_statistic, p_value = f_oneway(region_A, region_B, region_C)\n",
        "\n",
        "# Display results\n",
        "f_statistic, p_value\n"
      ],
      "metadata": {
        "colab": {
          "base_uri": "https://localhost:8080/"
        },
        "id": "zi7gof1Lp0DN",
        "outputId": "59ddce4d-d5d4-49d2-aa0c-9ccdcd8450dd"
      },
      "execution_count": 6,
      "outputs": [
        {
          "output_type": "execute_result",
          "data": {
            "text/plain": [
              "(67.87330316742101, 2.870664187937026e-07)"
            ]
          },
          "metadata": {},
          "execution_count": 6
        }
      ]
    },
    {
      "cell_type": "code",
      "source": [
        "# At a significance level of 0.05:\n",
        "\n",
        "# The p-value (0.000000287) is much smaller than 0.05, so we reject the null hypothesis.\n",
        "\n",
        "# This indicates a statistically significant difference in average heights across the three regions."
      ],
      "metadata": {
        "id": "rePaS8Xw9shq"
      },
      "execution_count": 7,
      "outputs": []
    }
  ]
}
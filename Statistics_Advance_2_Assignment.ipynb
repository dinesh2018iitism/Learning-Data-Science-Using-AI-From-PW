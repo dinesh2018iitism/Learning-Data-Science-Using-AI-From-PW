{
  "nbformat": 4,
  "nbformat_minor": 0,
  "metadata": {
    "colab": {
      "provenance": [],
      "authorship_tag": "ABX9TyOZrmxBI4Ay2lRaiSMJ2gwn",
      "include_colab_link": true
    },
    "kernelspec": {
      "name": "python3",
      "display_name": "Python 3"
    },
    "language_info": {
      "name": "python"
    }
  },
  "cells": [
    {
      "cell_type": "markdown",
      "metadata": {
        "id": "view-in-github",
        "colab_type": "text"
      },
      "source": [
        "<a href=\"https://colab.research.google.com/github/dinesh2018iitism/Learning-Python-From-PW/blob/main/Statistics_Advance_2_Assignment.ipynb\" target=\"_parent\"><img src=\"https://colab.research.google.com/assets/colab-badge.svg\" alt=\"Open In Colab\"/></a>"
      ]
    },
    {
      "cell_type": "markdown",
      "source": [
        "Question1: Define the z-statistic and explain its relationship to the standard normal distribution. How is the\n",
        "z-statistic used in hypothesis testing"
      ],
      "metadata": {
        "id": "Ux6-IcI42Wiv"
      }
    },
    {
      "cell_type": "markdown",
      "source": [
        "The z-statistic is a number that tells us how far a value is from the average in terms of standard deviations. It shows whether a value is above or below the average and by how much.\n",
        "\n",
        "The formula for the z-statistic is:\n",
        "\n",
        "![image.png](data:image/png;base64,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)\n",
        "\n",
        "Where:\n",
        "\n",
        "X = the value you are looking at,\n",
        "\n",
        "μ = the population mean,\n",
        "\n",
        "σ = the population standard deviation\n",
        "\n",
        "**Relationship to the Normal Distribution**\n",
        "\n",
        "A normal distribution is a bell-shaped curve where most values are around the average. When we calculate the z-statistic, we convert any value into the standard normal distribution, which has:\n",
        "\n",
        "A mean of 0,\n",
        "A standard deviation of 1.\n",
        "In this standard normal distribution:\n",
        "\n",
        "A z-score of 0 means the value is exactly at the average.\n",
        "A positive z-score means the value is above the average.\n",
        "A negative z-score means the value is below the average.\n",
        "\n",
        "How is the Z-Statistic Used in Hypothesis Testing?\n",
        "\n",
        "Steps to Use the Z-Statistic in Hypothesis Testing:\n",
        "\n",
        "1. State the Hypotheses:\n",
        "\n",
        "Null Hypothesis (H₀): Assumes that there is no difference or no effect\n",
        "Alternative Hypothesis (H₁): Suggests that there is a difference\n",
        "\n",
        "2. Calculate the Z-Statistic: Use the formula:\n",
        "\n",
        "![image.png](data:image/png;base64,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)\n",
        "\n",
        "3. Compare the Z-Statistic to the Critical Value:\n",
        "\n",
        "Based on how sure you want to be (often 95% confidence), find the critical z-value:\n",
        "For a 95% confidence level in a two-tailed test, the critical z-value is ±1.96.\n",
        "For a one-tailed test, the critical value is either +1.645 or -1.645, depending on the direction.\n",
        "\n",
        "4. Make a Decision:\n",
        "\n",
        "If the z-statistic is greater than the critical value (or less than the negative critical value), we reject the null hypothesis and conclude that there is a significant difference.\n",
        "If the z-statistic falls within the critical value range, we fail to reject the null hypothesis, meaning there is no strong evidence of a difference."
      ],
      "metadata": {
        "id": "ZPA_QVujEczO"
      }
    },
    {
      "cell_type": "markdown",
      "source": [
        "Question2 : What is a p-value, and how is it used in hypothesis testing? What does it mean if the p-value is\n",
        "very small (e.g., 0.01)?"
      ],
      "metadata": {
        "id": "NpzqhSGR4SaB"
      }
    },
    {
      "cell_type": "code",
      "source": [
        "# What is a P-Value?\n",
        "\n",
        "# A p-value is the probability that the observed results\n",
        "#occurred by chance under the assumption that the null hypothesis (H₀) is true.\n",
        "#It tells us how likely it is to see the observed data if there is no real effect.\n",
        "\n",
        "# How is it Used in Hypothesis Testing?\n",
        "\n",
        "# In hypothesis testing, the p-value helps decide whether to reject or fail to reject the null hypothesis:\n",
        "\n",
        "# If the p-value is small (typically less than 0.05), it suggests that the observed result is\n",
        "#unlikely to happen by chance, so we reject the null hypothesis.\n",
        "\n",
        "# If the p-value is large (greater than 0.05), the result could happen by chance, so we fail to reject the null hypothesis.\n",
        "\n",
        "# What Does a Very Small P-Value (e.g., 0.01) Mean?\n",
        "\n",
        "# A p-value of 0.01 means there is only a 1% chance that the observed data would occur if the null hypothesis were true. This indicates strong evidence against the null hypothesis, and we would likely reject it. In simple terms, the smaller the p-value, the stronger the evidence that there is a real effect or difference."
      ],
      "metadata": {
        "id": "liQUZwUt4YiF"
      },
      "execution_count": 1,
      "outputs": []
    },
    {
      "cell_type": "markdown",
      "source": [
        "Question3: Compare and contrast the binomial and Bernoulli distributions."
      ],
      "metadata": {
        "id": "RYqbw4hP4ZNK"
      }
    },
    {
      "cell_type": "markdown",
      "source": [
        "1. Definition:\n",
        "\n",
        "Bernoulli Distribution: Describes a single trial with two outcomes—success (1) or failure (0). It models the probability of one event happening.\n",
        "\n",
        "Binomial Distribution: Describes the number of successes in multiple independent Bernoulli trials (n trials). It counts how many successes occur over several trials.\n",
        "\n",
        "2. Number of Trials:\n",
        "\n",
        "Bernoulli: 1 trial.\n",
        "\n",
        "Binomial: n trials (where\n",
        "n≥1).\n",
        "\n",
        "\n",
        "3. Formula:\n",
        "![image.png](data:image/png;base64,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)\n",
        "\n",
        "4. Bernoulli: For modeling a single event (e.g., tossing a coin once).\n",
        "Binomial: For modeling multiple events (e.g., tossing a coin 10 times and counting heads)."
      ],
      "metadata": {
        "id": "tYXQrg8vHAsp"
      }
    },
    {
      "cell_type": "code",
      "source": [],
      "metadata": {
        "id": "rWVXURj14gwU"
      },
      "execution_count": null,
      "outputs": []
    },
    {
      "cell_type": "markdown",
      "source": [
        "Question 4: Under what conditions is the binomial distribution used, and how does it relate to the Bernoulli\n",
        "distribution?"
      ],
      "metadata": {
        "id": "eYynKMH04iS5"
      }
    },
    {
      "cell_type": "code",
      "source": [
        "# Conditions for Using the Binomial Distribution:\n",
        "\n",
        "# Fixed Number of Trials (n): There are a set number of independent trials.\n",
        "# Two Outcomes: Each trial has two possible outcomes—success or failure.\n",
        "# Constant Probability (p): The probability of success remains the same for each trial.\n",
        "# Independent Trials: The outcome of one trial does not affect the others.\n",
        "\n",
        "\n",
        "# Relation to the Bernoulli Distribution:\n",
        "# The Binomial distribution is essentially a series of Bernoulli trials.\n",
        "#Each trial in the binomial distribution follows a Bernoulli distribution,\n",
        "#where there is only one trial with a success or failure.\n",
        "#The binomial distribution counts the number of successes across n independent Bernoulli trials."
      ],
      "metadata": {
        "id": "zk0mAPgB4vLC"
      },
      "execution_count": 4,
      "outputs": []
    },
    {
      "cell_type": "markdown",
      "source": [
        "Question5: What are the key properties of the Poisson distribution, and when is it appropriate to use this\n",
        "distribution?"
      ],
      "metadata": {
        "id": "YjEX6lEL4wI4"
      }
    },
    {
      "cell_type": "code",
      "source": [
        "# Key Properties of the Poisson Distribution:\n",
        "\n",
        "# Discrete Distribution: It models the number of events occurring in a fixed interval (time, distance, area).\n",
        "# No Upper Limit: The number of events can range from 0 to infinity.\n",
        "# Constant Rate (λ): Events occur at a constant average rate 𝜆.\n",
        "# Independence: The occurrence of one event does not affect others.\n",
        "# Variance Equals the Mean: The mean and variance are both equal to  𝜆\n",
        "\n",
        "\n",
        "# When is it Appropriate to Use?\n",
        "\n",
        "# The Poisson distribution is used when you want to model the number of random,\n",
        "#independent events happening in a fixed interval, especially when the events are rare.\n",
        "\n",
        "##Examples\n",
        "\n",
        "# Number of customer arrivals per hour at a store.\n",
        "# Number of phone calls received in a day."
      ],
      "metadata": {
        "id": "eLCS0QbH40wu"
      },
      "execution_count": 3,
      "outputs": []
    },
    {
      "cell_type": "markdown",
      "source": [
        "Question6: Define the terms \"probability distribution\" and \"probability density function\" (PDF). How does a\n",
        "PDF differ from a probability mass function (PMF)?"
      ],
      "metadata": {
        "id": "aV6_WmQb41Wo"
      }
    },
    {
      "cell_type": "code",
      "source": [
        "# Definitions:\n",
        "\n",
        "# Probability Distribution: Describes how the probabilities of different outcomes are distributed\n",
        "#for a random variable, whether discrete or continuous.\n",
        "\n",
        "# Probability Density Function (PDF): For continuous random variables, a PDF gives the\n",
        "#likelihood of the variable falling within a certain range. The area under the curve of a PDF represents the probability.\n",
        "\n",
        "# Difference Between PDF and PMF:\n",
        "\n",
        "# PDF (Probability Density Function): Used for continuous random variables.\n",
        "#It gives the probability density, not the exact probability for a specific value.\n",
        "#Probabilities are found by calculating the area under the curve.\n",
        "\n",
        "# PMF (Probability Mass Function): Used for discrete random variables.\n",
        "#It gives the exact probability of a specific outcome.\n",
        "\n"
      ],
      "metadata": {
        "id": "I-TslyKQ4_IP"
      },
      "execution_count": 2,
      "outputs": []
    },
    {
      "cell_type": "markdown",
      "source": [
        "Question7: Explain the Central Limit Theorem (CLT) with example"
      ],
      "metadata": {
        "id": "VyKX7cpd5AD7"
      }
    },
    {
      "cell_type": "markdown",
      "source": [
        "The Central Limit Theorem (CLT) states that, regardless of the original distribution of the population, the sampling distribution of the sample mean will approximate a normal distribution as the sample size becomes large (usually n≥30). This applies even if the population distribution is not normal.\n",
        "\n",
        "The sample mean will have a mean 𝜇\n",
        "μ (same as the population mean) and a standard deviation of ![image.png](data:image/png;base64,iVBORw0KGgoAAAANSUhEUgAAACAAAAAoCAYAAACfKfiZAAAABHNCSVQICAgIfAhkiAAAABl0RVh0U29mdHdhcmUAZ25vbWUtc2NyZWVuc2hvdO8Dvz4AAAAtdEVYdENyZWF0aW9uIFRpbWUAVGh1IDI0IE9jdCAyMDI0IDA3OjAwOjMwIEFNIElTVPXIzMUAAAKTSURBVFiF7ZZRSJpRFMdPMTDY/ByD2R6KJvSmTR/agpANFoxJLWEykAUDjQ2GbD3UgwsGIcwHGT7UMEZPBumIIThQmMJYgpkNwgWJhYG99bCHawRf2Oi/B5cQftu8n4LBPG/3cP/n/M49h3tvGwBQE629mclbAC2AFsD5AFCru6lvbJH2ZIiLqTkaH+qj7isCCYJAglpN6u4HNLfDEaSwm0Nmax+8Jq67MHTbgeUtERBzmB3uhf2TyB2HuBUAgALeD/fCHmKnOAjbujCywF+IvBkorlNia4Du31WV10dpSmxcoxv6Tu5Q7YIgUN+rFT6VQkWXVQpSKMrLvY8LlL71ml7e5M5PbewHA11UkaqDT7j3YYpcCQVd7yQ6unSHnk3co54LMgCA//w5/uehCYLQsGQHBwdVvqa3QMbYSFs8HieLxfLXPVInIPMiqjaDwYC1tTVuXUMAYrEYlEqlLG1DAAwGA4LBoCxt3UOYTCbJZDKV+/tzmxbfLFDsW4H040+oY2ebjth3ShTN9M73iHqkAjSi+vn5eQCAGPPAs1qA/+FV6J6HsQ8AzA9L1xiWmbS+ZoBsNlvly2QyZ3t/yCAehmHvHcLs7m/fyiR0Ay6kj+sASKVSMBqNCIVCZ/yjo6Pwer1nN69OQzcwXUmYdvajfyYNkTEwCYiaAAKBAHw+HwYHByu+fD4vOfm5t0boXnyGCADHXzGpN8K1sY/wjEfyFGpuAWMMGo0GkUgEAOBwOKqrh4jw0344oqc/owL8j0cwNjWN2S/SQ8A1hE6nE2azGQCg1Wp5pH80LoDNzU0olUpEo1G43e6GAHDfAzabjUqlEi0tLdVzfVSM+zGyWq10cnLSkORE5+A5bvqPqAXQAmg6wC/ctPZGdALh8wAAAABJRU5ErkJggg==)\n",
        "\n",
        "​\n",
        "  (where\n",
        "σ is the population standard deviation and\n",
        "n is the sample size).\n",
        "\n",
        "Example:\n",
        "If we take random samples of size 50 from a population of household incomes , the distribution of the sample means will tend to look like a normal distribution, even if the household income data is not normally distributed."
      ],
      "metadata": {
        "id": "SFI-KhOmJHcJ"
      }
    },
    {
      "cell_type": "code",
      "source": [],
      "metadata": {
        "id": "U-q5yZcI5PQ7"
      },
      "execution_count": null,
      "outputs": []
    },
    {
      "cell_type": "markdown",
      "source": [
        "Question8: Compare z-scores and t-scores. When should you use a z-score, and when should a t-score be applied instead?"
      ],
      "metadata": {
        "id": "V2dHsNPD5NuK"
      }
    },
    {
      "cell_type": "code",
      "source": [
        "\n",
        "# Z-Score:Used when the population standard deviation (σ) is known.\n",
        "# Applicable when the sample size is large (typically 𝑛≥30).\n",
        "# Follows the standard normal distribution.\n",
        "\n",
        "# T-Score: Used when the population standard deviation (σ) is unknown and must be estimated from the sample.\n",
        "# Applied when the sample size is small (typically n<30).\n",
        "# Follows the t-distribution, which is wider than the normal distribution due to more uncertainty from a smaller sample.\n",
        "\n",
        "# When to Use:\n",
        "\n",
        "# Z-Score: Use when you have a large sample and know the population standard deviation.\n",
        "# T-Score: Use when you have a small sample or the population standard deviation is unknown\n"
      ],
      "metadata": {
        "id": "Gxxe77T05ORq"
      },
      "execution_count": 5,
      "outputs": []
    },
    {
      "cell_type": "markdown",
      "source": [
        "Question9: Given a sample mean of 105, a population mean of 100, a standard deviation of 15, and a sample\n",
        "size of 25, calculate the z-score and p-value. Based on a significance level of 0.05, do you reject or fail to\n",
        "reject the null hypothesis?\n",
        "\n",
        "Task: Write Python code to calculate the z-score and p-value for the given data.\n",
        "\n",
        "Objective: Apply the formula for the z-score and interpret the p-value for hypothesis testing"
      ],
      "metadata": {
        "id": "JxQ5i8NM5XVD"
      }
    },
    {
      "cell_type": "code",
      "source": [
        "# Given data\n",
        "sample_mean = 105\n",
        "population_mean = 100\n",
        "std_dev = 15\n",
        "sample_size = 25\n",
        "\n",
        "#Calculate the z-score\n",
        "z_score = (sample_mean - population_mean) / (std_dev / (sample_size ** 0.5))\n",
        "z_score\n"
      ],
      "metadata": {
        "id": "om1uopW15sno",
        "colab": {
          "base_uri": "https://localhost:8080/"
        },
        "outputId": "80eeaacc-34c9-4548-8a6e-277fc8904ab2"
      },
      "execution_count": 9,
      "outputs": [
        {
          "output_type": "execute_result",
          "data": {
            "text/plain": [
              "1.6666666666666667"
            ]
          },
          "metadata": {},
          "execution_count": 9
        }
      ]
    },
    {
      "cell_type": "code",
      "source": [
        "from scipy import stats\n",
        "\n",
        "# Calculate the p-value\n",
        "p_value = 2 * (1 - stats.norm.cdf(abs(z_score)))\n",
        "p_value\n"
      ],
      "metadata": {
        "colab": {
          "base_uri": "https://localhost:8080/"
        },
        "id": "V4N2ewUFLQ_u",
        "outputId": "84e053f2-5809-41a5-b67c-fe02aa1b7fcc"
      },
      "execution_count": 10,
      "outputs": [
        {
          "output_type": "execute_result",
          "data": {
            "text/plain": [
              "0.09558070454562939"
            ]
          },
          "metadata": {},
          "execution_count": 10
        }
      ]
    },
    {
      "cell_type": "markdown",
      "source": [
        "Hypothesis Testing\n",
        "Null Hypothesis (𝐻0): The sample mean is equal to the population mean (𝜇=100).\n",
        "\n",
        "Alternative Hypothesis (𝐻1): The sample mean is different from the population mean (𝜇≠100).\n",
        "\n",
        "We compare the p-value with the significance level (𝛼=0.05).\n",
        "\n",
        "p-value (0.0956) > 0.05: This means we fail to reject the null hypothesis.\n",
        "\n",
        "At the significance level of 0.05, there is not enough evidence to conclude that the sample mean is significantly different from the population mean. Therefore, we fail to reject the null hypothesis."
      ],
      "metadata": {
        "id": "3ZqvZFxqLoFx"
      }
    },
    {
      "cell_type": "markdown",
      "source": [
        "Question10: Simulate a binomial distribution with 10 trials and a probability of success of 0.6 using Python.\n",
        "Generate 1,000 samples and plot the distribution. What is the expected mean and variance?\n",
        "\n",
        "Task: Use Python to generate the data, plot the distribution, and calculate the mean and variance.\n",
        "\n",
        "Objective: Understand the properties of a binomial distribution and verify them through simulation."
      ],
      "metadata": {
        "id": "WQQ6H-mI5u2E"
      }
    },
    {
      "cell_type": "code",
      "source": [
        "import numpy as np\n",
        "import matplotlib.pyplot as plt\n",
        "\n",
        "n = 10\n",
        "p = 0.6\n",
        "samples = 1000\n",
        "\n",
        "# binomial distribution samples\n",
        "data = np.random.binomial(n, p, samples)\n",
        "\n",
        "# Plot distribution\n",
        "plt.hist(data, bins=np.arange(0, n+2)-0.5, edgecolor='black', density=True)\n",
        "plt.title('Binomial Distribution (n=10, p=0.6)')\n",
        "plt.xlabel('Number of successes')\n",
        "plt.ylabel('Probability')\n",
        "plt.show()\n",
        "\n",
        "# mean and variance\n",
        "mean_simulated = np.mean(data)\n",
        "variance_simulated = np.var(data)\n",
        "\n",
        "# mean and variance\n",
        "mean_theoretical = n * p\n",
        "variance_theoretical = n * p * (1 - p)\n",
        "\n",
        "print(f\"Simulated Mean: {mean_simulated}\")\n",
        "print(f\"Theoretical Mean: {mean_theoretical}\")\n",
        "print(f\"Simulated Variance: {variance_simulated}\")\n",
        "print(f\"Theoretical Variance: {variance_theoretical}\")\n"
      ],
      "metadata": {
        "id": "Sq1IKBmE58yE",
        "colab": {
          "base_uri": "https://localhost:8080/",
          "height": 541
        },
        "outputId": "71962fff-c1ca-4187-b4c6-27106a6f2603"
      },
      "execution_count": 11,
      "outputs": [
        {
          "output_type": "display_data",
          "data": {
            "text/plain": [
              "<Figure size 640x480 with 1 Axes>"
            ],
            "image/png": "[encoded data removed]"
          },
          "metadata": {}
        },
        {
          "output_type": "stream",
          "name": "stdout",
          "text": [
            "Simulated Mean: 5.945\n",
            "Theoretical Mean: 6.0\n",
            "Simulated Variance: 2.4899750000000003\n",
            "Theoretical Variance: 2.4000000000000004\n"
          ]
        }
      ]
    },
    {
      "cell_type": "code",
      "source": [],
      "metadata": {
        "id": "_-Crsrp_NCSc"
      },
      "execution_count": null,
      "outputs": []
    }
  ]
}
{
  "nbformat": 4,
  "nbformat_minor": 0,
  "metadata": {
    "colab": {
      "provenance": [],
      "authorship_tag": "ABX9TyN6jBCHC0C9jVVQC3v4q/nB",
      "include_colab_link": true
    },
    "kernelspec": {
      "name": "python3",
      "display_name": "Python 3"
    },
    "language_info": {
      "name": "python"
    }
  },
  "cells": [
    {
      "cell_type": "markdown",
      "metadata": {
        "id": "view-in-github",
        "colab_type": "text"
      },
      "source": [
        "<a href=\"https://colab.research.google.com/github/dinesh2018iitism/Learning-Python-From-PW/blob/main/Statistics_Basics_Assignment.ipynb\" target=\"_parent\"><img src=\"https://colab.research.google.com/assets/colab-badge.svg\" alt=\"Open In Colab\"/></a>"
      ]
    },
    {
      "cell_type": "markdown",
      "source": [
        "# ***1. Explain the different types of data (qualitative and quantitative) and provide examples of each. Discuss nominal, ordinal, interval, and ratio scales.***"
      ],
      "metadata": {
        "id": "rhf-w1ch8T-T"
      }
    },
    {
      "cell_type": "markdown",
      "source": [
        "1. Qualitative Data (Categorical Data)\n",
        "\n",
        "This type of data describes qualities or characteristics. It can’t be measured in numbers but can be grouped into categories.\n",
        "\n",
        "Examples:\n",
        "Gender (Male, Female, Other)\n",
        "Religion (Hindu, Muslim, Christian)\n",
        "State names (Tamil Nadu, Punjab, Kerala)\n",
        "\n",
        "Qualitative data can be further divided into nominal and ordinal scales:\n",
        "\n",
        "Nominal Scale:\n",
        "\n",
        "Definition: The data consists of categories that cannot be ranked or ordered.\n",
        "\n",
        "Example:\n",
        "\n",
        "Blood groups (A, B, AB, O)\n",
        "Language spoken (Hindi, Tamil, Bengali, etc.)\n",
        "\n",
        "Ordinal Scale:\n",
        "Here, data is also categorical, but it can be ranked or ordered.\n",
        "\n",
        "Example:\n",
        "\n",
        "Educational qualifications (10th pass, 12th pass, Graduate, Post-Graduate)\n",
        "Satisfaction levels (Very satisfied, Satisfied, Neutral, Dissatisfied)\n",
        "\n",
        "\n",
        "2. Quantitative Data (Numerical Data)\n",
        "\n",
        "This type of data consists of numbers that represent counts or measurements. It can be measured and used for calculations.\n",
        "\n",
        "Examples:\n",
        "Age of students (20 years, 21 years, etc.)\n",
        "Income of individuals (50,000, 1,00,000 per month)\n",
        "\n",
        "Quantitative data can be classified into interval and ratio scales:\n",
        "\n",
        "Interval Scale\n",
        "\n",
        "Data is numerical, and the intervals between values are meaningful.\n",
        "\n",
        "Example:\n",
        "Temperature in Celsius (e.g., 30°C, 40°C)\n",
        "\n",
        "Ratio Scale\n",
        "\n",
        "Definition: Similar to interval data, but it has a true zero point, meaning \"zero\" means none of the variable exists.\n",
        "\n",
        "Example:\n",
        "Height (e.g., 160 cm, 170 cm)\n",
        "Weight (e.g., 50 kg, 60 kg)\n",
        "Income (e.g., 0, 10,000, 50,000)\n",
        "\n"
      ],
      "metadata": {
        "id": "vQXIK_kR8yRp"
      }
    },
    {
      "cell_type": "markdown",
      "source": [
        "# ***2. What are the measures of central tendency, and when should you use each? Discuss the mean, median,and mode with examples and situations where each is appropriate.***"
      ],
      "metadata": {
        "id": "Ki1gd5458zHJ"
      }
    },
    {
      "cell_type": "markdown",
      "source": [
        "Mean: The mean is the sum of all the values in a data set divided by the total number of values.\n",
        "Mean= Sum of all values/number of values\n",
        "\n",
        "find the average monthly salary of a group of five people. Their salaries are 20,000, 25,000, 30,000, 35,000, and 40,000.\n",
        " mean= 20000+25000+30000+35000+40000/5 = 30,000\n",
        "\n",
        "\n",
        " Median: The median is the middle value in a sorted data set. If there’s an even number of values, the median is the average of the two middle numbers.\n",
        "\n",
        "How to Find the Median:\n",
        "\n",
        "Step 1: Arrange the numbers in ascending order.\n",
        "Step 2: If the number of values is odd, the median is the middle value. If even, it’s the average of the two middle values.\n",
        "\n",
        "house prices in a locality: 10 lakhs, 20 lakhs, 15 lakhs, 30 lakhs, and 1 crore.\n",
        "\n",
        "Sorted: 10 lakhs, 15 lakhs, 20 lakhs, 30 lakhs, 1 crore.\n",
        "\n",
        "The median house price is 20 lakhs, as it is the middle value.\n",
        "\n",
        " Mode: The mode is the value that appears most frequently in a data set. A data set can have more than one mode if multiple values appear with the same frequency.\n",
        "\n",
        "The favorite colors of students in a class, and their responses are:\n",
        "\n",
        "Red, Blue, Blue, Green, Red, Blue, Green.\n",
        "\n",
        "Here, the mode is Blue since it appears most frequently."
      ],
      "metadata": {
        "id": "9gVU4mTD84_g"
      }
    },
    {
      "cell_type": "markdown",
      "source": [
        "# ***3. Explain the concept of dispersion. How do variance and standard deviation measure the spread of data?***"
      ],
      "metadata": {
        "id": "MebQurfH9F_X"
      }
    },
    {
      "cell_type": "markdown",
      "source": [
        "Dispersion in statistics refers to the spread or variability of a data set. It helps us understand how much the data points differ from the mean value. Dispersion gives an idea of how \"spread out\" or \"scattered\" the data is.\n",
        "\n",
        "Variance:  A measure that tells us how much the data points differ from the mean.\n",
        "\n",
        "![image.png](data:image/png;base64,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)\n",
        "\n",
        "\n",
        "Standard Deviation: The square root of variance, which provides a measure of the average distance of each data point from the mean, in the same units as the data."
      ],
      "metadata": {
        "id": "yKxai8hp9MB3"
      }
    },
    {
      "cell_type": "markdown",
      "source": [
        "# ***4. What is a box plot, and what can it tell you about the distribution of data?***"
      ],
      "metadata": {
        "id": "ptdLvqhnHZQb"
      }
    },
    {
      "cell_type": "markdown",
      "source": [
        "\n",
        "\n",
        "Box Plot:\n",
        "\n",
        "A box plot is a graphical representation used in statistics to show the distribution of a data set by displaying its summary statistics in a simple, visual format. It is particularly useful for identifying the spread, central tendency, and outliers in the data.\n",
        "\n",
        " A box plot visually represents five key summary statistics:\n",
        "\n",
        "Minimum (smallest value, excluding outliers)\n",
        "\n",
        "First quartile (Q1)-25th percentile (25% of data is below this point)\n",
        "\n",
        "Median (Q2)-50th percentile (middle value of the data set)\n",
        "\n",
        "Third quartile (Q3)-75th percentile (75% of data is below this point)\n",
        "\n",
        "Maximum (largest value, excluding outliers)"
      ],
      "metadata": {
        "id": "6lFR3HPA9M1f"
      }
    },
    {
      "cell_type": "markdown",
      "source": [
        "# ***5. Discuss the role of random sampling in making inferences about populations***"
      ],
      "metadata": {
        "id": "h3HmDx2e9RBn"
      }
    },
    {
      "cell_type": "markdown",
      "source": [
        "In statistics, random sampling plays a crucial role in making inferences about a population based on data collected from a sample. Since it is usually impossible or impractical to study an entire population (due to time, cost, or accessibility constraints), we rely on samples to estimate characteristics of the population.\n",
        "\n",
        "Population: The entire group of individuals or items we are interested in studying. For example, all students in India, or all households in a city.\n",
        "Sample: A subset of the population that we collect data from. For instance, 100 students from a university or 200 households in Delhi\n",
        "\n",
        "\n",
        "Inference: Inference is the process of using data from a sample to make estimates or predictions about the entire population.\n",
        "For example, if we take a random sample of students heights from a school, we can estimate the average height of all students in the school based on this sample.\n"
      ],
      "metadata": {
        "id": "_m_3VKKp9Vpm"
      }
    },
    {
      "cell_type": "markdown",
      "source": [
        "# ***6. Explain the concept of skewness and its types. How does skewness affect the interpretation of data?***"
      ],
      "metadata": {
        "id": "X6isso1o9ZgG"
      }
    },
    {
      "cell_type": "markdown",
      "source": [
        "Skewness is a statistical concept that describes the asymmetry of a data distribution around its mean. In simpler terms, it tells us whether the data is symmetrical or if it leans more towards one side.\n",
        "\n",
        "Types of Skewness\n",
        "\n",
        "Positive Skewness (Right-Skewed Distribution):\n",
        "\n",
        "In a positively skewed distribution, the tail of the distribution extends to the right, meaning there are a few extremely large values.\n",
        "Here the mean is greater than the median.\n",
        "\n",
        "example: In India, many people earn a modest income, but a few individuals earn very high salaries (like top CEOs or Bollywood stars). This creates a right-skewed distribution.\n",
        "\n",
        "Negative Skewness (Left-Skewed Distribution):\n",
        "\n",
        "In a negatively skewed distribution, the tail of the distribution extends to the left, meaning there are a few extremely small values.\n",
        "\n",
        "here the mean is less than the median.\n",
        "\n",
        "eaxmple Most people in India retire around the age of 60, but some may retire earlier, leading to a left-skewed distribution.\n",
        "\n",
        "\n"
      ],
      "metadata": {
        "id": "-p3UmK8CIA6P"
      }
    },
    {
      "cell_type": "markdown",
      "source": [
        "# ***7. What is the interquartile range (IQR), and how is it used to detect outliers?***"
      ],
      "metadata": {
        "id": "1DibwPl_9avO"
      }
    },
    {
      "cell_type": "markdown",
      "source": [
        "The Interquartile Range (IQR) is a measure of statistical dispersion, which describes the spread of the middle 50% of a data set. It is a robust measure of variability because it focuses on the central portion of the data and is less affected by extreme values (outliers). The IQR is calculated as the difference between the third quartile (Q3) and the first quartile (Q1):\n",
        "\n",
        "IQR=Q3-Q1\n",
        "\n",
        "Where:\n",
        "\n",
        "Q1 (First Quartile): The value below which 25% of the data lies.\n",
        "\n",
        "Q3 (Third Quartile): The value below which 75% of the data lies.\n",
        "\n",
        "\n",
        "Outliers are data points that lie significantly outside the range of the rest of the data. The IQR method is a common way to detect outliers. Here's how it works:\n",
        "\n",
        "Lower Bound:\n",
        "\n",
        "Outliers on the lower side are values that fall below:\n",
        "\n",
        "Q1−1.5×IQR\n",
        "\n",
        "Upper Bound:\n",
        "\n",
        "Outliers on the upper side are values that fall above:\n",
        "\n",
        "Q3+1.5×IQR\n",
        "\n",
        "Example:\n",
        "\n",
        "monthly income of households in a locality, and we have the following incomes (in 1000s):\n",
        "15, 20, 22, 25, 27, 30, 35, 40, 45, 200\n",
        "\n",
        "Step 1: Find the quartiles.\n",
        "\n",
        "Q1 = 22 (median of the lower half)\n",
        "\n",
        "Q3 = 40 (median of the upper half)\n",
        "\n",
        "IQR = Q3−Q1=40−22=18\n",
        "\n",
        "Step 2: Determine outlier thresholds.\n",
        "\n",
        "Lower Bound =\n",
        "\n",
        "Q1−1.5×IQR=22−1.5×18=−5\n",
        "\n",
        "Upper Bound =\n",
        "\n",
        "Q3+1.5×IQR=40+1.5×18=67\n",
        "\n",
        "Step 3: Identify outliers.\n",
        "\n",
        "The household income of 200 is well above the upper bound of 67, so it is an outlier. This could represent a wealthy family in an otherwise middle-income locality."
      ],
      "metadata": {
        "id": "vaQVniVA9ghl"
      }
    },
    {
      "cell_type": "markdown",
      "source": [
        "# ***8. Discuss the conditions under which the binomial distribution is used.***\n"
      ],
      "metadata": {
        "id": "5FFETDls9hEd"
      }
    },
    {
      "cell_type": "markdown",
      "source": [
        "Conditions for Using the Binomial Distribution\n",
        "\n",
        "Fixed Number of Trials (n):\n",
        "\n",
        "There must be a fixed number of trials or experiments, denoted by\n",
        "𝑛\n",
        "\n",
        "Example: We want to know the number of times a cricket player hits a six in 10 attempts. Here, n = 10 because there are 10 attempts (fixed number of trials).\n",
        "Two Possible Outcomes (Success/Failure):\n",
        "\n",
        "Each trial must result in only two possible outcomes: success or failure. These are often labeled as “yes/no,” “true/false,” or “1/0.”\n",
        "\n",
        "Constant Probability of Success (p):\n",
        "\n",
        "The probability of success, denoted by\n",
        "p, must remain constant for each trial.\n",
        "\n",
        "Example: If we flip a fair coin, the probability of getting heads (success) is always 0.5 on each flip. This probability does not change from one trial (flip) to the next.\n",
        "\n",
        "Independent Trials:\n",
        "\n",
        "The outcome of each trial must be independent of the other trials. This means that the result of one trial does not affect the result of the next.\n",
        "\n",
        "Example: Suppose you’re testing whether people prefer tea or coffee in a survey. The response from one person (tea or coffee) should not influence the responses of other people for the trials to be independent.\n",
        "\n",
        "The Binomial Distribution Formula\n",
        "The probability of getting exactly\n",
        "k successes in\n",
        "n independent trials is given by the binomial probability formula:\n",
        "\n",
        "![image.png](data:image/png;base64,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)\n"
      ],
      "metadata": {
        "id": "aa9RJcxW9j32"
      }
    },
    {
      "cell_type": "markdown",
      "source": [
        "# ***9. Explain the properties of the normal distribution and the empirical rule (68-95-99.7 rule).***"
      ],
      "metadata": {
        "id": "dSkDCa3X9kau"
      }
    },
    {
      "cell_type": "markdown",
      "source": [
        "The normal distribution (also called the Gaussian distribution) is one of the most important probability distributions in statistics. It is a continuous, bell-shaped curve that describes how data is distributed around the mean\n",
        "\n",
        "The normal distribution is perfectly symmetrical around the mean. This means the left side of the curve is a mirror image of the right side.\n",
        "\n",
        "Mean = Median = Mode: In a normal distribution, the mean, median, and mode are all the same and located at the center of the distribution.\n",
        "\n",
        "The empirical rule, also known as the 68-95-99.7 rule, is a useful guideline for understanding how data is distributed in a normal distribution. It tells us the proportion of data that falls within certain distances (in terms of standard deviations) from the mean.\n",
        "\n",
        "The Rule:\n",
        "\n",
        "68% of the data falls within 1 standard deviation (σ) from the mean (μ).\n",
        "\n",
        "95% of the data falls within 2 standard deviations from the mean.\n",
        "\n",
        "99.7% of the data falls within 3 standard deviations from the mean.\n"
      ],
      "metadata": {
        "id": "WqegNecC9oQW"
      }
    },
    {
      "cell_type": "markdown",
      "source": [
        "# ***10. Provide a real-life example of a Poisson process and calculate the probability for a specific event.***"
      ],
      "metadata": {
        "id": "28KAEZK39owW"
      }
    },
    {
      "cell_type": "markdown",
      "source": [
        "The Poisson process is used to model situations where events occur randomly and independently over a continuous interval, such as time, distance, or area. These events are relatively rare, but they occur with a known average rate (λ).\n",
        "\n",
        "In Chennai, power outages occur at an average rate of 2 outages per week. These outages happen randomly and independently of each other, making this scenario a Poisson proces  \n",
        "\n",
        "\n",
        "\n",
        "\n"
      ],
      "metadata": {
        "id": "i8p1INBY9wUO"
      }
    },
    {
      "cell_type": "markdown",
      "source": [
        "# ***11. Explain what a random variable is and differentiate between discrete and continuous random variables.***"
      ],
      "metadata": {
        "id": "v025ouiP9sy2"
      }
    },
    {
      "cell_type": "markdown",
      "source": [
        "Random Variable:\n",
        "\n",
        "A random variable is a numerical value that represents the outcome of a random process or experiment.\n",
        "\n",
        "A random variable can be either discrete or continuous, depending on the type of outcomes it can take.\n",
        "\n",
        "1. Discrete Random Variable:\n",
        "\n",
        "A discrete random variable is one that can take on a countable number of distinct values. These values are often whole numbers, and each value has a certain probability associated with it.\n",
        "\n",
        "Example:\n",
        "\n",
        "Rolling a Dice:\n",
        "\n",
        "The result of rolling a fair dice is a discrete random variable because it can only take on the values {1, 2, 3, 4, 5, 6}.\n",
        "Each number has a probability of 1/6.\n",
        "\n",
        "2. Continuous Random Variable:\n",
        "\n",
        "A continuous random variable is one that can take on an infinite number of values within a given range.\n",
        "\n",
        "Example:\n",
        "\n",
        "The height of students in a class is a continuous random variable, as it can take any value within a range (e.g., 150.2 cm, 160.5 cm, etc."
      ],
      "metadata": {
        "id": "bzuQMgAg9vUV"
      }
    },
    {
      "cell_type": "markdown",
      "source": [],
      "metadata": {
        "id": "V7JpESUp9v5n"
      }
    }
  ]
}